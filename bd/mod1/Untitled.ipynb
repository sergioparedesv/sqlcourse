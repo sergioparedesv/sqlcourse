{
 "cells": [
  {
   "cell_type": "code",
   "execution_count": 2,
   "id": "ed341399",
   "metadata": {},
   "outputs": [],
   "source": [
    "import sqlite3"
   ]
  },
  {
   "cell_type": "code",
   "execution_count": 5,
   "id": "ef8d3d27",
   "metadata": {},
   "outputs": [
    {
     "name": "stderr",
     "output_type": "stream",
     "text": [
      "UsageError: Line magic function `%sql` not found.\n"
     ]
    }
   ],
   "source": [
    "%sql CREATE TABLE book (id INTEGER PRIMARY KEY, name TEXT, rating INTEGER);\n",
    "\n",
    "%sql INSERT INTO book VALUES(1, \"El principe\", 5);\n",
    "%sql INSERT INTO book VALUES(2, \"El Arte de la guerra\", 5);\n",
    "%sql INSERT INTO book VALUES(3, \"Las 48 leyes del poder\", 5);"
   ]
  },
  {
   "cell_type": "code",
   "execution_count": null,
   "id": "af3a8918",
   "metadata": {},
   "outputs": [],
   "source": []
  }
 ],
 "metadata": {
  "kernelspec": {
   "display_name": "Python 3 (ipykernel)",
   "language": "python",
   "name": "python3"
  },
  "language_info": {
   "codemirror_mode": {
    "name": "ipython",
    "version": 3
   },
   "file_extension": ".py",
   "mimetype": "text/x-python",
   "name": "python",
   "nbconvert_exporter": "python",
   "pygments_lexer": "ipython3",
   "version": "3.9.7"
  }
 },
 "nbformat": 4,
 "nbformat_minor": 5
}
