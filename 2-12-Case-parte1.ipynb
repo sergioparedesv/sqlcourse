{
 "cells": [
  {
   "cell_type": "markdown",
   "id": "d70fe9aa",
   "metadata": {},
   "source": [
    "# Consultas con Case"
   ]
  },
  {
   "cell_type": "markdown",
   "id": "c28957d1",
   "metadata": {},
   "source": [
    "La sentencia CASE en SQL es utilizada para crear una estructura de decisión dentro de una consulta. Es similar a una estructura de control de flujo como IF-ELSE en un lenguaje de programación. La sintaxis básica de la sentencia CASE es:\n"
   ]
  },
  {
   "cell_type": "markdown",
   "id": "24dfd78a",
   "metadata": {},
   "source": [
    "```sql\n",
    "SELECT columna,\n",
    "    CASE\n",
    "        WHEN condición THEN resultado\n",
    "        WHEN condición THEN resultado\n",
    "    ELSE resultado\n",
    "   END\n",
    "FROM example;\n",
    "```"
   ]
  },
  {
   "cell_type": "markdown",
   "id": "3bc4659e",
   "metadata": {},
   "source": [
    "Utilizando la tabla \"recetas\" como ejemplo, podríamos crear una consulta para clasificar las recetas según su nivel de calorías utilizando la sentencia CASE:"
   ]
  },
  {
   "cell_type": "markdown",
   "id": "6b92ae4e",
   "metadata": {},
   "source": [
    "```sql\n",
    "SELECT nombre,\n",
    "       CASE \n",
    "           WHEN calorias <= 400 THEN 'Bajo en calorías'\n",
    "           WHEN calorias <= 600 THEN 'Moderado en calorías'\n",
    "           ELSE 'Alto en calorías'\n",
    "       END AS clasificacion_calorias\n",
    "FROM recetas;\n",
    "\n",
    "```\n"
   ]
  },
  {
   "cell_type": "markdown",
   "id": "83484eb1",
   "metadata": {},
   "source": [
    "En este ejemplo, la sentencia CASE evalúa el campo \"calorias\" para cada receta en la tabla \"recetas\". Si el valor de \"calorias\" es menor o igual a 400, se devuelve \"Bajo en calorías\", si el valor es menor o igual a 600 se devuelve \"Moderado en calorías\" y si no se cumple ninguna de las condiciones anteriores se devuelve \"Alto en calorías\". El resultado de esta consulta es una tabla con dos columnas, \"nombre\" y \"clasificacion_calorias\", que indica el nombre de la receta y su clasificación de calorías respectivamente."
   ]
  },
  {
   "cell_type": "code",
   "execution_count": 1,
   "id": "32e28433",
   "metadata": {},
   "outputs": [],
   "source": [
    "#Iniciar SQLite\n",
    "%load_ext sql\n",
    "%sql sqlite://"
   ]
  },
  {
   "cell_type": "code",
   "execution_count": 2,
   "id": "626ab438",
   "metadata": {},
   "outputs": [
    {
     "name": "stdout",
     "output_type": "stream",
     "text": [
      " * sqlite://\n",
      "Done.\n",
      "10 rows affected.\n"
     ]
    },
    {
     "data": {
      "text/plain": [
       "[]"
      ]
     },
     "execution_count": 2,
     "metadata": {},
     "output_type": "execute_result"
    }
   ],
   "source": [
    "%%sql\n",
    "CREATE TABLE recetas (\n",
    "    id INTEGER PRIMARY KEY AUTOINCREMENT,\n",
    "    nombre VARCHAR(255),\n",
    "    precio FLOAT,\n",
    "    calorias INT,\n",
    "    proteina FLOAT,\n",
    "    carbohidratos FLOAT,\n",
    "    grasas FLOAT,\n",
    "    ingredientes VARCHAR(255)\n",
    ");\n",
    "\n",
    "INSERT INTO recetas (nombre, precio, calorias, proteina, carbohidratos, grasas, ingredientes) VALUES\n",
    "(\"Pollo a la parrilla\", 12.5, 350, 30, 15, 12, \"pollo, sal, pimienta, aceite de oliva\"),\n",
    "(\"Arroz frito\", 8.5, 400, 20, 50, 15, \"Arroz, huevos, cebolla, ajo, aceite\"),\n",
    "(\"Spaghetti Bolognesa\", 9.0, 500, 25, 60, 20, \"Espagueti, carne molida, salsa de tomate, queso rallado, ajo\"),\n",
    "(\"Paella\", 15.0, 650, 30, 70, 25, \"Arroz, mariscos, pollo, chorizo, pimiento, cebolla, ajo\"),\n",
    "(\"Taco al pastor\", 2.5, 200, 10, 15, 5, \"tortillas, pastor, cebolla, piña, cilantro, limon\"),\n",
    "(\"Churros\", 5.0, 400, 5, 60, 20, \"Agua, harina, huevos, azúcar, aceite, sal\"),\n",
    "(\"Enchiladas\", 7.5, 450, 20, 40, 15, \"tortillas, pollo, queso, chile, crema, cebolla, cilantro\"),\n",
    "(\"Lasagna\", 10.0, 550, 30, 50, 25, \"lasaña, carne molida, salsa de tomate, queso ricotta, queso rallado, ajo, orégano\"),\n",
    "(\"Sushi\", 20.0, 250, 20, 30, 10, \"Arroz de sushi, salmón, aguacate, pepino\"),\n",
    "(\"Ramen\", 15.0, 400, 25, 50, 20, \"Fideos ramen, caldo, pollo, cebolla, zanahoria, cebolla verde, chile\");"
   ]
  },
  {
   "cell_type": "code",
   "execution_count": null,
   "id": "eb7dc734",
   "metadata": {},
   "outputs": [],
   "source": [
    "%%sql\n",
    "SELECT * FROM recetas;"
   ]
  },
  {
   "cell_type": "markdown",
   "id": "bd90914b",
   "metadata": {},
   "source": [
    "# Actividad 1\n",
    "\n",
    "1.  Utilizando la tabla \"recetas\", escriba una consulta SQL que clasifique las recetas en tres categorías según su nivel de calorías: \"Bajo en calorías\", \"Moderado en calorías\" y \"Alto en calorías\".\n",
    "2.  Utilice la sentencia CASE para evaluar el campo \"calorias\" para cada receta.\n",
    "3.  Utilice la siguiente lógica para clasificar las recetas: si el valor de \"calorias\" es menor o igual a 400, clasifíquelo como \"Bajo en calorías\". Si el valor de \"calorias\" es menor o igual a 600, clasifíquelo como \"Moderado en calorías\". Si no se cumple ninguna de las condiciones anteriores, clasifíquelo como \"Alto en calorías\".\n",
    "4.  El resultado debe ser una tabla con dos columnas, \"nombre\" y \"clasificacion_calorias\", que indica el nombre de la receta y su clasificación de calorías respectivamente.\n",
    "5.  Ejecute su consulta y verifique el resultado obtenido.\n",
    "\n",
    "Este ejercicio les enseñará a los estudiantes cómo utilizar la sentencia CASE para clasificar los datos en una tabla. También les ayudará a aprender a utilizar la lógica y la estructura de control de flujo en SQL para evaluar condiciones y asignar valores a los resultados. Además, les enseñará cómo utilizar las columnas alias para renombrar las columnas en el resultado de la consulta."
   ]
  },
  {
   "cell_type": "code",
   "execution_count": null,
   "id": "2237eb20",
   "metadata": {},
   "outputs": [],
   "source": [
    "%%sql\n",
    "SELECT nombre,\n",
    "       CASE \n",
    "           WHEN calorias <= 400 THEN 'Bajo en calorías'\n",
    "           WHEN calorias <= 600 THEN 'Moderado en calorías'\n",
    "           ELSE 'Alto en calorías'\n",
    "       END AS clasificacion_calorias\n",
    "FROM recetas;"
   ]
  },
  {
   "cell_type": "markdown",
   "id": "38f11c96",
   "metadata": {},
   "source": [
    "<hr style=\"height:5px; width: 100%; border-radius: 20%; background-color:#E7046B ; border-color: #E7046B\">"
   ]
  },
  {
   "cell_type": "markdown",
   "id": "33fe5b1e",
   "metadata": {},
   "source": [
    "# Ejercicio 1.\n",
    "\n",
    "Ejercicio para los estudiantes:\n",
    "\n",
    "1.  Utilizando la tabla \"recetas\", escriba una consulta SQL que clasifique las recetas según su precio y su nivel de calorías.\n",
    "2.  Utilice la sentencia CASE para clasificar las recetas según su precio. Utilice la siguiente lógica para clasificar las recetas: si el valor de \"precio\" es menor o igual a 10, clasifíquelo como \"Barato\". Si no se cumple esta condición, clasifíquelo como \"Caro\"\n",
    "3.  Utilice otra sentencia CASE para clasificar las recetas según su nivel de calorías. Utilice la siguiente lógica para clasificar las recetas: si el valor de \"calorias\" es menor o igual a 400, clasifíquelo como \"Bajo en calorías\". Si no se cumple esta condición, clasifíquelo como \"Alto en calorías\"\n",
    "4.  El resultado debe ser una tabla con tres columnas, \"nombre\", \"precios\n",
    "\n",
    "<div style=\"border-left: 5px solid #04E720; padding:1.25rem; border-right: 1px solid #eee;  border-top: 1px solid #eee;  border-bottom: 1px solid #eee;\">\n",
    "\n",
    "<h5 id=\"ensure-correct-role-and-provide-a-label\">Pista en el SELECT puedes colocar dos CASE diferentes separandolos por comas. </h5>\n",
    "\n",
    "</div>"
   ]
  },
  {
   "cell_type": "code",
   "execution_count": null,
   "id": "78d2b315",
   "metadata": {},
   "outputs": [],
   "source": [
    "%%sql\n",
    "SELECT nombre,\n",
    "       CASE \n",
    "           WHEN precio <= 10 THEN 'Barato'\n",
    "           ELSE 'Caro'\n",
    "       END AS precios,\n",
    "       CASE \n",
    "           WHEN calorias <= 400 THEN 'Bajo en calorías'\n",
    "           ELSE 'Alto en calorías'\n",
    "       END AS clasificacion_calorias\n",
    "FROM recetas;"
   ]
  },
  {
   "cell_type": "markdown",
   "id": "9bfd170f",
   "metadata": {},
   "source": [
    "<hr style=\"height:5px; width: 100%; border-radius: 20%; background-color:#E7046B ; border-color: #E7046B\">"
   ]
  }
 ],
 "metadata": {
  "kernelspec": {
   "display_name": "Python 3 (ipykernel)",
   "language": "python",
   "name": "python3"
  },
  "language_info": {
   "codemirror_mode": {
    "name": "ipython",
    "version": 3
   },
   "file_extension": ".py",
   "mimetype": "text/x-python",
   "name": "python",
   "nbconvert_exporter": "python",
   "pygments_lexer": "ipython3",
   "version": "3.9.7"
  }
 },
 "nbformat": 4,
 "nbformat_minor": 5
}
