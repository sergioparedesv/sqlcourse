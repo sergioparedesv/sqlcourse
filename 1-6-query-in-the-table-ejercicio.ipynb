{
 "cells": [
  {
   "cell_type": "markdown",
   "id": "36c21b0a",
   "metadata": {},
   "source": [
    "# Ejercicios"
   ]
  },
  {
   "cell_type": "markdown",
   "id": "44ce458d",
   "metadata": {},
   "source": [
    "<div style=\"border-left: 5px solid #f0ad4e; padding:1.25rem; border-right: 1px solid #eee;  border-top: 1px solid #eee;  border-bottom: 1px solid #eee;\">\n",
    "\n",
    "<h5 id=\"ensure-correct-role-and-provide-a-label\">Nota Aclaratoria</h5>\n",
    "\n",
    "<p>Antes de cada consulta tenemos que colocar  <b>%%sql</b>, la herramienta de comandos magicos de SQL</p>\n",
    "\n",
    "</div>"
   ]
  },
  {
   "cell_type": "code",
   "execution_count": 4,
   "id": "964c1533",
   "metadata": {},
   "outputs": [],
   "source": [
    "%load_ext sql\n",
    "%sql sqlite://"
   ]
  },
  {
   "cell_type": "code",
   "execution_count": 5,
   "id": "63557af5",
   "metadata": {},
   "outputs": [
    {
     "name": "stdout",
     "output_type": "stream",
     "text": [
      " * sqlite://\n",
      "Done.\n",
      "10 rows affected.\n"
     ]
    },
    {
     "data": {
      "text/plain": [
       "[]"
      ]
     },
     "execution_count": 5,
     "metadata": {},
     "output_type": "execute_result"
    }
   ],
   "source": [
    "%%sql\n",
    "CREATE TABLE groceries (\n",
    "  id INTEGER PRIMARY KEY,\n",
    "  product_name TEXT,\n",
    "  quantity INTEGER,\n",
    "  price REAL,\n",
    "  aisle INTEGER\n",
    ");\n",
    "\n",
    "INSERT INTO groceries (product_name, quantity, price, aisle)\n",
    "VALUES\n",
    "  ('Tomatoes', 5, 0.99, 3),\n",
    "  ('Apples', 3, 1.49, 1),\n",
    "  ('Bananas', 6, 0.79, 1),\n",
    "  ('Carrots', 2, 0.59, 3),\n",
    "  ('Onions', 1, 0.49, 3),\n",
    "  ('Lettuce', 1, 0.99, 2),\n",
    "  ('Potatoes', 5, 0.99, 3),\n",
    "  ('Bread', 1, 2.49, 4),\n",
    "  ('Milk', 1, 3.49, 5),\n",
    "  ('Eggs', 12, 2.99, 5);"
   ]
  },
  {
   "cell_type": "markdown",
   "id": "be2a569d",
   "metadata": {},
   "source": [
    "Utilizando la tabla anterior, realice los siguientes ejercicios."
   ]
  },
  {
   "cell_type": "markdown",
   "id": "35749e89",
   "metadata": {},
   "source": [
    "# Ejercicio 1"
   ]
  },
  {
   "cell_type": "markdown",
   "id": "63fa3d61",
   "metadata": {},
   "source": [
    "Escriba una consulta que muestre el nombre y el precio de todos los productos que estén en el pasillo 3.\n",
    "Solución:"
   ]
  },
  {
   "cell_type": "code",
   "execution_count": 7,
   "id": "70b87801",
   "metadata": {},
   "outputs": [
    {
     "name": "stdout",
     "output_type": "stream",
     "text": [
      " * sqlite://\n",
      "Done.\n"
     ]
    },
    {
     "data": {
      "text/html": [
       "<table>\n",
       "    <tr>\n",
       "        <th>product_name</th>\n",
       "        <th>price</th>\n",
       "    </tr>\n",
       "    <tr>\n",
       "        <td>Tomatoes</td>\n",
       "        <td>0.99</td>\n",
       "    </tr>\n",
       "    <tr>\n",
       "        <td>Carrots</td>\n",
       "        <td>0.59</td>\n",
       "    </tr>\n",
       "    <tr>\n",
       "        <td>Onions</td>\n",
       "        <td>0.49</td>\n",
       "    </tr>\n",
       "    <tr>\n",
       "        <td>Potatoes</td>\n",
       "        <td>0.99</td>\n",
       "    </tr>\n",
       "</table>"
      ],
      "text/plain": [
       "[('Tomatoes', 0.99), ('Carrots', 0.59), ('Onions', 0.49), ('Potatoes', 0.99)]"
      ]
     },
     "execution_count": 7,
     "metadata": {},
     "output_type": "execute_result"
    }
   ],
   "source": [
    "%%sql\n",
    "SELECT product_name, price\n",
    "FROM groceries\n",
    "WHERE aisle = 3;"
   ]
  },
  {
   "cell_type": "markdown",
   "id": "98ed4512",
   "metadata": {},
   "source": [
    "# Ejercicio 2"
   ]
  },
  {
   "cell_type": "markdown",
   "id": "4d3e9a10",
   "metadata": {},
   "source": [
    "Escriba una consulta que muestre el nombre de todos los productos y su cantidad, pero solo para aquellos que tienen una cantidad mayor a 3. Ordena los resultados por cantidad en orden ascendente.\n",
    "Solución:"
   ]
  },
  {
   "cell_type": "code",
   "execution_count": 8,
   "id": "d8d41d41",
   "metadata": {},
   "outputs": [
    {
     "name": "stdout",
     "output_type": "stream",
     "text": [
      " * sqlite://\n",
      "Done.\n"
     ]
    },
    {
     "data": {
      "text/html": [
       "<table>\n",
       "    <tr>\n",
       "        <th>product_name</th>\n",
       "        <th>quantity</th>\n",
       "    </tr>\n",
       "    <tr>\n",
       "        <td>Tomatoes</td>\n",
       "        <td>5</td>\n",
       "    </tr>\n",
       "    <tr>\n",
       "        <td>Potatoes</td>\n",
       "        <td>5</td>\n",
       "    </tr>\n",
       "    <tr>\n",
       "        <td>Bananas</td>\n",
       "        <td>6</td>\n",
       "    </tr>\n",
       "    <tr>\n",
       "        <td>Eggs</td>\n",
       "        <td>12</td>\n",
       "    </tr>\n",
       "</table>"
      ],
      "text/plain": [
       "[('Tomatoes', 5), ('Potatoes', 5), ('Bananas', 6), ('Eggs', 12)]"
      ]
     },
     "execution_count": 8,
     "metadata": {},
     "output_type": "execute_result"
    }
   ],
   "source": [
    "%%sql\n",
    "SELECT product_name, quantity\n",
    "FROM groceries\n",
    "WHERE quantity > 3\n",
    "ORDER BY quantity ASC;\n"
   ]
  },
  {
   "cell_type": "markdown",
   "id": "61e3f426",
   "metadata": {},
   "source": [
    "# Ejercicio 3"
   ]
  },
  {
   "cell_type": "markdown",
   "id": "fd28427e",
   "metadata": {},
   "source": [
    "Escriba una consulta que muestre el nombre de todos los productos, su cantidad y el precio, pero solo para aquellos que tienen una cantidad menor a 3 o un precio mayor a $2. Ordena los resultados por precio en orden ascendente.\n",
    "Solución:"
   ]
  },
  {
   "cell_type": "code",
   "execution_count": 9,
   "id": "2e994145",
   "metadata": {},
   "outputs": [
    {
     "name": "stdout",
     "output_type": "stream",
     "text": [
      " * sqlite://\n",
      "Done.\n"
     ]
    },
    {
     "data": {
      "text/html": [
       "<table>\n",
       "    <tr>\n",
       "        <th>product_name</th>\n",
       "        <th>quantity</th>\n",
       "        <th>price</th>\n",
       "    </tr>\n",
       "    <tr>\n",
       "        <td>Onions</td>\n",
       "        <td>1</td>\n",
       "        <td>0.49</td>\n",
       "    </tr>\n",
       "    <tr>\n",
       "        <td>Carrots</td>\n",
       "        <td>2</td>\n",
       "        <td>0.59</td>\n",
       "    </tr>\n",
       "    <tr>\n",
       "        <td>Lettuce</td>\n",
       "        <td>1</td>\n",
       "        <td>0.99</td>\n",
       "    </tr>\n",
       "    <tr>\n",
       "        <td>Bread</td>\n",
       "        <td>1</td>\n",
       "        <td>2.49</td>\n",
       "    </tr>\n",
       "    <tr>\n",
       "        <td>Eggs</td>\n",
       "        <td>12</td>\n",
       "        <td>2.99</td>\n",
       "    </tr>\n",
       "    <tr>\n",
       "        <td>Milk</td>\n",
       "        <td>1</td>\n",
       "        <td>3.49</td>\n",
       "    </tr>\n",
       "</table>"
      ],
      "text/plain": [
       "[('Onions', 1, 0.49),\n",
       " ('Carrots', 2, 0.59),\n",
       " ('Lettuce', 1, 0.99),\n",
       " ('Bread', 1, 2.49),\n",
       " ('Eggs', 12, 2.99),\n",
       " ('Milk', 1, 3.49)]"
      ]
     },
     "execution_count": 9,
     "metadata": {},
     "output_type": "execute_result"
    }
   ],
   "source": [
    "%%sql\n",
    "SELECT product_name, quantity, price\n",
    "FROM groceries\n",
    "WHERE quantity < 3 OR price > 2\n",
    "ORDER BY price ASC;"
   ]
  }
 ],
 "metadata": {
  "kernelspec": {
   "display_name": "Python 3 (ipykernel)",
   "language": "python",
   "name": "python3"
  },
  "language_info": {
   "codemirror_mode": {
    "name": "ipython",
    "version": 3
   },
   "file_extension": ".py",
   "mimetype": "text/x-python",
   "name": "python",
   "nbconvert_exporter": "python",
   "pygments_lexer": "ipython3",
   "version": "3.9.7"
  }
 },
 "nbformat": 4,
 "nbformat_minor": 5
}
