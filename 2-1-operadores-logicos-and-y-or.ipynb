{
 "cells": [
  {
   "cell_type": "markdown",
   "id": "3a7c462b",
   "metadata": {},
   "source": [
    "# Conectores en las Consultas SQL AND/OR"
   ]
  },
  {
   "cell_type": "markdown",
   "id": "3406ab3b",
   "metadata": {},
   "source": [
    "La sentencia AND y la sentencia OR son operadores lógicos que se utilizan para combinar dos o más condiciones en una consulta SQL.\n",
    "\n",
    "La sentencia AND se utiliza para especificar que ambas condiciones deben cumplirse para que una fila sea seleccionada. Por ejemplo, si queremos encontrar todos los ejercicios de tipo 'biking' y que quemen más de 50 calorías, podemos utilizar la siguiente consulta:"
   ]
  },
  {
   "cell_type": "markdown",
   "id": "dde6881b",
   "metadata": {},
   "source": [
    "```sql\n",
    "SELECT * FROM exercise_logs WHERE type = 'biking' AND calories > 50;\n",
    "\n",
    "```"
   ]
  },
  {
   "cell_type": "markdown",
   "id": "b95439d3",
   "metadata": {},
   "source": [
    "La sentencia OR se utiliza para especificar que al menos una de las condiciones debe cumplirse para que una fila sea seleccionada. Por ejemplo, si queremos encontrar todos los ejercicios de tipo 'biking' o 'dancing', podemos utilizar la siguiente consulta:"
   ]
  },
  {
   "cell_type": "markdown",
   "id": "6be36dee",
   "metadata": {},
   "source": [
    "```sql\n",
    "SELECT * FROM exercise_logs WHERE type = 'biking' OR type = 'dancing';\n",
    "\n",
    "\n",
    "```"
   ]
  },
  {
   "cell_type": "markdown",
   "id": "8cc1d047",
   "metadata": {},
   "source": [
    "Es importante tener en cuenta que la sentencia AND tiene una mayor precedencia que la sentencia OR, por lo que es necesario usar paréntesis para indicar el orden de evaluación de las condiciones. Por ejemplo, si queremos encontrar todos los ejercicios de tipo 'biking' o 'dancing' y que quemen más de 50 calorías, debemos utilizar la siguiente consulta:"
   ]
  },
  {
   "cell_type": "markdown",
   "id": "2889f967",
   "metadata": {},
   "source": [
    "```sql\n",
    "SELECT * FROM exercise_logs WHERE (type = 'biking' OR type = 'dancing') AND calories > 50;\n",
    "\n",
    "\n",
    "```"
   ]
  },
  {
   "cell_type": "markdown",
   "id": "1d86d3d8",
   "metadata": {},
   "source": [
    "  <a href=\"https://sqliteonline.com/\" target=\"_blank\"><button type=\"button\" class=\"btn btn-success\">\n",
    "  <a href=\"https://sqliteonline.com/\" target=\"_blank\" style=\"color: white; text-decoration:none;\">SQL online</a>\n",
    "</button></a>"
   ]
  },
  {
   "cell_type": "code",
   "execution_count": 1,
   "id": "2b4a07a0",
   "metadata": {},
   "outputs": [],
   "source": [
    "%load_ext sql\n",
    "%sql sqlite://"
   ]
  },
  {
   "cell_type": "markdown",
   "id": "4d612614",
   "metadata": {},
   "source": [
    "# Paso 1: Creamos una base de datos.\n"
   ]
  },
  {
   "cell_type": "markdown",
   "id": "47c30328",
   "metadata": {},
   "source": [
    "Esta tabla tiene del registro de ejercicio, la tabla tiene **cinco** columnas, minutos, calories que quemas, ritmo cardiaco e intensidad."
   ]
  },
  {
   "cell_type": "code",
   "execution_count": 2,
   "id": "dfa8be25",
   "metadata": {},
   "outputs": [
    {
     "name": "stdout",
     "output_type": "stream",
     "text": [
      " * sqlite://\n",
      "Done.\n",
      "10 rows affected.\n"
     ]
    },
    {
     "data": {
      "text/plain": [
       "[]"
      ]
     },
     "execution_count": 2,
     "metadata": {},
     "output_type": "execute_result"
    }
   ],
   "source": [
    "%%sql\n",
    "CREATE TABLE exercise_logs\n",
    "    (id INTEGER PRIMARY KEY AUTOINCREMENT,\n",
    "    type TEXT,\n",
    "    minutes INTEGER, \n",
    "    calories INTEGER,\n",
    "    heart_rate INTEGER,\n",
    "    intensity);\n",
    "\n",
    "INSERT INTO exercise_logs(type, minutes, calories, heart_rate, intensity) VALUES \n",
    "    ('biking', 30, 100, 110, 'high'), \n",
    "    ('walk', 60, 30, 100, 'low'), \n",
    "    ('dancing', 15, 200, 120, 'medium'),\n",
    "    ('run', 30, 250, 140, 'high'), \n",
    "    ('swim', 60, 300, 120,'medium'), \n",
    "    ('aerobics', 15, 200, 150, 'medium'),\n",
    "    ('yoga', 30, 100, 110, 'high'), \n",
    "    ('weight lifting', 60, 30, 100, 'low'), \n",
    "    ('boxing', 15, 200, 120, 'medium'),\n",
    "    ('pilates', 30, 250, 140, 'medium');"
   ]
  },
  {
   "cell_type": "markdown",
   "id": "ed9c0acf",
   "metadata": {},
   "source": [
    "# Paso 2: Recuerda siempre visualizar la tabla"
   ]
  },
  {
   "cell_type": "code",
   "execution_count": null,
   "id": "2fa2f2c3",
   "metadata": {},
   "outputs": [],
   "source": [
    "%%sql\n",
    "SELECT * FROM exercise_logs"
   ]
  },
  {
   "cell_type": "markdown",
   "id": "38b838d6",
   "metadata": {},
   "source": [
    "# Paso 3: Ordenar y condicionar.\n",
    "\n"
   ]
  },
  {
   "cell_type": "markdown",
   "id": "f0e22c70",
   "metadata": {},
   "source": [
    "La siguiente sentencia seleccionara los ejercicios que consuman más de 50 calorias y las ordena."
   ]
  },
  {
   "cell_type": "code",
   "execution_count": 3,
   "id": "103c109e",
   "metadata": {},
   "outputs": [
    {
     "name": "stdout",
     "output_type": "stream",
     "text": [
      " * sqlite://\n",
      "Done.\n"
     ]
    },
    {
     "data": {
      "text/html": [
       "<table>\n",
       "    <tr>\n",
       "        <th>id</th>\n",
       "        <th>type</th>\n",
       "        <th>minutes</th>\n",
       "        <th>calories</th>\n",
       "        <th>heart_rate</th>\n",
       "        <th>intensity</th>\n",
       "    </tr>\n",
       "    <tr>\n",
       "        <td>1</td>\n",
       "        <td>biking</td>\n",
       "        <td>30</td>\n",
       "        <td>100</td>\n",
       "        <td>110</td>\n",
       "        <td>high</td>\n",
       "    </tr>\n",
       "    <tr>\n",
       "        <td>7</td>\n",
       "        <td>yoga</td>\n",
       "        <td>30</td>\n",
       "        <td>100</td>\n",
       "        <td>110</td>\n",
       "        <td>high</td>\n",
       "    </tr>\n",
       "    <tr>\n",
       "        <td>3</td>\n",
       "        <td>dancing</td>\n",
       "        <td>15</td>\n",
       "        <td>200</td>\n",
       "        <td>120</td>\n",
       "        <td>medium</td>\n",
       "    </tr>\n",
       "    <tr>\n",
       "        <td>6</td>\n",
       "        <td>aerobics</td>\n",
       "        <td>15</td>\n",
       "        <td>200</td>\n",
       "        <td>150</td>\n",
       "        <td>medium</td>\n",
       "    </tr>\n",
       "    <tr>\n",
       "        <td>9</td>\n",
       "        <td>boxing</td>\n",
       "        <td>15</td>\n",
       "        <td>200</td>\n",
       "        <td>120</td>\n",
       "        <td>medium</td>\n",
       "    </tr>\n",
       "    <tr>\n",
       "        <td>4</td>\n",
       "        <td>run</td>\n",
       "        <td>30</td>\n",
       "        <td>250</td>\n",
       "        <td>140</td>\n",
       "        <td>high</td>\n",
       "    </tr>\n",
       "    <tr>\n",
       "        <td>10</td>\n",
       "        <td>pilates</td>\n",
       "        <td>30</td>\n",
       "        <td>250</td>\n",
       "        <td>140</td>\n",
       "        <td>medium</td>\n",
       "    </tr>\n",
       "    <tr>\n",
       "        <td>5</td>\n",
       "        <td>swim</td>\n",
       "        <td>60</td>\n",
       "        <td>300</td>\n",
       "        <td>120</td>\n",
       "        <td>medium</td>\n",
       "    </tr>\n",
       "</table>"
      ],
      "text/plain": [
       "[(1, 'biking', 30, 100, 110, 'high'),\n",
       " (7, 'yoga', 30, 100, 110, 'high'),\n",
       " (3, 'dancing', 15, 200, 120, 'medium'),\n",
       " (6, 'aerobics', 15, 200, 150, 'medium'),\n",
       " (9, 'boxing', 15, 200, 120, 'medium'),\n",
       " (4, 'run', 30, 250, 140, 'high'),\n",
       " (10, 'pilates', 30, 250, 140, 'medium'),\n",
       " (5, 'swim', 60, 300, 120, 'medium')]"
      ]
     },
     "execution_count": 3,
     "metadata": {},
     "output_type": "execute_result"
    }
   ],
   "source": [
    "%%sql\n",
    "SELECT * FROM exercise_logs WHERE calories > 50 ORDER BY calories;"
   ]
  },
  {
   "cell_type": "markdown",
   "id": "96a860ed",
   "metadata": {},
   "source": [
    "**Explicación**\n",
    "\n",
    "La sentencia SQL que has proporcionado es una consulta que se utiliza para seleccionar todas las columnas (*) de la tabla \"exercise_logs\" donde el número de calorías quemadas es mayor de 50 y ordenar los resultados por el número de calorías.\n",
    "\n",
    "La cláusula **SELECT** indica qué columnas se van a seleccionar. El asterisco (*) significa que se seleccionarán todas las columnas de la tabla.\n",
    "\n",
    "La cláusula **FROM** especifica de qué tabla se seleccionarán las columnas. En este caso, la tabla se llama \"exercise_logs\".\n",
    "\n",
    "La cláusula **WHERE** se utiliza para especificar una condición que debe cumplirse para que una fila se incluya en el conjunto de resultados. En este caso, se está especificando que solo se deben incluir las filas donde el número de calorías quemadas es mayor de 50.\n",
    "\n",
    "La cláusula **ORDER BY** se utiliza para ordenar el conjunto de resultados por una o varias columnas. En este caso, se está ordenando el conjunto de resultados por el número de calorías quemadas."
   ]
  },
  {
   "cell_type": "markdown",
   "id": "fc8c030e",
   "metadata": {},
   "source": [
    "<hr style=\"height:5px; width: 100%; border-radius: 20%; background-color:#E7046B ; border-color: #E7046B\">"
   ]
  },
  {
   "cell_type": "markdown",
   "id": "52af6c1d",
   "metadata": {},
   "source": [
    "## Actividad 1\n",
    "\n",
    "Encuentra el ejercicio que quema el mayor número de calorías entre la intensidad medium: "
   ]
  },
  {
   "cell_type": "code",
   "execution_count": null,
   "id": "df5d6566",
   "metadata": {},
   "outputs": [],
   "source": []
  },
  {
   "cell_type": "markdown",
   "id": "8dfaa146",
   "metadata": {},
   "source": [
    "## Actividad 2\n",
    "\n",
    "Encuentra el ejercicio que quema el mayor número de calorías y muestra el tipo de ejercicio, el número de calorías quemadas y el nivel de intensidad:"
   ]
  },
  {
   "cell_type": "code",
   "execution_count": null,
   "id": "9120179b",
   "metadata": {},
   "outputs": [],
   "source": []
  },
  {
   "cell_type": "markdown",
   "id": "7af0f5b1",
   "metadata": {},
   "source": [
    "<hr style=\"height:5px; width: 100%; border-radius: 20%; background-color:#E7046B ; border-color: #E7046B\">"
   ]
  },
  {
   "cell_type": "markdown",
   "id": "0f182a79",
   "metadata": {},
   "source": [
    "# Paso 4. Sentencia AND/Y\n",
    "\n",
    "Crearemos una sentencia SQL donde seleccione que las calorias sean igual o mayor a 100 y los minutos requeridos sean igual o menor a 60,\n",
    "\n",
    "para lograrlo utiliza la clausula and/y "
   ]
  },
  {
   "cell_type": "code",
   "execution_count": 4,
   "id": "ae339813",
   "metadata": {},
   "outputs": [
    {
     "name": "stdout",
     "output_type": "stream",
     "text": [
      " * sqlite://\n",
      "Done.\n"
     ]
    },
    {
     "data": {
      "text/html": [
       "<table>\n",
       "    <tr>\n",
       "        <th>id</th>\n",
       "        <th>type</th>\n",
       "        <th>minutes</th>\n",
       "        <th>calories</th>\n",
       "        <th>heart_rate</th>\n",
       "        <th>intensity</th>\n",
       "    </tr>\n",
       "    <tr>\n",
       "        <td>1</td>\n",
       "        <td>biking</td>\n",
       "        <td>30</td>\n",
       "        <td>100</td>\n",
       "        <td>110</td>\n",
       "        <td>high</td>\n",
       "    </tr>\n",
       "    <tr>\n",
       "        <td>2</td>\n",
       "        <td>walk</td>\n",
       "        <td>60</td>\n",
       "        <td>30</td>\n",
       "        <td>100</td>\n",
       "        <td>low</td>\n",
       "    </tr>\n",
       "    <tr>\n",
       "        <td>3</td>\n",
       "        <td>dancing</td>\n",
       "        <td>15</td>\n",
       "        <td>200</td>\n",
       "        <td>120</td>\n",
       "        <td>medium</td>\n",
       "    </tr>\n",
       "    <tr>\n",
       "        <td>4</td>\n",
       "        <td>run</td>\n",
       "        <td>30</td>\n",
       "        <td>250</td>\n",
       "        <td>140</td>\n",
       "        <td>high</td>\n",
       "    </tr>\n",
       "    <tr>\n",
       "        <td>5</td>\n",
       "        <td>swim</td>\n",
       "        <td>60</td>\n",
       "        <td>300</td>\n",
       "        <td>120</td>\n",
       "        <td>medium</td>\n",
       "    </tr>\n",
       "    <tr>\n",
       "        <td>6</td>\n",
       "        <td>aerobics</td>\n",
       "        <td>15</td>\n",
       "        <td>200</td>\n",
       "        <td>150</td>\n",
       "        <td>medium</td>\n",
       "    </tr>\n",
       "    <tr>\n",
       "        <td>7</td>\n",
       "        <td>yoga</td>\n",
       "        <td>30</td>\n",
       "        <td>100</td>\n",
       "        <td>110</td>\n",
       "        <td>high</td>\n",
       "    </tr>\n",
       "    <tr>\n",
       "        <td>8</td>\n",
       "        <td>weight lifting</td>\n",
       "        <td>60</td>\n",
       "        <td>30</td>\n",
       "        <td>100</td>\n",
       "        <td>low</td>\n",
       "    </tr>\n",
       "    <tr>\n",
       "        <td>9</td>\n",
       "        <td>boxing</td>\n",
       "        <td>15</td>\n",
       "        <td>200</td>\n",
       "        <td>120</td>\n",
       "        <td>medium</td>\n",
       "    </tr>\n",
       "    <tr>\n",
       "        <td>10</td>\n",
       "        <td>pilates</td>\n",
       "        <td>30</td>\n",
       "        <td>250</td>\n",
       "        <td>140</td>\n",
       "        <td>medium</td>\n",
       "    </tr>\n",
       "</table>"
      ],
      "text/plain": [
       "[(1, 'biking', 30, 100, 110, 'high'),\n",
       " (2, 'walk', 60, 30, 100, 'low'),\n",
       " (3, 'dancing', 15, 200, 120, 'medium'),\n",
       " (4, 'run', 30, 250, 140, 'high'),\n",
       " (5, 'swim', 60, 300, 120, 'medium'),\n",
       " (6, 'aerobics', 15, 200, 150, 'medium'),\n",
       " (7, 'yoga', 30, 100, 110, 'high'),\n",
       " (8, 'weight lifting', 60, 30, 100, 'low'),\n",
       " (9, 'boxing', 15, 200, 120, 'medium'),\n",
       " (10, 'pilates', 30, 250, 140, 'medium')]"
      ]
     },
     "execution_count": 4,
     "metadata": {},
     "output_type": "execute_result"
    }
   ],
   "source": [
    "%%sql\n",
    "SELECT * from exercise_logs WHERE calories >= 10 and minutes <= 60;"
   ]
  },
  {
   "cell_type": "markdown",
   "id": "006a1c65",
   "metadata": {},
   "source": [
    "**Explicación**\n",
    "    \n",
    "La sentencia AND en SQL se usa para combinar dos condiciones en una consulta. Si ambas condiciones son verdaderas, entonces el resultado de la consulta será verdadero. De lo contrario, si alguna de las condiciones es falsa, entonces el resultado de la consulta será falso.\n",
    "\n",
    "Por ejemplo, considere la siguiente consulta:"
   ]
  },
  {
   "cell_type": "markdown",
   "id": "39727a5e",
   "metadata": {},
   "source": [
    "```sql\n",
    "SELECT * FROM customers WHERE city = 'New York' AND state = 'NY';\n",
    "\n",
    "```"
   ]
  },
  {
   "cell_type": "markdown",
   "id": "b7b9cd84",
   "metadata": {},
   "source": [
    "Esta consulta seleccionará todos los registros de la tabla \"customers\" donde la columna \"city\" tenga el valor \"New York\" y la columna \"state\" tenga el valor \"NY\". Si ambas condiciones son verdaderas para un registro dado, entonces ese registro se incluirá en el resultado de la consulta.\n",
    "\n",
    "Es importante tener en cuenta que la sentencia AND solo se evalúa como verdadera si ambas condiciones son verdaderas. Si una de las condiciones es falsa, entonces la sentencia AND se evalúa como falsa, independientemente de si la otra condición es verdadera o falsa.\n",
    "\n",
    "Espero que esto ayude a entender el uso de la sentencia AND en SQL. Si tiene alguna pregunta adicional, no dude en preguntar."
   ]
  },
  {
   "cell_type": "markdown",
   "id": "17230b8a",
   "metadata": {},
   "source": [
    "# Paso 5. Sentencia OR/O"
   ]
  },
  {
   "cell_type": "markdown",
   "id": "b88d7ff2",
   "metadata": {},
   "source": [
    "Crearemos la sentencia OR para condicionar los ejercicios que nos consuman más de 50 calorias o menos de 60 minutos."
   ]
  },
  {
   "cell_type": "code",
   "execution_count": 5,
   "id": "63b25c67",
   "metadata": {},
   "outputs": [
    {
     "name": "stdout",
     "output_type": "stream",
     "text": [
      " * sqlite://\n",
      "Done.\n"
     ]
    },
    {
     "data": {
      "text/html": [
       "<table>\n",
       "    <tr>\n",
       "        <th>id</th>\n",
       "        <th>type</th>\n",
       "        <th>minutes</th>\n",
       "        <th>calories</th>\n",
       "        <th>heart_rate</th>\n",
       "        <th>intensity</th>\n",
       "    </tr>\n",
       "    <tr>\n",
       "        <td>1</td>\n",
       "        <td>biking</td>\n",
       "        <td>30</td>\n",
       "        <td>100</td>\n",
       "        <td>110</td>\n",
       "        <td>high</td>\n",
       "    </tr>\n",
       "    <tr>\n",
       "        <td>3</td>\n",
       "        <td>dancing</td>\n",
       "        <td>15</td>\n",
       "        <td>200</td>\n",
       "        <td>120</td>\n",
       "        <td>medium</td>\n",
       "    </tr>\n",
       "    <tr>\n",
       "        <td>4</td>\n",
       "        <td>run</td>\n",
       "        <td>30</td>\n",
       "        <td>250</td>\n",
       "        <td>140</td>\n",
       "        <td>high</td>\n",
       "    </tr>\n",
       "    <tr>\n",
       "        <td>5</td>\n",
       "        <td>swim</td>\n",
       "        <td>60</td>\n",
       "        <td>300</td>\n",
       "        <td>120</td>\n",
       "        <td>medium</td>\n",
       "    </tr>\n",
       "    <tr>\n",
       "        <td>6</td>\n",
       "        <td>aerobics</td>\n",
       "        <td>15</td>\n",
       "        <td>200</td>\n",
       "        <td>150</td>\n",
       "        <td>medium</td>\n",
       "    </tr>\n",
       "    <tr>\n",
       "        <td>7</td>\n",
       "        <td>yoga</td>\n",
       "        <td>30</td>\n",
       "        <td>100</td>\n",
       "        <td>110</td>\n",
       "        <td>high</td>\n",
       "    </tr>\n",
       "    <tr>\n",
       "        <td>9</td>\n",
       "        <td>boxing</td>\n",
       "        <td>15</td>\n",
       "        <td>200</td>\n",
       "        <td>120</td>\n",
       "        <td>medium</td>\n",
       "    </tr>\n",
       "    <tr>\n",
       "        <td>10</td>\n",
       "        <td>pilates</td>\n",
       "        <td>30</td>\n",
       "        <td>250</td>\n",
       "        <td>140</td>\n",
       "        <td>medium</td>\n",
       "    </tr>\n",
       "</table>"
      ],
      "text/plain": [
       "[(1, 'biking', 30, 100, 110, 'high'),\n",
       " (3, 'dancing', 15, 200, 120, 'medium'),\n",
       " (4, 'run', 30, 250, 140, 'high'),\n",
       " (5, 'swim', 60, 300, 120, 'medium'),\n",
       " (6, 'aerobics', 15, 200, 150, 'medium'),\n",
       " (7, 'yoga', 30, 100, 110, 'high'),\n",
       " (9, 'boxing', 15, 200, 120, 'medium'),\n",
       " (10, 'pilates', 30, 250, 140, 'medium')]"
      ]
     },
     "execution_count": 5,
     "metadata": {},
     "output_type": "execute_result"
    }
   ],
   "source": [
    "%%sql\n",
    "SELECT * from exercise_logs WHERE calories > 50 OR minutes <60;"
   ]
  },
  {
   "cell_type": "markdown",
   "id": "950840e0",
   "metadata": {},
   "source": [
    "**Explicación**\n",
    "\n",
    "La sentencia OR en SQL se usa para combinar dos condiciones en una consulta. Si alguna de las condiciones es verdadera, entonces el resultado de la consulta será verdadero. De lo contrario, si ambas condiciones son falsas, entonces el resultado de la consulta será falso.\n",
    "\n",
    "Por ejemplo, considere la siguiente consulta:"
   ]
  },
  {
   "cell_type": "markdown",
   "id": "e16bbf61",
   "metadata": {},
   "source": [
    "```sql\n",
    "SELECT * FROM customers WHERE city = 'New York' OR state = 'NY';\n",
    "```"
   ]
  },
  {
   "cell_type": "markdown",
   "id": "b78e102d",
   "metadata": {},
   "source": [
    "Esta consulta seleccionará todos los registros de la tabla \"customers\" donde la columna \"city\" tenga el valor \"New York\" o la columna \"state\" tenga el valor \"NY\". Si alguna de estas condiciones es verdadera para un registro dado, entonces ese registro se incluirá en el resultado de la consulta.\n",
    "\n",
    "Es importante tener en cuenta que la sentencia OR se evalúa como verdadera si alguna de las condiciones es verdadera. Si ambas condiciones son falsas, entonces la sentencia OR se evalúa como falsa.\n",
    "\n",
    "Espero que esto ayude a entender el uso de la sentencia OR en SQL. Si tiene alguna pregunta adicional, no dude en preguntar."
   ]
  },
  {
   "cell_type": "markdown",
   "id": "817a0e6a",
   "metadata": {},
   "source": [
    "<hr style=\"height:5px; width: 100%; border-radius: 20%; background-color:#E7046B ; border-color: #E7046B\">"
   ]
  },
  {
   "cell_type": "markdown",
   "id": "289b1a8b",
   "metadata": {},
   "source": [
    "## Actividad 1\n",
    "\n",
    "Encuentra todos los ejercicios de tipo 'biking' o 'dancing':"
   ]
  },
  {
   "cell_type": "code",
   "execution_count": null,
   "id": "19f67d93",
   "metadata": {},
   "outputs": [],
   "source": []
  },
  {
   "cell_type": "markdown",
   "id": "bb9c0e17",
   "metadata": {},
   "source": [
    "## Actividad 2\n",
    "\n",
    "Encuentra todos los ejercicios de tipo 'biking' o 'dancing' que queman más de 100 calorías:\n",
    "\n",
    "<div style=\"border-left: 5px solid #04E720; padding:1.25rem; border-right: 1px solid #eee;  border-top: 1px solid #eee;  border-bottom: 1px solid #eee;\">\n",
    "\n",
    "<h5 id=\"ensure-correct-role-and-provide-a-label\">Pista: </h5>\n",
    "\n",
    "A continuación encontrara una pista en la sentencia WHERE para este ejercicio. \n",
    "</div>\n",
    "\n",
    "```sql\n",
    "WHERE (type = 'biking' OR type = 'dancing') AND calories > 100;\n",
    "```"
   ]
  },
  {
   "cell_type": "code",
   "execution_count": null,
   "id": "2c9cbcaf",
   "metadata": {},
   "outputs": [],
   "source": []
  },
  {
   "cell_type": "markdown",
   "id": "980cc54d",
   "metadata": {},
   "source": [
    "<hr style=\"height:5px; width: 100%; border-radius: 20%; background-color:#E7046B ; border-color: #E7046B\">"
   ]
  }
 ],
 "metadata": {
  "kernelspec": {
   "display_name": "Python 3 (ipykernel)",
   "language": "python",
   "name": "python3"
  },
  "language_info": {
   "codemirror_mode": {
    "name": "ipython",
    "version": 3
   },
   "file_extension": ".py",
   "mimetype": "text/x-python",
   "name": "python",
   "nbconvert_exporter": "python",
   "pygments_lexer": "ipython3",
   "version": "3.9.7"
  }
 },
 "nbformat": 4,
 "nbformat_minor": 5
}
