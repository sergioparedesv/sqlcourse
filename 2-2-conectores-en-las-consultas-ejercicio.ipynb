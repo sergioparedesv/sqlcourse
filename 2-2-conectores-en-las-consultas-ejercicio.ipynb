{
 "cells": [
  {
   "cell_type": "markdown",
   "id": "a71f4351",
   "metadata": {},
   "source": [
    "# Ejercicios"
   ]
  },
  {
   "cell_type": "markdown",
   "id": "14563206",
   "metadata": {},
   "source": [
    "<div style=\"border-left: 5px solid #f0ad4e; padding:1.25rem; border-right: 1px solid #eee;  border-top: 1px solid #eee;  border-bottom: 1px solid #eee;\">\n",
    "\n",
    "<h5 id=\"ensure-correct-role-and-provide-a-label\">Nota Aclaratoria</h5>\n",
    "\n",
    "<p>Antes de cada consulta tenemos que colocar  <b>%%sql</b>, la herramienta de comandos magicos de SQL</p>\n",
    "\n",
    "</div>"
   ]
  },
  {
   "cell_type": "code",
   "execution_count": 1,
   "id": "26746eb4",
   "metadata": {},
   "outputs": [],
   "source": [
    "%load_ext sql\n",
    "%sql sqlite://"
   ]
  },
  {
   "cell_type": "code",
   "execution_count": 2,
   "id": "eaaf30c7",
   "metadata": {},
   "outputs": [
    {
     "name": "stdout",
     "output_type": "stream",
     "text": [
      " * sqlite://\n",
      "Done.\n",
      "10 rows affected.\n"
     ]
    },
    {
     "data": {
      "text/plain": [
       "[]"
      ]
     },
     "execution_count": 2,
     "metadata": {},
     "output_type": "execute_result"
    }
   ],
   "source": [
    "%%sql\n",
    "CREATE TABLE exercise_logs\n",
    "    (id INTEGER PRIMARY KEY AUTOINCREMENT,\n",
    "    type TEXT,\n",
    "    minutes INTEGER, \n",
    "    calories INTEGER,\n",
    "    heart_rate INTEGER,\n",
    "    intensity);\n",
    "\n",
    "INSERT INTO exercise_logs(type, minutes, calories, heart_rate, intensity) VALUES \n",
    "    ('biking', 30, 100, 110, 'high'), \n",
    "    ('walk', 60, 30, 100, 'low'), \n",
    "    ('dancing', 15, 200, 120, 'medium'),\n",
    "    ('run', 30, 250, 140, 'high'), \n",
    "    ('swim', 60, 300, 120,'medium'), \n",
    "    ('aerobics', 15, 200, 150, 'medium'),\n",
    "    ('yoga', 30, 100, 110, 'high'), \n",
    "    ('weight lifting', 60, 30, 100, 'low'), \n",
    "    ('boxing', 15, 200, 120, 'medium'),\n",
    "    ('pilates', 30, 250, 140, 'medium');"
   ]
  },
  {
   "cell_type": "markdown",
   "id": "954bf897",
   "metadata": {},
   "source": [
    "A continuación encontraras cinco ejercicios en qle utilizando la tabla \"exercise_logs\" utilizando las funciones AND y OR"
   ]
  },
  {
   "cell_type": "markdown",
   "id": "4e10b857",
   "metadata": {},
   "source": [
    "<hr style=\"height:5px; width: 100%; border-radius: 20%; background-color:#E7046B ; border-color: #E7046B\">"
   ]
  },
  {
   "cell_type": "markdown",
   "id": "7d614c06",
   "metadata": {},
   "source": [
    "# Ejercicio 1\n",
    "\n",
    "Encuentra todos los ejercicios de tipo 'biking' o 'dancing' y que quemen mayor o igual a 200 calorías:"
   ]
  },
  {
   "cell_type": "markdown",
   "id": "722b4f10",
   "metadata": {},
   "source": [
    "<div style=\"border-left: 5px solid #04E720; padding:1.25rem; border-right: 1px solid #eee;  border-top: 1px solid #eee;  border-bottom: 1px solid #eee;\"><h5 id=\"ensure-correct-role-and-provide-a-label\">Pista: </h5>\n",
    "\n",
    "Utiliza la sentencia OR para elegir biking/bicicleta o dancing/bailar en una orden y luego AND para las calorias.\n",
    "</div>\n",
    "\n",
    "```sql\n",
    "WHERE (type = 'biking' OR type = 'dancing')\n",
    "\n",
    "```"
   ]
  },
  {
   "cell_type": "code",
   "execution_count": 6,
   "id": "788a6bca",
   "metadata": {},
   "outputs": [
    {
     "name": "stdout",
     "output_type": "stream",
     "text": [
      " * sqlite://\n",
      "Done.\n"
     ]
    },
    {
     "data": {
      "text/html": [
       "<table>\n",
       "    <tr>\n",
       "        <th>id</th>\n",
       "        <th>type</th>\n",
       "        <th>minutes</th>\n",
       "        <th>calories</th>\n",
       "        <th>heart_rate</th>\n",
       "        <th>intensity</th>\n",
       "    </tr>\n",
       "    <tr>\n",
       "        <td>1</td>\n",
       "        <td>biking</td>\n",
       "        <td>30</td>\n",
       "        <td>100</td>\n",
       "        <td>110</td>\n",
       "        <td>high</td>\n",
       "    </tr>\n",
       "    <tr>\n",
       "        <td>3</td>\n",
       "        <td>dancing</td>\n",
       "        <td>15</td>\n",
       "        <td>200</td>\n",
       "        <td>120</td>\n",
       "        <td>medium</td>\n",
       "    </tr>\n",
       "</table>"
      ],
      "text/plain": [
       "[(1, 'biking', 30, 100, 110, 'high'), (3, 'dancing', 15, 200, 120, 'medium')]"
      ]
     },
     "execution_count": 6,
     "metadata": {},
     "output_type": "execute_result"
    }
   ],
   "source": [
    "%%sql\n",
    "SELECT * FROM exercise_logs WHERE (type = 'biking' OR type = 'dancing') AND calories >= 100;"
   ]
  },
  {
   "cell_type": "markdown",
   "id": "af7de0f6",
   "metadata": {},
   "source": [
    "# Ejercicio 2\n",
    "\n",
    "\n",
    "Para cada ejercicio de la tabla \"exercise_logs\", queremos obtener el tipo de ejercicio y el número de calorías quemadas. Además, queremos obtener los tres ejercicios que más calorías quemen en la menor cantidad de minutos."
   ]
  },
  {
   "cell_type": "markdown",
   "id": "0bb788d7",
   "metadata": {},
   "source": [
    "<div style=\"border-left: 5px solid #04E720; padding:1.25rem; border-right: 1px solid #eee;  border-top: 1px solid #eee;  border-bottom: 1px solid #eee;\"><h5 id=\"ensure-correct-role-and-provide-a-label\">Pista: </h5>\n",
    "\n",
    "-Recuerda que ORDER BY te permite ordenarlas, si quieres definir la forma puedes utilizar DESC y ASC\n",
    "-Cómo quieres limitar la consulta a solo 3 resultados asegurate de utilizar LIMIT 3 en la sentencia.\n",
    "</div>\n",
    "\n",
    "```sql\n",
    "calories DESC\n",
    "LIMIT 3\n",
    "```"
   ]
  },
  {
   "cell_type": "code",
   "execution_count": 8,
   "id": "a3b70b96",
   "metadata": {},
   "outputs": [
    {
     "name": "stdout",
     "output_type": "stream",
     "text": [
      " * sqlite://\n",
      "Done.\n"
     ]
    },
    {
     "data": {
      "text/html": [
       "<table>\n",
       "    <tr>\n",
       "        <th>type</th>\n",
       "        <th>calories</th>\n",
       "    </tr>\n",
       "    <tr>\n",
       "        <td>swim</td>\n",
       "        <td>300</td>\n",
       "    </tr>\n",
       "    <tr>\n",
       "        <td>run</td>\n",
       "        <td>250</td>\n",
       "    </tr>\n",
       "    <tr>\n",
       "        <td>pilates</td>\n",
       "        <td>250</td>\n",
       "    </tr>\n",
       "</table>"
      ],
      "text/plain": [
       "[('swim', 300), ('run', 250), ('pilates', 250)]"
      ]
     },
     "execution_count": 8,
     "metadata": {},
     "output_type": "execute_result"
    }
   ],
   "source": [
    "%%sql\n",
    "SELECT type, calories FROM exercise_logs ORDER BY calories DESC, minutes ASC LIMIT 3;"
   ]
  },
  {
   "cell_type": "markdown",
   "id": "db65301c",
   "metadata": {},
   "source": [
    "# Ejercicio 3\n",
    "\n",
    "\n",
    "Para cada ejercicio de la tabla \"exercise_logs\", queremos obtener el tipo de ejercicio, el número de calorías quemadas y la frecuencia cardiaca. Sin embargo, sólo queremos obtener aquellos ejercicios que cumplan las siguientes condiciones:\n",
    "\n",
    "- La frecuencia cardiaca del ejercicio es menor que la media de todas las frecuencias cardiacas.\n",
    "\n",
    "- El número de calorías quemadas del ejercicio es mayor que la media de todas las calorías quemadas."
   ]
  },
  {
   "cell_type": "markdown",
   "id": "1a52d191",
   "metadata": {},
   "source": [
    "<div style=\"border-left: 5px solid #04E720; padding:1.25rem; border-right: 1px solid #eee;  border-top: 1px solid #eee;  border-bottom: 1px solid #eee;\"><h5 id=\"ensure-correct-role-and-provide-a-label\">Pista: </h5>\n",
    "\n",
    "1. Intenta primero resolver el problema por separado para comprenderlo mejor.\n",
    "\n",
    "2. Anida una sentencia SELECT dentro del WHERE y utiliza el conector AND para conectarlas.\n",
    "</div>\n",
    "\n",
    "```sql\n",
    "WHERE heart_rate < (SELECT AVG(heart_rate) FROM exercise_logs)\n",
    "\n",
    "```"
   ]
  },
  {
   "cell_type": "code",
   "execution_count": 9,
   "id": "95e1ec3a",
   "metadata": {},
   "outputs": [
    {
     "name": "stdout",
     "output_type": "stream",
     "text": [
      " * sqlite://\n",
      "Done.\n"
     ]
    },
    {
     "data": {
      "text/html": [
       "<table>\n",
       "    <tr>\n",
       "        <th>type</th>\n",
       "        <th>calories</th>\n",
       "        <th>heart_rate</th>\n",
       "    </tr>\n",
       "    <tr>\n",
       "        <td>dancing</td>\n",
       "        <td>200</td>\n",
       "        <td>120</td>\n",
       "    </tr>\n",
       "    <tr>\n",
       "        <td>swim</td>\n",
       "        <td>300</td>\n",
       "        <td>120</td>\n",
       "    </tr>\n",
       "    <tr>\n",
       "        <td>boxing</td>\n",
       "        <td>200</td>\n",
       "        <td>120</td>\n",
       "    </tr>\n",
       "</table>"
      ],
      "text/plain": [
       "[('dancing', 200, 120), ('swim', 300, 120), ('boxing', 200, 120)]"
      ]
     },
     "execution_count": 9,
     "metadata": {},
     "output_type": "execute_result"
    }
   ],
   "source": [
    "%%sql\n",
    "SELECT type, calories, heart_rate FROM exercise_logs \n",
    "WHERE heart_rate < (SELECT AVG(heart_rate) FROM exercise_logs) AND calories > (SELECT AVG(calories) FROM exercise_logs);\n"
   ]
  },
  {
   "cell_type": "markdown",
   "id": "6b985282",
   "metadata": {},
   "source": [
    "<hr style=\"height:5px; width: 100%; border-radius: 20%; background-color:#E7046B ; border-color: #E7046B\">"
   ]
  }
 ],
 "metadata": {
  "kernelspec": {
   "display_name": "Python 3 (ipykernel)",
   "language": "python",
   "name": "python3"
  },
  "language_info": {
   "codemirror_mode": {
    "name": "ipython",
    "version": 3
   },
   "file_extension": ".py",
   "mimetype": "text/x-python",
   "name": "python",
   "nbconvert_exporter": "python",
   "pygments_lexer": "ipython3",
   "version": "3.9.7"
  }
 },
 "nbformat": 4,
 "nbformat_minor": 5
}
