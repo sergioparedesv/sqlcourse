{
 "cells": [
  {
   "cell_type": "markdown",
   "id": "b6bf7392",
   "metadata": {},
   "source": [
    "# Consultas con sentencias LIKE"
   ]
  },
  {
   "cell_type": "markdown",
   "id": "213ee2c0",
   "metadata": {},
   "source": [
    "La cláusula LIKE en SQL se utiliza para buscar valores que cumplan con un patrón en una columna de una tabla. Por ejemplo, si quieres encontrar todos los clientes que tienen \"an\" en su nombre, podrías usar la siguiente consulta:\n"
   ]
  },
  {
   "cell_type": "markdown",
   "id": "9af9282e",
   "metadata": {},
   "source": [
    "```sql\n",
    "SELECT * FROM clientes WHERE nombre LIKE '%an%';\n",
    "\n",
    "```"
   ]
  },
  {
   "cell_type": "markdown",
   "id": "7d89a4a1",
   "metadata": {},
   "source": [
    "La cláusula LIKE se utiliza a menudo junto con los comodines % y _. Los comodines son caracteres especiales que pueden representar cualquier carácter o conjunto de caracteres:\n",
    "\n",
    "> % representa cualquier número de caracteres (incluso 0), por lo que %an% coincide con cualquier valor que tenga \"an\" en cualquier lugar.\n",
    "> _ representa un único carácter, por lo que _an% coincide con cualquier valor que tenga \"an\" al final.\n",
    "\n",
    "Aquí hay algunos ejemplos de cómo usar la cláusula LIKE:"
   ]
  },
  {
   "cell_type": "markdown",
   "id": "68ddddd0",
   "metadata": {},
   "source": [
    "```sql\n",
    "SELECT * FROM clientes WHERE nombre LIKE '%an';  # Devuelve todos los clientes con \"an\" al final de su nombre\n",
    "SELECT * FROM clientes WHERE nombre LIKE 'Juan';  # Devuelve todos los clientes con el nombre \"Juan\"\n",
    "SELECT * FROM clientes WHERE nombre LIKE '_an';   # Devuelve todos los clientes con \"an\" al final de su nombre y un solo carácter antes de \"an\"\n",
    "\n",
    "```"
   ]
  },
  {
   "cell_type": "markdown",
   "id": "ef127f97",
   "metadata": {},
   "source": [
    "Espero que esto te haya ayudado a entender cómo funciona la cláusula LIKE en SQL. Si tienes alguna pregunta más, no dudes en preguntar."
   ]
  },
  {
   "cell_type": "markdown",
   "id": "f7a53386",
   "metadata": {},
   "source": [
    "  <a href=\"https://sqliteonline.com/\" target=\"_blank\"><button type=\"button\" class=\"btn btn-success\">\n",
    "  <a href=\"https://sqliteonline.com/\" target=\"_blank\" style=\"color: white; text-decoration:none;\">SQL online</a>\n",
    "</button></a>"
   ]
  },
  {
   "cell_type": "code",
   "execution_count": 1,
   "id": "ca14d1fa",
   "metadata": {},
   "outputs": [],
   "source": [
    "#Iniciar SQLite\n",
    "%load_ext sql\n",
    "%sql sqlite://"
   ]
  },
  {
   "cell_type": "markdown",
   "id": "0e458e0d",
   "metadata": {},
   "source": [
    "# Paso 1: creamos la base de datos"
   ]
  },
  {
   "cell_type": "code",
   "execution_count": 2,
   "id": "1a5df4a0",
   "metadata": {},
   "outputs": [
    {
     "name": "stdout",
     "output_type": "stream",
     "text": [
      " * sqlite://\n",
      "Done.\n",
      "1 rows affected.\n",
      "1 rows affected.\n",
      "1 rows affected.\n",
      "1 rows affected.\n",
      "1 rows affected.\n",
      "1 rows affected.\n",
      "1 rows affected.\n",
      "Done.\n",
      "1 rows affected.\n",
      "1 rows affected.\n"
     ]
    },
    {
     "data": {
      "text/plain": [
       "[]"
      ]
     },
     "execution_count": 2,
     "metadata": {},
     "output_type": "execute_result"
    }
   ],
   "source": [
    "%%sql\n",
    "CREATE TABLE exercise_logs\n",
    "    (id INTEGER PRIMARY KEY AUTOINCREMENT,\n",
    "    type TEXT,\n",
    "    minutes INTEGER, \n",
    "    calories INTEGER,\n",
    "    heart_rate INTEGER);\n",
    "\n",
    "INSERT INTO exercise_logs(type, minutes, calories, heart_rate) VALUES (\"biking\", 30, 100, 110);\n",
    "INSERT INTO exercise_logs(type, minutes, calories, heart_rate) VALUES (\"biking\", 10, 30, 105);\n",
    "INSERT INTO exercise_logs(type, minutes, calories, heart_rate) VALUES (\"dancing\", 15, 200, 120);\n",
    "INSERT INTO exercise_logs(type, minutes, calories, heart_rate) VALUES (\"tree climbing\", 30, 70, 90);\n",
    "INSERT INTO exercise_logs(type, minutes, calories, heart_rate) VALUES (\"tree climbing\", 25, 72, 80);\n",
    "INSERT INTO exercise_logs(type, minutes, calories, heart_rate) VALUES (\"rowing\", 30, 70, 90);\n",
    "INSERT INTO exercise_logs(type, minutes, calories, heart_rate) VALUES (\"hiking\", 60, 80, 85);\n",
    "\n",
    "\n",
    "CREATE TABLE drs_favorites\n",
    "    (id INTEGER PRIMARY KEY,\n",
    "    type TEXT,\n",
    "    reason TEXT);\n",
    "\n",
    "INSERT INTO drs_favorites(type, reason) VALUES (\"biking\", \"Improves endurance and flexibility.\");\n",
    "INSERT INTO drs_favorites(type, reason) VALUES (\"hiking\", \"Increases cardiovascular health.\");\n"
   ]
  },
  {
   "cell_type": "markdown",
   "id": "e4df29db",
   "metadata": {},
   "source": [
    "# Paso 2 Haremos una consulta que combinando las dos tablas\n",
    "\n",
    "En la consulta ademas de combinarlas, buscaremos cuál tiene la reason cardivascular."
   ]
  },
  {
   "cell_type": "code",
   "execution_count": 3,
   "id": "6826ac5e",
   "metadata": {},
   "outputs": [
    {
     "name": "stdout",
     "output_type": "stream",
     "text": [
      " * sqlite://\n",
      "Done.\n"
     ]
    },
    {
     "data": {
      "text/html": [
       "<table>\n",
       "    <tr>\n",
       "        <th>id</th>\n",
       "        <th>type</th>\n",
       "        <th>minutes</th>\n",
       "        <th>calories</th>\n",
       "        <th>heart_rate</th>\n",
       "    </tr>\n",
       "    <tr>\n",
       "        <td>7</td>\n",
       "        <td>hiking</td>\n",
       "        <td>60</td>\n",
       "        <td>80</td>\n",
       "        <td>85</td>\n",
       "    </tr>\n",
       "</table>"
      ],
      "text/plain": [
       "[(7, 'hiking', 60, 80, 85)]"
      ]
     },
     "execution_count": 3,
     "metadata": {},
     "output_type": "execute_result"
    }
   ],
   "source": [
    "%%sql\n",
    "SELECT * FROM exercise_logs WHERE type IN (\n",
    "    SELECT type FROM drs_favorites WHERE reason LIKE \"%cardiovascular%\");\n",
    "    "
   ]
  },
  {
   "cell_type": "markdown",
   "id": "c9a482af",
   "metadata": {},
   "source": [
    "Explicación:\n",
    "    \n",
    "Esta consulta utiliza la cláusula SELECT para seleccionar todas las columnas (*) de la tabla exercise_logs y la cláusula WHERE para filtrar los resultados en base a la columna type. La condición de filtrado es que el valor de la columna type esté en una lista de valores que se obtienen de la tabla drs_favorites.\n",
    "\n",
    "La lista de valores se obtiene mediante una subconsulta, que utiliza la cláusula SELECT para seleccionar la columna type de la tabla drs_favorites y la cláusula WHERE para filtrar los resultados en base a la columna reason. La condición de filtrado es que el valor de la columna reason contenga la cadena de caracteres \"cardiovascular\". Esto se hace utilizando la cláusula LIKE y el comodín %.\n",
    "\n",
    "En resumen, esta consulta selecciona todas las filas de la tabla exercise_logs cuya columna type corresponde a un tipo de ejercicio favorito de un doctor que mejore la salud cardiovascular.\n",
    "\n",
    "Espero que esto te haya ayudado a entender la consulta. Si tienes alguna pregunta más, no dudes en preguntar."
   ]
  }
 ],
 "metadata": {
  "kernelspec": {
   "display_name": "Python 3 (ipykernel)",
   "language": "python",
   "name": "python3"
  },
  "language_info": {
   "codemirror_mode": {
    "name": "ipython",
    "version": 3
   },
   "file_extension": ".py",
   "mimetype": "text/x-python",
   "name": "python",
   "nbconvert_exporter": "python",
   "pygments_lexer": "ipython3",
   "version": "3.9.7"
  }
 },
 "nbformat": 4,
 "nbformat_minor": 5
}
