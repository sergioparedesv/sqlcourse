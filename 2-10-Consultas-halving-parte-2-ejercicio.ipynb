{
 "cells": [
  {
   "cell_type": "markdown",
   "id": "a71f4351",
   "metadata": {},
   "source": [
    "# Ejercicios"
   ]
  },
  {
   "cell_type": "markdown",
   "id": "14563206",
   "metadata": {},
   "source": [
    "<div style=\"border-left: 5px solid #f0ad4e; padding:1.25rem; border-right: 1px solid #eee;  border-top: 1px solid #eee;  border-bottom: 1px solid #eee;\">\n",
    "\n",
    "<h5 id=\"ensure-correct-role-and-provide-a-label\">Nota Aclaratoria</h5>\n",
    "\n",
    "<p>Antes de cada consulta tenemos que colocar  <b>%%sql</b>, la herramienta de comandos magicos de SQL</p>\n",
    "\n",
    "</div>"
   ]
  },
  {
   "cell_type": "code",
   "execution_count": 1,
   "id": "26746eb4",
   "metadata": {},
   "outputs": [],
   "source": [
    "%load_ext sql\n",
    "%sql sqlite://"
   ]
  },
  {
   "cell_type": "code",
   "execution_count": 2,
   "id": "eaaf30c7",
   "metadata": {},
   "outputs": [
    {
     "name": "stdout",
     "output_type": "stream",
     "text": [
      " * sqlite://\n",
      "Done.\n",
      "8 rows affected.\n"
     ]
    },
    {
     "data": {
      "text/plain": [
       "[]"
      ]
     },
     "execution_count": 2,
     "metadata": {},
     "output_type": "execute_result"
    }
   ],
   "source": [
    "%%sql\n",
    "CREATE TABLE exercise_logs (\n",
    "id INTEGER PRIMARY KEY AUTOINCREMENT,\n",
    "type TEXT,\n",
    "minutes INTEGER,\n",
    "calories INTEGER,\n",
    "heart_rate INTEGER\n",
    ");\n",
    "\n",
    "INSERT INTO exercise_logs(type, minutes, calories, heart_rate) VALUES\n",
    "(\"biking\", 30, 115, 110),\n",
    "(\"biking\", 10, 45, 105),\n",
    "(\"dancing\", 15, 200, 120),\n",
    "(\"dancing\", 15, 165, 120),\n",
    "(\"tree climbing\", 30, 70, 90),\n",
    "(\"tree climbing\", 25, 72, 80),\n",
    "(\"rowing\", 30, 70, 90),\n",
    "(\"hiking\", 60, 80, 85);"
   ]
  },
  {
   "cell_type": "markdown",
   "id": "954bf897",
   "metadata": {},
   "source": [
    "Resuelve dos ejercicios en SQL que utilicen la sentencia ORDER BY, AVG y HAVING"
   ]
  },
  {
   "cell_type": "markdown",
   "id": "4e10b857",
   "metadata": {},
   "source": [
    "<hr style=\"height:5px; width: 100%; border-radius: 20%; background-color:#E7046B ; border-color: #E7046B\">"
   ]
  },
  {
   "cell_type": "markdown",
   "id": "7d614c06",
   "metadata": {},
   "source": [
    "# Ejercicio 1\n",
    "\n",
    "Utiliza la tabla exercise_logs y muestra el promedio de minutos de ejercicio para cada tipo de ejercicio, ordena los resultados de forma ascendente y filtra los resultados para mostrar solo aquellos que tienen un promedio de minutos mayor a 15. Utiliza la cláusula HAVING para filtrar los resultados."
   ]
  },
  {
   "cell_type": "code",
   "execution_count": 3,
   "id": "788a6bca",
   "metadata": {},
   "outputs": [
    {
     "name": "stdout",
     "output_type": "stream",
     "text": [
      " * sqlite://\n",
      "Done.\n"
     ]
    },
    {
     "data": {
      "text/html": [
       "<table>\n",
       "    <tr>\n",
       "        <th>type</th>\n",
       "        <th>avg_minutes</th>\n",
       "    </tr>\n",
       "    <tr>\n",
       "        <td>biking</td>\n",
       "        <td>20.0</td>\n",
       "    </tr>\n",
       "    <tr>\n",
       "        <td>tree climbing</td>\n",
       "        <td>27.5</td>\n",
       "    </tr>\n",
       "    <tr>\n",
       "        <td>rowing</td>\n",
       "        <td>30.0</td>\n",
       "    </tr>\n",
       "    <tr>\n",
       "        <td>hiking</td>\n",
       "        <td>60.0</td>\n",
       "    </tr>\n",
       "</table>"
      ],
      "text/plain": [
       "[('biking', 20.0), ('tree climbing', 27.5), ('rowing', 30.0), ('hiking', 60.0)]"
      ]
     },
     "execution_count": 3,
     "metadata": {},
     "output_type": "execute_result"
    }
   ],
   "source": [
    "%%sql\n",
    "SELECT type, AVG(minutes) AS avg_minutes\n",
    "FROM exercise_logs\n",
    "GROUP BY type\n",
    "HAVING avg_minutes > 15\n",
    "ORDER BY avg_minutes ASC;"
   ]
  },
  {
   "cell_type": "markdown",
   "id": "af7de0f6",
   "metadata": {},
   "source": [
    "# Ejercicio 2\n",
    "\n",
    "Utiliza la tabla exercise_logs y muestra el número de veces que se ha realizado cada tipo de ejercicio, junto con el promedio de calorías quemadas en cada ejercicio. Ordena los resultados de forma descendente por el promedio de calorías quemadas y filtra los resultados para mostrar solo aquellos que tienen un promedio de calorías quemadas mayor a 100. Utiliza la cláusula HAVING para filtrar los resultados."
   ]
  },
  {
   "cell_type": "code",
   "execution_count": 4,
   "id": "a3b70b96",
   "metadata": {},
   "outputs": [
    {
     "name": "stdout",
     "output_type": "stream",
     "text": [
      " * sqlite://\n",
      "Done.\n"
     ]
    },
    {
     "data": {
      "text/html": [
       "<table>\n",
       "    <tr>\n",
       "        <th>type</th>\n",
       "        <th>num_exercise</th>\n",
       "        <th>avg_calories</th>\n",
       "    </tr>\n",
       "    <tr>\n",
       "        <td>dancing</td>\n",
       "        <td>2</td>\n",
       "        <td>182.5</td>\n",
       "    </tr>\n",
       "</table>"
      ],
      "text/plain": [
       "[('dancing', 2, 182.5)]"
      ]
     },
     "execution_count": 4,
     "metadata": {},
     "output_type": "execute_result"
    }
   ],
   "source": [
    "%%sql\n",
    "SELECT type, COUNT(*) AS num_exercise, AVG(calories) AS avg_calories\n",
    "FROM exercise_logs\n",
    "GROUP BY type\n",
    "HAVING avg_calories > 100\n",
    "ORDER BY avg_calories DESC;"
   ]
  },
  {
   "cell_type": "markdown",
   "id": "db65301c",
   "metadata": {},
   "source": [
    "# Ejercicio 3\n",
    "\n",
    "Utilizando la tabla exercise_logs, muestra el promedio de calorías quemadas por tipo de ejercicio y solo incluye aquellos tipos de ejercicio que hayan sido realizados al menos tres veces. Utiliza la cláusula HAVING para filtrar los resultados y la cláusula AVG para obtener el promedio."
   ]
  },
  {
   "cell_type": "code",
   "execution_count": 5,
   "id": "87cadbd9",
   "metadata": {},
   "outputs": [
    {
     "name": "stdout",
     "output_type": "stream",
     "text": [
      " * sqlite://\n",
      "Done.\n"
     ]
    },
    {
     "data": {
      "text/html": [
       "<table>\n",
       "    <tr>\n",
       "        <th>type</th>\n",
       "        <th>num_times_performed</th>\n",
       "    </tr>\n",
       "    <tr>\n",
       "        <td>tree climbing</td>\n",
       "        <td>2</td>\n",
       "    </tr>\n",
       "    <tr>\n",
       "        <td>dancing</td>\n",
       "        <td>2</td>\n",
       "    </tr>\n",
       "    <tr>\n",
       "        <td>biking</td>\n",
       "        <td>2</td>\n",
       "    </tr>\n",
       "</table>"
      ],
      "text/plain": [
       "[('tree climbing', 2), ('dancing', 2), ('biking', 2)]"
      ]
     },
     "execution_count": 5,
     "metadata": {},
     "output_type": "execute_result"
    }
   ],
   "source": [
    "%%sql\n",
    "SELECT type, COUNT(*) AS num_times_performed FROM exercise_logs\n",
    "GROUP BY type\n",
    "HAVING num_times_performed >= 2\n",
    "ORDER BY num_times_performed DESC;"
   ]
  },
  {
   "cell_type": "markdown",
   "id": "69455d86",
   "metadata": {},
   "source": [
    "# Ejercicio 4\n",
    "\n",
    "Utilizando la tabla exercise_logs, muestra el número de veces que ha sido realizado cada tipo de ejercicio. Utiliza la cláusula HAVING para filtrar los resultados y la cláusula COUNT para contar el número de veces que ha sido realizado cada tipo de ejercicio."
   ]
  },
  {
   "cell_type": "code",
   "execution_count": 6,
   "id": "d00baa65",
   "metadata": {},
   "outputs": [
    {
     "name": "stdout",
     "output_type": "stream",
     "text": [
      " * sqlite://\n",
      "Done.\n"
     ]
    },
    {
     "data": {
      "text/html": [
       "<table>\n",
       "    <tr>\n",
       "        <th>type</th>\n",
       "        <th>avg_calories</th>\n",
       "    </tr>\n",
       "    <tr>\n",
       "        <td>tree climbing</td>\n",
       "        <td>71.0</td>\n",
       "    </tr>\n",
       "    <tr>\n",
       "        <td>biking</td>\n",
       "        <td>80.0</td>\n",
       "    </tr>\n",
       "    <tr>\n",
       "        <td>dancing</td>\n",
       "        <td>182.5</td>\n",
       "    </tr>\n",
       "</table>"
      ],
      "text/plain": [
       "[('tree climbing', 71.0), ('biking', 80.0), ('dancing', 182.5)]"
      ]
     },
     "execution_count": 6,
     "metadata": {},
     "output_type": "execute_result"
    }
   ],
   "source": [
    "%%sql\n",
    "SELECT type, AVG(calories) AS avg_calories FROM exercise_logs\n",
    "GROUP BY type\n",
    "HAVING COUNT(*) >= 2\n",
    "ORDER BY avg_calories ASC;"
   ]
  },
  {
   "cell_type": "markdown",
   "id": "6b985282",
   "metadata": {},
   "source": [
    "<hr style=\"height:5px; width: 100%; border-radius: 20%; background-color:#E7046B ; border-color: #E7046B\">"
   ]
  },
  {
   "cell_type": "code",
   "execution_count": 7,
   "id": "cc0222ba",
   "metadata": {},
   "outputs": [
    {
     "name": "stdout",
     "output_type": "stream",
     "text": [
      " * sqlite://\n",
      "Done.\n",
      "15 rows affected.\n"
     ]
    },
    {
     "data": {
      "text/plain": [
       "[]"
      ]
     },
     "execution_count": 7,
     "metadata": {},
     "output_type": "execute_result"
    }
   ],
   "source": [
    "%%sql\n",
    "CREATE TABLE books (\n",
    "id INTEGER PRIMARY KEY AUTOINCREMENT,\n",
    "author TEXT,\n",
    "title TEXT,\n",
    "words INTEGER\n",
    ");\n",
    "\n",
    "INSERT INTO books (author, title, words)\n",
    "VALUES (\"J.K. Rowling\", \"Harry Potter and the Philosopher's Stone\", 79944),\n",
    "(\"J.K. Rowling\", \"Harry Potter and the Chamber of Secrets\", 85141),\n",
    "(\"J.K. Rowling\", \"Harry Potter and the Prisoner of Azkaban\", 107253),\n",
    "(\"J.K. Rowling\", \"Harry Potter and the Goblet of Fire\", 190637),\n",
    "(\"J.K. Rowling\", \"Harry Potter and the Order of the Phoenix\", 257045),\n",
    "(\"J.K. Rowling\", \"Harry Potter and the Half-Blood Prince\", 168923),\n",
    "(\"J.K. Rowling\", \"Harry Potter and the Deathly Hallows\", 197651),\n",
    "(\"Stephenie Meyer\", \"Twilight\", 118501),\n",
    "(\"Stephenie Meyer\", \"New Moon\", 132807),\n",
    "(\"Stephenie Meyer\", \"Eclipse\", 147930),\n",
    "(\"Stephenie Meyer\", \"Breaking Dawn\", 192196),\n",
    "(\"J.R.R. Tolkien\", \"The Hobbit\", 95022),\n",
    "(\"J.R.R. Tolkien\", \"Fellowship of the Ring\", 177227),\n",
    "(\"J.R.R. Tolkien\", \"Two Towers\", 143436),\n",
    "(\"J.R.R. Tolkien\", \"Return of the King\", 134462);"
   ]
  },
  {
   "cell_type": "markdown",
   "id": "b8053b26",
   "metadata": {},
   "source": [
    "Vamos a hacer otros dos ejercicios con HAVING utilizando la tabla libros, siga los enunciados e intente crear las consultas."
   ]
  },
  {
   "cell_type": "markdown",
   "id": "7334fb3a",
   "metadata": {},
   "source": [
    "<hr style=\"height:5px; width: 100%; border-radius: 20%; background-color:#E7046B ; border-color: #E7046B\">"
   ]
  },
  {
   "cell_type": "markdown",
   "id": "859616b9",
   "metadata": {},
   "source": [
    "# Ejercicio 5\n",
    "\n",
    "Utiliza la tabla de libros y muestra el autor y la cantidad total de palabras que ha escrito cada uno. Utiliza la cláusula HAVING para filtrar los resultados y mostrar solo aquellos autores que han escrito más de 1 millón de palabras."
   ]
  },
  {
   "cell_type": "code",
   "execution_count": 9,
   "id": "f6b3c036",
   "metadata": {},
   "outputs": [
    {
     "name": "stdout",
     "output_type": "stream",
     "text": [
      " * sqlite://\n",
      "Done.\n"
     ]
    },
    {
     "data": {
      "text/html": [
       "<table>\n",
       "    <tr>\n",
       "        <th>author</th>\n",
       "        <th>total_words</th>\n",
       "    </tr>\n",
       "    <tr>\n",
       "        <td>J.K. Rowling</td>\n",
       "        <td>1086594</td>\n",
       "    </tr>\n",
       "</table>"
      ],
      "text/plain": [
       "[('J.K. Rowling', 1086594)]"
      ]
     },
     "execution_count": 9,
     "metadata": {},
     "output_type": "execute_result"
    }
   ],
   "source": [
    "%%sql\n",
    "SELECT author, SUM(words) AS total_words FROM books GROUP BY author HAVING total_words >= 1000000;"
   ]
  },
  {
   "cell_type": "markdown",
   "id": "64bd382b",
   "metadata": {},
   "source": [
    "# Ejercicio 6\n",
    "\n",
    "Utiliza la tabla books y muestra el nombre del autor y el promedio de palabras por libro para cada autor que haya escrito al menos un libro con un promedio de palabras mayor o igual a 150,000. Utiliza la cláusula HAVING para filtrar los resultados."
   ]
  },
  {
   "cell_type": "code",
   "execution_count": 10,
   "id": "fb958dfd",
   "metadata": {},
   "outputs": [
    {
     "name": "stdout",
     "output_type": "stream",
     "text": [
      " * sqlite://\n",
      "Done.\n"
     ]
    },
    {
     "data": {
      "text/html": [
       "<table>\n",
       "    <tr>\n",
       "        <th>author</th>\n",
       "        <th>avg_words</th>\n",
       "    </tr>\n",
       "    <tr>\n",
       "        <td>J.K. Rowling</td>\n",
       "        <td>155227.7142857143</td>\n",
       "    </tr>\n",
       "</table>"
      ],
      "text/plain": [
       "[('J.K. Rowling', 155227.7142857143)]"
      ]
     },
     "execution_count": 10,
     "metadata": {},
     "output_type": "execute_result"
    }
   ],
   "source": [
    "%%sql\n",
    "SELECT author, AVG(words) AS avg_words FROM books GROUP BY author HAVING avg_words >= 150000;"
   ]
  },
  {
   "cell_type": "markdown",
   "id": "0c38aedf",
   "metadata": {},
   "source": [
    "<hr style=\"height:5px; width: 100%; border-radius: 20%; background-color:#E7046B ; border-color: #E7046B\">"
   ]
  }
 ],
 "metadata": {
  "kernelspec": {
   "display_name": "Python 3 (ipykernel)",
   "language": "python",
   "name": "python3"
  },
  "language_info": {
   "codemirror_mode": {
    "name": "ipython",
    "version": 3
   },
   "file_extension": ".py",
   "mimetype": "text/x-python",
   "name": "python",
   "nbconvert_exporter": "python",
   "pygments_lexer": "ipython3",
   "version": "3.9.7"
  }
 },
 "nbformat": 4,
 "nbformat_minor": 5
}
