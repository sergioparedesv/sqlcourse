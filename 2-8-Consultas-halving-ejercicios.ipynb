{
 "cells": [
  {
   "cell_type": "markdown",
   "id": "a71f4351",
   "metadata": {},
   "source": [
    "# Ejercicios"
   ]
  },
  {
   "cell_type": "markdown",
   "id": "14563206",
   "metadata": {},
   "source": [
    "<div style=\"border-left: 5px solid #f0ad4e; padding:1.25rem; border-right: 1px solid #eee;  border-top: 1px solid #eee;  border-bottom: 1px solid #eee;\">\n",
    "\n",
    "<h5 id=\"ensure-correct-role-and-provide-a-label\">Nota Aclaratoria</h5>\n",
    "\n",
    "<p>Antes de cada consulta tenemos que colocar  <b>%%sql</b>, la herramienta de comandos magicos de SQL</p>\n",
    "\n",
    "</div>"
   ]
  },
  {
   "cell_type": "code",
   "execution_count": 1,
   "id": "26746eb4",
   "metadata": {},
   "outputs": [],
   "source": [
    "%load_ext sql\n",
    "%sql sqlite://"
   ]
  },
  {
   "cell_type": "code",
   "execution_count": 2,
   "id": "eaaf30c7",
   "metadata": {},
   "outputs": [
    {
     "name": "stdout",
     "output_type": "stream",
     "text": [
      " * sqlite://\n",
      "Done.\n",
      "10 rows affected.\n"
     ]
    },
    {
     "data": {
      "text/plain": [
       "[]"
      ]
     },
     "execution_count": 2,
     "metadata": {},
     "output_type": "execute_result"
    }
   ],
   "source": [
    "%%sql\n",
    "CREATE TABLE exercise_logs\n",
    "    (id INTEGER PRIMARY KEY AUTOINCREMENT,\n",
    "    type TEXT,\n",
    "    minutes INTEGER, \n",
    "    calories INTEGER,\n",
    "    heart_rate INTEGER,\n",
    "    intensity);\n",
    "\n",
    "INSERT INTO exercise_logs(type, minutes, calories, heart_rate, intensity) VALUES \n",
    "    ('biking', 30, 100, 110, 'high'), \n",
    "    ('walk', 60, 30, 100, 'low'), \n",
    "    ('dancing', 15, 200, 120, 'medium'),\n",
    "    ('run', 30, 250, 140, 'high'), \n",
    "    ('swim', 60, 300, 120,'medium'), \n",
    "    ('aerobics', 15, 200, 150, 'medium'),\n",
    "    ('yoga', 30, 100, 110, 'high'), \n",
    "    ('weight lifting', 60, 30, 100, 'low'), \n",
    "    ('boxing', 15, 200, 120, 'medium'),\n",
    "    ('pilates', 30, 250, 140, 'medium');"
   ]
  },
  {
   "cell_type": "markdown",
   "id": "954bf897",
   "metadata": {},
   "source": [
    "A continuación encontraras cinco ejercicios en qle utilizando la tablas **\"clientes y pedidos\"** utilizando las funciones **IN**"
   ]
  },
  {
   "cell_type": "markdown",
   "id": "4e10b857",
   "metadata": {},
   "source": [
    "<hr style=\"height:5px; width: 100%; border-radius: 20%; background-color:#E7046B ; border-color: #E7046B\">"
   ]
  },
  {
   "cell_type": "markdown",
   "id": "7d614c06",
   "metadata": {},
   "source": [
    "# Ejercicio 1\n",
    "\n",
    "Encuentra todos los tipos de ejercicio que han quemado más de 200 calorías y han durado 30 minutos o menos:"
   ]
  },
  {
   "cell_type": "code",
   "execution_count": 5,
   "id": "788a6bca",
   "metadata": {},
   "outputs": [
    {
     "name": "stdout",
     "output_type": "stream",
     "text": [
      " * sqlite://\n",
      "Done.\n"
     ]
    },
    {
     "data": {
      "text/html": [
       "<table>\n",
       "    <tr>\n",
       "        <th>type</th>\n",
       "        <th>calories</th>\n",
       "        <th>minutes</th>\n",
       "    </tr>\n",
       "    <tr>\n",
       "        <td>pilates</td>\n",
       "        <td>250</td>\n",
       "        <td>30</td>\n",
       "    </tr>\n",
       "    <tr>\n",
       "        <td>run</td>\n",
       "        <td>250</td>\n",
       "        <td>30</td>\n",
       "    </tr>\n",
       "</table>"
      ],
      "text/plain": [
       "[('pilates', 250, 30), ('run', 250, 30)]"
      ]
     },
     "execution_count": 5,
     "metadata": {},
     "output_type": "execute_result"
    }
   ],
   "source": [
    "%%sql\n",
    "SELECT type, calories, minutes\n",
    "FROM exercise_logs\n",
    "WHERE minutes <= 30\n",
    "GROUP BY type\n",
    "HAVING SUM(calories) > 200;"
   ]
  },
  {
   "cell_type": "markdown",
   "id": "af7de0f6",
   "metadata": {},
   "source": [
    "# Ejercicio 2\n",
    "\n",
    "Encuentra el promedio de calorías quemadas por todos los ejercicios de intensidad alta:"
   ]
  },
  {
   "cell_type": "code",
   "execution_count": 6,
   "id": "a3b70b96",
   "metadata": {},
   "outputs": [
    {
     "name": "stdout",
     "output_type": "stream",
     "text": [
      " * sqlite://\n",
      "Done.\n"
     ]
    },
    {
     "data": {
      "text/html": [
       "<table>\n",
       "    <tr>\n",
       "        <th>AVG(calories)</th>\n",
       "    </tr>\n",
       "    <tr>\n",
       "        <td>150.0</td>\n",
       "    </tr>\n",
       "</table>"
      ],
      "text/plain": [
       "[(150.0,)]"
      ]
     },
     "execution_count": 6,
     "metadata": {},
     "output_type": "execute_result"
    }
   ],
   "source": [
    "%%sql\n",
    "SELECT AVG(calories)\n",
    "FROM exercise_logs\n",
    "WHERE intensity = 'high';"
   ]
  },
  {
   "cell_type": "markdown",
   "id": "db65301c",
   "metadata": {},
   "source": [
    "# Ejercicio 3\n",
    "\n",
    "Encuentra todos los tipos de ejercicio que han durado al menos 30 minutos y han tenido una tasa cardiaca promedio de al menos 120:"
   ]
  },
  {
   "cell_type": "code",
   "execution_count": 8,
   "id": "87cadbd9",
   "metadata": {},
   "outputs": [
    {
     "name": "stdout",
     "output_type": "stream",
     "text": [
      " * sqlite://\n",
      "Done.\n"
     ]
    },
    {
     "data": {
      "text/html": [
       "<table>\n",
       "    <tr>\n",
       "        <th>type</th>\n",
       "        <th>heart_rate</th>\n",
       "    </tr>\n",
       "    <tr>\n",
       "        <td>pilates</td>\n",
       "        <td>140</td>\n",
       "    </tr>\n",
       "    <tr>\n",
       "        <td>run</td>\n",
       "        <td>140</td>\n",
       "    </tr>\n",
       "    <tr>\n",
       "        <td>swim</td>\n",
       "        <td>120</td>\n",
       "    </tr>\n",
       "</table>"
      ],
      "text/plain": [
       "[('pilates', 140), ('run', 140), ('swim', 120)]"
      ]
     },
     "execution_count": 8,
     "metadata": {},
     "output_type": "execute_result"
    }
   ],
   "source": [
    "%%sql\n",
    "SELECT type, heart_rate\n",
    "FROM exercise_logs\n",
    "WHERE minutes >= 30\n",
    "GROUP BY type\n",
    "HAVING AVG(heart_rate) >= 120;"
   ]
  },
  {
   "cell_type": "markdown",
   "id": "69455d86",
   "metadata": {},
   "source": [
    "# Ejercicio 4\n",
    "\n",
    "Encuentra todos los tipos de ejercicio que empiezan con la letra 'b':"
   ]
  },
  {
   "cell_type": "code",
   "execution_count": 9,
   "id": "d00baa65",
   "metadata": {},
   "outputs": [
    {
     "name": "stdout",
     "output_type": "stream",
     "text": [
      " * sqlite://\n",
      "Done.\n"
     ]
    },
    {
     "data": {
      "text/html": [
       "<table>\n",
       "    <tr>\n",
       "        <th>type</th>\n",
       "    </tr>\n",
       "    <tr>\n",
       "        <td>biking</td>\n",
       "    </tr>\n",
       "    <tr>\n",
       "        <td>boxing</td>\n",
       "    </tr>\n",
       "</table>"
      ],
      "text/plain": [
       "[('biking',), ('boxing',)]"
      ]
     },
     "execution_count": 9,
     "metadata": {},
     "output_type": "execute_result"
    }
   ],
   "source": [
    "%%sql\n",
    "SELECT type\n",
    "FROM exercise_logs\n",
    "WHERE type LIKE 'b%';"
   ]
  },
  {
   "cell_type": "markdown",
   "id": "e6f0fb4a",
   "metadata": {},
   "source": [
    "# Ejercicio 5\n",
    "\n",
    "Encuentra todos los tipos de ejercicio que no son 'biking' o 'run':"
   ]
  },
  {
   "cell_type": "code",
   "execution_count": 10,
   "id": "200cff10",
   "metadata": {},
   "outputs": [
    {
     "name": "stdout",
     "output_type": "stream",
     "text": [
      " * sqlite://\n",
      "Done.\n"
     ]
    },
    {
     "data": {
      "text/html": [
       "<table>\n",
       "    <tr>\n",
       "        <th>type</th>\n",
       "    </tr>\n",
       "    <tr>\n",
       "        <td>walk</td>\n",
       "    </tr>\n",
       "    <tr>\n",
       "        <td>dancing</td>\n",
       "    </tr>\n",
       "    <tr>\n",
       "        <td>swim</td>\n",
       "    </tr>\n",
       "    <tr>\n",
       "        <td>aerobics</td>\n",
       "    </tr>\n",
       "    <tr>\n",
       "        <td>yoga</td>\n",
       "    </tr>\n",
       "    <tr>\n",
       "        <td>weight lifting</td>\n",
       "    </tr>\n",
       "    <tr>\n",
       "        <td>boxing</td>\n",
       "    </tr>\n",
       "    <tr>\n",
       "        <td>pilates</td>\n",
       "    </tr>\n",
       "</table>"
      ],
      "text/plain": [
       "[('walk',),\n",
       " ('dancing',),\n",
       " ('swim',),\n",
       " ('aerobics',),\n",
       " ('yoga',),\n",
       " ('weight lifting',),\n",
       " ('boxing',),\n",
       " ('pilates',)]"
      ]
     },
     "execution_count": 10,
     "metadata": {},
     "output_type": "execute_result"
    }
   ],
   "source": [
    "%%sql\n",
    "SELECT type\n",
    "FROM exercise_logs\n",
    "WHERE type NOT IN ('biking', 'run');\n"
   ]
  },
  {
   "cell_type": "markdown",
   "id": "6b985282",
   "metadata": {},
   "source": [
    "<hr style=\"height:5px; width: 100%; border-radius: 20%; background-color:#E7046B ; border-color: #E7046B\">"
   ]
  }
 ],
 "metadata": {
  "kernelspec": {
   "display_name": "Python 3 (ipykernel)",
   "language": "python",
   "name": "python3"
  },
  "language_info": {
   "codemirror_mode": {
    "name": "ipython",
    "version": 3
   },
   "file_extension": ".py",
   "mimetype": "text/x-python",
   "name": "python",
   "nbconvert_exporter": "python",
   "pygments_lexer": "ipython3",
   "version": "3.9.7"
  }
 },
 "nbformat": 4,
 "nbformat_minor": 5
}
