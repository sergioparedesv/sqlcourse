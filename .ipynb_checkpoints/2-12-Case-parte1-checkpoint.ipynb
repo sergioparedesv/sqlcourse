{
 "cells": [
  {
   "cell_type": "markdown",
   "id": "d70fe9aa",
   "metadata": {},
   "source": [
    "# Consultas con Case"
   ]
  },
  {
   "cell_type": "markdown",
   "id": "c28957d1",
   "metadata": {},
   "source": [
    "La sentencia CASE en SQL es utilizada para crear una estructura de decisión dentro de una consulta. Es similar a una estructura de control de flujo como IF-ELSE en un lenguaje de programación. La sintaxis básica de la sentencia CASE es:\n"
   ]
  },
  {
   "cell_type": "markdown",
   "id": "24dfd78a",
   "metadata": {},
   "source": [
    "```sql\n",
    "SELECT columna,\n",
    "    CASE\n",
    "        WHEN condición THEN resultado\n",
    "        WHEN condición THEN resultado\n",
    "    ELSE resultado\n",
    "   END\n",
    "FROM example;\n",
    "```"
   ]
  },
  {
   "cell_type": "markdown",
   "id": "3bc4659e",
   "metadata": {},
   "source": [
    "Utilizando la tabla \"recetas\" como ejemplo, podríamos crear una consulta para clasificar las recetas según su nivel de calorías utilizando la sentencia CASE:"
   ]
  },
  {
   "cell_type": "markdown",
   "id": "6b92ae4e",
   "metadata": {},
   "source": [
    "```sql\n",
    "SELECT nombre,\n",
    "       CASE \n",
    "           WHEN calorias <= 400 THEN 'Bajo en calorías'\n",
    "           WHEN calorias <= 600 THEN 'Moderado en calorías'\n",
    "           ELSE 'Alto en calorías'\n",
    "       END AS clasificacion_calorias\n",
    "FROM recetas;\n",
    "\n",
    "```\n"
   ]
  },
  {
   "cell_type": "markdown",
   "id": "83484eb1",
   "metadata": {},
   "source": [
    "En este ejemplo, la sentencia CASE evalúa el campo \"calorias\" para cada receta en la tabla \"recetas\". Si el valor de \"calorias\" es menor o igual a 400, se devuelve \"Bajo en calorías\", si el valor es menor o igual a 600 se devuelve \"Moderado en calorías\" y si no se cumple ninguna de las condiciones anteriores se devuelve \"Alto en calorías\". El resultado de esta consulta es una tabla con dos columnas, \"nombre\" y \"clasificacion_calorias\", que indica el nombre de la receta y su clasificación de calorías respectivamente."
   ]
  },
  {
   "cell_type": "code",
   "execution_count": 1,
   "id": "32e28433",
   "metadata": {},
   "outputs": [],
   "source": [
    "#Iniciar SQLite\n",
    "%load_ext sql\n",
    "%sql sqlite://"
   ]
  },
  {
   "cell_type": "code",
   "execution_count": 8,
   "id": "626ab438",
   "metadata": {},
   "outputs": [
    {
     "name": "stdout",
     "output_type": "stream",
     "text": [
      " * sqlite://\n",
      "(sqlite3.OperationalError) table recetas already exists\n",
      "[SQL: CREATE TABLE recetas (\n",
      "    id INTEGER PRIMARY KEY AUTOINCREMENT,\n",
      "    nombre VARCHAR(255),\n",
      "    precio FLOAT,\n",
      "    calorias INT,\n",
      "    proteina FLOAT,\n",
      "    carbohidratos FLOAT,\n",
      "    grasas FLOAT,\n",
      "    ingredientes VARCHAR(255)\n",
      ");]\n",
      "(Background on this error at: https://sqlalche.me/e/14/e3q8)\n"
     ]
    }
   ],
   "source": [
    "%%sql\n",
    "CREATE TABLE recetas (\n",
    "    id INTEGER PRIMARY KEY AUTOINCREMENT,\n",
    "    nombre VARCHAR(255),\n",
    "    precio FLOAT,\n",
    "    calorias INT,\n",
    "    proteina FLOAT,\n",
    "    carbohidratos FLOAT,\n",
    "    grasas FLOAT,\n",
    "    ingredientes VARCHAR(255)\n",
    ");\n",
    "\n",
    "INSERT INTO recetas (nombre, precio, calorias, proteina, carbohidratos, grasas, ingredientes) VALUES\n",
    "(\"Pollo a la parrilla\", 12.5, 350, 30, 15, 12, \"pollo, sal, pimienta, aceite de oliva\"),\n",
    "(\"Arroz frito\", 8.5, 400, 20, 50, 15, \"Arroz, huevos, cebolla, ajo, aceite\"),\n",
    "(\"Spaghetti Bolognesa\", 9.0, 500, 25, 60, 20, \"Espagueti, carne molida, salsa de tomate, queso rallado, ajo\"),\n",
    "(\"Paella\", 15.0, 650, 30, 70, 25, \"Arroz, mariscos, pollo, chorizo, pimiento, cebolla, ajo\"),\n",
    "(\"Taco al pastor\", 2.5, 200, 10, 15, 5, \"tortillas, pastor, cebolla, piña, cilantro, limon\"),\n",
    "(\"Churros\", 5.0, 400, 5, 60, 20, \"Agua, harina, huevos, azúcar, aceite, sal\"),\n",
    "(\"Enchiladas\", 7.5, 450, 20, 40, 15, \"tortillas, pollo, queso, chile, crema, cebolla, cilantro\"),\n",
    "(\"Lasagna\", 10.0, 550, 30, 50, 25, \"lasaña, carne molida, salsa de tomate, queso ricotta, queso rallado, ajo, orégano\"),\n",
    "(\"Sushi\", 20.0, 250, 20, 30, 10, \"Arroz de sushi, salmón, aguacate, pepino\"),\n",
    "(\"Ramen\", 15.0, 400, 25, 50, 20, \"Fideos ramen, caldo, pollo, cebolla, zanahoria, cebolla verde, chile\");"
   ]
  },
  {
   "cell_type": "code",
   "execution_count": 9,
   "id": "eb7dc734",
   "metadata": {},
   "outputs": [
    {
     "name": "stdout",
     "output_type": "stream",
     "text": [
      " * sqlite://\n",
      "Done.\n"
     ]
    },
    {
     "data": {
      "text/html": [
       "<table>\n",
       "    <tr>\n",
       "        <th>id</th>\n",
       "        <th>nombre</th>\n",
       "        <th>precio</th>\n",
       "        <th>calorias</th>\n",
       "        <th>proteina</th>\n",
       "        <th>carbohidratos</th>\n",
       "        <th>grasas</th>\n",
       "        <th>ingredientes</th>\n",
       "    </tr>\n",
       "    <tr>\n",
       "        <td>1</td>\n",
       "        <td>Pollo a la parrilla</td>\n",
       "        <td>12.5</td>\n",
       "        <td>350</td>\n",
       "        <td>30.0</td>\n",
       "        <td>15.0</td>\n",
       "        <td>12.0</td>\n",
       "        <td>pollo, sal, pimienta, aceite de oliva</td>\n",
       "    </tr>\n",
       "    <tr>\n",
       "        <td>2</td>\n",
       "        <td>Arroz frito</td>\n",
       "        <td>8.5</td>\n",
       "        <td>400</td>\n",
       "        <td>20.0</td>\n",
       "        <td>50.0</td>\n",
       "        <td>15.0</td>\n",
       "        <td>Arroz, huevos, cebolla, ajo, aceite</td>\n",
       "    </tr>\n",
       "    <tr>\n",
       "        <td>3</td>\n",
       "        <td>Spaghetti Bolognesa</td>\n",
       "        <td>9.0</td>\n",
       "        <td>500</td>\n",
       "        <td>25.0</td>\n",
       "        <td>60.0</td>\n",
       "        <td>20.0</td>\n",
       "        <td>Espagueti, carne molida, salsa de tomate, queso rallado, ajo</td>\n",
       "    </tr>\n",
       "    <tr>\n",
       "        <td>4</td>\n",
       "        <td>Paella</td>\n",
       "        <td>15.0</td>\n",
       "        <td>600</td>\n",
       "        <td>30.0</td>\n",
       "        <td>70.0</td>\n",
       "        <td>25.0</td>\n",
       "        <td>Arroz, mariscos, pollo, chorizo, pimiento, cebolla, ajo</td>\n",
       "    </tr>\n",
       "    <tr>\n",
       "        <td>5</td>\n",
       "        <td>Taco al pastor</td>\n",
       "        <td>2.5</td>\n",
       "        <td>200</td>\n",
       "        <td>10.0</td>\n",
       "        <td>15.0</td>\n",
       "        <td>5.0</td>\n",
       "        <td>tortillas, pastor, cebolla, piña, cilantro, limon</td>\n",
       "    </tr>\n",
       "    <tr>\n",
       "        <td>6</td>\n",
       "        <td>Churros</td>\n",
       "        <td>5.0</td>\n",
       "        <td>400</td>\n",
       "        <td>5.0</td>\n",
       "        <td>60.0</td>\n",
       "        <td>20.0</td>\n",
       "        <td>Agua, harina, huevos, azúcar, aceite, sal</td>\n",
       "    </tr>\n",
       "    <tr>\n",
       "        <td>7</td>\n",
       "        <td>Enchiladas</td>\n",
       "        <td>7.5</td>\n",
       "        <td>450</td>\n",
       "        <td>20.0</td>\n",
       "        <td>40.0</td>\n",
       "        <td>15.0</td>\n",
       "        <td>tortillas, pollo, queso, chile, crema, cebolla, cilantro</td>\n",
       "    </tr>\n",
       "    <tr>\n",
       "        <td>8</td>\n",
       "        <td>Lasagna</td>\n",
       "        <td>10.0</td>\n",
       "        <td>550</td>\n",
       "        <td>30.0</td>\n",
       "        <td>50.0</td>\n",
       "        <td>25.0</td>\n",
       "        <td>lasaña, carne molida, salsa de tomate, queso ricotta, queso rallado, ajo, orégano</td>\n",
       "    </tr>\n",
       "    <tr>\n",
       "        <td>9</td>\n",
       "        <td>Sushi</td>\n",
       "        <td>20.0</td>\n",
       "        <td>250</td>\n",
       "        <td>20.0</td>\n",
       "        <td>30.0</td>\n",
       "        <td>10.0</td>\n",
       "        <td>Arroz de sushi, salmón, aguacate, pepino</td>\n",
       "    </tr>\n",
       "    <tr>\n",
       "        <td>10</td>\n",
       "        <td>Ramen</td>\n",
       "        <td>15.0</td>\n",
       "        <td>400</td>\n",
       "        <td>25.0</td>\n",
       "        <td>50.0</td>\n",
       "        <td>20.0</td>\n",
       "        <td>Fideos ramen, caldo, pollo, cebolla, zanahoria, cebolla verde, chile</td>\n",
       "    </tr>\n",
       "</table>"
      ],
      "text/plain": [
       "[(1, 'Pollo a la parrilla', 12.5, 350, 30.0, 15.0, 12.0, 'pollo, sal, pimienta, aceite de oliva'),\n",
       " (2, 'Arroz frito', 8.5, 400, 20.0, 50.0, 15.0, 'Arroz, huevos, cebolla, ajo, aceite'),\n",
       " (3, 'Spaghetti Bolognesa', 9.0, 500, 25.0, 60.0, 20.0, 'Espagueti, carne molida, salsa de tomate, queso rallado, ajo'),\n",
       " (4, 'Paella', 15.0, 600, 30.0, 70.0, 25.0, 'Arroz, mariscos, pollo, chorizo, pimiento, cebolla, ajo'),\n",
       " (5, 'Taco al pastor', 2.5, 200, 10.0, 15.0, 5.0, 'tortillas, pastor, cebolla, piña, cilantro, limon'),\n",
       " (6, 'Churros', 5.0, 400, 5.0, 60.0, 20.0, 'Agua, harina, huevos, azúcar, aceite, sal'),\n",
       " (7, 'Enchiladas', 7.5, 450, 20.0, 40.0, 15.0, 'tortillas, pollo, queso, chile, crema, cebolla, cilantro'),\n",
       " (8, 'Lasagna', 10.0, 550, 30.0, 50.0, 25.0, 'lasaña, carne molida, salsa de tomate, queso ricotta, queso rallado, ajo, orégano'),\n",
       " (9, 'Sushi', 20.0, 250, 20.0, 30.0, 10.0, 'Arroz de sushi, salmón, aguacate, pepino'),\n",
       " (10, 'Ramen', 15.0, 400, 25.0, 50.0, 20.0, 'Fideos ramen, caldo, pollo, cebolla, zanahoria, cebolla verde, chile')]"
      ]
     },
     "execution_count": 9,
     "metadata": {},
     "output_type": "execute_result"
    }
   ],
   "source": [
    "%%sql\n",
    "SELECT * FROM recetas;"
   ]
  },
  {
   "cell_type": "markdown",
   "id": "bd90914b",
   "metadata": {},
   "source": [
    "# Actividad 1\n",
    "\n",
    "1.  Utilizando la tabla \"recetas\", escriba una consulta SQL que clasifique las recetas en tres categorías según su nivel de calorías: \"Bajo en calorías\", \"Moderado en calorías\" y \"Alto en calorías\".\n",
    "2.  Utilice la sentencia CASE para evaluar el campo \"calorias\" para cada receta.\n",
    "3.  Utilice la siguiente lógica para clasificar las recetas: si el valor de \"calorias\" es menor o igual a 400, clasifíquelo como \"Bajo en calorías\". Si el valor de \"calorias\" es menor o igual a 600, clasifíquelo como \"Moderado en calorías\". Si no se cumple ninguna de las condiciones anteriores, clasifíquelo como \"Alto en calorías\".\n",
    "4.  El resultado debe ser una tabla con dos columnas, \"nombre\" y \"clasificacion_calorias\", que indica el nombre de la receta y su clasificación de calorías respectivamente.\n",
    "5.  Ejecute su consulta y verifique el resultado obtenido.\n",
    "\n",
    "Este ejercicio les enseñará a los estudiantes cómo utilizar la sentencia CASE para clasificar los datos en una tabla. También les ayudará a aprender a utilizar la lógica y la estructura de control de flujo en SQL para evaluar condiciones y asignar valores a los resultados. Además, les enseñará cómo utilizar las columnas alias para renombrar las columnas en el resultado de la consulta."
   ]
  },
  {
   "cell_type": "code",
   "execution_count": 10,
   "id": "2237eb20",
   "metadata": {},
   "outputs": [
    {
     "name": "stdout",
     "output_type": "stream",
     "text": [
      " * sqlite://\n",
      "Done.\n"
     ]
    },
    {
     "data": {
      "text/html": [
       "<table>\n",
       "    <tr>\n",
       "        <th>nombre</th>\n",
       "        <th>clasificacion_calorias</th>\n",
       "    </tr>\n",
       "    <tr>\n",
       "        <td>Pollo a la parrilla</td>\n",
       "        <td>Bajo en calorías</td>\n",
       "    </tr>\n",
       "    <tr>\n",
       "        <td>Arroz frito</td>\n",
       "        <td>Bajo en calorías</td>\n",
       "    </tr>\n",
       "    <tr>\n",
       "        <td>Spaghetti Bolognesa</td>\n",
       "        <td>Moderado en calorías</td>\n",
       "    </tr>\n",
       "    <tr>\n",
       "        <td>Paella</td>\n",
       "        <td>Moderado en calorías</td>\n",
       "    </tr>\n",
       "    <tr>\n",
       "        <td>Taco al pastor</td>\n",
       "        <td>Bajo en calorías</td>\n",
       "    </tr>\n",
       "    <tr>\n",
       "        <td>Churros</td>\n",
       "        <td>Bajo en calorías</td>\n",
       "    </tr>\n",
       "    <tr>\n",
       "        <td>Enchiladas</td>\n",
       "        <td>Moderado en calorías</td>\n",
       "    </tr>\n",
       "    <tr>\n",
       "        <td>Lasagna</td>\n",
       "        <td>Moderado en calorías</td>\n",
       "    </tr>\n",
       "    <tr>\n",
       "        <td>Sushi</td>\n",
       "        <td>Bajo en calorías</td>\n",
       "    </tr>\n",
       "    <tr>\n",
       "        <td>Ramen</td>\n",
       "        <td>Bajo en calorías</td>\n",
       "    </tr>\n",
       "</table>"
      ],
      "text/plain": [
       "[('Pollo a la parrilla', 'Bajo en calorías'),\n",
       " ('Arroz frito', 'Bajo en calorías'),\n",
       " ('Spaghetti Bolognesa', 'Moderado en calorías'),\n",
       " ('Paella', 'Moderado en calorías'),\n",
       " ('Taco al pastor', 'Bajo en calorías'),\n",
       " ('Churros', 'Bajo en calorías'),\n",
       " ('Enchiladas', 'Moderado en calorías'),\n",
       " ('Lasagna', 'Moderado en calorías'),\n",
       " ('Sushi', 'Bajo en calorías'),\n",
       " ('Ramen', 'Bajo en calorías')]"
      ]
     },
     "execution_count": 10,
     "metadata": {},
     "output_type": "execute_result"
    }
   ],
   "source": [
    "%%sql\n",
    "SELECT nombre,\n",
    "       CASE \n",
    "           WHEN calorias <= 400 THEN 'Bajo en calorías'\n",
    "           WHEN calorias <= 600 THEN 'Moderado en calorías'\n",
    "           ELSE 'Alto en calorías'\n",
    "       END AS clasificacion_calorias\n",
    "FROM recetas;"
   ]
  },
  {
   "cell_type": "markdown",
   "id": "38f11c96",
   "metadata": {},
   "source": [
    "<hr style=\"height:5px; width: 100%; border-radius: 20%; background-color:#E7046B ; border-color: #E7046B\">"
   ]
  },
  {
   "cell_type": "markdown",
   "id": "33fe5b1e",
   "metadata": {},
   "source": [
    "# Ejercicio 1.\n",
    "\n",
    "Ejercicio para los estudiantes:\n",
    "\n",
    "1.  Utilizando la tabla \"recetas\", escriba una consulta SQL que clasifique las recetas según su precio y su nivel de calorías.\n",
    "2.  Utilice la sentencia CASE para clasificar las recetas según su precio. Utilice la siguiente lógica para clasificar las recetas: si el valor de \"precio\" es menor o igual a 10, clasifíquelo como \"Barato\". Si no se cumple esta condición, clasifíquelo como \"Caro\"\n",
    "3.  Utilice otra sentencia CASE para clasificar las recetas según su nivel de calorías. Utilice la siguiente lógica para clasificar las recetas: si el valor de \"calorias\" es menor o igual a 400, clasifíquelo como \"Bajo en calorías\". Si no se cumple esta condición, clasifíquelo como \"Alto en calorías\"\n",
    "4.  El resultado debe ser una tabla con tres columnas, \"nombre\", \"precios\n",
    "\n",
    "<div style=\"border-left: 5px solid #04E720; padding:1.25rem; border-right: 1px solid #eee;  border-top: 1px solid #eee;  border-bottom: 1px solid #eee;\">\n",
    "\n",
    "<h5 id=\"ensure-correct-role-and-provide-a-label\">Pista en el SELECT puedes colocar dos CASE diferentes separandolos por comas. </h5>\n",
    "\n",
    "</div>"
   ]
  },
  {
   "cell_type": "code",
   "execution_count": 21,
   "id": "78d2b315",
   "metadata": {},
   "outputs": [
    {
     "name": "stdout",
     "output_type": "stream",
     "text": [
      " * sqlite://\n",
      "Done.\n"
     ]
    },
    {
     "data": {
      "text/html": [
       "<table>\n",
       "    <tr>\n",
       "        <th>nombre</th>\n",
       "        <th>precios</th>\n",
       "        <th>clasificacion_calorias</th>\n",
       "    </tr>\n",
       "    <tr>\n",
       "        <td>Pollo a la parrilla</td>\n",
       "        <td>Caro</td>\n",
       "        <td>Bajo en calorías</td>\n",
       "    </tr>\n",
       "    <tr>\n",
       "        <td>Arroz frito</td>\n",
       "        <td>Barato</td>\n",
       "        <td>Bajo en calorías</td>\n",
       "    </tr>\n",
       "    <tr>\n",
       "        <td>Spaghetti Bolognesa</td>\n",
       "        <td>Barato</td>\n",
       "        <td>Alto en calorías</td>\n",
       "    </tr>\n",
       "    <tr>\n",
       "        <td>Paella</td>\n",
       "        <td>Caro</td>\n",
       "        <td>Alto en calorías</td>\n",
       "    </tr>\n",
       "    <tr>\n",
       "        <td>Taco al pastor</td>\n",
       "        <td>Barato</td>\n",
       "        <td>Bajo en calorías</td>\n",
       "    </tr>\n",
       "    <tr>\n",
       "        <td>Churros</td>\n",
       "        <td>Barato</td>\n",
       "        <td>Bajo en calorías</td>\n",
       "    </tr>\n",
       "    <tr>\n",
       "        <td>Enchiladas</td>\n",
       "        <td>Barato</td>\n",
       "        <td>Alto en calorías</td>\n",
       "    </tr>\n",
       "    <tr>\n",
       "        <td>Lasagna</td>\n",
       "        <td>Barato</td>\n",
       "        <td>Alto en calorías</td>\n",
       "    </tr>\n",
       "    <tr>\n",
       "        <td>Sushi</td>\n",
       "        <td>Caro</td>\n",
       "        <td>Bajo en calorías</td>\n",
       "    </tr>\n",
       "    <tr>\n",
       "        <td>Ramen</td>\n",
       "        <td>Caro</td>\n",
       "        <td>Bajo en calorías</td>\n",
       "    </tr>\n",
       "</table>"
      ],
      "text/plain": [
       "[('Pollo a la parrilla', 'Caro', 'Bajo en calorías'),\n",
       " ('Arroz frito', 'Barato', 'Bajo en calorías'),\n",
       " ('Spaghetti Bolognesa', 'Barato', 'Alto en calorías'),\n",
       " ('Paella', 'Caro', 'Alto en calorías'),\n",
       " ('Taco al pastor', 'Barato', 'Bajo en calorías'),\n",
       " ('Churros', 'Barato', 'Bajo en calorías'),\n",
       " ('Enchiladas', 'Barato', 'Alto en calorías'),\n",
       " ('Lasagna', 'Barato', 'Alto en calorías'),\n",
       " ('Sushi', 'Caro', 'Bajo en calorías'),\n",
       " ('Ramen', 'Caro', 'Bajo en calorías')]"
      ]
     },
     "execution_count": 21,
     "metadata": {},
     "output_type": "execute_result"
    }
   ],
   "source": [
    "%%sql\n",
    "SELECT nombre,\n",
    "       CASE \n",
    "           WHEN precio <= 10 THEN 'Barato'\n",
    "           ELSE 'Caro'\n",
    "       END AS precios,\n",
    "       CASE \n",
    "           WHEN calorias <= 400 THEN 'Bajo en calorías'\n",
    "           ELSE 'Alto en calorías'\n",
    "       END AS clasificacion_calorias\n",
    "FROM recetas;"
   ]
  },
  {
   "cell_type": "markdown",
   "id": "9bfd170f",
   "metadata": {},
   "source": [
    "<hr style=\"height:5px; width: 100%; border-radius: 20%; background-color:#E7046B ; border-color: #E7046B\">"
   ]
  }
 ],
 "metadata": {
  "kernelspec": {
   "display_name": "Python 3 (ipykernel)",
   "language": "python",
   "name": "python3"
  },
  "language_info": {
   "codemirror_mode": {
    "name": "ipython",
    "version": 3
   },
   "file_extension": ".py",
   "mimetype": "text/x-python",
   "name": "python",
   "nbconvert_exporter": "python",
   "pygments_lexer": "ipython3",
   "version": "3.9.7"
  }
 },
 "nbformat": 4,
 "nbformat_minor": 5
}
