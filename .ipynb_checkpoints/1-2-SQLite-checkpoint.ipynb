{
 "cells": [
  {
   "cell_type": "markdown",
   "id": "3a07b248",
   "metadata": {},
   "source": [
    "# 1. Qué es SQLite online."
   ]
  },
  {
   "cell_type": "markdown",
   "id": "2757750f",
   "metadata": {},
   "source": [
    "SQLite Online es una aplicación web que permite a los usuarios ejecutar consultas SQL en una base de datos SQLite en línea. Es una herramienta muy útil para probar y ejecutar consultas SQL de manera rápida y sencilla sin necesidad de instalar ningún software adicional en el ordenador.\n",
    "\n",
    "Con SQLite Online, puedes crear una nueva base de datos o cargar una base de datos existente desde tu ordenador o desde un enlace a un archivo en línea. Una vez que tienes una base de datos cargada, puedes utilizar la consola SQL para escribir y ejecutar consultas SQL. También puedes utilizar la interfaz gráfica de usuario para ver y modificar la estructura de la base de datos y los datos que contiene.\n",
    "\n",
    "SQLite Online es una herramienta muy útil para aprender y probar el lenguaje SQL, y también puede ser útil para realizar tareas simples de administración de base de datos de manera rápida y sencilla. Si tienes más preguntas sobre SQLite Online, no dudes en preguntar."
   ]
  },
  {
   "cell_type": "markdown",
   "id": "74c3abd0",
   "metadata": {},
   "source": [
    "  <a href=\"https://sqliteonline.com/\" target=\"_blank\"><button type=\"button\" class=\"btn btn-success\">\n",
    "  <a href=\"https://sqliteonline.com/\" target=\"_blank\" style=\"color: white; text-decoration:none;\">SQL online</a>\n",
    "</button></a>"
   ]
  },
  {
   "cell_type": "markdown",
   "id": "f9075c98",
   "metadata": {},
   "source": [
    "<img src=\"img/sqlite-3.png\">"
   ]
  },
  {
   "cell_type": "markdown",
   "id": "d45ae53b",
   "metadata": {},
   "source": [
    "## 2. Workspace/Espacio de trabajo.\n",
    "\n",
    "\n",
    "<ul class=\"list-group\">\n",
    "  <li class=\"list-group-item\">1.  Acá encontrarás las tablas con sus columnas y tipos de datos, puedes desplegarlas para ver el nombre de sus columnas.</li>\n",
    "  <li class=\"list-group-item\">2.  El botón run o ejecutar, nos permite ejecutar la consulta.</li>\n",
    "  <li class=\"list-group-item\">3.  En este espacio de trabajo podemos crear las tablas y colocar las consultas a ejecutar.</li>\n",
    "  <li class=\"list-group-item\">4.  Acá visualizaremos el resultado de la consulta que acabamos de hacer.</li>\n",
    "  <li class=\"list-group-item\">5.  Acá podremos descargar la consulta.</li>\n",
    "  <li class=\"list-group-item\">6.  Acá podemos abrir hojas adicionales para hacer más consultas.</li>\n",
    "  <li class=\"list-group-item\">7.  Acá veremos el historia de nuestras consultas.</li>\n",
    "</ul>"
   ]
  },
  {
   "cell_type": "markdown",
   "id": "ba474df3",
   "metadata": {},
   "source": [
    "## 3. Como utilizar SQLite online!!"
   ]
  },
  {
   "cell_type": "markdown",
   "id": "d4941073",
   "metadata": {},
   "source": [
    "En el espacio de trabajo pondremos la consulta que haremos, luego tocaremos el botón de correr, inmediatamente veremos el resultado de la consulta y posteriormente el resultado de la consulta."
   ]
  },
  {
   "cell_type": "markdown",
   "id": "e190c5f8",
   "metadata": {},
   "source": [
    "<img src=\"img/sqlite-2.png\">"
   ]
  }
 ],
 "metadata": {
  "kernelspec": {
   "display_name": "Python 3 (ipykernel)",
   "language": "python",
   "name": "python3"
  },
  "language_info": {
   "codemirror_mode": {
    "name": "ipython",
    "version": 3
   },
   "file_extension": ".py",
   "mimetype": "text/x-python",
   "name": "python",
   "nbconvert_exporter": "python",
   "pygments_lexer": "ipython3",
   "version": "3.9.7"
  }
 },
 "nbformat": 4,
 "nbformat_minor": 5
}
