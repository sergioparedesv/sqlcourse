{
 "cells": [
  {
   "cell_type": "markdown",
   "id": "b6bf7392",
   "metadata": {},
   "source": [
    "# Nombre y direccion del tema"
   ]
  },
  {
   "cell_type": "markdown",
   "id": "213ee2c0",
   "metadata": {},
   "source": [
    "texto introducctorio"
   ]
  },
  {
   "cell_type": "markdown",
   "id": "f7a53386",
   "metadata": {},
   "source": [
    "  <a href=\"https://sqliteonline.com/\" target=\"_blank\"><button type=\"button\" class=\"btn btn-success\">\n",
    "  <a href=\"https://sqliteonline.com/\" target=\"_blank\" style=\"color: white; text-decoration:none;\">SQL online</a>\n",
    "</button></a>"
   ]
  },
  {
   "cell_type": "code",
   "execution_count": null,
   "id": "ca14d1fa",
   "metadata": {},
   "outputs": [],
   "source": [
    "#Iniciar SQLite\n",
    "%load_ext sql\n",
    "%sql sqlite://"
   ]
  },
  {
   "cell_type": "markdown",
   "id": "0e458e0d",
   "metadata": {},
   "source": [
    "# Paso 1"
   ]
  },
  {
   "cell_type": "markdown",
   "id": "823a7830",
   "metadata": {},
   "source": [
    "Texto hola"
   ]
  },
  {
   "cell_type": "code",
   "execution_count": null,
   "id": "b2df3247",
   "metadata": {},
   "outputs": [],
   "source": [
    "#Base de datos\n",
    "%%sql"
   ]
  },
  {
   "cell_type": "code",
   "execution_count": null,
   "id": "1a5df4a0",
   "metadata": {},
   "outputs": [],
   "source": []
  }
 ],
 "metadata": {
  "kernelspec": {
   "display_name": "Python 3 (ipykernel)",
   "language": "python",
   "name": "python3"
  },
  "language_info": {
   "codemirror_mode": {
    "name": "ipython",
    "version": 3
   },
   "file_extension": ".py",
   "mimetype": "text/x-python",
   "name": "python",
   "nbconvert_exporter": "python",
   "pygments_lexer": "ipython3",
   "version": "3.9.7"
  }
 },
 "nbformat": 4,
 "nbformat_minor": 5
}
