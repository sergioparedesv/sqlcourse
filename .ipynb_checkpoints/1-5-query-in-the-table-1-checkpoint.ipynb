{
 "cells": [
  {
   "cell_type": "markdown",
   "id": "23e4b09f",
   "metadata": {},
   "source": [
    "# Consultas básicas SQL"
   ]
  },
  {
   "cell_type": "markdown",
   "id": "cf5b2617",
   "metadata": {},
   "source": [
    "<div style=\"border-left: 5px solid #f0ad4e; padding:1.25rem; border-right: 1px solid #eee;  border-top: 1px solid #eee;  border-bottom: 1px solid #eee;\">\n",
    "\n",
    "<h5 id=\"ensure-correct-role-and-provide-a-label\">Nota Aclaratoria</h5>\n",
    "\n",
    "<p>En <b>Jupyter Notebook</b> tendremos que habilitar la <b>extensión SQL</b> con las siguientes lineas.</p>\n",
    "\n",
    "</div>"
   ]
  },
  {
   "cell_type": "code",
   "execution_count": 2,
   "id": "d622d6ed",
   "metadata": {},
   "outputs": [],
   "source": [
    "%load_ext sql\n",
    "%sql sqlite://"
   ]
  },
  {
   "cell_type": "markdown",
   "id": "34e470d5",
   "metadata": {},
   "source": [
    "# Paso 1 : Crear tabla\n",
    "Aquí tienes un ejemplo de cómo se podría crear una tabla en SQL con 10 productos de abarrotes y las columnas correspondientes a la cantidad de productos, el precio y el pasillo en el que se encuentran:"
   ]
  },
  {
   "cell_type": "code",
   "execution_count": 3,
   "id": "06328445",
   "metadata": {},
   "outputs": [
    {
     "name": "stdout",
     "output_type": "stream",
     "text": [
      " * sqlite://\n",
      "Done.\n",
      "10 rows affected.\n"
     ]
    },
    {
     "data": {
      "text/plain": [
       "[]"
      ]
     },
     "execution_count": 3,
     "metadata": {},
     "output_type": "execute_result"
    }
   ],
   "source": [
    "%%sql\n",
    "CREATE TABLE groceries (\n",
    "  id INTEGER PRIMARY KEY,\n",
    "  product_name TEXT,\n",
    "  quantity INTEGER,\n",
    "  price REAL,\n",
    "  aisle INTEGER\n",
    ");\n",
    "\n",
    "INSERT INTO groceries (product_name, quantity, price, aisle)\n",
    "VALUES\n",
    "  ('Tomatoes', 5, 0.99, 3),\n",
    "  ('Apples', 3, 1.49, 1),\n",
    "  ('Bananas', 6, 0.79, 1),\n",
    "  ('Carrots', 2, 0.59, 3),\n",
    "  ('Onions', 1, 0.49, 3),\n",
    "  ('Lettuce', 1, 0.99, 2),\n",
    "  ('Potatoes', 5, 0.99, 3),\n",
    "  ('Bread', 1, 2.49, 4),\n",
    "  ('Milk', 1, 3.49, 5),\n",
    "  ('Eggs', 12, 2.99, 5);\n"
   ]
  },
  {
   "cell_type": "markdown",
   "id": "12f92aaf",
   "metadata": {},
   "source": [
    "# Paso 2: Consulta básica.\n",
    "\n",
    "Haremos una consulta en la base de datos que nos muestre todos los elementos de groceries."
   ]
  },
  {
   "cell_type": "code",
   "execution_count": 4,
   "id": "1e9ef234",
   "metadata": {},
   "outputs": [
    {
     "name": "stdout",
     "output_type": "stream",
     "text": [
      " * sqlite://\n",
      "Done.\n"
     ]
    },
    {
     "data": {
      "text/html": [
       "<table>\n",
       "    <tr>\n",
       "        <th>id</th>\n",
       "        <th>product_name</th>\n",
       "        <th>quantity</th>\n",
       "        <th>price</th>\n",
       "        <th>aisle</th>\n",
       "    </tr>\n",
       "    <tr>\n",
       "        <td>1</td>\n",
       "        <td>Tomatoes</td>\n",
       "        <td>5</td>\n",
       "        <td>0.99</td>\n",
       "        <td>3</td>\n",
       "    </tr>\n",
       "    <tr>\n",
       "        <td>2</td>\n",
       "        <td>Apples</td>\n",
       "        <td>3</td>\n",
       "        <td>1.49</td>\n",
       "        <td>1</td>\n",
       "    </tr>\n",
       "    <tr>\n",
       "        <td>3</td>\n",
       "        <td>Bananas</td>\n",
       "        <td>6</td>\n",
       "        <td>0.79</td>\n",
       "        <td>1</td>\n",
       "    </tr>\n",
       "    <tr>\n",
       "        <td>4</td>\n",
       "        <td>Carrots</td>\n",
       "        <td>2</td>\n",
       "        <td>0.59</td>\n",
       "        <td>3</td>\n",
       "    </tr>\n",
       "    <tr>\n",
       "        <td>5</td>\n",
       "        <td>Onions</td>\n",
       "        <td>1</td>\n",
       "        <td>0.49</td>\n",
       "        <td>3</td>\n",
       "    </tr>\n",
       "    <tr>\n",
       "        <td>6</td>\n",
       "        <td>Lettuce</td>\n",
       "        <td>1</td>\n",
       "        <td>0.99</td>\n",
       "        <td>2</td>\n",
       "    </tr>\n",
       "    <tr>\n",
       "        <td>7</td>\n",
       "        <td>Potatoes</td>\n",
       "        <td>5</td>\n",
       "        <td>0.99</td>\n",
       "        <td>3</td>\n",
       "    </tr>\n",
       "    <tr>\n",
       "        <td>8</td>\n",
       "        <td>Bread</td>\n",
       "        <td>1</td>\n",
       "        <td>2.49</td>\n",
       "        <td>4</td>\n",
       "    </tr>\n",
       "    <tr>\n",
       "        <td>9</td>\n",
       "        <td>Milk</td>\n",
       "        <td>1</td>\n",
       "        <td>3.49</td>\n",
       "        <td>5</td>\n",
       "    </tr>\n",
       "    <tr>\n",
       "        <td>10</td>\n",
       "        <td>Eggs</td>\n",
       "        <td>12</td>\n",
       "        <td>2.99</td>\n",
       "        <td>5</td>\n",
       "    </tr>\n",
       "</table>"
      ],
      "text/plain": [
       "[(1, 'Tomatoes', 5, 0.99, 3),\n",
       " (2, 'Apples', 3, 1.49, 1),\n",
       " (3, 'Bananas', 6, 0.79, 1),\n",
       " (4, 'Carrots', 2, 0.59, 3),\n",
       " (5, 'Onions', 1, 0.49, 3),\n",
       " (6, 'Lettuce', 1, 0.99, 2),\n",
       " (7, 'Potatoes', 5, 0.99, 3),\n",
       " (8, 'Bread', 1, 2.49, 4),\n",
       " (9, 'Milk', 1, 3.49, 5),\n",
       " (10, 'Eggs', 12, 2.99, 5)]"
      ]
     },
     "execution_count": 4,
     "metadata": {},
     "output_type": "execute_result"
    }
   ],
   "source": [
    "%%sql\n",
    "SELECT * FROM groceries;"
   ]
  },
  {
   "cell_type": "markdown",
   "id": "924af159",
   "metadata": {},
   "source": [
    "# Paso 3: Seleccionar Columnas\n",
    "\n",
    "Si quieres seleccionar columnas especificas a mostrar puedes señalar en el **select**, el nombre de las columnas."
   ]
  },
  {
   "cell_type": "code",
   "execution_count": 5,
   "id": "5789e4b3",
   "metadata": {},
   "outputs": [
    {
     "name": "stdout",
     "output_type": "stream",
     "text": [
      " * sqlite://\n",
      "Done.\n"
     ]
    },
    {
     "data": {
      "text/html": [
       "<table>\n",
       "    <tr>\n",
       "        <th>product_name</th>\n",
       "    </tr>\n",
       "    <tr>\n",
       "        <td>Tomatoes</td>\n",
       "    </tr>\n",
       "    <tr>\n",
       "        <td>Apples</td>\n",
       "    </tr>\n",
       "    <tr>\n",
       "        <td>Bananas</td>\n",
       "    </tr>\n",
       "    <tr>\n",
       "        <td>Carrots</td>\n",
       "    </tr>\n",
       "    <tr>\n",
       "        <td>Onions</td>\n",
       "    </tr>\n",
       "    <tr>\n",
       "        <td>Lettuce</td>\n",
       "    </tr>\n",
       "    <tr>\n",
       "        <td>Potatoes</td>\n",
       "    </tr>\n",
       "    <tr>\n",
       "        <td>Bread</td>\n",
       "    </tr>\n",
       "    <tr>\n",
       "        <td>Milk</td>\n",
       "    </tr>\n",
       "    <tr>\n",
       "        <td>Eggs</td>\n",
       "    </tr>\n",
       "</table>"
      ],
      "text/plain": [
       "[('Tomatoes',),\n",
       " ('Apples',),\n",
       " ('Bananas',),\n",
       " ('Carrots',),\n",
       " ('Onions',),\n",
       " ('Lettuce',),\n",
       " ('Potatoes',),\n",
       " ('Bread',),\n",
       " ('Milk',),\n",
       " ('Eggs',)]"
      ]
     },
     "execution_count": 5,
     "metadata": {},
     "output_type": "execute_result"
    }
   ],
   "source": [
    "%%sql\n",
    "SELECT product_name FROM groceries;"
   ]
  },
  {
   "cell_type": "markdown",
   "id": "a85b8311",
   "metadata": {},
   "source": [
    "# Paso 4: Consultas condicionales.\n",
    "    \n",
    "A continuación veremos una consulta donde buscaremos los abarrotes en el pasillo 2 y superiores"
   ]
  },
  {
   "cell_type": "code",
   "execution_count": 10,
   "id": "5a3a336f",
   "metadata": {},
   "outputs": [
    {
     "name": "stdout",
     "output_type": "stream",
     "text": [
      " * sqlite://\n",
      "Done.\n"
     ]
    },
    {
     "data": {
      "text/html": [
       "<table>\n",
       "    <tr>\n",
       "        <th>id</th>\n",
       "        <th>product_name</th>\n",
       "        <th>quantity</th>\n",
       "        <th>price</th>\n",
       "        <th>aisle</th>\n",
       "    </tr>\n",
       "    <tr>\n",
       "        <td>1</td>\n",
       "        <td>Tomatoes</td>\n",
       "        <td>5</td>\n",
       "        <td>0.99</td>\n",
       "        <td>3</td>\n",
       "    </tr>\n",
       "    <tr>\n",
       "        <td>4</td>\n",
       "        <td>Carrots</td>\n",
       "        <td>2</td>\n",
       "        <td>0.59</td>\n",
       "        <td>3</td>\n",
       "    </tr>\n",
       "    <tr>\n",
       "        <td>5</td>\n",
       "        <td>Onions</td>\n",
       "        <td>1</td>\n",
       "        <td>0.49</td>\n",
       "        <td>3</td>\n",
       "    </tr>\n",
       "    <tr>\n",
       "        <td>6</td>\n",
       "        <td>Lettuce</td>\n",
       "        <td>1</td>\n",
       "        <td>0.99</td>\n",
       "        <td>2</td>\n",
       "    </tr>\n",
       "    <tr>\n",
       "        <td>7</td>\n",
       "        <td>Potatoes</td>\n",
       "        <td>5</td>\n",
       "        <td>0.99</td>\n",
       "        <td>3</td>\n",
       "    </tr>\n",
       "    <tr>\n",
       "        <td>8</td>\n",
       "        <td>Bread</td>\n",
       "        <td>1</td>\n",
       "        <td>2.49</td>\n",
       "        <td>4</td>\n",
       "    </tr>\n",
       "    <tr>\n",
       "        <td>9</td>\n",
       "        <td>Milk</td>\n",
       "        <td>1</td>\n",
       "        <td>3.49</td>\n",
       "        <td>5</td>\n",
       "    </tr>\n",
       "    <tr>\n",
       "        <td>10</td>\n",
       "        <td>Eggs</td>\n",
       "        <td>12</td>\n",
       "        <td>2.99</td>\n",
       "        <td>5</td>\n",
       "    </tr>\n",
       "</table>"
      ],
      "text/plain": [
       "[(1, 'Tomatoes', 5, 0.99, 3),\n",
       " (4, 'Carrots', 2, 0.59, 3),\n",
       " (5, 'Onions', 1, 0.49, 3),\n",
       " (6, 'Lettuce', 1, 0.99, 2),\n",
       " (7, 'Potatoes', 5, 0.99, 3),\n",
       " (8, 'Bread', 1, 2.49, 4),\n",
       " (9, 'Milk', 1, 3.49, 5),\n",
       " (10, 'Eggs', 12, 2.99, 5)]"
      ]
     },
     "execution_count": 10,
     "metadata": {},
     "output_type": "execute_result"
    }
   ],
   "source": [
    "%%sql\n",
    "SELECT * FROM groceries WHERE aisle >= 2;"
   ]
  },
  {
   "cell_type": "markdown",
   "id": "dbe090ed",
   "metadata": {},
   "source": [
    "# Paso 5: Ordenar las consultas por pasillo.\n",
    "\n",
    "Ordenar las consultas por pasillo, desde el 1.\n",
    "\n"
   ]
  },
  {
   "cell_type": "code",
   "execution_count": 12,
   "id": "724345b8",
   "metadata": {},
   "outputs": [
    {
     "name": "stdout",
     "output_type": "stream",
     "text": [
      " * sqlite://\n",
      "Done.\n"
     ]
    },
    {
     "data": {
      "text/html": [
       "<table>\n",
       "    <tr>\n",
       "        <th>id</th>\n",
       "        <th>product_name</th>\n",
       "        <th>quantity</th>\n",
       "        <th>price</th>\n",
       "        <th>aisle</th>\n",
       "    </tr>\n",
       "    <tr>\n",
       "        <td>6</td>\n",
       "        <td>Lettuce</td>\n",
       "        <td>1</td>\n",
       "        <td>0.99</td>\n",
       "        <td>2</td>\n",
       "    </tr>\n",
       "    <tr>\n",
       "        <td>1</td>\n",
       "        <td>Tomatoes</td>\n",
       "        <td>5</td>\n",
       "        <td>0.99</td>\n",
       "        <td>3</td>\n",
       "    </tr>\n",
       "    <tr>\n",
       "        <td>4</td>\n",
       "        <td>Carrots</td>\n",
       "        <td>2</td>\n",
       "        <td>0.59</td>\n",
       "        <td>3</td>\n",
       "    </tr>\n",
       "    <tr>\n",
       "        <td>5</td>\n",
       "        <td>Onions</td>\n",
       "        <td>1</td>\n",
       "        <td>0.49</td>\n",
       "        <td>3</td>\n",
       "    </tr>\n",
       "    <tr>\n",
       "        <td>7</td>\n",
       "        <td>Potatoes</td>\n",
       "        <td>5</td>\n",
       "        <td>0.99</td>\n",
       "        <td>3</td>\n",
       "    </tr>\n",
       "    <tr>\n",
       "        <td>8</td>\n",
       "        <td>Bread</td>\n",
       "        <td>1</td>\n",
       "        <td>2.49</td>\n",
       "        <td>4</td>\n",
       "    </tr>\n",
       "    <tr>\n",
       "        <td>9</td>\n",
       "        <td>Milk</td>\n",
       "        <td>1</td>\n",
       "        <td>3.49</td>\n",
       "        <td>5</td>\n",
       "    </tr>\n",
       "    <tr>\n",
       "        <td>10</td>\n",
       "        <td>Eggs</td>\n",
       "        <td>12</td>\n",
       "        <td>2.99</td>\n",
       "        <td>5</td>\n",
       "    </tr>\n",
       "</table>"
      ],
      "text/plain": [
       "[(6, 'Lettuce', 1, 0.99, 2),\n",
       " (1, 'Tomatoes', 5, 0.99, 3),\n",
       " (4, 'Carrots', 2, 0.59, 3),\n",
       " (5, 'Onions', 1, 0.49, 3),\n",
       " (7, 'Potatoes', 5, 0.99, 3),\n",
       " (8, 'Bread', 1, 2.49, 4),\n",
       " (9, 'Milk', 1, 3.49, 5),\n",
       " (10, 'Eggs', 12, 2.99, 5)]"
      ]
     },
     "execution_count": 12,
     "metadata": {},
     "output_type": "execute_result"
    }
   ],
   "source": [
    "%%sql\n",
    "SELECT * FROM groceries WHERE aisle > 1 ORDER BY aisle;"
   ]
  },
  {
   "cell_type": "markdown",
   "id": "69286dcf",
   "metadata": {},
   "source": [
    "<hr style=\"height:5px; width: 100%; border-radius: 20%; background-color:#E7046B ; border-color: #E7046B\">"
   ]
  },
  {
   "cell_type": "markdown",
   "id": "9557005e",
   "metadata": {},
   "source": [
    "Aquí tienes tres ejercicios básicos de consulta que se pueden realizar utilizando la tabla groceries que hemos creado anteriormente:"
   ]
  },
  {
   "cell_type": "markdown",
   "id": "378c3d78",
   "metadata": {},
   "source": [
    "### Actividad del módulo #1\n",
    "\n",
    "Escriba una consulta que muestre todos los productos y su precio.\n",
    "Solución:"
   ]
  },
  {
   "cell_type": "code",
   "execution_count": null,
   "id": "e66726dc",
   "metadata": {},
   "outputs": [],
   "source": []
  },
  {
   "cell_type": "markdown",
   "id": "79568ac3",
   "metadata": {},
   "source": [
    "### Actividad del módulo #2\n",
    "\n",
    "Escriba una consulta que muestre el nombre de todos los productos y su cantidad, ordenados por cantidad en orden descendente.\n",
    "\n",
    "<blockquote>En la linea del <b>Order by</b> agregre <b>DESC</b>, si lo requiere consulte en internet para saber como hacerlo si lo requiere. </blockquote>\n",
    "Solución:\n",
    "\n"
   ]
  },
  {
   "cell_type": "code",
   "execution_count": null,
   "id": "f95cb881",
   "metadata": {},
   "outputs": [],
   "source": []
  },
  {
   "cell_type": "markdown",
   "id": "4409d118",
   "metadata": {},
   "source": [
    "### Actividad del módulo #3 \n",
    "\n",
    "Escriba una consulta que muestre el nombre de todos los productos y su cantidad, pero solo para aquellos que tienen un precio mayor a $1.\n",
    "Solución:"
   ]
  },
  {
   "cell_type": "code",
   "execution_count": null,
   "id": "285e3e36",
   "metadata": {},
   "outputs": [],
   "source": []
  },
  {
   "cell_type": "markdown",
   "id": "ce0b571e",
   "metadata": {},
   "source": [
    "<hr style=\"height:5px; width: 100%; border-radius: 20%; background-color:#E7046B ; border-color: #E7046B\">"
   ]
  }
 ],
 "metadata": {
  "kernelspec": {
   "display_name": "Python 3 (ipykernel)",
   "language": "python",
   "name": "python3"
  },
  "language_info": {
   "codemirror_mode": {
    "name": "ipython",
    "version": 3
   },
   "file_extension": ".py",
   "mimetype": "text/x-python",
   "name": "python",
   "nbconvert_exporter": "python",
   "pygments_lexer": "ipython3",
   "version": "3.9.7"
  }
 },
 "nbformat": 4,
 "nbformat_minor": 5
}
