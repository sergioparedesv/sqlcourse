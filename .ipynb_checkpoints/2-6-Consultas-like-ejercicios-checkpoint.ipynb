{
 "cells": [
  {
   "cell_type": "markdown",
   "id": "a71f4351",
   "metadata": {},
   "source": [
    "# Ejercicios"
   ]
  },
  {
   "cell_type": "markdown",
   "id": "14563206",
   "metadata": {},
   "source": [
    "<div style=\"border-left: 5px solid #f0ad4e; padding:1.25rem; border-right: 1px solid #eee;  border-top: 1px solid #eee;  border-bottom: 1px solid #eee;\">\n",
    "\n",
    "<h5 id=\"ensure-correct-role-and-provide-a-label\">Nota Aclaratoria</h5>\n",
    "\n",
    "<p>Antes de cada consulta tenemos que colocar  <b>%%sql</b>, la herramienta de comandos magicos de SQL</p>\n",
    "\n",
    "</div>"
   ]
  },
  {
   "cell_type": "code",
   "execution_count": 1,
   "id": "26746eb4",
   "metadata": {},
   "outputs": [],
   "source": [
    "%load_ext sql\n",
    "%sql sqlite://"
   ]
  },
  {
   "cell_type": "code",
   "execution_count": 2,
   "id": "eaaf30c7",
   "metadata": {},
   "outputs": [
    {
     "name": "stdout",
     "output_type": "stream",
     "text": [
      " * sqlite://\n",
      "Done.\n",
      "10 rows affected.\n",
      "Done.\n",
      "2 rows affected.\n"
     ]
    },
    {
     "data": {
      "text/plain": [
       "[]"
      ]
     },
     "execution_count": 2,
     "metadata": {},
     "output_type": "execute_result"
    }
   ],
   "source": [
    "%%sql\n",
    "CREATE TABLE exercise_logs\n",
    "    (id INTEGER PRIMARY KEY AUTOINCREMENT,\n",
    "    type TEXT,\n",
    "    minutes INTEGER, \n",
    "    calories INTEGER,\n",
    "    heart_rate INTEGER,\n",
    "    intensity);\n",
    "\n",
    "INSERT INTO exercise_logs(type, minutes, calories, heart_rate, intensity) VALUES \n",
    "    ('biking', 30, 100, 110, 'high'), \n",
    "    ('walk', 60, 30, 100, 'low'), \n",
    "    ('dancing', 15, 200, 120, 'medium'),\n",
    "    ('run', 30, 250, 140, 'high'), \n",
    "    ('swim', 60, 300, 120,'medium'), \n",
    "    ('aerobics', 15, 200, 150, 'medium'),\n",
    "    ('yoga', 30, 100, 110, 'high'), \n",
    "    ('weight lifting', 60, 30, 100, 'low'), \n",
    "    ('boxing', 15, 200, 120, 'medium'),\n",
    "    ('pilates', 30, 250, 140, 'medium');\n",
    "    \n",
    "    \n",
    "CREATE TABLE drs_favorites (\n",
    "  id INTEGER PRIMARY KEY,\n",
    "  type TEXT,\n",
    "  reason TEXT\n",
    ");\n",
    "\n",
    "INSERT INTO drs_favorites (type, reason) VALUES \n",
    "    (\"biking\", \"Improves endurance and flexibility.\"),\n",
    "    (\"hiking\", \"Increases cardiovascular health.\");"
   ]
  },
  {
   "cell_type": "markdown",
   "id": "954bf897",
   "metadata": {},
   "source": [
    "A continuación encontraras cinco ejercicios en qle utilizando la tablas **\"clientes y pedidos\"** utilizando las funciones **IN**"
   ]
  },
  {
   "cell_type": "markdown",
   "id": "4e10b857",
   "metadata": {},
   "source": [
    "<hr style=\"height:5px; width: 100%; border-radius: 20%; background-color:#E7046B ; border-color: #E7046B\">"
   ]
  },
  {
   "cell_type": "markdown",
   "id": "7d614c06",
   "metadata": {},
   "source": [
    "# Ejercicio 1\n",
    "\n",
    "Obtener todos los registros de ejercicios de la tabla exercise_logs cuyo tipo de ejercicio contenga la cadena de caracteres \"aerobics\"."
   ]
  },
  {
   "cell_type": "code",
   "execution_count": 3,
   "id": "788a6bca",
   "metadata": {},
   "outputs": [
    {
     "name": "stdout",
     "output_type": "stream",
     "text": [
      " * sqlite://\n",
      "Done.\n"
     ]
    },
    {
     "data": {
      "text/html": [
       "<table>\n",
       "    <tr>\n",
       "        <th>id</th>\n",
       "        <th>type</th>\n",
       "        <th>minutes</th>\n",
       "        <th>calories</th>\n",
       "        <th>heart_rate</th>\n",
       "        <th>intensity</th>\n",
       "    </tr>\n",
       "    <tr>\n",
       "        <td>6</td>\n",
       "        <td>aerobics</td>\n",
       "        <td>15</td>\n",
       "        <td>200</td>\n",
       "        <td>150</td>\n",
       "        <td>medium</td>\n",
       "    </tr>\n",
       "</table>"
      ],
      "text/plain": [
       "[(6, 'aerobics', 15, 200, 150, 'medium')]"
      ]
     },
     "execution_count": 3,
     "metadata": {},
     "output_type": "execute_result"
    }
   ],
   "source": [
    "%%sql\n",
    "SELECT * FROM exercise_logs WHERE type LIKE '%aerobics%';"
   ]
  },
  {
   "cell_type": "markdown",
   "id": "af7de0f6",
   "metadata": {},
   "source": [
    "# Ejercicio 2\n",
    "\n",
    "Obtener todos los registros de ejercicios de la tabla exercise_logs cuyo tipo de ejercicio empiece con la letra \"b\"."
   ]
  },
  {
   "cell_type": "code",
   "execution_count": 4,
   "id": "a3b70b96",
   "metadata": {},
   "outputs": [
    {
     "name": "stdout",
     "output_type": "stream",
     "text": [
      " * sqlite://\n",
      "Done.\n"
     ]
    },
    {
     "data": {
      "text/html": [
       "<table>\n",
       "    <tr>\n",
       "        <th>id</th>\n",
       "        <th>type</th>\n",
       "        <th>minutes</th>\n",
       "        <th>calories</th>\n",
       "        <th>heart_rate</th>\n",
       "        <th>intensity</th>\n",
       "    </tr>\n",
       "    <tr>\n",
       "        <td>1</td>\n",
       "        <td>biking</td>\n",
       "        <td>30</td>\n",
       "        <td>100</td>\n",
       "        <td>110</td>\n",
       "        <td>high</td>\n",
       "    </tr>\n",
       "    <tr>\n",
       "        <td>9</td>\n",
       "        <td>boxing</td>\n",
       "        <td>15</td>\n",
       "        <td>200</td>\n",
       "        <td>120</td>\n",
       "        <td>medium</td>\n",
       "    </tr>\n",
       "</table>"
      ],
      "text/plain": [
       "[(1, 'biking', 30, 100, 110, 'high'), (9, 'boxing', 15, 200, 120, 'medium')]"
      ]
     },
     "execution_count": 4,
     "metadata": {},
     "output_type": "execute_result"
    }
   ],
   "source": [
    "%%sql\n",
    "SELECT * FROM exercise_logs WHERE type LIKE 'b%';"
   ]
  },
  {
   "cell_type": "markdown",
   "id": "db65301c",
   "metadata": {},
   "source": [
    "# Ejercicio 3\n",
    "\n",
    "Obtener todos los registros de ejercicios de la tabla exercise_logs cuyo tipo de ejercicio termine con la letra \"ing\"."
   ]
  },
  {
   "cell_type": "code",
   "execution_count": 5,
   "id": "87cadbd9",
   "metadata": {},
   "outputs": [
    {
     "name": "stdout",
     "output_type": "stream",
     "text": [
      " * sqlite://\n",
      "Done.\n"
     ]
    },
    {
     "data": {
      "text/html": [
       "<table>\n",
       "    <tr>\n",
       "        <th>id</th>\n",
       "        <th>type</th>\n",
       "        <th>minutes</th>\n",
       "        <th>calories</th>\n",
       "        <th>heart_rate</th>\n",
       "        <th>intensity</th>\n",
       "    </tr>\n",
       "    <tr>\n",
       "        <td>1</td>\n",
       "        <td>biking</td>\n",
       "        <td>30</td>\n",
       "        <td>100</td>\n",
       "        <td>110</td>\n",
       "        <td>high</td>\n",
       "    </tr>\n",
       "    <tr>\n",
       "        <td>3</td>\n",
       "        <td>dancing</td>\n",
       "        <td>15</td>\n",
       "        <td>200</td>\n",
       "        <td>120</td>\n",
       "        <td>medium</td>\n",
       "    </tr>\n",
       "    <tr>\n",
       "        <td>8</td>\n",
       "        <td>weight lifting</td>\n",
       "        <td>60</td>\n",
       "        <td>30</td>\n",
       "        <td>100</td>\n",
       "        <td>low</td>\n",
       "    </tr>\n",
       "    <tr>\n",
       "        <td>9</td>\n",
       "        <td>boxing</td>\n",
       "        <td>15</td>\n",
       "        <td>200</td>\n",
       "        <td>120</td>\n",
       "        <td>medium</td>\n",
       "    </tr>\n",
       "</table>"
      ],
      "text/plain": [
       "[(1, 'biking', 30, 100, 110, 'high'),\n",
       " (3, 'dancing', 15, 200, 120, 'medium'),\n",
       " (8, 'weight lifting', 60, 30, 100, 'low'),\n",
       " (9, 'boxing', 15, 200, 120, 'medium')]"
      ]
     },
     "execution_count": 5,
     "metadata": {},
     "output_type": "execute_result"
    }
   ],
   "source": [
    "%%sql\n",
    "SELECT * FROM exercise_logs WHERE type LIKE '%ing';"
   ]
  },
  {
   "cell_type": "markdown",
   "id": "6b985282",
   "metadata": {},
   "source": [
    "<hr style=\"height:5px; width: 100%; border-radius: 20%; background-color:#E7046B ; border-color: #E7046B\">"
   ]
  }
 ],
 "metadata": {
  "kernelspec": {
   "display_name": "Python 3 (ipykernel)",
   "language": "python",
   "name": "python3"
  },
  "language_info": {
   "codemirror_mode": {
    "name": "ipython",
    "version": 3
   },
   "file_extension": ".py",
   "mimetype": "text/x-python",
   "name": "python",
   "nbconvert_exporter": "python",
   "pygments_lexer": "ipython3",
   "version": "3.9.7"
  }
 },
 "nbformat": 4,
 "nbformat_minor": 5
}
