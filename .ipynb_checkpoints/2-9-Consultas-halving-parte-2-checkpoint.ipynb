{
 "cells": [
  {
   "cell_type": "markdown",
   "id": "b6bf7392",
   "metadata": {},
   "source": [
    "# SENTENCIA HALVING"
   ]
  },
  {
   "cell_type": "markdown",
   "id": "213ee2c0",
   "metadata": {},
   "source": [
    "a cláusula HAVING se utiliza en consultas SELECT para filtrar los resultados de una consulta que incluye agrupamientos de datos. Esta cláusula se aplica después de agrupar los resultados mediante la cláusula GROUP BY, y funciona de manera similar a la cláusula WHERE, pero aplicada a los resultados agrupados en lugar de a las filas individuales.\n",
    "\n",
    "Por ejemplo, supongamos que tenemos una tabla sales con información sobre las ventas de una empresa, con las columnas salesperson, product y total. Podemos utilizar la cláusula HAVING para obtener una lista de los productos que han generado más de $1000 en ventas:"
   ]
  },
  {
   "cell_type": "markdown",
   "id": "9578530c",
   "metadata": {},
   "source": [
    "```sql\n",
    "SELECT product, SUM(total) as total_sales\n",
    "FROM sales\n",
    "GROUP BY product\n",
    "HAVING SUM(total) > 1000;\n",
    "```"
   ]
  },
  {
   "cell_type": "markdown",
   "id": "bc9c08f1",
   "metadata": {},
   "source": [
    "En este ejemplo, primero utilizamos la cláusula GROUP BY para agrupar los resultados por producto, y luego utilizamos la cláusula HAVING para filtrar los resultados y mostrar solo aquellos productos que han generado más de $1000 en ventas.\n",
    "\n",
    "Espero que esta explicación te haya ayudado a entender cómo funciona la cláusula HAVING en SQL. Si tienes alguna pregunta más, no dudes en preguntar."
   ]
  },
  {
   "cell_type": "markdown",
   "id": "f7a53386",
   "metadata": {},
   "source": [
    "  <a href=\"https://sqliteonline.com/\" target=\"_blank\"><button type=\"button\" class=\"btn btn-success\">\n",
    "  <a href=\"https://sqliteonline.com/\" target=\"_blank\" style=\"color: white; text-decoration:none;\">SQL online</a>\n",
    "</button></a>"
   ]
  },
  {
   "cell_type": "code",
   "execution_count": 1,
   "id": "ca14d1fa",
   "metadata": {},
   "outputs": [],
   "source": [
    "#Iniciar SQLite\n",
    "%load_ext sql\n",
    "%sql sqlite://"
   ]
  },
  {
   "cell_type": "markdown",
   "id": "0e458e0d",
   "metadata": {},
   "source": [
    "# Paso 1 crearemos la báse de datos."
   ]
  },
  {
   "cell_type": "code",
   "execution_count": 2,
   "id": "b2df3247",
   "metadata": {},
   "outputs": [
    {
     "name": "stdout",
     "output_type": "stream",
     "text": [
      " * sqlite://\n",
      "Done.\n",
      "8 rows affected.\n"
     ]
    },
    {
     "data": {
      "text/plain": [
       "[]"
      ]
     },
     "execution_count": 2,
     "metadata": {},
     "output_type": "execute_result"
    }
   ],
   "source": [
    "%%sql\n",
    "CREATE TABLE exercise_logs (\n",
    "id INTEGER PRIMARY KEY AUTOINCREMENT,\n",
    "type TEXT,\n",
    "minutes INTEGER,\n",
    "calories INTEGER,\n",
    "heart_rate INTEGER\n",
    ");\n",
    "\n",
    "INSERT INTO exercise_logs(type, minutes, calories, heart_rate) VALUES\n",
    "(\"biking\", 30, 115, 110),\n",
    "(\"biking\", 10, 45, 105),\n",
    "(\"dancing\", 15, 200, 120),\n",
    "(\"dancing\", 15, 165, 120),\n",
    "(\"tree climbing\", 30, 70, 90),\n",
    "(\"tree climbing\", 25, 72, 80),\n",
    "(\"rowing\", 30, 70, 90),\n",
    "(\"hiking\", 60, 80, 85);"
   ]
  },
  {
   "cell_type": "markdown",
   "id": "1a52db13",
   "metadata": {},
   "source": [
    "# Actividad 1 :\n",
    "\n",
    "Utilizando la tabla exercise_logs, escriba una consulta que seleccione el tipo de ejercicio y el promedio de calorías quemadas para cada tipo de ejercicio, y muestre solo aquellos tipos de ejercicio que tienen un promedio de calorías quemadas mayor a 100. La salida debe incluir el tipo de ejercicio y el promedio de calorías."
   ]
  },
  {
   "cell_type": "code",
   "execution_count": 3,
   "id": "1a5df4a0",
   "metadata": {},
   "outputs": [
    {
     "name": "stdout",
     "output_type": "stream",
     "text": [
      " * sqlite://\n",
      "Done.\n"
     ]
    },
    {
     "data": {
      "text/html": [
       "<table>\n",
       "    <tr>\n",
       "        <th>type</th>\n",
       "        <th>avg_calories</th>\n",
       "    </tr>\n",
       "    <tr>\n",
       "        <td>dancing</td>\n",
       "        <td>182.5</td>\n",
       "    </tr>\n",
       "</table>"
      ],
      "text/plain": [
       "[('dancing', 182.5)]"
      ]
     },
     "execution_count": 3,
     "metadata": {},
     "output_type": "execute_result"
    }
   ],
   "source": [
    "%%sql\n",
    "SELECT type, AVG(calories) AS avg_calories FROM exercise_logs\n",
    "GROUP BY type\n",
    "HAVING avg_calories > 100;"
   ]
  },
  {
   "cell_type": "markdown",
   "id": "bbc83537",
   "metadata": {},
   "source": [
    "Explicación:\n",
    "    \n",
    "La consulta selecciona el tipo de ejercicio y el promedio de calorías quemadas para cada tipo de ejercicio. Luego, agrupa los resultados por tipo de ejercicio. Finalmente, se utiliza la cláusula HAVING para filtrar los resultados y mostrar solo aquellos en los que el promedio de calorías quemadas sea mayor a 100.\n",
    "\n",
    "La función AVG() se utiliza para calcular el promedio de un conjunto de valores. En este caso, se está calculando el promedio de calorías quemadas para cada tipo de ejercicio. La cláusula AS se utiliza para asignar un alias al resultado de la función AVG(), de modo que pueda ser más fácil de leer y utilizar en el resto de la consulta. La cláusula GROUP BY agrupa los resultados por el tipo de ejercicio. La cláusula HAVING se utiliza para filtrar los resultados de la consulta, mostrando solo aquellos en los que el promedio de calorías quemadas sea mayor a 100.\n",
    "    "
   ]
  },
  {
   "cell_type": "markdown",
   "id": "7515c552",
   "metadata": {},
   "source": [
    "# Actividad 2:\n",
    "\n",
    "Ejercicio: Utiliza la tabla exercise_logs y muestra todos los campos para cada tipo de ejercicio que haya sido realizado al menos dos veces. Utiliza la cláusula HAVING para filtrar los resultados."
   ]
  },
  {
   "cell_type": "code",
   "execution_count": 5,
   "id": "716c96fc",
   "metadata": {},
   "outputs": [
    {
     "name": "stdout",
     "output_type": "stream",
     "text": [
      " * sqlite://\n",
      "Done.\n"
     ]
    },
    {
     "data": {
      "text/html": [
       "<table>\n",
       "    <tr>\n",
       "        <th>id</th>\n",
       "        <th>type</th>\n",
       "        <th>minutes</th>\n",
       "        <th>calories</th>\n",
       "        <th>heart_rate</th>\n",
       "    </tr>\n",
       "    <tr>\n",
       "        <td>1</td>\n",
       "        <td>biking</td>\n",
       "        <td>30</td>\n",
       "        <td>115</td>\n",
       "        <td>110</td>\n",
       "    </tr>\n",
       "    <tr>\n",
       "        <td>3</td>\n",
       "        <td>dancing</td>\n",
       "        <td>15</td>\n",
       "        <td>200</td>\n",
       "        <td>120</td>\n",
       "    </tr>\n",
       "    <tr>\n",
       "        <td>5</td>\n",
       "        <td>tree climbing</td>\n",
       "        <td>30</td>\n",
       "        <td>70</td>\n",
       "        <td>90</td>\n",
       "    </tr>\n",
       "</table>"
      ],
      "text/plain": [
       "[(1, 'biking', 30, 115, 110),\n",
       " (3, 'dancing', 15, 200, 120),\n",
       " (5, 'tree climbing', 30, 70, 90)]"
      ]
     },
     "execution_count": 5,
     "metadata": {},
     "output_type": "execute_result"
    }
   ],
   "source": [
    "%%sql\n",
    "SELECT * FROM exercise_logs GROUP BY type HAVING COUNT(*) >= 2;"
   ]
  },
  {
   "cell_type": "markdown",
   "id": "e950d383",
   "metadata": {},
   "source": [
    "Explicación:\n",
    "    \n",
    "Esta consulta utiliza la tabla 'exercise_logs' y selecciona todos los campos () de la tabla para cada tipo de ejercicio ('type') que ha sido realizado al menos dos veces ('HAVING COUNT() >= 2'). Para hacer esto, primero se agrupa la tabla por el tipo de ejercicio ('GROUP BY type'). Luego, se utiliza la cláusula 'HAVING' junto con la función de agregado 'COUNT' para filtrar los resultados y mostrar solo los tipos de ejercicio que han sido realizados al menos dos veces."
   ]
  }
 ],
 "metadata": {
  "kernelspec": {
   "display_name": "Python 3 (ipykernel)",
   "language": "python",
   "name": "python3"
  },
  "language_info": {
   "codemirror_mode": {
    "name": "ipython",
    "version": 3
   },
   "file_extension": ".py",
   "mimetype": "text/x-python",
   "name": "python",
   "nbconvert_exporter": "python",
   "pygments_lexer": "ipython3",
   "version": "3.9.7"
  }
 },
 "nbformat": 4,
 "nbformat_minor": 5
}
