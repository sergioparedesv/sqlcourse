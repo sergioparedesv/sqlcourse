{
 "cells": [
  {
   "cell_type": "markdown",
   "id": "d70fe9aa",
   "metadata": {},
   "source": [
    "# Consultas con Count"
   ]
  },
  {
   "cell_type": "markdown",
   "id": "c28957d1",
   "metadata": {},
   "source": [
    "La sentencia COUNT es una de las funciones más básicas y útiles de SQL, y se utiliza para contar el número de filas en una tabla o en el resultado de una consulta.\n",
    "\n",
    "Por ejemplo, si quieres saber cuántas recetas hay en tu tabla \"recetas\", puedes utilizar la sentencia COUNT de la siguiente manera:"
   ]
  },
  {
   "cell_type": "markdown",
   "id": "24dfd78a",
   "metadata": {},
   "source": [
    "```sql\n",
    "SELECT COUNT(*) FROM recetas;\n",
    "\n",
    "```"
   ]
  },
  {
   "cell_type": "markdown",
   "id": "3bc4659e",
   "metadata": {},
   "source": [
    "Esta sentencia te devolvería un solo resultado, que es el número total de filas (o recetas) en la tabla \"recetas\".\n",
    "\n",
    "Ademas, podemos contar el numero de recetas que pertenecen a un cierto rango de precio, por ejemplo :"
   ]
  },
  {
   "cell_type": "markdown",
   "id": "6b92ae4e",
   "metadata": {},
   "source": [
    "```sql\n",
    "SELECT COUNT(*) FROM recetas WHERE precio BETWEEN 5 and 10;\n",
    "```\n",
    "\n",
    "<div style=\"border-left: 5px solid #04E720; padding:1.25rem; border-right: 1px solid #eee;  border-top: 1px solid #eee;  border-bottom: 1px solid #eee;\">\n",
    "\n",
    "<h5 id=\"ensure-correct-role-and-provide-a-label\">Explicación de BETWEEN: </h5>\n",
    "\n",
    "En ingles significa (entre) y hace referencia a los valores entre 5 y 10.  \n",
    "</div>"
   ]
  },
  {
   "cell_type": "markdown",
   "id": "83484eb1",
   "metadata": {},
   "source": [
    "Esta sentencia te devolvería un numero de recetas que estan en el rango de precio entre 5 y 10.\n",
    "\n",
    "Otra forma de utilizar la función COUNT es contar el numero de recetas con un determinado valor en una columna especifica, por ejemplo:"
   ]
  },
  {
   "cell_type": "markdown",
   "id": "d2c91c75",
   "metadata": {},
   "source": [
    "```sql\n",
    "SELECT COUNT(*) FROM recetas WHERE calorias > 500;\n",
    "\n",
    "```"
   ]
  },
  {
   "cell_type": "markdown",
   "id": "06567c2d",
   "metadata": {},
   "source": [
    "Esta sentencia te devolvería un numero de recetas que tienen mas de 500 calorias.\n",
    "\n",
    "En resumen, COUNT es una función muy útil que te permite contar el número de filas en una tabla o en el resultado de una consulta, y es especialmente útil para obtener estadísticas y hacer seguimiento del tamaño y contenido de tus tablas en una base de datos."
   ]
  },
  {
   "cell_type": "code",
   "execution_count": 1,
   "id": "32e28433",
   "metadata": {},
   "outputs": [],
   "source": [
    "#Iniciar SQLite\n",
    "%load_ext sql\n",
    "%sql sqlite://"
   ]
  },
  {
   "cell_type": "code",
   "execution_count": 2,
   "id": "626ab438",
   "metadata": {},
   "outputs": [
    {
     "name": "stdout",
     "output_type": "stream",
     "text": [
      " * sqlite://\n",
      "Done.\n",
      "10 rows affected.\n"
     ]
    },
    {
     "data": {
      "text/plain": [
       "[]"
      ]
     },
     "execution_count": 2,
     "metadata": {},
     "output_type": "execute_result"
    }
   ],
   "source": [
    "%%sql\n",
    "CREATE TABLE recetas (\n",
    "    id INTEGER PRIMARY KEY AUTOINCREMENT,\n",
    "    nombre VARCHAR(255),\n",
    "    precio FLOAT,\n",
    "    calorias INT,\n",
    "    proteina FLOAT,\n",
    "    carbohidratos FLOAT,\n",
    "    grasas FLOAT,\n",
    "    ingredientes VARCHAR(255)\n",
    ");\n",
    "\n",
    "INSERT INTO recetas (nombre, precio, calorias, proteina, carbohidratos, grasas, ingredientes) VALUES\n",
    "(\"Pollo a la parrilla\", 12.5, 350, 30, 15, 12, \"pollo, sal, pimienta, aceite de oliva\"),\n",
    "(\"Arroz frito\", 8.5, 400, 20, 50, 15, \"Arroz, huevos, cebolla, ajo, aceite\"),\n",
    "(\"Spaghetti Bolognesa\", 9.0, 500, 25, 60, 20, \"Espagueti, carne molida, salsa de tomate, queso rallado, ajo\"),\n",
    "(\"Paella\", 15.0, 650, 30, 70, 25, \"Arroz, mariscos, pollo, chorizo, pimiento, cebolla, ajo\"),\n",
    "(\"Taco al pastor\", 2.5, 200, 10, 15, 5, \"tortillas, pastor, cebolla, piña, cilantro, limon\"),\n",
    "(\"Churros\", 5.0, 400, 5, 60, 20, \"Agua, harina, huevos, azúcar, aceite, sal\"),\n",
    "(\"Enchiladas\", 7.5, 450, 20, 40, 15, \"tortillas, pollo, queso, chile, crema, cebolla, cilantro\"),\n",
    "(\"Lasagna\", 10.0, 550, 30, 50, 25, \"lasaña, carne molida, salsa de tomate, queso ricotta, queso rallado, ajo, orégano\"),\n",
    "(\"Sushi\", 20.0, 250, 20, 30, 10, \"Arroz de sushi, salmón, aguacate, pepino\"),\n",
    "(\"Ramen\", 15.0, 400, 25, 50, 20, \"Fideos ramen, caldo, pollo, cebolla, zanahoria, cebolla verde, chile\");"
   ]
  },
  {
   "cell_type": "code",
   "execution_count": 3,
   "id": "eb7dc734",
   "metadata": {},
   "outputs": [
    {
     "name": "stdout",
     "output_type": "stream",
     "text": [
      " * sqlite://\n",
      "Done.\n"
     ]
    },
    {
     "data": {
      "text/html": [
       "<table>\n",
       "    <tr>\n",
       "        <th>id</th>\n",
       "        <th>nombre</th>\n",
       "        <th>precio</th>\n",
       "        <th>calorias</th>\n",
       "        <th>proteina</th>\n",
       "        <th>carbohidratos</th>\n",
       "        <th>grasas</th>\n",
       "        <th>ingredientes</th>\n",
       "    </tr>\n",
       "    <tr>\n",
       "        <td>1</td>\n",
       "        <td>Pollo a la parrilla</td>\n",
       "        <td>12.5</td>\n",
       "        <td>350</td>\n",
       "        <td>30.0</td>\n",
       "        <td>15.0</td>\n",
       "        <td>12.0</td>\n",
       "        <td>pollo, sal, pimienta, aceite de oliva</td>\n",
       "    </tr>\n",
       "    <tr>\n",
       "        <td>2</td>\n",
       "        <td>Arroz frito</td>\n",
       "        <td>8.5</td>\n",
       "        <td>400</td>\n",
       "        <td>20.0</td>\n",
       "        <td>50.0</td>\n",
       "        <td>15.0</td>\n",
       "        <td>Arroz, huevos, cebolla, ajo, aceite</td>\n",
       "    </tr>\n",
       "    <tr>\n",
       "        <td>3</td>\n",
       "        <td>Spaghetti Bolognesa</td>\n",
       "        <td>9.0</td>\n",
       "        <td>500</td>\n",
       "        <td>25.0</td>\n",
       "        <td>60.0</td>\n",
       "        <td>20.0</td>\n",
       "        <td>Espagueti, carne molida, salsa de tomate, queso rallado, ajo</td>\n",
       "    </tr>\n",
       "    <tr>\n",
       "        <td>4</td>\n",
       "        <td>Paella</td>\n",
       "        <td>15.0</td>\n",
       "        <td>600</td>\n",
       "        <td>30.0</td>\n",
       "        <td>70.0</td>\n",
       "        <td>25.0</td>\n",
       "        <td>Arroz, mariscos, pollo, chorizo, pimiento, cebolla, ajo</td>\n",
       "    </tr>\n",
       "    <tr>\n",
       "        <td>5</td>\n",
       "        <td>Taco al pastor</td>\n",
       "        <td>2.5</td>\n",
       "        <td>200</td>\n",
       "        <td>10.0</td>\n",
       "        <td>15.0</td>\n",
       "        <td>5.0</td>\n",
       "        <td>tortillas, pastor, cebolla, piña, cilantro, limon</td>\n",
       "    </tr>\n",
       "    <tr>\n",
       "        <td>6</td>\n",
       "        <td>Churros</td>\n",
       "        <td>5.0</td>\n",
       "        <td>400</td>\n",
       "        <td>5.0</td>\n",
       "        <td>60.0</td>\n",
       "        <td>20.0</td>\n",
       "        <td>Agua, harina, huevos, azúcar, aceite, sal</td>\n",
       "    </tr>\n",
       "    <tr>\n",
       "        <td>7</td>\n",
       "        <td>Enchiladas</td>\n",
       "        <td>7.5</td>\n",
       "        <td>450</td>\n",
       "        <td>20.0</td>\n",
       "        <td>40.0</td>\n",
       "        <td>15.0</td>\n",
       "        <td>tortillas, pollo, queso, chile, crema, cebolla, cilantro</td>\n",
       "    </tr>\n",
       "    <tr>\n",
       "        <td>8</td>\n",
       "        <td>Lasagna</td>\n",
       "        <td>10.0</td>\n",
       "        <td>550</td>\n",
       "        <td>30.0</td>\n",
       "        <td>50.0</td>\n",
       "        <td>25.0</td>\n",
       "        <td>lasaña, carne molida, salsa de tomate, queso ricotta, queso rallado, ajo, orégano</td>\n",
       "    </tr>\n",
       "    <tr>\n",
       "        <td>9</td>\n",
       "        <td>Sushi</td>\n",
       "        <td>20.0</td>\n",
       "        <td>250</td>\n",
       "        <td>20.0</td>\n",
       "        <td>30.0</td>\n",
       "        <td>10.0</td>\n",
       "        <td>Arroz de sushi, salmón, aguacate, pepino</td>\n",
       "    </tr>\n",
       "    <tr>\n",
       "        <td>10</td>\n",
       "        <td>Ramen</td>\n",
       "        <td>15.0</td>\n",
       "        <td>400</td>\n",
       "        <td>25.0</td>\n",
       "        <td>50.0</td>\n",
       "        <td>20.0</td>\n",
       "        <td>Fideos ramen, caldo, pollo, cebolla, zanahoria, cebolla verde, chile</td>\n",
       "    </tr>\n",
       "</table>"
      ],
      "text/plain": [
       "[(1, 'Pollo a la parrilla', 12.5, 350, 30.0, 15.0, 12.0, 'pollo, sal, pimienta, aceite de oliva'),\n",
       " (2, 'Arroz frito', 8.5, 400, 20.0, 50.0, 15.0, 'Arroz, huevos, cebolla, ajo, aceite'),\n",
       " (3, 'Spaghetti Bolognesa', 9.0, 500, 25.0, 60.0, 20.0, 'Espagueti, carne molida, salsa de tomate, queso rallado, ajo'),\n",
       " (4, 'Paella', 15.0, 600, 30.0, 70.0, 25.0, 'Arroz, mariscos, pollo, chorizo, pimiento, cebolla, ajo'),\n",
       " (5, 'Taco al pastor', 2.5, 200, 10.0, 15.0, 5.0, 'tortillas, pastor, cebolla, piña, cilantro, limon'),\n",
       " (6, 'Churros', 5.0, 400, 5.0, 60.0, 20.0, 'Agua, harina, huevos, azúcar, aceite, sal'),\n",
       " (7, 'Enchiladas', 7.5, 450, 20.0, 40.0, 15.0, 'tortillas, pollo, queso, chile, crema, cebolla, cilantro'),\n",
       " (8, 'Lasagna', 10.0, 550, 30.0, 50.0, 25.0, 'lasaña, carne molida, salsa de tomate, queso ricotta, queso rallado, ajo, orégano'),\n",
       " (9, 'Sushi', 20.0, 250, 20.0, 30.0, 10.0, 'Arroz de sushi, salmón, aguacate, pepino'),\n",
       " (10, 'Ramen', 15.0, 400, 25.0, 50.0, 20.0, 'Fideos ramen, caldo, pollo, cebolla, zanahoria, cebolla verde, chile')]"
      ]
     },
     "execution_count": 3,
     "metadata": {},
     "output_type": "execute_result"
    }
   ],
   "source": [
    "%%sql\n",
    "SELECT * FROM recetas;"
   ]
  },
  {
   "cell_type": "markdown",
   "id": "bd90914b",
   "metadata": {},
   "source": [
    "# Actividad 1\n",
    "\n",
    "Por ejemplo, si quisiera saber cuantos platos tenemos que cuesten menos de 8 a 10 USD, tenemos que contarlos."
   ]
  },
  {
   "cell_type": "code",
   "execution_count": 4,
   "id": "2237eb20",
   "metadata": {},
   "outputs": [
    {
     "name": "stdout",
     "output_type": "stream",
     "text": [
      " * sqlite://\n",
      "Done.\n"
     ]
    },
    {
     "data": {
      "text/html": [
       "<table>\n",
       "    <tr>\n",
       "        <th>count(*)</th>\n",
       "    </tr>\n",
       "    <tr>\n",
       "        <td>3</td>\n",
       "    </tr>\n",
       "</table>"
      ],
      "text/plain": [
       "[(3,)]"
      ]
     },
     "execution_count": 4,
     "metadata": {},
     "output_type": "execute_result"
    }
   ],
   "source": [
    "%%sql\n",
    "SELECT count(*) FROM recetas WHERE precio BETWEEN 8 and 10;"
   ]
  },
  {
   "cell_type": "markdown",
   "id": "38f11c96",
   "metadata": {},
   "source": [
    "<hr style=\"height:5px; width: 100%; border-radius: 20%; background-color:#E7046B ; border-color: #E7046B\">"
   ]
  },
  {
   "cell_type": "markdown",
   "id": "33c0d3ba",
   "metadata": {},
   "source": [
    "# Ejercicio 1\n",
    "\n",
    "Cree una consulta en SQL que me muestre el nombre y el precio de recetas que estan entre 8 USD y 10 USD\n",
    "\n",
    "\n",
    "<div style=\"border-left: 5px solid #04E720; padding:1.25rem; border-right: 1px solid #eee;  border-top: 1px solid #eee;  border-bottom: 1px solid #eee;\">\n",
    "\n",
    "<h5 id=\"ensure-correct-role-and-provide-a-label\">Pista, utiliza BETWEEN: </h5>\n",
    "\n",
    "Utiliza BETWEEN para resolver este ejercicio\n",
    "</div>"
   ]
  },
  {
   "cell_type": "code",
   "execution_count": 5,
   "id": "27c25492",
   "metadata": {},
   "outputs": [
    {
     "name": "stdout",
     "output_type": "stream",
     "text": [
      " * sqlite://\n",
      "Done.\n"
     ]
    },
    {
     "data": {
      "text/html": [
       "<table>\n",
       "    <tr>\n",
       "        <th>nombre</th>\n",
       "        <th>precio</th>\n",
       "    </tr>\n",
       "    <tr>\n",
       "        <td>Arroz frito</td>\n",
       "        <td>8.5</td>\n",
       "    </tr>\n",
       "    <tr>\n",
       "        <td>Spaghetti Bolognesa</td>\n",
       "        <td>9.0</td>\n",
       "    </tr>\n",
       "    <tr>\n",
       "        <td>Lasagna</td>\n",
       "        <td>10.0</td>\n",
       "    </tr>\n",
       "</table>"
      ],
      "text/plain": [
       "[('Arroz frito', 8.5), ('Spaghetti Bolognesa', 9.0), ('Lasagna', 10.0)]"
      ]
     },
     "execution_count": 5,
     "metadata": {},
     "output_type": "execute_result"
    }
   ],
   "source": [
    "%%sql\n",
    "SELECT nombre, precio FROM recetas WHERE precio BETWEEN 8 and 10;"
   ]
  },
  {
   "cell_type": "markdown",
   "id": "33fe5b1e",
   "metadata": {},
   "source": [
    "# Ejercicio 2.\n",
    "\n",
    "Crea una consulta que nos muestre el nombre, precio e ingredientes de recetas que contengan queso.\n",
    "\n",
    "<div style=\"border-left: 5px solid #04E720; padding:1.25rem; border-right: 1px solid #eee;  border-top: 1px solid #eee;  border-bottom: 1px solid #eee;\">\n",
    "\n",
    "<h5 id=\"ensure-correct-role-and-provide-a-label\">Utiliza LIKE: </h5>\n",
    "\n",
    "Recuerda utilizar LIKE '%variable%'\n",
    "</div>"
   ]
  },
  {
   "cell_type": "code",
   "execution_count": 6,
   "id": "78d2b315",
   "metadata": {},
   "outputs": [
    {
     "name": "stdout",
     "output_type": "stream",
     "text": [
      " * sqlite://\n",
      "Done.\n"
     ]
    },
    {
     "data": {
      "text/html": [
       "<table>\n",
       "    <tr>\n",
       "        <th>nombre</th>\n",
       "        <th>precio</th>\n",
       "        <th>ingredientes</th>\n",
       "    </tr>\n",
       "    <tr>\n",
       "        <td>Spaghetti Bolognesa</td>\n",
       "        <td>9.0</td>\n",
       "        <td>Espagueti, carne molida, salsa de tomate, queso rallado, ajo</td>\n",
       "    </tr>\n",
       "    <tr>\n",
       "        <td>Enchiladas</td>\n",
       "        <td>7.5</td>\n",
       "        <td>tortillas, pollo, queso, chile, crema, cebolla, cilantro</td>\n",
       "    </tr>\n",
       "    <tr>\n",
       "        <td>Lasagna</td>\n",
       "        <td>10.0</td>\n",
       "        <td>lasaña, carne molida, salsa de tomate, queso ricotta, queso rallado, ajo, orégano</td>\n",
       "    </tr>\n",
       "</table>"
      ],
      "text/plain": [
       "[('Spaghetti Bolognesa', 9.0, 'Espagueti, carne molida, salsa de tomate, queso rallado, ajo'),\n",
       " ('Enchiladas', 7.5, 'tortillas, pollo, queso, chile, crema, cebolla, cilantro'),\n",
       " ('Lasagna', 10.0, 'lasaña, carne molida, salsa de tomate, queso ricotta, queso rallado, ajo, orégano')]"
      ]
     },
     "execution_count": 6,
     "metadata": {},
     "output_type": "execute_result"
    }
   ],
   "source": [
    "%%sql\n",
    "SELECT nombre, precio, ingredientes FROM recetas WHERE ingredientes LIKE '%queso%';"
   ]
  },
  {
   "cell_type": "markdown",
   "id": "d5bd4a5a",
   "metadata": {},
   "source": [
    "# Ejercicio 3.\n",
    "\n",
    "Bien, ahora tenemos contar cuantas recetas se hacen con queso\n",
    "\n",
    "<div style=\"border-left: 5px solid #04E720; padding:1.25rem; border-right: 1px solid #eee;  border-top: 1px solid #eee;  border-bottom: 1px solid #eee;\">\n",
    "\n",
    "<h5 id=\"ensure-correct-role-and-provide-a-label\">Utiliza COUNT </h5>\n",
    "\n",
    "\n",
    "</div>"
   ]
  },
  {
   "cell_type": "code",
   "execution_count": 10,
   "id": "fb576c03",
   "metadata": {},
   "outputs": [
    {
     "name": "stdout",
     "output_type": "stream",
     "text": [
      " * sqlite://\n",
      "Done.\n"
     ]
    },
    {
     "data": {
      "text/html": [
       "<table>\n",
       "    <tr>\n",
       "        <th>nombre</th>\n",
       "        <th>COUNT(*)</th>\n",
       "    </tr>\n",
       "    <tr>\n",
       "        <td>Pollo a la parrilla</td>\n",
       "        <td>4</td>\n",
       "    </tr>\n",
       "</table>"
      ],
      "text/plain": [
       "[('Pollo a la parrilla', 4)]"
      ]
     },
     "execution_count": 10,
     "metadata": {},
     "output_type": "execute_result"
    }
   ],
   "source": [
    "%%sql\n",
    "SELECT nombre, COUNT(*) FROM recetas WHERE ingredientes LIKE '%pollo%';"
   ]
  },
  {
   "cell_type": "markdown",
   "id": "f0b78705",
   "metadata": {},
   "source": [
    "# Ejercicio 4.\n",
    "\n",
    "Resuelva el siguiente ejercicio, lea atentamente el enunciado.\n",
    "\n",
    "1. Utilizando la tabla \"recetas\", escriba una consulta SQL que encuentre todas las recetas que contengan \"cebolla\" y \"pollo\" como ingredientes.\n",
    "\n",
    "2. La consulta debe seleccionar todas las columnas de la tabla \"recetas\" para cada receta encontrada.\n",
    "\n",
    "3. Utilice el comando LIKE y los caracteres % como comodines para buscar los ingredientes \"cebolla\" y \"pollo\" dentro del campo \"ingredientes\".\n",
    "\n",
    "4. Ejecute su consulta y anote el nombre de las recetas que cumplen con los criterios de búsqueda.\n",
    "\n",
    "</div>"
   ]
  },
  {
   "cell_type": "code",
   "execution_count": 9,
   "id": "00b19177",
   "metadata": {},
   "outputs": [
    {
     "name": "stdout",
     "output_type": "stream",
     "text": [
      " * sqlite://\n",
      "Done.\n"
     ]
    },
    {
     "data": {
      "text/html": [
       "<table>\n",
       "    <tr>\n",
       "        <th>id</th>\n",
       "        <th>nombre</th>\n",
       "        <th>precio</th>\n",
       "        <th>calorias</th>\n",
       "        <th>proteina</th>\n",
       "        <th>carbohidratos</th>\n",
       "        <th>grasas</th>\n",
       "        <th>ingredientes</th>\n",
       "    </tr>\n",
       "    <tr>\n",
       "        <td>4</td>\n",
       "        <td>Paella</td>\n",
       "        <td>15.0</td>\n",
       "        <td>600</td>\n",
       "        <td>30.0</td>\n",
       "        <td>70.0</td>\n",
       "        <td>25.0</td>\n",
       "        <td>Arroz, mariscos, pollo, chorizo, pimiento, cebolla, ajo</td>\n",
       "    </tr>\n",
       "    <tr>\n",
       "        <td>7</td>\n",
       "        <td>Enchiladas</td>\n",
       "        <td>7.5</td>\n",
       "        <td>450</td>\n",
       "        <td>20.0</td>\n",
       "        <td>40.0</td>\n",
       "        <td>15.0</td>\n",
       "        <td>tortillas, pollo, queso, chile, crema, cebolla, cilantro</td>\n",
       "    </tr>\n",
       "    <tr>\n",
       "        <td>10</td>\n",
       "        <td>Ramen</td>\n",
       "        <td>15.0</td>\n",
       "        <td>400</td>\n",
       "        <td>25.0</td>\n",
       "        <td>50.0</td>\n",
       "        <td>20.0</td>\n",
       "        <td>Fideos ramen, caldo, pollo, cebolla, zanahoria, cebolla verde, chile</td>\n",
       "    </tr>\n",
       "</table>"
      ],
      "text/plain": [
       "[(4, 'Paella', 15.0, 600, 30.0, 70.0, 25.0, 'Arroz, mariscos, pollo, chorizo, pimiento, cebolla, ajo'),\n",
       " (7, 'Enchiladas', 7.5, 450, 20.0, 40.0, 15.0, 'tortillas, pollo, queso, chile, crema, cebolla, cilantro'),\n",
       " (10, 'Ramen', 15.0, 400, 25.0, 50.0, 20.0, 'Fideos ramen, caldo, pollo, cebolla, zanahoria, cebolla verde, chile')]"
      ]
     },
     "execution_count": 9,
     "metadata": {},
     "output_type": "execute_result"
    }
   ],
   "source": [
    "%%sql\n",
    "SELECT * FROM recetas\n",
    "WHERE ingredientes LIKE '%cebolla%' AND ingredientes LIKE '%pollo%'"
   ]
  },
  {
   "cell_type": "markdown",
   "id": "d550d5ae",
   "metadata": {},
   "source": [
    "# Ejercicio 5\n",
    "\n",
    "\n",
    "Ejercicio para los alumnos:\n",
    "\n",
    "1. Utilizando la tabla \"recetas\", escriba una consulta SQL que cuente cuantas recetas contienen \"cebolla\" y \"pollo\" como ingredientes.\n",
    "\n",
    "2. La consulta debe utilizar el comando COUNT para contar el número de filas que cumplen con los criterios de búsqueda.\n",
    "\n",
    "3. Utilice el comando LIKE y los caracteres % como comodines para buscar los ingredientes \"cebolla\" y \"pollo\" dentro del campo \"ingredientes\".\n",
    "\n",
    "4. Ejecute su consulta y anote el resultado obtenido.\n",
    "\n",
    "Respuesta:"
   ]
  },
  {
   "cell_type": "code",
   "execution_count": 11,
   "id": "bff1de52",
   "metadata": {},
   "outputs": [
    {
     "name": "stdout",
     "output_type": "stream",
     "text": [
      " * sqlite://\n",
      "Done.\n"
     ]
    },
    {
     "data": {
      "text/html": [
       "<table>\n",
       "    <tr>\n",
       "        <th>COUNT(*)</th>\n",
       "    </tr>\n",
       "    <tr>\n",
       "        <td>3</td>\n",
       "    </tr>\n",
       "</table>"
      ],
      "text/plain": [
       "[(3,)]"
      ]
     },
     "execution_count": 11,
     "metadata": {},
     "output_type": "execute_result"
    }
   ],
   "source": [
    "%%sql\n",
    "SELECT COUNT(*) FROM recetas\n",
    "WHERE ingredientes LIKE '%cebolla%' AND ingredientes LIKE '%pollo%'"
   ]
  },
  {
   "cell_type": "markdown",
   "id": "9bfd170f",
   "metadata": {},
   "source": [
    "<hr style=\"height:5px; width: 100%; border-radius: 20%; background-color:#E7046B ; border-color: #E7046B\">"
   ]
  }
 ],
 "metadata": {
  "kernelspec": {
   "display_name": "Python 3 (ipykernel)",
   "language": "python",
   "name": "python3"
  },
  "language_info": {
   "codemirror_mode": {
    "name": "ipython",
    "version": 3
   },
   "file_extension": ".py",
   "mimetype": "text/x-python",
   "name": "python",
   "nbconvert_exporter": "python",
   "pygments_lexer": "ipython3",
   "version": "3.9.7"
  }
 },
 "nbformat": 4,
 "nbformat_minor": 5
}
