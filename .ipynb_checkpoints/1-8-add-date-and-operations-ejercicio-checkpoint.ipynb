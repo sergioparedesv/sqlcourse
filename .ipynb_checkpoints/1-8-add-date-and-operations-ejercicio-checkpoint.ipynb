{
 "cells": [
  {
   "cell_type": "markdown",
   "id": "a71f4351",
   "metadata": {},
   "source": [
    "# Ejercicios"
   ]
  },
  {
   "cell_type": "markdown",
   "id": "14563206",
   "metadata": {},
   "source": [
    "<div style=\"border-left: 5px solid #f0ad4e; padding:1.25rem; border-right: 1px solid #eee;  border-top: 1px solid #eee;  border-bottom: 1px solid #eee;\">\n",
    "\n",
    "<h5 id=\"ensure-correct-role-and-provide-a-label\">Nota Aclaratoria</h5>\n",
    "\n",
    "<p>Antes de cada consulta tenemos que colocar  <b>%%sql</b>, la herramienta de comandos magicos de SQL</p>\n",
    "\n",
    "</div>"
   ]
  },
  {
   "cell_type": "code",
   "execution_count": 1,
   "id": "26746eb4",
   "metadata": {},
   "outputs": [],
   "source": [
    "%load_ext sql\n",
    "%sql sqlite://"
   ]
  },
  {
   "cell_type": "code",
   "execution_count": 2,
   "id": "eaaf30c7",
   "metadata": {},
   "outputs": [
    {
     "name": "stdout",
     "output_type": "stream",
     "text": [
      " * sqlite://\n",
      "Done.\n",
      "12 rows affected.\n"
     ]
    },
    {
     "data": {
      "text/plain": [
       "[]"
      ]
     },
     "execution_count": 2,
     "metadata": {},
     "output_type": "execute_result"
    }
   ],
   "source": [
    "%%sql\n",
    "CREATE TABLE groceries (\n",
    "  id INTEGER PRIMARY KEY,\n",
    "  product_name TEXT,\n",
    "  quantity INTEGER,\n",
    "  price REAL,\n",
    "  aisle INTEGER\n",
    ");\n",
    "\n",
    "INSERT INTO groceries (product_name, quantity, price, aisle)\n",
    "VALUES\n",
    "  ('Tomatoes', 5, 0.99, 3),\n",
    "  ('Apples', 3, 1.49, 1),\n",
    "  ('Bananas', 6, 0.79, 1),\n",
    "  ('Carrots', 2, 0.59, 3),\n",
    "  ('Onions', 1, 0.49, 3),\n",
    "  ('Lettuce', 1, 0.99, 2),\n",
    "  ('Potatoes', 5, 0.99, 3),\n",
    "  ('Bread', 1, 2.49, 4),\n",
    "  ('Milk', 1, 3.49, 5),\n",
    "  ('Eggs', 12, 2.99, 5),\n",
    "  ('Peaches', 4, 1.99, 3),\n",
    "  ('Cereal', 1, 4.99, 4);"
   ]
  },
  {
   "cell_type": "markdown",
   "id": "954bf897",
   "metadata": {},
   "source": [
    "A continuación encontraras cinco ejercicios en qle utilizando la tabla \"groceries\" utilizando las funciones AVG(), SUM(), MAX(), MIN() y GROUP BY:"
   ]
  },
  {
   "cell_type": "markdown",
   "id": "4e10b857",
   "metadata": {},
   "source": [
    "<hr style=\"height:5px; width: 100%; border-radius: 20%; background-color:#E7046B ; border-color: #E7046B\">"
   ]
  },
  {
   "cell_type": "markdown",
   "id": "db65301c",
   "metadata": {},
   "source": [
    "# Ejercicio 1\n",
    "\n",
    "Muestra el precio promedio de todos los productos:"
   ]
  },
  {
   "cell_type": "code",
   "execution_count": null,
   "id": "95e1ec3a",
   "metadata": {},
   "outputs": [],
   "source": []
  },
  {
   "cell_type": "markdown",
   "id": "7d614c06",
   "metadata": {},
   "source": [
    "# Ejercicio 2\n",
    "\n",
    "Muestra el total de todos los productos:"
   ]
  },
  {
   "cell_type": "code",
   "execution_count": null,
   "id": "788a6bca",
   "metadata": {},
   "outputs": [],
   "source": []
  },
  {
   "cell_type": "markdown",
   "id": "af7de0f6",
   "metadata": {},
   "source": [
    "# Ejercicio 3\n",
    "\n",
    "Muestra el producto más caro:\n"
   ]
  },
  {
   "cell_type": "code",
   "execution_count": null,
   "id": "a3b70b96",
   "metadata": {},
   "outputs": [],
   "source": []
  },
  {
   "cell_type": "markdown",
   "id": "b367011e",
   "metadata": {},
   "source": [
    "# Ejercicio 4\n",
    "\n",
    "Muestra el producto más barato:"
   ]
  },
  {
   "cell_type": "code",
   "execution_count": null,
   "id": "3368b78d",
   "metadata": {},
   "outputs": [],
   "source": []
  },
  {
   "cell_type": "markdown",
   "id": "d6950397",
   "metadata": {},
   "source": [
    "# Ejercicio 5\n",
    "\n",
    "Muestra la suma total de cantidades de productos por pasillo:"
   ]
  },
  {
   "cell_type": "code",
   "execution_count": null,
   "id": "9b4f5147",
   "metadata": {},
   "outputs": [],
   "source": []
  },
  {
   "cell_type": "markdown",
   "id": "6b985282",
   "metadata": {},
   "source": [
    "<hr style=\"height:5px; width: 100%; border-radius: 20%; background-color:#E7046B ; border-color: #E7046B\">"
   ]
  }
 ],
 "metadata": {
  "kernelspec": {
   "display_name": "Python 3 (ipykernel)",
   "language": "python",
   "name": "python3"
  },
  "language_info": {
   "codemirror_mode": {
    "name": "ipython",
    "version": 3
   },
   "file_extension": ".py",
   "mimetype": "text/x-python",
   "name": "python",
   "nbconvert_exporter": "python",
   "pygments_lexer": "ipython3",
   "version": "3.9.7"
  }
 },
 "nbformat": 4,
 "nbformat_minor": 5
}
