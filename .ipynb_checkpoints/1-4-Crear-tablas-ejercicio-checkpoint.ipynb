{
 "cells": [
  {
   "cell_type": "markdown",
   "id": "44ce458d",
   "metadata": {},
   "source": [
    "<div style=\"border-left: 5px solid #f0ad4e; padding:1.25rem; border-right: 1px solid #eee;  border-top: 1px solid #eee;  border-bottom: 1px solid #eee;\">\n",
    "\n",
    "<h5 id=\"ensure-correct-role-and-provide-a-label\">Nota Aclaratoria</h5>\n",
    "\n",
    "<p>Antes de cada consulta tenemos que colocar  <b>%%sql</b>, la herramienta de comandos magicos de SQL</p>\n",
    "\n",
    "</div>"
   ]
  },
  {
   "cell_type": "markdown",
   "id": "35749e89",
   "metadata": {},
   "source": [
    "# Ejercicio 1"
   ]
  },
  {
   "cell_type": "markdown",
   "id": "63fa3d61",
   "metadata": {},
   "source": [
    "Crea una tabla en **SQL** llamada sales/ventas, esta tabla debera tener las columnas de **ID, product_name, quantity, price, discount, total**, en cantidad procura colocar la cantidad de productos en existencia en la tienda, en price, el precio, discount, el descuento que tienen, y total, el"
   ]
  },
  {
   "cell_type": "code",
   "execution_count": null,
   "id": "70b87801",
   "metadata": {},
   "outputs": [],
   "source": []
  },
  {
   "cell_type": "markdown",
   "id": "98ed4512",
   "metadata": {},
   "source": [
    "# Ejercicio 2"
   ]
  },
  {
   "cell_type": "markdown",
   "id": "4d3e9a10",
   "metadata": {},
   "source": [
    "Ahora que has logrado crear la tabla intenta crear una consulta que haga una operación que calcule el precio total basado en el descuentos y el precio, implementa la siguiente linea en una consulta y explicala."
   ]
  },
  {
   "cell_type": "markdown",
   "id": "1bff9270",
   "metadata": {},
   "source": [
    "```sql\n",
    "SELECT product_name, price, discount, (price - price * discount) as total\n",
    "FROM sales;\n",
    "```"
   ]
  },
  {
   "cell_type": "code",
   "execution_count": null,
   "id": "d8d41d41",
   "metadata": {},
   "outputs": [],
   "source": [
    "#Consulta"
   ]
  },
  {
   "cell_type": "code",
   "execution_count": null,
   "id": "490fca37",
   "metadata": {},
   "outputs": [],
   "source": [
    "#Explicación"
   ]
  }
 ],
 "metadata": {
  "kernelspec": {
   "display_name": "Python 3 (ipykernel)",
   "language": "python",
   "name": "python3"
  },
  "language_info": {
   "codemirror_mode": {
    "name": "ipython",
    "version": 3
   },
   "file_extension": ".py",
   "mimetype": "text/x-python",
   "name": "python",
   "nbconvert_exporter": "python",
   "pygments_lexer": "ipython3",
   "version": "3.9.7"
  }
 },
 "nbformat": 4,
 "nbformat_minor": 5
}
