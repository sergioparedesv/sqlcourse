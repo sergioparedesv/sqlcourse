{
 "cells": [
  {
   "cell_type": "markdown",
   "id": "a71f4351",
   "metadata": {},
   "source": [
    "# Ejercicios"
   ]
  },
  {
   "cell_type": "markdown",
   "id": "14563206",
   "metadata": {},
   "source": [
    "<div style=\"border-left: 5px solid #f0ad4e; padding:1.25rem; border-right: 1px solid #eee;  border-top: 1px solid #eee;  border-bottom: 1px solid #eee;\">\n",
    "\n",
    "<h5 id=\"ensure-correct-role-and-provide-a-label\">Nota Aclaratoria</h5>\n",
    "\n",
    "<p>Antes de cada consulta tenemos que colocar  <b>%%sql</b>, la herramienta de comandos magicos de SQL</p>\n",
    "\n",
    "</div>"
   ]
  },
  {
   "cell_type": "code",
   "execution_count": 1,
   "id": "26746eb4",
   "metadata": {},
   "outputs": [],
   "source": [
    "%load_ext sql\n",
    "%sql sqlite://"
   ]
  },
  {
   "cell_type": "code",
   "execution_count": 2,
   "id": "eaaf30c7",
   "metadata": {},
   "outputs": [
    {
     "name": "stdout",
     "output_type": "stream",
     "text": [
      " * sqlite://\n",
      "Done.\n",
      "5 rows affected.\n",
      "Done.\n",
      "6 rows affected.\n"
     ]
    },
    {
     "data": {
      "text/plain": [
       "[]"
      ]
     },
     "execution_count": 2,
     "metadata": {},
     "output_type": "execute_result"
    }
   ],
   "source": [
    "%%sql\n",
    "CREATE TABLE clientes (\n",
    "  id INTEGER PRIMARY KEY,\n",
    "  nombre TEXT,\n",
    "  pais TEXT\n",
    ");\n",
    "\n",
    "INSERT INTO clientes (id, nombre, pais) VALUES\n",
    "  (1, 'Juan', 'España'),\n",
    "  (2, 'Maria', 'España'),\n",
    "  (3, 'Pedro', 'México'),\n",
    "  (4, 'Ana', 'Estados Unidos'),\n",
    "  (5, 'Carlos', 'España');\n",
    "\n",
    "CREATE TABLE pedidos (\n",
    "  id INTEGER PRIMARY KEY,\n",
    "  id_cliente INTEGER,\n",
    "  monto REAL,\n",
    "  FOREIGN KEY (id_cliente) REFERENCES clientes (id)\n",
    ");\n",
    "\n",
    "INSERT INTO pedidos (id, id_cliente, monto) VALUES\n",
    "  (1, 1, 100),\n",
    "  (2, 2, 50),\n",
    "  (3, 3, 75),\n",
    "  (4, 4, 200),\n",
    "  (5, 1, 25),\n",
    "  (6, 5, 125);"
   ]
  },
  {
   "cell_type": "markdown",
   "id": "954bf897",
   "metadata": {},
   "source": [
    "A continuación encontraras cinco ejercicios en qle utilizando la tablas **\"clientes y pedidos\"** utilizando las funciones **IN**"
   ]
  },
  {
   "cell_type": "markdown",
   "id": "4e10b857",
   "metadata": {},
   "source": [
    "<hr style=\"height:5px; width: 100%; border-radius: 20%; background-color:#E7046B ; border-color: #E7046B\">"
   ]
  },
  {
   "cell_type": "markdown",
   "id": "7d614c06",
   "metadata": {},
   "source": [
    "# Ejercicio 1\n",
    "\n",
    "Selecciona el nombre y país de todos los clientes que hayan realizado al menos un pedido:"
   ]
  },
  {
   "cell_type": "markdown",
   "id": "050efc7b",
   "metadata": {},
   "source": [
    "<div style=\"border-left: 5px solid #04E720; padding:1.25rem; border-right: 1px solid #eee;  border-top: 1px solid #eee;  border-bottom: 1px solid #eee;\"><h5 id=\"ensure-correct-role-and-provide-a-label\">Pista: </h5>\n",
    "\n",
    "Recuerda anidar la sentencia SELECT dentro de la setencia WHERE\n",
    "</div>\n",
    "\n",
    "```sql\n",
    "IN (SELECT id_cliente FROM pedidos);\n",
    "\n",
    "```"
   ]
  },
  {
   "cell_type": "code",
   "execution_count": 3,
   "id": "788a6bca",
   "metadata": {},
   "outputs": [
    {
     "name": "stdout",
     "output_type": "stream",
     "text": [
      " * sqlite://\n",
      "Done.\n"
     ]
    },
    {
     "data": {
      "text/html": [
       "<table>\n",
       "    <tr>\n",
       "        <th>nombre</th>\n",
       "        <th>pais</th>\n",
       "    </tr>\n",
       "    <tr>\n",
       "        <td>Juan</td>\n",
       "        <td>España</td>\n",
       "    </tr>\n",
       "    <tr>\n",
       "        <td>Maria</td>\n",
       "        <td>España</td>\n",
       "    </tr>\n",
       "    <tr>\n",
       "        <td>Pedro</td>\n",
       "        <td>México</td>\n",
       "    </tr>\n",
       "    <tr>\n",
       "        <td>Ana</td>\n",
       "        <td>Estados Unidos</td>\n",
       "    </tr>\n",
       "    <tr>\n",
       "        <td>Carlos</td>\n",
       "        <td>España</td>\n",
       "    </tr>\n",
       "</table>"
      ],
      "text/plain": [
       "[('Juan', 'España'),\n",
       " ('Maria', 'España'),\n",
       " ('Pedro', 'México'),\n",
       " ('Ana', 'Estados Unidos'),\n",
       " ('Carlos', 'España')]"
      ]
     },
     "execution_count": 3,
     "metadata": {},
     "output_type": "execute_result"
    }
   ],
   "source": [
    "%%sql\n",
    "SELECT nombre, pais FROM clientes WHERE id IN (SELECT id_cliente FROM pedidos);"
   ]
  },
  {
   "cell_type": "markdown",
   "id": "af7de0f6",
   "metadata": {},
   "source": [
    "# Ejercicio 2\n",
    "\n",
    "\n",
    "Selecciona el nombre de todos los clientes que no hayan realizado ningún pedido:"
   ]
  },
  {
   "cell_type": "markdown",
   "id": "c68d7924",
   "metadata": {},
   "source": [
    "<div style=\"border-left: 5px solid #04E720; padding:1.25rem; border-right: 1px solid #eee;  border-top: 1px solid #eee;  border-bottom: 1px solid #eee;\"><h5 id=\"ensure-correct-role-and-provide-a-label\">Pista: </h5>\n",
    "\n",
    "-No todos los resultados deben proveer datos, aveces los resultdos de las consultas es que no existen, igual debes probarlo haciendo la consulta.\n",
    "</div>\n",
    "\n",
    "```sql\n",
    "WHERE id NOT IN \n",
    "```"
   ]
  },
  {
   "cell_type": "code",
   "execution_count": 4,
   "id": "a3b70b96",
   "metadata": {},
   "outputs": [
    {
     "name": "stdout",
     "output_type": "stream",
     "text": [
      " * sqlite://\n",
      "Done.\n"
     ]
    },
    {
     "data": {
      "text/html": [
       "<table>\n",
       "    <tr>\n",
       "        <th>nombre</th>\n",
       "    </tr>\n",
       "</table>"
      ],
      "text/plain": [
       "[]"
      ]
     },
     "execution_count": 4,
     "metadata": {},
     "output_type": "execute_result"
    }
   ],
   "source": [
    "%%sql\n",
    "SELECT nombre FROM clientes WHERE id NOT IN (SELECT id_cliente FROM pedidos);"
   ]
  },
  {
   "cell_type": "markdown",
   "id": "db65301c",
   "metadata": {},
   "source": [
    "# Ejercicio 3\n",
    "\n",
    "\n",
    "Selecciona el monto de todos los pedidos realizados por clientes que tengan un nombre que empiece con la letra 'M':"
   ]
  },
  {
   "cell_type": "markdown",
   "id": "8e7c1797",
   "metadata": {},
   "source": [
    "<div style=\"border-left: 5px solid #04E720; padding:1.25rem; border-right: 1px solid #eee;  border-top: 1px solid #eee;  border-bottom: 1px solid #eee;\"><h5 id=\"ensure-correct-role-and-provide-a-label\">Pista: </h5>\n",
    "\n",
    "1. Utiliza como ejemplo el comando LIKE que proporcionaremos abajo para consultar todos los hombres que empiecen por M\n",
    "</div>\n",
    "\n",
    "```sql\n",
    "WHERE nombre LIKE 'M%';\n",
    "\n",
    "\n",
    "```"
   ]
  },
  {
   "cell_type": "code",
   "execution_count": 9,
   "id": "dc0f2667",
   "metadata": {},
   "outputs": [
    {
     "name": "stdout",
     "output_type": "stream",
     "text": [
      " * sqlite://\n",
      "Done.\n"
     ]
    },
    {
     "data": {
      "text/html": [
       "<table>\n",
       "    <tr>\n",
       "        <th>monto</th>\n",
       "    </tr>\n",
       "    <tr>\n",
       "        <td>50.0</td>\n",
       "    </tr>\n",
       "</table>"
      ],
      "text/plain": [
       "[(50.0,)]"
      ]
     },
     "execution_count": 9,
     "metadata": {},
     "output_type": "execute_result"
    }
   ],
   "source": [
    "%%sql\n",
    "SELECT monto FROM pedidos\n",
    "WHERE id_cliente IN (SELECT id FROM clientes WHERE nombre LIKE 'M%');\n"
   ]
  },
  {
   "cell_type": "code",
   "execution_count": null,
   "id": "a07fe4d4",
   "metadata": {},
   "outputs": [],
   "source": []
  },
  {
   "cell_type": "markdown",
   "id": "3ee101bf",
   "metadata": {},
   "source": [
    "# Ejercicio 4\n",
    "\n",
    "\n",
    "Selecciona el monto de todos los pedidos realizados por clientes que tengan un nombre que empiece con la letra 'M':"
   ]
  },
  {
   "cell_type": "markdown",
   "id": "735d49fa",
   "metadata": {},
   "source": [
    "Selecciona el monto de todos los pedidos realizados por clientes que tengan un nombre de al menos 5 caracteres. Utiliza la tabla pedidos y la tabla clientes, pero no utilices la columna nombre de la tabla clientes.\n",
    "\n",
    "Solución:"
   ]
  },
  {
   "cell_type": "markdown",
   "id": "fd2d6f47",
   "metadata": {},
   "source": [
    "<div style=\"border-left: 5px solid #04E720; padding:1.25rem; border-right: 1px solid #eee;  border-top: 1px solid #eee;  border-bottom: 1px solid #eee;\"><h5 id=\"ensure-correct-role-and-provide-a-label\">Pista: </h5>\n",
    "\n",
    "1. Utiliza como ejemplo el comando LIKE que proporcionaremos abajo para consultar todos los hombres que empiecen por M\n",
    "</div>\n",
    "\n",
    "```sql\n",
    "WHERE LENGTH(pais) >= 5\n",
    "\n",
    "\n",
    "```"
   ]
  },
  {
   "cell_type": "code",
   "execution_count": 12,
   "id": "2e8a0e43",
   "metadata": {},
   "outputs": [
    {
     "name": "stdout",
     "output_type": "stream",
     "text": [
      " * sqlite://\n",
      "Done.\n"
     ]
    },
    {
     "data": {
      "text/html": [
       "<table>\n",
       "    <tr>\n",
       "        <th>monto</th>\n",
       "    </tr>\n",
       "    <tr>\n",
       "        <td>100.0</td>\n",
       "    </tr>\n",
       "    <tr>\n",
       "        <td>50.0</td>\n",
       "    </tr>\n",
       "    <tr>\n",
       "        <td>75.0</td>\n",
       "    </tr>\n",
       "    <tr>\n",
       "        <td>200.0</td>\n",
       "    </tr>\n",
       "    <tr>\n",
       "        <td>25.0</td>\n",
       "    </tr>\n",
       "    <tr>\n",
       "        <td>125.0</td>\n",
       "    </tr>\n",
       "</table>"
      ],
      "text/plain": [
       "[(100.0,), (50.0,), (75.0,), (200.0,), (25.0,), (125.0,)]"
      ]
     },
     "execution_count": 12,
     "metadata": {},
     "output_type": "execute_result"
    }
   ],
   "source": [
    "%%sql\n",
    "SELECT monto FROM pedidos\n",
    "WHERE id_cliente IN (SELECT id FROM clientes WHERE LENGTH(pais) >= 5);\n"
   ]
  },
  {
   "cell_type": "markdown",
   "id": "6b985282",
   "metadata": {},
   "source": [
    "<hr style=\"height:5px; width: 100%; border-radius: 20%; background-color:#E7046B ; border-color: #E7046B\">"
   ]
  }
 ],
 "metadata": {
  "kernelspec": {
   "display_name": "Python 3 (ipykernel)",
   "language": "python",
   "name": "python3"
  },
  "language_info": {
   "codemirror_mode": {
    "name": "ipython",
    "version": 3
   },
   "file_extension": ".py",
   "mimetype": "text/x-python",
   "name": "python",
   "nbconvert_exporter": "python",
   "pygments_lexer": "ipython3",
   "version": "3.9.7"
  }
 },
 "nbformat": 4,
 "nbformat_minor": 5
}
