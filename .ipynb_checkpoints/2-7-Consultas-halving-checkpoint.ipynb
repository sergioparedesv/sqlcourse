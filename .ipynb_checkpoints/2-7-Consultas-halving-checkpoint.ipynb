{
 "cells": [
  {
   "cell_type": "markdown",
   "id": "b6bf7392",
   "metadata": {},
   "source": [
    "# SENTENCIA HALVING"
   ]
  },
  {
   "cell_type": "markdown",
   "id": "213ee2c0",
   "metadata": {},
   "source": [
    "a cláusula HAVING se utiliza en consultas SELECT para filtrar los resultados de una consulta que incluye agrupamientos de datos. Esta cláusula se aplica después de agrupar los resultados mediante la cláusula GROUP BY, y funciona de manera similar a la cláusula WHERE, pero aplicada a los resultados agrupados en lugar de a las filas individuales.\n",
    "\n",
    "Por ejemplo, supongamos que tenemos una tabla sales con información sobre las ventas de una empresa, con las columnas salesperson, product y total. Podemos utilizar la cláusula HAVING para obtener una lista de los productos que han generado más de $1000 en ventas:"
   ]
  },
  {
   "cell_type": "markdown",
   "id": "9578530c",
   "metadata": {},
   "source": [
    "```sql\n",
    "SELECT product, SUM(total) as total_sales\n",
    "FROM sales\n",
    "GROUP BY product\n",
    "HAVING SUM(total) > 1000;\n",
    "```"
   ]
  },
  {
   "cell_type": "markdown",
   "id": "bc9c08f1",
   "metadata": {},
   "source": [
    "En este ejemplo, primero utilizamos la cláusula GROUP BY para agrupar los resultados por producto, y luego utilizamos la cláusula HAVING para filtrar los resultados y mostrar solo aquellos productos que han generado más de $1000 en ventas.\n",
    "\n",
    "Espero que esta explicación te haya ayudado a entender cómo funciona la cláusula HAVING en SQL. Si tienes alguna pregunta más, no dudes en preguntar."
   ]
  },
  {
   "cell_type": "markdown",
   "id": "f7a53386",
   "metadata": {},
   "source": [
    "  <a href=\"https://sqliteonline.com/\" target=\"_blank\"><button type=\"button\" class=\"btn btn-success\">\n",
    "  <a href=\"https://sqliteonline.com/\" target=\"_blank\" style=\"color: white; text-decoration:none;\">SQL online</a>\n",
    "</button></a>"
   ]
  },
  {
   "cell_type": "code",
   "execution_count": 1,
   "id": "ca14d1fa",
   "metadata": {},
   "outputs": [],
   "source": [
    "#Iniciar SQLite\n",
    "%load_ext sql\n",
    "%sql sqlite://"
   ]
  },
  {
   "cell_type": "markdown",
   "id": "0e458e0d",
   "metadata": {},
   "source": [
    "# Paso 1 crearemos la báse de datos."
   ]
  },
  {
   "cell_type": "code",
   "execution_count": 2,
   "id": "12ee11f2",
   "metadata": {},
   "outputs": [
    {
     "name": "stdout",
     "output_type": "stream",
     "text": [
      " * sqlite://\n",
      "Done.\n",
      "1 rows affected.\n",
      "1 rows affected.\n",
      "1 rows affected.\n",
      "1 rows affected.\n",
      "1 rows affected.\n",
      "1 rows affected.\n",
      "1 rows affected.\n",
      "1 rows affected.\n"
     ]
    },
    {
     "data": {
      "text/plain": [
       "[]"
      ]
     },
     "execution_count": 2,
     "metadata": {},
     "output_type": "execute_result"
    }
   ],
   "source": [
    "%%sql\n",
    "CREATE TABLE exercise_logs\n",
    "    (id INTEGER PRIMARY KEY AUTOINCREMENT,\n",
    "    type TEXT,\n",
    "    minutes INTEGER, \n",
    "    calories INTEGER,\n",
    "    heart_rate INTEGER);\n",
    "\n",
    "INSERT INTO exercise_logs(type, minutes, calories, heart_rate) VALUES (\"biking\", 30, 115, 110);\n",
    "INSERT INTO exercise_logs(type, minutes, calories, heart_rate) VALUES (\"biking\", 10, 45, 105);\n",
    "INSERT INTO exercise_logs(type, minutes, calories, heart_rate) VALUES (\"dancing\", 15, 200, 120);\n",
    "INSERT INTO exercise_logs(type, minutes, calories, heart_rate) VALUES (\"dancing\", 15, 165, 120);\n",
    "INSERT INTO exercise_logs(type, minutes, calories, heart_rate) VALUES (\"tree climbing\", 30, 70, 90);\n",
    "INSERT INTO exercise_logs(type, minutes, calories, heart_rate) VALUES (\"tree climbing\", 25, 72, 80);\n",
    "INSERT INTO exercise_logs(type, minutes, calories, heart_rate) VALUES (\"rowing\", 30, 70, 90);\n",
    "INSERT INTO exercise_logs(type, minutes, calories, heart_rate) VALUES (\"hiking\", 60, 80, 85);\n",
    "\n",
    "\n",
    "\n",
    "\n"
   ]
  },
  {
   "cell_type": "code",
   "execution_count": 4,
   "id": "4a7365ce",
   "metadata": {},
   "outputs": [
    {
     "name": "stdout",
     "output_type": "stream",
     "text": [
      " * sqlite://\n",
      "Done.\n"
     ]
    },
    {
     "data": {
      "text/html": [
       "<table>\n",
       "    <tr>\n",
       "        <th>id</th>\n",
       "        <th>type</th>\n",
       "        <th>minutes</th>\n",
       "        <th>calories</th>\n",
       "        <th>heart_rate</th>\n",
       "    </tr>\n",
       "    <tr>\n",
       "        <td>1</td>\n",
       "        <td>biking</td>\n",
       "        <td>30</td>\n",
       "        <td>115</td>\n",
       "        <td>110</td>\n",
       "    </tr>\n",
       "    <tr>\n",
       "        <td>2</td>\n",
       "        <td>biking</td>\n",
       "        <td>10</td>\n",
       "        <td>45</td>\n",
       "        <td>105</td>\n",
       "    </tr>\n",
       "    <tr>\n",
       "        <td>3</td>\n",
       "        <td>dancing</td>\n",
       "        <td>15</td>\n",
       "        <td>200</td>\n",
       "        <td>120</td>\n",
       "    </tr>\n",
       "    <tr>\n",
       "        <td>4</td>\n",
       "        <td>dancing</td>\n",
       "        <td>15</td>\n",
       "        <td>165</td>\n",
       "        <td>120</td>\n",
       "    </tr>\n",
       "    <tr>\n",
       "        <td>5</td>\n",
       "        <td>tree climbing</td>\n",
       "        <td>30</td>\n",
       "        <td>70</td>\n",
       "        <td>90</td>\n",
       "    </tr>\n",
       "    <tr>\n",
       "        <td>6</td>\n",
       "        <td>tree climbing</td>\n",
       "        <td>25</td>\n",
       "        <td>72</td>\n",
       "        <td>80</td>\n",
       "    </tr>\n",
       "    <tr>\n",
       "        <td>7</td>\n",
       "        <td>rowing</td>\n",
       "        <td>30</td>\n",
       "        <td>70</td>\n",
       "        <td>90</td>\n",
       "    </tr>\n",
       "    <tr>\n",
       "        <td>8</td>\n",
       "        <td>hiking</td>\n",
       "        <td>60</td>\n",
       "        <td>80</td>\n",
       "        <td>85</td>\n",
       "    </tr>\n",
       "</table>"
      ],
      "text/plain": [
       "[(1, 'biking', 30, 115, 110),\n",
       " (2, 'biking', 10, 45, 105),\n",
       " (3, 'dancing', 15, 200, 120),\n",
       " (4, 'dancing', 15, 165, 120),\n",
       " (5, 'tree climbing', 30, 70, 90),\n",
       " (6, 'tree climbing', 25, 72, 80),\n",
       " (7, 'rowing', 30, 70, 90),\n",
       " (8, 'hiking', 60, 80, 85)]"
      ]
     },
     "execution_count": 4,
     "metadata": {},
     "output_type": "execute_result"
    }
   ],
   "source": [
    "%%sql\n",
    "SELECT * FROM exercise_logs;"
   ]
  },
  {
   "cell_type": "markdown",
   "id": "56743ac7",
   "metadata": {},
   "source": [
    "### Paso 1.1 : Agrupar la consulta con GROUP BY"
   ]
  },
  {
   "cell_type": "code",
   "execution_count": 6,
   "id": "5f8b2ea2",
   "metadata": {},
   "outputs": [
    {
     "name": "stdout",
     "output_type": "stream",
     "text": [
      " * sqlite://\n",
      "Done.\n"
     ]
    },
    {
     "data": {
      "text/html": [
       "<table>\n",
       "    <tr>\n",
       "        <th>type</th>\n",
       "        <th>SUM(calories)</th>\n",
       "    </tr>\n",
       "    <tr>\n",
       "        <td>biking</td>\n",
       "        <td>160</td>\n",
       "    </tr>\n",
       "    <tr>\n",
       "        <td>dancing</td>\n",
       "        <td>365</td>\n",
       "    </tr>\n",
       "    <tr>\n",
       "        <td>hiking</td>\n",
       "        <td>80</td>\n",
       "    </tr>\n",
       "    <tr>\n",
       "        <td>rowing</td>\n",
       "        <td>70</td>\n",
       "    </tr>\n",
       "    <tr>\n",
       "        <td>tree climbing</td>\n",
       "        <td>142</td>\n",
       "    </tr>\n",
       "</table>"
      ],
      "text/plain": [
       "[('biking', 160),\n",
       " ('dancing', 365),\n",
       " ('hiking', 80),\n",
       " ('rowing', 70),\n",
       " ('tree climbing', 142)]"
      ]
     },
     "execution_count": 6,
     "metadata": {},
     "output_type": "execute_result"
    }
   ],
   "source": [
    "%%sql\n",
    "SELECt type, SUM(calories) FROM exercise_logs GROUP BY type;"
   ]
  },
  {
   "cell_type": "markdown",
   "id": "4895edd2",
   "metadata": {},
   "source": [
    "### Paso 1.2 : Agrupar la consulta con GROUP BY"
   ]
  },
  {
   "cell_type": "code",
   "execution_count": 7,
   "id": "769929c0",
   "metadata": {},
   "outputs": [
    {
     "name": "stdout",
     "output_type": "stream",
     "text": [
      " * sqlite://\n",
      "Done.\n"
     ]
    },
    {
     "data": {
      "text/html": [
       "<table>\n",
       "    <tr>\n",
       "        <th>type</th>\n",
       "        <th>total_calories</th>\n",
       "    </tr>\n",
       "    <tr>\n",
       "        <td>biking</td>\n",
       "        <td>160</td>\n",
       "    </tr>\n",
       "    <tr>\n",
       "        <td>dancing</td>\n",
       "        <td>365</td>\n",
       "    </tr>\n",
       "    <tr>\n",
       "        <td>hiking</td>\n",
       "        <td>80</td>\n",
       "    </tr>\n",
       "    <tr>\n",
       "        <td>rowing</td>\n",
       "        <td>70</td>\n",
       "    </tr>\n",
       "    <tr>\n",
       "        <td>tree climbing</td>\n",
       "        <td>142</td>\n",
       "    </tr>\n",
       "</table>"
      ],
      "text/plain": [
       "[('biking', 160),\n",
       " ('dancing', 365),\n",
       " ('hiking', 80),\n",
       " ('rowing', 70),\n",
       " ('tree climbing', 142)]"
      ]
     },
     "execution_count": 7,
     "metadata": {},
     "output_type": "execute_result"
    }
   ],
   "source": [
    "%%sql\n",
    "SELECt type, SUM(calories) AS total_calories FROM exercise_logs GROUP BY type;"
   ]
  },
  {
   "cell_type": "markdown",
   "id": "33b50bd0",
   "metadata": {},
   "source": [
    "### Paso 1.3 : Agrupar la consulta con GROUP BY"
   ]
  },
  {
   "cell_type": "code",
   "execution_count": 8,
   "id": "6c0e8d06",
   "metadata": {},
   "outputs": [
    {
     "name": "stdout",
     "output_type": "stream",
     "text": [
      " * sqlite://\n",
      "Done.\n"
     ]
    },
    {
     "data": {
      "text/html": [
       "<table>\n",
       "    <tr>\n",
       "        <th>type</th>\n",
       "        <th>total_calories</th>\n",
       "    </tr>\n",
       "    <tr>\n",
       "        <td>dancing</td>\n",
       "        <td>365</td>\n",
       "    </tr>\n",
       "</table>"
      ],
      "text/plain": [
       "[('dancing', 365)]"
      ]
     },
     "execution_count": 8,
     "metadata": {},
     "output_type": "execute_result"
    }
   ],
   "source": [
    "%%sql\n",
    "SELECT type, SUM(calories) AS total_calories FROM exercise_logs\n",
    "    WHERE calories > 150\n",
    "    GROUP BY type;"
   ]
  },
  {
   "cell_type": "markdown",
   "id": "4ad7a02e",
   "metadata": {},
   "source": [
    "#### Paso 1.4 : Agrupar la consulta con GROUP BY"
   ]
  },
  {
   "cell_type": "code",
   "execution_count": 9,
   "id": "d4479fc4",
   "metadata": {},
   "outputs": [
    {
     "name": "stdout",
     "output_type": "stream",
     "text": [
      " * sqlite://\n",
      "Done.\n"
     ]
    },
    {
     "data": {
      "text/html": [
       "<table>\n",
       "    <tr>\n",
       "        <th>type</th>\n",
       "        <th>total_calories</th>\n",
       "    </tr>\n",
       "    <tr>\n",
       "        <td>biking</td>\n",
       "        <td>160</td>\n",
       "    </tr>\n",
       "    <tr>\n",
       "        <td>dancing</td>\n",
       "        <td>365</td>\n",
       "    </tr>\n",
       "</table>"
      ],
      "text/plain": [
       "[('biking', 160), ('dancing', 365)]"
      ]
     },
     "execution_count": 9,
     "metadata": {},
     "output_type": "execute_result"
    }
   ],
   "source": [
    "%%sql\n",
    "SELECT type, SUM(calories) AS total_calories FROM exercise_logs\n",
    "    GROUP BY type\n",
    "    HAVING total_calories > 150;"
   ]
  },
  {
   "cell_type": "markdown",
   "id": "41f8d804",
   "metadata": {},
   "source": [
    "# Paso 2 crearemos la báse de datos."
   ]
  },
  {
   "cell_type": "code",
   "execution_count": null,
   "id": "b2df3247",
   "metadata": {},
   "outputs": [],
   "source": [
    "%%sql\n",
    "CREATE TABLE sales (\n",
    "  salesperson TEXT,\n",
    "  product TEXT,\n",
    "  total REAL,\n",
    "  year INTEGER\n",
    ");\n",
    "\n",
    "INSERT INTO sales (salesperson, product, total, year) VALUES\n",
    "  ('John', 'Windows', 100, 2021),\n",
    "  ('John', 'Windows', 75, 2022),\n",
    "  ('John', 'Windows', 50, 2021),\n",
    "  ('John', 'Office', 125, 2022),\n",
    "  ('John', 'Office', 25, 2021),\n",
    "  ('Mary', 'Windows', 75, 2022),\n",
    "  ('Mary', 'Windows', 25, 2022),\n",
    "  ('Mary', 'Office', 50, 2021),\n",
    "  ('Mary', 'Office', 100, 2021),\n",
    "  ('Mary', 'Office', 50, 2022),\n",
    "  ('Kate', 'Windows', 25, 2021),\n",
    "  ('Kate', 'Office', 50, 2022),\n",
    "  ('Kate', 'Office', 100, 2021),\n",
    "  ('Kate', 'Office', 75, 2022),\n",
    "  ('Kate', 'Office', 25, 2021),\n",
    "  ('Sam', 'Windows', 75, 2022),\n",
    "  ('Sam', 'Windows', 25, 2022),\n",
    "  ('Sam', 'Office', 50, 2021),\n",
    "  ('Sam', 'Office', 100, 2021),\n",
    "  ('Sam', 'Office', 50, 2022),\n",
    "  ('Laura', 'Windows', 100, 2021),\n",
    "  ('Laura', 'Windows', 75, 2022),\n",
    "  ('Laura', 'Windows', 50, 2021),\n",
    "  ('Laura', 'Office', 125, 2022),\n",
    "  ('Laura', 'Office', 25, 2021),\n",
    "  ('John', 'Excel', 100, 2021),\n",
    "  ('John', 'Excel', 75, 2022),\n",
    "  ('John', 'Excel', 50, 2021),\n",
    "  ('John', 'Outlook', 125, 2022),\n",
    "  ('John', 'Outlook', 25, 2021),\n",
    "  ('Mary', 'Excel', 75, 2022),\n",
    "  ('Mary', 'Excel', 25, 2022),\n",
    "  ('Mary', 'Outlook', 50, 2021),\n",
    "  ('Mary', 'Outlook', 100, 2021),\n",
    "  ('Mary', 'Outlook', 50, 2022),\n",
    "  ('Kate', 'Excel', 25, 2021),\n",
    "  ('Kate', 'Outlook', 50, 2022),\n",
    "  ('Kate', 'Outlook', 100, 2021),\n",
    "  ('Kate', 'Outlook', 75, 2022),\n",
    "  ('Kate', 'Outlook', 25, 2021),\n",
    "  ('Sam', 'Excel', 75, 2022),\n",
    "  ('Sam', 'Excel', 25, 2022),\n",
    "  ('Sam', 'Outlook', 50, 2021),\n",
    "  ('Sam', 'Outlook', 100, 2021),\n",
    "  ('Sam', 'Outlook', 50, 2022),\n",
    "  ('Laura', 'Excel', 100, 2021),\n",
    "  ('Laura', 'Excel', 75, 2022);"
   ]
  },
  {
   "cell_type": "markdown",
   "id": "afd3179f",
   "metadata": {},
   "source": [
    "# Actividad 1 : Ayuda a Microsoft \n",
    "\n",
    "Microsoft quiere extraer varios datos de sus ventas de los últimos años, lee los enunciados y comprende el ejercicio.\n",
    "\n",
    "Obtener una lista de los vendedores que han realizado más de 3 ventas en el año 2021:"
   ]
  },
  {
   "cell_type": "code",
   "execution_count": null,
   "id": "1a5df4a0",
   "metadata": {},
   "outputs": [],
   "source": [
    "%%sql\n",
    "SELECT salesperson, COUNT(*) as num_sales\n",
    "FROM sales\n",
    "WHERE year = 2021\n",
    "GROUP BY salesperson\n",
    "HAVING COUNT(*) >= 3;"
   ]
  },
  {
   "cell_type": "markdown",
   "id": "15008386",
   "metadata": {},
   "source": [
    "<hr style=\"height:5px; width: 100%; border-radius: 20%; background-color:#E7046B ; border-color: #E7046B\">"
   ]
  },
  {
   "cell_type": "markdown",
   "id": "ccc5933c",
   "metadata": {},
   "source": [
    "# Ejercicio 1: en clase."
   ]
  },
  {
   "cell_type": "markdown",
   "id": "51cbd857",
   "metadata": {},
   "source": [
    "Obtener una lista de los productos que han generado más de $50 en ventas en el año 2022:"
   ]
  },
  {
   "cell_type": "code",
   "execution_count": null,
   "id": "08d9746f",
   "metadata": {},
   "outputs": [],
   "source": [
    "%%sql\n",
    "SELECT product, SUM(total) as total_sales\n",
    "FROM sales\n",
    "WHERE year = 2022\n",
    "GROUP BY product\n",
    "HAVING SUM(total) > 400;"
   ]
  },
  {
   "cell_type": "markdown",
   "id": "fc9c1c7f",
   "metadata": {},
   "source": [
    "<hr style=\"height:5px; width: 100%; border-radius: 20%; background-color:#E7046B ; border-color: #E7046B\">"
   ]
  },
  {
   "cell_type": "markdown",
   "id": "139e265f",
   "metadata": {},
   "source": [
    "# Actividad 2:\n",
    "\n",
    "Obtener una lista de los vendedores que han realizado ventas con un monto promedio superior a $75 en el año 2021:"
   ]
  },
  {
   "cell_type": "code",
   "execution_count": null,
   "id": "716c96fc",
   "metadata": {},
   "outputs": [],
   "source": [
    "%%sql\n",
    "SELECT salesperson, AVG(total) as avg_sales\n",
    "FROM sales\n",
    "WHERE year = 2021\n",
    "GROUP BY salesperson\n",
    "HAVING AVG(total) > 25;"
   ]
  },
  {
   "cell_type": "markdown",
   "id": "02aa212b",
   "metadata": {},
   "source": [
    "<hr style=\"height:5px; width: 100%; border-radius: 20%; background-color:#E7046B ; border-color: #E7046B\">"
   ]
  },
  {
   "cell_type": "markdown",
   "id": "7a67d599",
   "metadata": {},
   "source": [
    "# Ejercicio 2: en clase.\n",
    "\n",
    "Obtener una lista de los vendedores que han realizado 2 o más ventas en el año 2021 para productos que han generado más de $100 en ventas:"
   ]
  },
  {
   "cell_type": "code",
   "execution_count": null,
   "id": "911ebfb4",
   "metadata": {},
   "outputs": [],
   "source": [
    "%%sql\n",
    "SELECT salesperson, product, COUNT(*) as num_sales\n",
    "FROM sales\n",
    "WHERE year = 2022\n",
    "GROUP BY salesperson, product\n",
    "HAVING SUM(total) > 100 AND COUNT(*) > 1;"
   ]
  },
  {
   "cell_type": "markdown",
   "id": "7f110d5b",
   "metadata": {},
   "source": [
    "<hr style=\"height:5px; width: 100%; border-radius: 20%; background-color:#E7046B ; border-color: #E7046B\">"
   ]
  }
 ],
 "metadata": {
  "kernelspec": {
   "display_name": "Python 3 (ipykernel)",
   "language": "python",
   "name": "python3"
  },
  "language_info": {
   "codemirror_mode": {
    "name": "ipython",
    "version": 3
   },
   "file_extension": ".py",
   "mimetype": "text/x-python",
   "name": "python",
   "nbconvert_exporter": "python",
   "pygments_lexer": "ipython3",
   "version": "3.9.7"
  }
 },
 "nbformat": 4,
 "nbformat_minor": 5
}
