{
 "cells": [
  {
   "cell_type": "markdown",
   "id": "94fba89c",
   "metadata": {},
   "source": [
    "# Crear una tabla de bade de datos en SQL."
   ]
  },
  {
   "cell_type": "markdown",
   "id": "7dfb8374",
   "metadata": {},
   "source": [
    "<div style=\"border-left: 5px solid #f0ad4e; padding:1.25rem; border-right: 1px solid #eee;  border-top: 1px solid #eee;  border-bottom: 1px solid #eee;\">\n",
    "\n",
    "<h5 id=\"ensure-correct-role-and-provide-a-label\">Nota Aclaratoria</h5>\n",
    "\n",
    "<p>En <b>Jupyter Notebook</b> tendremos que habilitar la <b>extensión SQL</b> con las siguientes lineas.</p>\n",
    "\n",
    "</div>"
   ]
  },
  {
   "cell_type": "code",
   "execution_count": null,
   "id": "845882ab",
   "metadata": {},
   "outputs": [],
   "source": [
    "%load_ext sql\n",
    "%sql sqlite://"
   ]
  },
  {
   "cell_type": "markdown",
   "id": "fbb7b76f",
   "metadata": {},
   "source": [
    "<div style=\"border-left: 5px solid #f0ad4e; padding:1.25rem; border-right: 1px solid #eee;  border-top: 1px solid #eee;  border-bottom: 1px solid #eee;\">\n",
    "\n",
    "<h5 id=\"ensure-correct-role-and-provide-a-label\">Nota Aclaratoria</h5>\n",
    "\n",
    "<p>Antes de cada consulta tenemos que colocar  <b>%%sql</b>, la herramienta de comandos magicos de SQL</p>\n",
    "\n",
    "</div>"
   ]
  },
  {
   "cell_type": "code",
   "execution_count": null,
   "id": "9ac72f2a",
   "metadata": {},
   "outputs": [],
   "source": [
    "%%sql"
   ]
  },
  {
   "cell_type": "markdown",
   "id": "b4e3b21c",
   "metadata": {},
   "source": [
    "<div style=\"border-left: 5px solid #f0ad4e; padding:1.25rem; border-right: 1px solid #eee;  border-top: 1px solid #eee;  border-bottom: 1px solid #eee;\">\n",
    "\n",
    "<h5 id=\"ensure-correct-role-and-provide-a-label\">Nota Aclaratoria</h5>\n",
    "\n",
    "<p>En el enlace que dejaremos a continuación podrás encontrar una versión de SQL online que servirá para poner en práctica tu código y la visualización si así lo deseas.</p>\n",
    "\n",
    "  <a href=\"https://sqliteonline.com/\" target=\"_blank\"><button type=\"button\" class=\"btn btn-success\">\n",
    "  <a href=\"https://sqliteonline.com/\" target=\"_blank\" style=\"color: white; text-decoration:none;\">SQL online</a>\n",
    "</button></a>\n",
    "    \n",
    "</div>"
   ]
  },
  {
   "cell_type": "markdown",
   "id": "d75a606f",
   "metadata": {},
   "source": [
    "### Paso 1.\n",
    "Para crear una tabla en SQL, debes usar el comando CREATE TABLE. El comando CREATE TABLE toma dos argumentos: el nombre de la tabla que estás creando y una lista de columnas y sus tipos de datos.\n",
    "\n",
    "\n",
    "Por ejemplo, si quieres crear una tabla llamada employees con las columnas id, name, age, y address, podrías usar el siguiente código:\n",
    "\n"
   ]
  },
  {
   "cell_type": "code",
   "execution_count": null,
   "id": "975a2cfb",
   "metadata": {},
   "outputs": [],
   "source": [
    "%%sql  #Recuerda siempre utilizar herramientas magicas para poder utilizar SQL.\n",
    "CREATE TABLE employees (\n",
    "  id INTEGER PRIMARY KEY,\n",
    "  name TEXT NOT NULL,\n",
    "  age INTEGER NOT NULL,\n",
    "  address TEXT NOT NULL,\n",
    "  profession TEXT NOT NULL,\n",
    "  years_experience INTEGER NOT NULL\n",
    ");"
   ]
  },
  {
   "cell_type": "markdown",
   "id": "da912feb",
   "metadata": {},
   "source": [
    "### Paso 2.\n",
    "\n",
    "Cada columna tiene un tipo de datos asociado, como ***INTEGER o TEXT***. También puedes agregar restricciones a las columnas, como ***NOT NULL***, que indica que la columna no puede tener un valor ***NULL***.\n",
    "\n",
    "Una vez que hayas creado la tabla, puedes usar el comando ***INSERT INTO*** para agregar filas a la tabla. Por ejemplo:"
   ]
  },
  {
   "cell_type": "code",
   "execution_count": null,
   "id": "9acdb625",
   "metadata": {},
   "outputs": [],
   "source": [
    "%%sql\n",
    "INSERT INTO employees (id, name, age, address, profession, years_experience) VALUES\n",
    "  (2, 'Sarah', 25, '456 Market Street', 'software developer', 3),\n",
    "  (3, 'Mike', 35, '789 Maple Street', 'systems analyst', 5),\n",
    "  (4, 'Emily', 28, '321 Oak Avenue', 'data scientist', 2),\n",
    "  (5, 'Jason', 31, '159 Birch Road', 'cloud engineer', 4),\n",
    "  (6, 'Kate', 33, '753 Pine Street', 'network administrator', 6),\n",
    "  (7, 'Bob', 29, '147 Cedar Boulevard', 'web developer', 3),\n",
    "  (8, 'Alice', 27, '369 Spruce Street', 'database administrator', 4),\n",
    "  (9, 'John', 32, '159 Maple Avenue', 'project manager', 5),\n",
    "  (10, 'Sara', 35, '753 Oak Road', 'technical writer', 3),\n",
    "  (11, 'Tom', 30, '369 Pine Street', 'user experience designer', 2);"
   ]
  },
  {
   "cell_type": "markdown",
   "id": "41bbaee2",
   "metadata": {},
   "source": [
    "### Paso 3.\n",
    "\n",
    "Puedes usar el comando **SELECT** para consultar los datos de la tabla. Por ejemplo:"
   ]
  },
  {
   "cell_type": "code",
   "execution_count": null,
   "id": "dba9cba1",
   "metadata": {},
   "outputs": [],
   "source": [
    "%%sql\n",
    "SELECT * FROM employees;"
   ]
  },
  {
   "cell_type": "markdown",
   "id": "18501d34",
   "metadata": {},
   "source": [
    "<hr style=\"height:5px; width: 100%; border-radius: 20%; background-color:#E7046B ; border-color: #E7046B\">"
   ]
  },
  {
   "cell_type": "markdown",
   "id": "7a9fff8a",
   "metadata": {},
   "source": [
    "### Actividad del módulo #1\n",
    "\n",
    "Crea una base de datos con 5 usuarios/filas para una universidad, ten en cuenta las siguientes columnas, de datos.\n",
    "\n",
    "ID, Nombre, Correo, Año de nacimiento, Dirección, Carrera, Semestre, Promedio, Teléfono, Genero.\n",
    "\n",
    "Recuerda llamar la tabla students, o estudiantes en ingles, ;) la finalidad de esto es irnos acostumbrando al idioma.\n"
   ]
  },
  {
   "cell_type": "code",
   "execution_count": null,
   "id": "92112bf5",
   "metadata": {},
   "outputs": [],
   "source": [
    "#Crea la tabla estudiantes."
   ]
  },
  {
   "cell_type": "code",
   "execution_count": null,
   "id": "475bd99a",
   "metadata": {},
   "outputs": [],
   "source": [
    "#Selecciona la tabla."
   ]
  },
  {
   "cell_type": "markdown",
   "id": "d00acd84",
   "metadata": {},
   "source": [
    "### Actividad del módulo #2\n",
    "\n",
    "ID, Nombre, Correo, Año de nacimiento, Dirección, Facultad, Años de experiencia, Cualificación docente, teléfono, genero.\n"
   ]
  },
  {
   "cell_type": "code",
   "execution_count": null,
   "id": "b9cd080e",
   "metadata": {},
   "outputs": [],
   "source": [
    "#Crea la tabla estudiantes."
   ]
  },
  {
   "cell_type": "code",
   "execution_count": null,
   "id": "3c13b585",
   "metadata": {},
   "outputs": [],
   "source": [
    "#Selecciona la tabla."
   ]
  },
  {
   "cell_type": "markdown",
   "id": "7f489ca6",
   "metadata": {},
   "source": [
    "### Actividad del módulo #3\n",
    "\n",
    "Bien, cómo sabrás hemos creado dos tablas que son redundantes en la cantidad de datos que manejamos, si quisieras hacerlo de la manera correcta ¿cómo lo harías?\n",
    "\n"
   ]
  },
  {
   "cell_type": "code",
   "execution_count": null,
   "id": "9c44c230",
   "metadata": {},
   "outputs": [],
   "source": [
    "#Describe cuál es el problema con el modelo propuesto y como lo arreglarias.\n"
   ]
  },
  {
   "cell_type": "code",
   "execution_count": null,
   "id": "10387ac7",
   "metadata": {},
   "outputs": [],
   "source": [
    "#Escribe el nuevo código."
   ]
  },
  {
   "cell_type": "code",
   "execution_count": null,
   "id": "ceac979c",
   "metadata": {},
   "outputs": [],
   "source": [
    "#Has la nueva consulta."
   ]
  },
  {
   "cell_type": "markdown",
   "id": "4fdc82ec",
   "metadata": {},
   "source": [
    "<hr style=\"height:5px; width: 100%; border-radius: 20%; background-color:#E7046B ; border-color: #E7046B\">"
   ]
  }
 ],
 "metadata": {
  "kernelspec": {
   "display_name": "Python 3 (ipykernel)",
   "language": "python",
   "name": "python3"
  },
  "language_info": {
   "codemirror_mode": {
    "name": "ipython",
    "version": 3
   },
   "file_extension": ".py",
   "mimetype": "text/x-python",
   "name": "python",
   "nbconvert_exporter": "python",
   "pygments_lexer": "ipython3",
   "version": "3.9.7"
  }
 },
 "nbformat": 4,
 "nbformat_minor": 5
}
