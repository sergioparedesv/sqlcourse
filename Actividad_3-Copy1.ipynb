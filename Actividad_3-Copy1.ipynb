{
 "cells": [
  {
   "cell_type": "markdown",
   "metadata": {
    "id": "Wt04Pw1rIJQj"
   },
   "source": [
    "En la siguiente celda, completa los siguientes ejercicios:\n",
    "\n",
    "## Ejercicio 1\n",
    "\n",
    "Escribe una clase llamada Numero. Esta clase debe tener una constructora que reciba un número y almacene ese número en 2 atributos: romano que almacenará el número en el formato de número romanos como una cadena de caracteres y normal que guardará el número que nos han dado en la constructora.\n",
    "\n",
    "## Ejercicio 2\n",
    "\n",
    "Crea dos nuevos métodos en la clase Numero. El primer método, llamado imprime(), imprime un mensaje mostrando el valor de ambos atributos; el segundo método, llamado suma_romano(), tendrá como parámetros una cadena de caracteres que representará otro número romano y que sumaremos a los atributos que ya teníamos.\n",
    "\n",
    "**NOTA:** si necesita convertir el número romano a número normal para realizar las operaciones implemente un nuevo método.\n",
    "\n",
    "## Ejercicio 3\n",
    "\n",
    "Define una función llamada is_romano() dentro de la clase Numero que a partir de una cadena de caracteres, devuelve True si esa cadena de caracteres corresponde con un número romano y falso en caso contrario. Después, modifica el método para que lance un error en el caso de que el valor que nos pasan por parámetro no se corresponde con el patrón de un número romano."
   ]
  },
  {
   "cell_type": "code",
   "execution_count": 1,
   "metadata": {
    "colab": {
     "base_uri": "https://localhost:8080/"
    },
    "executionInfo": {
     "elapsed": 237,
     "status": "ok",
     "timestamp": 1672422877519,
     "user": {
      "displayName": "Pedro Luis Garrido Cano",
      "userId": "01205779776867508927"
     },
     "user_tz": -60
    },
    "id": "OWDhGW44IJQm",
    "outputId": "1c4e1475-c439-4d50-c34d-6c278899fe00"
   },
   "outputs": [],
   "source": [
    "class Numero:\n",
    "    def __init__(self, numero):\n",
    "        self.normal = numero\n",
    "        self.romano = self.__convertir_a_romano(numero)\n",
    "\n",
    "    def __convertir_a_romano(self, numero):\n",
    "        # aquí se implementaría la lógica para convertir un número normal a romano\n",
    "        pass\n"
   ]
  },
  {
   "cell_type": "code",
   "execution_count": null,
   "metadata": {},
   "outputs": [],
   "source": [
    "class Numero:\n",
    "    def __init__(self, numero):\n",
    "        self.normal = numero\n",
    "        self.romano = self.__convertir_a_romano(numero)\n",
    "\n",
    "    def __convertir_a_romano(self, numero):\n",
    "        digitos_romanos = {\n",
    "            \"M\": 1000,\n",
    "            \"D\": 500,\n",
    "            \"C\": 100,\n",
    "            \"L\": 50,\n",
    "            \"X\": 10,\n",
    "            \"V\": 5,\n",
    "            \"I\": 1\n",
    "        }\n",
    "\n",
    "        resultado = \"\"\n",
    "        while numero > 0:\n",
    "            # busca el dígito romano más alto posible que sea menor o igual que numero\n",
    "            for digito, valor in digitos_romanos.items():\n",
    "                if valor <= numero:\n",
    "                    digito_romano = digito\n",
    "                    break\n",
    "\n",
    "            # añade el dígito romano a resultado y resta su valor al número\n",
    "            resultado += digito_romano\n",
    "            numero -= valor\n",
    "\n",
    "        return resultado\n",
    "\n",
    "    def imprime(self):\n",
    "        print(f\"Número normal: {self.normal}\")\n",
    "        print(f\"Número romano: {self.romano}\")\n",
    "\n",
    "    def suma_romano(self, numero_romano):\n",
    "        # aquí se implementaría la lógica para sumar dos números romanos\n",
    "        # utilizando el método __convertir_a_romano() para obtener el número normal\n",
    "        # y luego sumar ambos números y actualizar el atributo romano\n",
    "        pass\n"
   ]
  },
  {
   "cell_type": "code",
   "execution_count": null,
   "metadata": {},
   "outputs": [],
   "source": [
    "import re\n",
    "class Numero:\n",
    "    def __init__(self, numero):\n",
    "        if numero < 0:\n",
    "            raise ValueError(\"El número no puede ser negativo\")\n",
    "        self.normal = numero\n",
    "        self.romano = self.__convertir_a_romano(numero)\n",
    "\n",
    "    def __convertir_a_romano(self, numero):\n",
    "        digitos_romanos = [\n",
    "            (\"M\", 1000),\n",
    "            (\"CM\", 900),\n",
    "            (\"D\", 500),\n",
    "            (\"CD\", 400),\n",
    "            (\"C\", 100),\n",
    "            (\"XC\", 90),\n",
    "            (\"L\", 50),\n",
    "            (\"XL\", 40),\n",
    "            (\"X\", 10),\n",
    "            (\"IX\", 9),\n",
    "            (\"V\", 5),\n",
    "            (\"IV\", 4),\n",
    "            (\"I\", 1)\n",
    "        ]\n",
    "\n",
    "        resultado = \"\"\n",
    "        for digito, valor in digitos_romanos:\n",
    "            while int(numero) >= int(valor):\n",
    "                resultado += digito\n",
    "                numero -= valor\n",
    "\n",
    "        return resultado\n",
    "\n",
    "    def imprime(self):\n",
    "        print(self.normal)\n",
    "        print(self.romano)\n",
    "        \n",
    "    def is_romano(self, numero_romano):\n",
    "        # define la expresión regular para validar números romanos\n",
    "        patron = \"^M{0,4}(CM|CD|D?C{0,3})(XC|XL|L?X{0,3})(IX|IV|V?I{0,3})$\"\n",
    "\n",
    "        # valida si numero_romano es un número romano válido\n",
    "        if re.match(patron, numero_romano):\n",
    "            return True\n",
    "        else:\n",
    "            raise ValueError(f\"{numero_romano} no es un número romano válido\")"
   ]
  },
  {
   "cell_type": "markdown",
   "metadata": {
    "id": "42xNSXN9IJQm"
   },
   "source": [
    "En la siguiente celda, completa los siguientes ejercicios:\n",
    "\n",
    "## Ejercicio 4\n",
    "\n",
    "Implementa una clase llamada MejorNumero. Esta clase heredará las propiedades de Numero e incluirá dos métodos nuevos, llamados resta() y multiplica(), para restar y multiplicar los atributos recibiendo por parámetro otro número romano. \n",
    "\n",
    "\n",
    "## Ejercicio 5\n",
    "\n",
    "En la clase MejorNumero, crea un nuevo método llamado iterar() que reciba una lista con 3 números romanos. A continuación, iterando sobre los elementos de la lista llamará a la función suma_romano(). Los posibles errores se tendrán que gestionar con excepciones (try...except...) para mostrar un mensaje y seguir ejecutando el siguiente número.\n",
    "\n",
    "**NOTA:** el mensaje de error ha de seguir el siguiente formato --> print('Ha fallado el número', 5). "
   ]
  },
  {
   "cell_type": "code",
   "execution_count": 2,
   "metadata": {
    "colab": {
     "base_uri": "https://localhost:8080/"
    },
    "executionInfo": {
     "elapsed": 307,
     "status": "ok",
     "timestamp": 1672422717346,
     "user": {
      "displayName": "Pedro Luis Garrido Cano",
      "userId": "01205779776867508927"
     },
     "user_tz": -60
    },
    "id": "ddwlDUQAIJQn",
    "outputId": "c42717fd-9127-44a9-dadc-e55603915754"
   },
   "outputs": [],
   "source": [
    "# En esta celda de código se encuentra los ejercicios 4 y 5.\n",
    "\n",
    "class MejorNumero(Numero):\n",
    "\n",
    "  def __init__(self, num): \n",
    "    super().__init__(num)\n",
    "\n",
    "  def resta(self, rom):\n",
    "    n2 = super().convertirAra(rom)\n",
    "    if (self.num - n2) < 1:\n",
    "      raise ValueError('El resultado de la resta no puede ser cero ni negativa en número romano.')\n",
    "    self.num -= n2\n",
    "    self.rom = super().convertirRom(self.num)\n",
    "\n",
    "    return\n",
    "  \n",
    "  def multiplicacion(self, rom):\n",
    "    n2 = super().convertirAra(rom)\n",
    "    if (self.num * n2) > 3999:\n",
    "      raise ValueError('El resultado de la multiplicación no puede ser mayor de 3999 en número romano.')\n",
    "    self.num *= n2\n",
    "    self.rom = super().convertirRom(self.num)\n",
    "\n",
    "    return\n",
    "  \n",
    "  def iterar(self, r1, r2, r3):\n",
    "    l = []\n",
    "    l.append(r1)\n",
    "    l.append(r2)\n",
    "    l.append(r3)\n",
    "\n",
    "    for n in l:\n",
    "      try: \n",
    "        self.suma_romano(n)\n",
    "      except ValueError as err:\n",
    "        print('Error: ', err)\n",
    "        try:\n",
    "          print('Ha fallado el número: ', self.convertirAra(n))\n",
    "        except:\n",
    "          print('Ha fallado el número: ', n)\n",
    "\n",
    "    return"
   ]
  }
 ],
 "metadata": {
  "colab": {
   "provenance": []
  },
  "kernelspec": {
   "display_name": "Python 3 (ipykernel)",
   "language": "python",
   "name": "python3"
  },
  "language_info": {
   "codemirror_mode": {
    "name": "ipython",
    "version": 3
   },
   "file_extension": ".py",
   "mimetype": "text/x-python",
   "name": "python",
   "nbconvert_exporter": "python",
   "pygments_lexer": "ipython3",
   "version": "3.9.7"
  }
 },
 "nbformat": 4,
 "nbformat_minor": 1
}
