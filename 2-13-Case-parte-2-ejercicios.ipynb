{
 "cells": [
  {
   "cell_type": "markdown",
   "id": "a71f4351",
   "metadata": {},
   "source": [
    "# Ejercicios"
   ]
  },
  {
   "cell_type": "markdown",
   "id": "14563206",
   "metadata": {},
   "source": [
    "<div style=\"border-left: 5px solid #f0ad4e; padding:1.25rem; border-right: 1px solid #eee;  border-top: 1px solid #eee;  border-bottom: 1px solid #eee;\">\n",
    "\n",
    "<h5 id=\"ensure-correct-role-and-provide-a-label\">Nota Aclaratoria</h5>\n",
    "\n",
    "<p>Antes de cada consulta tenemos que colocar  <b>%%sql</b>, la herramienta de comandos magicos de SQL</p>\n",
    "\n",
    "</div>"
   ]
  },
  {
   "cell_type": "code",
   "execution_count": 1,
   "id": "26746eb4",
   "metadata": {},
   "outputs": [],
   "source": [
    "%load_ext sql\n",
    "%sql sqlite://"
   ]
  },
  {
   "cell_type": "code",
   "execution_count": 2,
   "id": "eaaf30c7",
   "metadata": {},
   "outputs": [
    {
     "name": "stdout",
     "output_type": "stream",
     "text": [
      " * sqlite://\n",
      "Done.\n",
      "10 rows affected.\n"
     ]
    },
    {
     "data": {
      "text/plain": [
       "[]"
      ]
     },
     "execution_count": 2,
     "metadata": {},
     "output_type": "execute_result"
    }
   ],
   "source": [
    "%%sql\n",
    "CREATE TABLE recetas (\n",
    "    id INTEGER PRIMARY KEY AUTOINCREMENT,\n",
    "    nombre VARCHAR(255),\n",
    "    precio FLOAT,\n",
    "    calorias INT,\n",
    "    proteina FLOAT,\n",
    "    carbohidratos FLOAT,\n",
    "    grasas FLOAT,\n",
    "    ingredientes VARCHAR(255)\n",
    ");\n",
    "\n",
    "INSERT INTO recetas (nombre, precio, calorias, proteina, carbohidratos, grasas, ingredientes) VALUES\n",
    "(\"Pollo a la parrilla\", 12.5, 350, 30, 15, 12, \"pollo, sal, pimienta, aceite de oliva\"),\n",
    "(\"Arroz frito\", 8.5, 400, 20, 50, 15, \"Arroz, huevos, cebolla, ajo, aceite\"),\n",
    "(\"Spaghetti Bolognesa\", 9.0, 500, 25, 60, 20, \"Espagueti, carne molida, salsa de tomate, queso rallado, ajo\"),\n",
    "(\"Paella\", 15.0, 650, 30, 70, 25, \"Arroz, mariscos, pollo, chorizo, pimiento, cebolla, ajo\"),\n",
    "(\"Taco al pastor\", 2.5, 200, 10, 15, 5, \"tortillas, pastor, cebolla, piña, cilantro, limon\"),\n",
    "(\"Churros\", 5.0, 400, 5, 60, 20, \"Agua, harina, huevos, azúcar, aceite, sal\"),\n",
    "(\"Enchiladas\", 7.5, 450, 20, 40, 15, \"tortillas, pollo, queso, chile, crema, cebolla, cilantro\"),\n",
    "(\"Lasagna\", 10.0, 550, 30, 50, 25, \"lasaña, carne molida, salsa de tomate, queso ricotta, queso rallado, ajo, orégano\"),\n",
    "(\"Sushi\", 20.0, 250, 20, 30, 10, \"Arroz de sushi, salmón, aguacate, pepino\"),\n",
    "(\"Ramen\", 15.0, 400, 25, 50, 20, \"Fideos ramen, caldo, pollo, cebolla, zanahoria, cebolla verde, chile\");"
   ]
  },
  {
   "cell_type": "markdown",
   "id": "954bf897",
   "metadata": {},
   "source": [
    "Resuelve dos ejercicios en SQL que utilicen la sentencia ORDER BY, AVG y HAVING"
   ]
  },
  {
   "cell_type": "markdown",
   "id": "4e10b857",
   "metadata": {},
   "source": [
    "<hr style=\"height:5px; width: 100%; border-radius: 20%; background-color:#E7046B ; border-color: #E7046B\">"
   ]
  },
  {
   "cell_type": "markdown",
   "id": "7d614c06",
   "metadata": {},
   "source": [
    "# Ejercicio 1\n",
    "\n",
    "Utilizando la sentencia CASE crearemos una consulta que nos agrupe y nos diga cuantos alimentos tienen bajas, medianas o altas calorias, sigue las instrucciones a continuación para desarrollar el ejercicio.\n",
    "\n",
    "Ejercicio para los estudiantes:\n",
    "\n",
    "1.  Utilizando la tabla \"recetas\", escriba una consulta SQL que clasifique las recetas según su nivel de calorías y cuente cuantas recetas hay en cada categoría.\n",
    "2.  Utilice la sentencia CASE para clasificar las recetas según su nivel de calorías. Utilice la siguiente lógica para clasificar las recetas: si el valor de \"calorias\" es menor o igual a 400, clasifíquelo como \"Bajo en calorías\". Si el valor de \"calorias\" esta entre 400 y 600, clasifíquelo como \"Moderado en calorías\" y si es mayor a 600 clasifíquelo como \"Alto en calorías\"\n",
    "3.  Utilice la función GROUP BY para agrupar las recetas por su clasificación de calorías.\n",
    "4.  Utilice la función COUNT() para contar cuantas recetas hay en cada grupo.\n",
    "5.  El resultado debe ser una tabla con dos columnas, \"clasificacion_calorias\" y \"cantidad\", que indica la clasificación de calorías y la cantidad de recetas en cada grupo respectivamente.\n",
    "6.  Utilice una subconsulta para clasificar las recetas antes de agruparlas y contarlas.\n",
    "\n",
    "Este ejercicio ayudaría a los estudiantes a aprender a utilizar la sentencia CASE para clasificar los datos en una tabla, la función de agrupamiento GROUP BY para agrupar los datos en varias categorías y la función COUNT() para contar el número de elementos en cada grupo, así como utilizar subconsultas para mejorar la eficiencia y lectura de las consultas."
   ]
  },
  {
   "cell_type": "code",
   "execution_count": 4,
   "id": "788a6bca",
   "metadata": {},
   "outputs": [
    {
     "name": "stdout",
     "output_type": "stream",
     "text": [
      " * sqlite://\n",
      "Done.\n"
     ]
    },
    {
     "data": {
      "text/html": [
       "<table>\n",
       "    <tr>\n",
       "        <th>clasificacion_calorias</th>\n",
       "        <th>cantidad</th>\n",
       "    </tr>\n",
       "    <tr>\n",
       "        <td>Alto en calorías</td>\n",
       "        <td>1</td>\n",
       "    </tr>\n",
       "    <tr>\n",
       "        <td>Bajo en calorías</td>\n",
       "        <td>6</td>\n",
       "    </tr>\n",
       "    <tr>\n",
       "        <td>Moderado en calorías</td>\n",
       "        <td>3</td>\n",
       "    </tr>\n",
       "</table>"
      ],
      "text/plain": [
       "[('Alto en calorías', 1), ('Bajo en calorías', 6), ('Moderado en calorías', 3)]"
      ]
     },
     "execution_count": 4,
     "metadata": {},
     "output_type": "execute_result"
    }
   ],
   "source": [
    "%%sql\n",
    "SELECT clasificacion_calorias, COUNT(*) as cantidad\n",
    "FROM (\n",
    "    SELECT nombre,\n",
    "           CASE \n",
    "               WHEN calorias <= 400 THEN 'Bajo en calorías'\n",
    "               WHEN calorias <= 600 THEN 'Moderado en calorías'\n",
    "               ELSE 'Alto en calorías'\n",
    "           END AS clasificacion_calorias\n",
    "    FROM recetas)\n",
    "GROUP BY clasificacion_calorias;\n"
   ]
  },
  {
   "cell_type": "markdown",
   "id": "af7de0f6",
   "metadata": {},
   "source": [
    "# Ejercicio 2\n",
    "\n",
    "Bien creeremos una consulta en la que utilizando la sentencia LIKE seleccione las recetas que tengan pollo y la etiqueta que nos diga si son alimentos que son baratos.\n",
    "\n",
    "Ejercicio para los estudiantes:\n",
    "\n",
    "1.  Utilizando la tabla \"recetas\", escriba una consulta SQL que muestre solo las recetas que contengan \"pollo\" en los ingredientes y clasifique las recetas según su precio.\n",
    "2.  Utilice la cláusula WHERE y la función LIKE para filtrar solo las recetas que contengan \"pollo\" en los ingredientes.\n",
    "3.  Utilice la sentencia CASE para clasificar las recetas según su precio. Utilice la siguiente lógica para clasificar las recetas: si el valor de \"precio\" es menor o igual a 10, clasifíquelo como \"Barato\". Si no se cumple esta condición, clasifíquelo como \"Caro\"\n",
    "4.  El resultado debe ser una tabla con tres columnas, \"nombre\", \"precio\" y \"clasificacion_precio\", que indica el nombre de la receta, su precio y su clasificación de precio respectivamente.\n",
    "\n",
    "Este ejercicio ayudaría a los estudiantes a aprender a utilizar la función LIKE para filtrar los datos de una tabla, y a utilizar la sentencia CASE para clasificar los datos según una condición."
   ]
  },
  {
   "cell_type": "code",
   "execution_count": 5,
   "id": "a3b70b96",
   "metadata": {},
   "outputs": [
    {
     "name": "stdout",
     "output_type": "stream",
     "text": [
      " * sqlite://\n",
      "Done.\n"
     ]
    },
    {
     "data": {
      "text/html": [
       "<table>\n",
       "    <tr>\n",
       "        <th>nombre</th>\n",
       "        <th>precio</th>\n",
       "        <th>clasificacion_precio</th>\n",
       "    </tr>\n",
       "    <tr>\n",
       "        <td>Pollo a la parrilla</td>\n",
       "        <td>12.5</td>\n",
       "        <td>Caro</td>\n",
       "    </tr>\n",
       "    <tr>\n",
       "        <td>Paella</td>\n",
       "        <td>15.0</td>\n",
       "        <td>Caro</td>\n",
       "    </tr>\n",
       "    <tr>\n",
       "        <td>Enchiladas</td>\n",
       "        <td>7.5</td>\n",
       "        <td>Barato</td>\n",
       "    </tr>\n",
       "    <tr>\n",
       "        <td>Ramen</td>\n",
       "        <td>15.0</td>\n",
       "        <td>Caro</td>\n",
       "    </tr>\n",
       "</table>"
      ],
      "text/plain": [
       "[('Pollo a la parrilla', 12.5, 'Caro'),\n",
       " ('Paella', 15.0, 'Caro'),\n",
       " ('Enchiladas', 7.5, 'Barato'),\n",
       " ('Ramen', 15.0, 'Caro')]"
      ]
     },
     "execution_count": 5,
     "metadata": {},
     "output_type": "execute_result"
    }
   ],
   "source": [
    "%%sql\n",
    "SELECT nombre, precio,\n",
    "CASE\n",
    "WHEN precio <= 10 THEN 'Barato'\n",
    "ELSE 'Caro'\n",
    "END AS clasificacion_precio\n",
    "FROM recetas\n",
    "WHERE ingredientes LIKE '%pollo%';"
   ]
  },
  {
   "cell_type": "markdown",
   "id": "db65301c",
   "metadata": {},
   "source": [
    "# Ejercicio 3\n",
    "\n",
    "Ejercicio para los estudiantes:\n",
    "\n",
    "1.  Utilizando la tabla \"recetas\", escriba una consulta SQL que clasifique las recetas según el nivel de proteína y carbohidratos que contienen.\n",
    "2.  Utilice la sentencia CASE para clasificar las recetas según el nivel de proteína. Utilice la siguiente lógica para clasificar las recetas: si el valor de \"proteina\" es menor o igual a 20, clasifíquelo como \"Bajo en proteína\". Si el valor de \"proteina\" esta entre 20 y 30, clasifíquelo como \"Moderado en proteína\" y si es mayor a 30 clasifíquelo como \"Alto en proteína\"\n",
    "3.  Utilice otra sentencia CASE para clasificar las recetas según el nivel de carbohidratos. Utilice la siguiente lógica para clasificar las recetas: si el valor de \"carbohidratos\" es menor o igual a 30, clasifíquelo como \"Bajo en carbohidratos\". Si el valor de \"carbohidratos\" esta entre 30 y 50, clasifíquelo como \"Moderado en carbohidratos\" y si es mayor a 50 clasifíquelo como \"Alto en carbohidratos\"\n",
    "4.  El resultado debe ser una tabla con cinco columnas, \"nombre\", \"proteina\", \"carbohidratos\" , \"clasificacion_proteina\" y \"clasificacion_carbohidratos\", que indica el nombre de la receta, su nivel de proteina, su nivel de carbohidratos y su clasificación de proteina y carbohidratos respectivamente.\n",
    "\n",
    "Este ejercicio ayudaría a los estudiantes a aprender a utilizar la sentencia CASE para clasificar los datos en una tabla y a utilizar varias condiciones en una sola consulta para clasificar los datos de acuerdo a varias columnas."
   ]
  },
  {
   "cell_type": "code",
   "execution_count": 6,
   "id": "87cadbd9",
   "metadata": {},
   "outputs": [
    {
     "name": "stdout",
     "output_type": "stream",
     "text": [
      " * sqlite://\n",
      "Done.\n"
     ]
    },
    {
     "data": {
      "text/html": [
       "<table>\n",
       "    <tr>\n",
       "        <th>nombre</th>\n",
       "        <th>proteina</th>\n",
       "        <th>carbohidratos</th>\n",
       "        <th>clasificacion_proteina</th>\n",
       "        <th>clasificacion_carbohidratos</th>\n",
       "    </tr>\n",
       "    <tr>\n",
       "        <td>Pollo a la parrilla</td>\n",
       "        <td>30.0</td>\n",
       "        <td>15.0</td>\n",
       "        <td>Moderado en proteína</td>\n",
       "        <td>Bajo en carbohidratos</td>\n",
       "    </tr>\n",
       "    <tr>\n",
       "        <td>Arroz frito</td>\n",
       "        <td>20.0</td>\n",
       "        <td>50.0</td>\n",
       "        <td>Bajo en proteína</td>\n",
       "        <td>Moderado en carbohidratos</td>\n",
       "    </tr>\n",
       "    <tr>\n",
       "        <td>Spaghetti Bolognesa</td>\n",
       "        <td>25.0</td>\n",
       "        <td>60.0</td>\n",
       "        <td>Moderado en proteína</td>\n",
       "        <td>Alto en carbohidratos</td>\n",
       "    </tr>\n",
       "    <tr>\n",
       "        <td>Paella</td>\n",
       "        <td>30.0</td>\n",
       "        <td>70.0</td>\n",
       "        <td>Moderado en proteína</td>\n",
       "        <td>Alto en carbohidratos</td>\n",
       "    </tr>\n",
       "    <tr>\n",
       "        <td>Taco al pastor</td>\n",
       "        <td>10.0</td>\n",
       "        <td>15.0</td>\n",
       "        <td>Bajo en proteína</td>\n",
       "        <td>Bajo en carbohidratos</td>\n",
       "    </tr>\n",
       "    <tr>\n",
       "        <td>Churros</td>\n",
       "        <td>5.0</td>\n",
       "        <td>60.0</td>\n",
       "        <td>Bajo en proteína</td>\n",
       "        <td>Alto en carbohidratos</td>\n",
       "    </tr>\n",
       "    <tr>\n",
       "        <td>Enchiladas</td>\n",
       "        <td>20.0</td>\n",
       "        <td>40.0</td>\n",
       "        <td>Bajo en proteína</td>\n",
       "        <td>Moderado en carbohidratos</td>\n",
       "    </tr>\n",
       "    <tr>\n",
       "        <td>Lasagna</td>\n",
       "        <td>30.0</td>\n",
       "        <td>50.0</td>\n",
       "        <td>Moderado en proteína</td>\n",
       "        <td>Moderado en carbohidratos</td>\n",
       "    </tr>\n",
       "    <tr>\n",
       "        <td>Sushi</td>\n",
       "        <td>20.0</td>\n",
       "        <td>30.0</td>\n",
       "        <td>Bajo en proteína</td>\n",
       "        <td>Bajo en carbohidratos</td>\n",
       "    </tr>\n",
       "    <tr>\n",
       "        <td>Ramen</td>\n",
       "        <td>25.0</td>\n",
       "        <td>50.0</td>\n",
       "        <td>Moderado en proteína</td>\n",
       "        <td>Moderado en carbohidratos</td>\n",
       "    </tr>\n",
       "</table>"
      ],
      "text/plain": [
       "[('Pollo a la parrilla', 30.0, 15.0, 'Moderado en proteína', 'Bajo en carbohidratos'),\n",
       " ('Arroz frito', 20.0, 50.0, 'Bajo en proteína', 'Moderado en carbohidratos'),\n",
       " ('Spaghetti Bolognesa', 25.0, 60.0, 'Moderado en proteína', 'Alto en carbohidratos'),\n",
       " ('Paella', 30.0, 70.0, 'Moderado en proteína', 'Alto en carbohidratos'),\n",
       " ('Taco al pastor', 10.0, 15.0, 'Bajo en proteína', 'Bajo en carbohidratos'),\n",
       " ('Churros', 5.0, 60.0, 'Bajo en proteína', 'Alto en carbohidratos'),\n",
       " ('Enchiladas', 20.0, 40.0, 'Bajo en proteína', 'Moderado en carbohidratos'),\n",
       " ('Lasagna', 30.0, 50.0, 'Moderado en proteína', 'Moderado en carbohidratos'),\n",
       " ('Sushi', 20.0, 30.0, 'Bajo en proteína', 'Bajo en carbohidratos'),\n",
       " ('Ramen', 25.0, 50.0, 'Moderado en proteína', 'Moderado en carbohidratos')]"
      ]
     },
     "execution_count": 6,
     "metadata": {},
     "output_type": "execute_result"
    }
   ],
   "source": [
    "%%sql\n",
    "SELECT nombre, proteina, carbohidratos,\n",
    "CASE\n",
    "WHEN proteina <= 20 THEN 'Bajo en proteína'\n",
    "WHEN proteina <= 30 THEN 'Moderado en proteína'\n",
    "ELSE 'Alto en proteína'\n",
    "END AS clasificacion_proteina,\n",
    "CASE\n",
    "WHEN carbohidratos <= 30 THEN 'Bajo en carbohidratos'\n",
    "WHEN carbohidratos <= 50 THEN 'Moderado en carbohidratos'\n",
    "ELSE 'Alto en carbohidratos'\n",
    "END AS clasificacion_carbohidratos\n",
    "FROM recetas;"
   ]
  },
  {
   "cell_type": "markdown",
   "id": "6b985282",
   "metadata": {},
   "source": [
    "<hr style=\"height:5px; width: 100%; border-radius: 20%; background-color:#E7046B ; border-color: #E7046B\">"
   ]
  }
 ],
 "metadata": {
  "kernelspec": {
   "display_name": "Python 3 (ipykernel)",
   "language": "python",
   "name": "python3"
  },
  "language_info": {
   "codemirror_mode": {
    "name": "ipython",
    "version": 3
   },
   "file_extension": ".py",
   "mimetype": "text/x-python",
   "name": "python",
   "nbconvert_exporter": "python",
   "pygments_lexer": "ipython3",
   "version": "3.9.7"
  }
 },
 "nbformat": 4,
 "nbformat_minor": 5
}
