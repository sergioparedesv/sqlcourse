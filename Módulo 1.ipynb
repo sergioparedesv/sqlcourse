{
 "cells": [
  {
   "cell_type": "markdown",
   "id": "cd3a6f7e",
   "metadata": {},
   "source": [
    "# 1. Crear tablas en SQL"
   ]
  },
  {
   "cell_type": "markdown",
   "id": "8a102d7e",
   "metadata": {},
   "source": [
    "La creación de tablas requiere entender su composición **[Comando de creación] + [Nombre de la tabla] + [Campos de la tabla]**\n",
    "\n",
    "Ejemplo:"
   ]
  },
  {
   "cell_type": "markdown",
   "id": "0423544f",
   "metadata": {},
   "source": [
    "``` sql\n",
    "CREATE TABLE book (id INTEGER PRIMARY KEY, name TEXT, rating INTEGER);\n",
    "```"
   ]
  },
  {
   "cell_type": "markdown",
   "id": "a303c84d",
   "metadata": {},
   "source": [
    "Descomponemos el problema: [CREATE TABLE] + [book] + [(id INTEGER PRIMARY KEY, name TEXT, rating INTEGER);]"
   ]
  },
  {
   "cell_type": "markdown",
   "id": "67444374",
   "metadata": {},
   "source": [
    "## 1.1. Una vez explicado, pasaremos a entender la línea de las columnas que va a tener la tabla\n",
    "\n",
    "Encontraremos en minúsculas el nombre de los elementos y en mayúscula encontraremos las propiedades de los elementos.\n",
    "\n",
    " - id: Es la columna del identificador del elemento en la tabla.\n",
    " - name: Esta columna hace referencia a los nombres de los elementos.\n",
    " - rating: Esta columna hace referencia a la calificación del libro. \n",
    "\n",
    "**Propiedades**\n",
    "\n",
    " - INTEGER= El dato debe ser del tipo número.\n",
    " - TEXT= El dato debe ser una cadena de caracteres.\n",
    " - PRIMARY KEY= Llave primaria o ID es un elemento único e irrepetible\n",
    "   en la tabla.\n",
    "\n"
   ]
  },
  {
   "cell_type": "markdown",
   "id": "e839d66b",
   "metadata": {},
   "source": [
    "``` sql\n",
    "(id INTEGER PRIMARY KEY, name TEXT, rating INTEGER);\n",
    "```"
   ]
  },
  {
   "cell_type": "code",
   "execution_count": null,
   "id": "6c315bcf",
   "metadata": {},
   "outputs": [],
   "source": [
    "#La linea a continuación comprende la creación de una tabla.\n",
    "CREATE TABLE book (id INTEGER PRIMARY KEY, name TEXT, rating INTEGER);"
   ]
  },
  {
   "cell_type": "markdown",
   "id": "1daf0a73",
   "metadata": {},
   "source": [
    "## 1.2. Agregar valores en la tabla.\n",
    "\n",
    "Para agregar valores en la tabla es necesario utilizar el comando [INSERT INTO]+[nombre de la tabla]+[VALUES]"
   ]
  },
  {
   "cell_type": "code",
   "execution_count": null,
   "id": "513673a5",
   "metadata": {},
   "outputs": [],
   "source": [
    "#Ejemplo\n",
    "INSERT INTO book VALUES(1, \"El principe\", 5);\n",
    "INSERT INTO book VALUES(2, \"El Arte de la guerra\", 5);\n",
    "INSERT INTO book VALUES(3, \"Las 48 leyes del poder\", 5);"
   ]
  },
  {
   "cell_type": "markdown",
   "id": "bd0a0622",
   "metadata": {},
   "source": [
    "<hr>\n",
    "A continuación pondremos el código de ejemplo completo."
   ]
  },
  {
   "cell_type": "code",
   "execution_count": null,
   "id": "b88d3382",
   "metadata": {},
   "outputs": [],
   "source": [
    "#Creación de la tabla\n",
    "CREATE TABLE book (id INTEGER PRIMARY KEY, name TEXT, rating INTEGER);\n",
    "#Insertando los comandos de la tabla\n",
    "INSERT INTO book VALUES(1, \"El principe\", 5);\n",
    "INSERT INTO book VALUES(2, \"El Arte de la guerra\", 5);\n",
    "INSERT INTO book VALUES(3, \"Las 48 leyes del poder\", 5);"
   ]
  }
 ],
 "metadata": {
  "kernelspec": {
   "display_name": "Python 3 (ipykernel)",
   "language": "python",
   "name": "python3"
  },
  "language_info": {
   "codemirror_mode": {
    "name": "ipython",
    "version": 3
   },
   "file_extension": ".py",
   "mimetype": "text/x-python",
   "name": "python",
   "nbconvert_exporter": "python",
   "pygments_lexer": "ipython3",
   "version": "3.9.7"
  }
 },
 "nbformat": 4,
 "nbformat_minor": 5
}
