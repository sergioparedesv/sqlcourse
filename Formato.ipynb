{
 "cells": [
  {
   "cell_type": "markdown",
   "id": "7894594f",
   "metadata": {},
   "source": [
    "# Crear una tabla de bade de datos en SQL."
   ]
  },
  {
   "cell_type": "markdown",
   "id": "4dd8b308",
   "metadata": {},
   "source": [
    "<div style=\"border-left: 5px solid #f0ad4e; padding:1.25rem; border-right: 1px solid #eee;  border-top: 1px solid #eee;  border-bottom: 1px solid #eee;\">\n",
    "\n",
    "<h5 id=\"ensure-correct-role-and-provide-a-label\">Nota Aclaratoria</h5>\n",
    "\n",
    "<p>En <b>Jupyter Notebook</b> tendremos que habilitar la <b>extensión SQL</b> con las siguientes lineas.</p>\n",
    "\n",
    "</div>"
   ]
  },
  {
   "cell_type": "markdown",
   "id": "7109c446",
   "metadata": {},
   "source": [
    "Luego de cada consulta tenemos que colocar **%%sql**, la herramienta de comandos magicos de SQL"
   ]
  },
  {
   "cell_type": "markdown",
   "id": "9b3e7142",
   "metadata": {},
   "source": [
    "<div style=\"border-left: 5px solid #f0ad4e; padding:1.25rem; border-right: 1px solid #eee;  border-top: 1px solid #eee;  border-bottom: 1px solid #eee;\">\n",
    "\n",
    "<h5 id=\"ensure-correct-role-and-provide-a-label\">Nota Aclaratoria</h5>\n",
    "\n",
    "<p>En el enlace que dejaremos a continuación podrás encontrar una versión de SQL online que servirá para poner en práctica tu código y la visualización si así lo deseas.</p>\n",
    "\n",
    "  <a href=\"https://sqliteonline.com/\" target=\"_blank\"><button type=\"button\" class=\"btn btn-success\">\n",
    "  <a href=\"https://sqliteonline.com/\" target=\"_blank\" style=\"color: white; text-decoration:none;\">Success</a>\n",
    "</button></a>\n",
    "    \n",
    "</div>"
   ]
  },
  {
   "cell_type": "markdown",
   "id": "bd7e7354",
   "metadata": {},
   "source": [
    "<div style=\"border-left: 5px solid #04E720; padding:1.25rem; border-right: 1px solid #eee;  border-top: 1px solid #eee;  border-bottom: 1px solid #eee;\">\n",
    "\n",
    "<h5 id=\"ensure-correct-role-and-provide-a-label\">Explicación: </h5>\n",
    "\n",
    "Argumento de la explicación   \n",
    "</div>"
   ]
  },
  {
   "cell_type": "markdown",
   "id": "01bc7a7f",
   "metadata": {},
   "source": [
    "<blockquote>Cita</blockquote>"
   ]
  },
  {
   "cell_type": "markdown",
   "id": "edca6231",
   "metadata": {},
   "source": [
    "```sql\n",
    "INSERT INTO table (column1, column2, column3)\n",
    "VALUES (value1, value2, value3)\n",
    "```"
   ]
  },
  {
   "cell_type": "markdown",
   "id": "2ad66557",
   "metadata": {},
   "source": [
    "<code>Python\n",
    "str = \"This is a block level code\"\n",
    "print(str)\n",
    "</code>"
   ]
  },
  {
   "cell_type": "markdown",
   "id": "350ad013",
   "metadata": {},
   "source": [
    "<hr style=\"height:5px; width: 100%; border-radius: 20%; background-color:#E7046B ; border-color: #E7046B\">"
   ]
  },
  {
   "cell_type": "code",
   "execution_count": null,
   "id": "d6f09af7",
   "metadata": {},
   "outputs": [],
   "source": [
    "#Crea la tabla estudiantes."
   ]
  },
  {
   "cell_type": "code",
   "execution_count": null,
   "id": "7f4ba2a4",
   "metadata": {},
   "outputs": [],
   "source": []
  },
  {
   "cell_type": "markdown",
   "id": "d263b2c8",
   "metadata": {},
   "source": [
    "<hr style=\"height:5px; width: 100%; border-radius: 20%; background-color:#E7046B ; border-color: #E7046B\">"
   ]
  },
  {
   "cell_type": "markdown",
   "id": "402a2d21",
   "metadata": {},
   "source": [
    "<ul class=\"list-group\">\n",
    "  <li class=\"list-group-item\">Cras justo odio</li>\n",
    "  <li class=\"list-group-item\">Dapibus ac facilisis in</li>\n",
    "  <li class=\"list-group-item\">Morbi leo risus</li>\n",
    "  <li class=\"list-group-item\">Porta ac consectetur ac</li>\n",
    "  <li class=\"list-group-item\">Vestibulum at eros</li>\n",
    "</ul>"
   ]
  },
  {
   "cell_type": "markdown",
   "id": "301abd56",
   "metadata": {},
   "source": [
    "<div class=\"jumbotron\">\n",
    "  <h1 class=\"display-4\">Hello, world!</h1>\n",
    "  <p class=\"lead\">This is a simple hero unit, a simple jumbotron-style component for calling extra attention to featured content or information.</p>\n",
    "  <hr class=\"my-4\">\n",
    "  <p>It uses utility classes for typography and spacing to space content out within the larger container.</p>\n",
    "  <p class=\"lead\">\n",
    "    <a class=\"btn btn-primary btn-lg\" href=\"#\" role=\"button\">Learn more</a>\n",
    "  </p>\n",
    "</div>"
   ]
  },
  {
   "cell_type": "code",
   "execution_count": null,
   "id": "d621f1cb",
   "metadata": {},
   "outputs": [],
   "source": []
  }
 ],
 "metadata": {
  "kernelspec": {
   "display_name": "Python 3 (ipykernel)",
   "language": "python",
   "name": "python3"
  },
  "language_info": {
   "codemirror_mode": {
    "name": "ipython",
    "version": 3
   },
   "file_extension": ".py",
   "mimetype": "text/x-python",
   "name": "python",
   "nbconvert_exporter": "python",
   "pygments_lexer": "ipython3",
   "version": "3.9.7"
  }
 },
 "nbformat": 4,
 "nbformat_minor": 5
}
