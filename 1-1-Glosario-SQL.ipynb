{
 "cells": [
  {
   "cell_type": "markdown",
   "id": "fb4bd031",
   "metadata": {},
   "source": [
    "<hr style=\"height:2px; width: 95%; border-radius: 20%; background-color:#E7046B ; border-color: #E7046B\">"
   ]
  },
  {
   "cell_type": "markdown",
   "id": "cb6c9f04",
   "metadata": {},
   "source": [
    "# 1. Glosario General."
   ]
  },
  {
   "cell_type": "markdown",
   "id": "80202f7f",
   "metadata": {},
   "source": [
    "***SELECT:*** este comando se utiliza para seleccionar datos de una tabla en la base de datos.\n",
    "\n",
    "***FROM:*** este comando se utiliza para seleccionar la tabla en la base de datos desde donde se quiere sacar la información.\n",
    "\n",
    "***INSERT INTO:*** este comando se utiliza para insertar nuevas filas en una tabla.\n",
    "\n",
    "***UPDATE:*** este comando se utiliza para actualizar filas existentes en una tabla.\n",
    "\n",
    "***DELETE FROM:*** este comando se utiliza para eliminar filas de una tabla.\n",
    "\n",
    "***CREATE TABLE:*** este comando se utiliza para crear una nueva tabla en la base de datos.\n",
    "\n",
    "***DROP TABLE:*** este comando se utiliza para eliminar una tabla de la base de datos.\n",
    "\n",
    "***WHERE:*** este comando se utiliza especificar las condiciones que debe cumplir una consulta de la base de datos.\n",
    "\n",
    "***ALTER TABLE:*** este comando se utiliza para modificar una tabla existente, como agregar o eliminar columnas.\n",
    "\n",
    "***TRUNCATE TABLE:*** este comando se utiliza para vaciar todos los datos de una tabla.\n",
    "\n",
    "***GROUP BY:*** este comando se utiliza para agrupar resultados de una consulta por una o más columnas.\n",
    "\n",
    "***HAVING:*** este comando se utiliza para filtrar resultados de una consulta en base a una condición.\n",
    "\n",
    "***ORDER BY:*** este comando se utiliza para ordenar los resultados de una consulta por una o más columnas."
   ]
  },
  {
   "cell_type": "markdown",
   "id": "ef6a95cc",
   "metadata": {},
   "source": [
    "<hr style=\"height:2px; width: 95%; border-radius: 20%; background-color:#E7046B ; border-color: #E7046B\">"
   ]
  },
  {
   "cell_type": "markdown",
   "id": "f4a3e120",
   "metadata": {},
   "source": [
    "# 2. Explicación del comando SELECT/SELECCIONAR en SQL y sus usos."
   ]
  },
  {
   "cell_type": "markdown",
   "id": "c19fc2b3",
   "metadata": {},
   "source": [
    "El comando SELECT en SQL se utiliza para seleccionar datos de una tabla en la base de datos. Al ejecutar una consulta SELECT, puedes especificar qué columnas de la tabla quieres seleccionar y, opcionalmente, puedes especificar una condición para filtrar qué filas se incluyen en los resultados.\n",
    "\n",
    "Aquí tienes algunos ejemplos de cómo se puede utilizar el comando SELECT:"
   ]
  },
  {
   "cell_type": "markdown",
   "id": "e486b275",
   "metadata": {},
   "source": [
    "-   `SELECT *`: selecciona todas las columnas de una tabla.\n",
    "-   `SELECT column1, column2, ...`: selecciona las columnas especificadas de una tabla.\n",
    "-   `SELECT DISTINCT column1, column2, ...`: selecciona las columnas especificadas de una tabla, eliminando duplicados.\n",
    "-   `SELECT * FROM table`: selecciona todas las columnas de la tabla especificada.\n",
    "-   `SELECT * FROM table WHERE condition`: selecciona todas las columnas de la tabla especificada y solo las filas que cumplen con la condición especificada.\n",
    "-   `SELECT * FROM table1, table2`: selecciona todas las columnas de ambas tablas.\n",
    "-   `SELECT * FROM table1 INNER JOIN table2 ON table1.column = table2.column`: selecciona todas las columnas de ambas tablas y solo las filas que cumplen con la condición de unión especificada.\n",
    "-   `SELECT * FROM table LIMIT n`: selecciona todas las columnas de la tabla y solo las primeras n filas.\n",
    "-   `SELECT * FROM table ORDER BY column ASC/DESC`: selecciona todas las columnas de la tabla y ordena las filas por la columna especificada en orden ascendente o descendente."
   ]
  },
  {
   "cell_type": "markdown",
   "id": "6a295ae6",
   "metadata": {},
   "source": [
    "<hr style=\"height:2px; width: 95%; border-radius: 20%; background-color:#E7046B ; border-color: #E7046B\">"
   ]
  },
  {
   "cell_type": "markdown",
   "id": "1faf4bfc",
   "metadata": {},
   "source": [
    "# 3. Explicación del comando FROM/DESDE"
   ]
  },
  {
   "cell_type": "markdown",
   "id": "51c8abaa",
   "metadata": {},
   "source": [
    "El comando FROM en SQL se utiliza para especificar de qué tabla o tablas se deben seleccionar los datos en una consulta SELECT. Es necesario incluir la cláusula FROM en cualquier consulta SELECT que no seleccione todas las columnas de la tabla o tablas especificadas.\n",
    "\n",
    "Aquí tienes algunos ejemplos de cómo se puede utilizar el comando FROM:\n",
    "```sql\n",
    "SELECT * FROM table: selecciona todas las columnas de la tabla especificada.\n",
    "\n",
    "SELECT column1, column2 FROM table: selecciona las columnas especificadas de la tabla.\n",
    "\n",
    "SELECT * FROM table1, table2: selecciona todas las columnas de ambas tablas.\n",
    "```\n",
    "\n",
    "Además de especificar las tablas de las que se deben seleccionar los datos, también puedes utilizar la cláusula FROM para especificar alias para las tablas. Esto es útil cuando trabajas con tablas que tienen nombres largos o cuando necesitas unir varias tablas y tienen columnas con nombres iguales.\n",
    "\n",
    "Aquí tienes un ejemplo de cómo se puede utilizar el comando FROM con alias:\n"
   ]
  },
  {
   "cell_type": "markdown",
   "id": "6f69ef66",
   "metadata": {},
   "source": [
    "```sql\n",
    "SELECT c.name, c.age, o.order_date\n",
    "FROM customers c\n",
    "JOIN orders o\n",
    "ON c.id = o.customer_id\n",
    "```"
   ]
  },
  {
   "cell_type": "markdown",
   "id": "67431ee4",
   "metadata": {},
   "source": [
    "En este ejemplo, hemos utilizado alias para las tablas customers y orders. Esto nos permite hacer referencia a las columnas de cada tabla utilizando los alias en lugar de escribir el nombre completo de la tabla.\n",
    "\n",
    "Espero que esto te haya ayudado a entender mejor el comando FROM en SQL. Si tienes más preguntas, no dudes en preguntar."
   ]
  },
  {
   "cell_type": "markdown",
   "id": "cbb540ee",
   "metadata": {},
   "source": [
    "Ejemplos del uso de FROM.\n",
    "\n",
    "-   `FROM table`: especifica una tabla de la que se deben seleccionar los datos.\n",
    "-   `FROM table1, table2`: especifica varias tablas de las que se deben seleccionar los datos.\n",
    "-   `FROM table1 INNER JOIN table2 ON table1.column = table2.column`: especifica dos tablas que se deben unir y la condición de unión.\n",
    "-   `FROM table1 LEFT JOIN table2 ON table1.column = table2.column`: especifica dos tablas que se deben unir usando una unión izquierda y la condición de unión.\n",
    "-   `FROM table1 RIGHT JOIN table2 ON table1.column = table2.column`: especifica dos tablas que se deben unir usando una unión derecha y la condición de unión.\n",
    "-   `FROM table1 FULL OUTER JOIN table2 ON table1.column = table2.column`: especifica dos tablas que se deben unir usando una unión externa completa y la condición de unión.\n",
    "-   `FROM table1 CROSS JOIN table2`: especifica dos tablas que se deben cruzar sin utilizar una condición de unión."
   ]
  },
  {
   "cell_type": "markdown",
   "id": "b231b58e",
   "metadata": {},
   "source": [
    "<hr style=\"height:2px; width: 95%; border-radius: 20%; background-color:#E7046B ; border-color: #E7046B\">"
   ]
  },
  {
   "cell_type": "markdown",
   "id": "b03506e0",
   "metadata": {},
   "source": [
    "# 4. Explicación del comando INSERT INTO/Insertar en, en SQL y sus usos."
   ]
  },
  {
   "cell_type": "markdown",
   "id": "5fe2f1cc",
   "metadata": {},
   "source": [
    "El comando INSERT INTO en SQL se utiliza para insertar nuevas filas en una tabla de la base de datos. Al ejecutar una consulta INSERT INTO, debes especificar el nombre de la tabla en la que deseas insertar los datos y luego los valores que deseas insertar.\n",
    "\n",
    "Aquí tienes un ejemplo de cómo se puede utilizar el comando INSERT INTO:\n",
    "\n"
   ]
  },
  {
   "cell_type": "markdown",
   "id": "88c278d7",
   "metadata": {},
   "source": [
    "```sql\n",
    "INSERT INTO table (column1, column2, column3)\n",
    "VALUES (value1, value2, value3)\n",
    "```"
   ]
  },
  {
   "cell_type": "markdown",
   "id": "fa410bad",
   "metadata": {},
   "source": [
    "En este ejemplo, estamos insertando una nueva fila en la tabla table y especificando los valores para las columnas column1, column2 y column3.\n",
    "\n",
    "También puedes insertar múltiples filas a la vez utilizando una sintaxis ligeramente diferente:"
   ]
  },
  {
   "cell_type": "markdown",
   "id": "8e356d65",
   "metadata": {},
   "source": [
    "```sql\n",
    "INSERT INTO table (column1, column2, column3)\n",
    "VALUES (value1, value2, value3), (value4, value5, value6), (value7, value8, value9)\n",
    "```"
   ]
  },
  {
   "cell_type": "markdown",
   "id": "1469a32d",
   "metadata": {},
   "source": [
    "En este ejemplo, estamos insertando tres filas a la vez en la tabla table.\n",
    "\n",
    "Espero que esto te haya ayudado a entender mejor el comando INSERT INTO en SQL. Si tienes más preguntas, no dudes en preguntar."
   ]
  },
  {
   "cell_type": "markdown",
   "id": "5b54af20",
   "metadata": {},
   "source": [
    "Aquí tienes algunos ejemplos de cómo se puede utilizar el comando `INSERT INTO`:\n",
    "\n",
    "-   `INSERT INTO table (column1, column2, column3) VALUES (value1, value2, value3)`: inserta una nueva fila en la tabla especificada y especifica los valores para cada columna.\n",
    "-   `INSERT INTO table (column1, column2, column3) SELECT column1, column2, column3 FROM other_table WHERE condition`: inserta nuevas filas en la tabla especificada seleccionando los datos de otra tabla y filtrando las filas que cumplen con la condición especificada.\n",
    "-   `INSERT INTO table DEFAULT VALUES`: inserta una nueva fila en la tabla especificada con los valores predeterminados de cada columna.\n",
    "-   `INSERT INTO table (column1, column2, column3) VALUES (value1, value2, value3), (value4, value5, value6), (value7, value8, value9)`: inserta múltiples filas a la vez en la tabla especificada."
   ]
  },
  {
   "cell_type": "markdown",
   "id": "68ef6197",
   "metadata": {},
   "source": [
    "<hr style=\"height:2px; width: 95%; border-radius: 20%; background-color:#E7046B ; border-color: #E7046B\">"
   ]
  },
  {
   "cell_type": "markdown",
   "id": "d785ea29",
   "metadata": {},
   "source": [
    "# 5. Explicación del comando UPDATE/ACTUALIZAR"
   ]
  },
  {
   "cell_type": "markdown",
   "id": "63003692",
   "metadata": {},
   "source": [
    "El comando UPDATE en SQL se utiliza para modificar los datos existentes en una tabla de la base de datos. Al ejecutar una consulta UPDATE, debes especificar el nombre de la tabla en la que deseas realizar la actualización y luego utilizar la cláusula SET para especificar qué columnas deben modificarse y a qué nuevos valores deben establecerse.\n",
    "\n",
    "Aquí tienes un ejemplo de cómo se puede utilizar el comando UPDATE:"
   ]
  },
  {
   "cell_type": "markdown",
   "id": "bca52d23",
   "metadata": {},
   "source": [
    "```sqL\n",
    "UPDATE table\n",
    "SET column1 = value1, column2 = value2\n",
    "WHERE condition\n",
    "```"
   ]
  },
  {
   "cell_type": "markdown",
   "id": "c164e9b7",
   "metadata": {},
   "source": [
    "En este ejemplo, estamos actualizando la tabla table y estableciendo el valor de column1 en value1 y el valor de column2 en value2. También estamos utilizando la cláusula WHERE para especificar una condición que determina qué filas deben modificarse.\n",
    "\n",
    "También puedes utilizar el comando UPDATE para modificar los valores de varias tablas a la vez utilizando unir. Aquí tienes un ejemplo:"
   ]
  },
  {
   "cell_type": "markdown",
   "id": "f45a6398",
   "metadata": {},
   "source": [
    "```sqL\n",
    "UPDATE table1\n",
    "SET column1 = table2.column1\n",
    "FROM table1\n",
    "JOIN table2\n",
    "ON table1.id = table2.id\n",
    "```"
   ]
  },
  {
   "cell_type": "markdown",
   "id": "95132f39",
   "metadata": {},
   "source": [
    "Aquí tienes algunos ejemplos de cómo se puede utilizar el comando `UPDATE` en SQL:\n",
    "\n",
    "-   `UPDATE table SET column1 = value1 WHERE condition`: actualiza el valor de una columna para todas las filas que cumplan con la condición especificada.\n",
    "-   `UPDATE table SET column1 = value1, column2 = value2 WHERE condition`: actualiza el valor de varias columnas para todas las filas que cumplan con la condición especificada.\n",
    "-   `UPDATE table SET column1 = value1 WHERE column2 = value2`: actualiza el valor de una columna basándose en el valor de otra columna.\n",
    "-   `UPDATE table1 SET column1 = table2.column1 FROM table1 JOIN table2 ON table1.id = table2.id`: actualiza el valor de una columna en una tabla basándose en el valor de una columna en otra tabla.\n",
    "-   `UPDATE table SET column1 = value1 WHERE id IN (SELECT id FROM other_table WHERE condition)`: actualiza el valor de una columna en una tabla basándose en el valor de una columna en otra tabla, utilizando una subconsulta.\n",
    "\n",
    "Espero que esto te haya ayudado a entender mejor los diferentes usos del comando `UPDATE` en SQL. Si tienes más preguntas, no dudes en preguntar."
   ]
  },
  {
   "cell_type": "markdown",
   "id": "05c8d262",
   "metadata": {},
   "source": [
    "<hr style=\"height:2px; width: 95%; border-radius: 20%; background-color:#E7046B ; border-color: #E7046B\">"
   ]
  },
  {
   "cell_type": "markdown",
   "id": "e63de39d",
   "metadata": {},
   "source": [
    "# 6. Explicación del comando DELETE FROM/ELIMINAR DE"
   ]
  },
  {
   "cell_type": "markdown",
   "id": "87da315d",
   "metadata": {},
   "source": [
    "El comando DELETE FROM en SQL se utiliza para eliminar filas de una tabla de la base de datos. Al ejecutar una consulta DELETE FROM, debes especificar el nombre de la tabla de la que deseas eliminar los datos y, opcionalmente, puedes utilizar la cláusula WHERE para especificar una condición que determine qué filas deben eliminarse.\n",
    "\n",
    "Aquí tienes un ejemplo de cómo se puede utilizar el comando DELETE FROM:"
   ]
  },
  {
   "cell_type": "markdown",
   "id": "ed41d41d",
   "metadata": {},
   "source": [
    "```sqL\n",
    "DELETE FROM table WHERE condition\n",
    "```"
   ]
  },
  {
   "cell_type": "markdown",
   "id": "2721b515",
   "metadata": {},
   "source": [
    "En este ejemplo, estamos eliminando todas las filas de la tabla table que cumplan con la condición especificada. Si no especificas ninguna condición, se eliminarán todas las filas de la tabla.\n",
    "\n",
    "Es importante tener cuidado al utilizar el comando DELETE FROM, ya que una vez que las filas se eliminan, no pueden recuperarse. Es recomendable utilizar una consulta SELECT con la cláusula WHERE para verificar qué filas se van a eliminar antes de ejecutar la consulta DELETE FROM.\n",
    "\n",
    "Espero que esto te haya ayudado a entender mejor el comando DELETE FROM en SQL. Si tienes más preguntas, no dudes en preguntar."
   ]
  },
  {
   "cell_type": "markdown",
   "id": "d1eaa07b",
   "metadata": {},
   "source": [
    "Aquí tienes algunos ejemplos de cómo se puede utilizar el comando `DELETE FROM` en SQL:\n",
    "\n",
    "-   `DELETE FROM table WHERE condition`: elimina todas las filas de la tabla que cumplan con la condición especificada.\n",
    "-   `DELETE FROM table WHERE id IN (SELECT id FROM other_table WHERE condition)`: elimina todas las filas de la tabla que tengan un valor de `id` que exista en otra tabla, utilizando una subconsulta.\n",
    "-   `DELETE FROM table`: elimina todas las filas de la tabla.\n",
    "-   `DELETE FROM table WHERE column1 = value1 AND column2 = value2`: elimina todas las filas de la tabla que cumplan con varias condiciones.\n",
    "-   `DELETE FROM table WHERE column1 IS NULL`: elimina todas las filas de la tabla que tengan un valor `NULL` en la columna especificada.\n",
    "\n",
    "Espero que esto te haya ayudado a entender mejor los diferentes usos del comando `DELETE FROM` en SQL. Si tienes más preguntas, no dudes en preguntar."
   ]
  },
  {
   "cell_type": "markdown",
   "id": "5edfa430",
   "metadata": {},
   "source": [
    "<hr style=\"height:2px; width: 95%; border-radius: 20%; background-color:#E7046B ; border-color: #E7046B\">"
   ]
  },
  {
   "cell_type": "markdown",
   "id": "b9acc7e3",
   "metadata": {},
   "source": [
    "# 7. Explicación del comando  CREATE TABLE/Crear Tabla."
   ]
  },
  {
   "cell_type": "markdown",
   "id": "5453fad8",
   "metadata": {},
   "source": [
    "El comando CREATE TABLE en SQL se utiliza para crear una nueva tabla en una base de datos. Al ejecutar una consulta CREATE TABLE, debes especificar el nombre de la nueva tabla y luego definir las columnas de la tabla y sus tipos de datos.\n",
    "\n",
    "Aquí tienes un ejemplo de cómo se puede utilizar el comando CREATE TABLE:"
   ]
  },
  {
   "cell_type": "markdown",
   "id": "a7d3399d",
   "metadata": {},
   "source": [
    "```sqL\n",
    "CREATE TABLE table (\n",
    "  column1 data_type,\n",
    "  column2 data_type,\n",
    "  column3 data_type\n",
    ");\n",
    "```"
   ]
  },
  {
   "cell_type": "markdown",
   "id": "faeabd19",
   "metadata": {},
   "source": [
    "En este ejemplo, estamos creando una nueva tabla llamada table con tres columnas: column1, column2 y column3. Estamos especificando el tipo de datos para cada columna, como INTEGER, VARCHAR, DATE, etc.\n",
    "\n",
    "También puedes utilizar la cláusula PRIMARY KEY para establecer una columna como la clave principal de la tabla y la cláusula FOREIGN KEY para establecer una columna como una clave externa que se refiere a una clave principal en otra tabla.\n",
    "\n",
    "Espero que esto te haya ayudado a entender mejor el comando CREATE TABLE en SQL. Si tienes más preguntas, no dudes en preguntar."
   ]
  },
  {
   "cell_type": "markdown",
   "id": "6d2f3101",
   "metadata": {},
   "source": [
    "Aquí tienes algunos ejemplos de cómo se puede utilizar el comando `CREATE TABLE` en SQL:\n",
    "\n",
    "-   `CREATE TABLE users (id INTEGER PRIMARY KEY, name TEXT, email TEXT)`: crea una tabla llamada `users` con tres columnas: `id`, `name` y `email`. La columna `id` es un entero y es la clave principal de la tabla.\n",
    "-   `CREATE TABLE orders (id INTEGER PRIMARY KEY, user_id INTEGER FOREIGN KEY REFERENCES users(id), product_name TEXT, quantity INTEGER)`: crea una tabla llamada `orders` con cuatro columnas: `id`, `user_id`, `product_name` y `quantity`. La columna `id` es la clave principal de la tabla y la columna `user_id` es una clave externa que se refiere a la clave principal de la tabla `users`.\n",
    "-   `CREATE TABLE products (id INTEGER PRIMARY KEY, name TEXT, price REAL, category TEXT)`: crea una tabla llamada `products` con cuatro columnas: `id`, `name`, `price` y `category`. La columna `id` es la clave principal de la tabla y el tipo de datos `REAL` se utiliza para almacenar valores de punto flotante.\n",
    "-   `CREATE TABLE events (id INTEGER PRIMARY KEY, name TEXT, start_date DATE, end_date DATE)`: crea una tabla llamada `events` con cuatro columnas: `id`, `name`, `start_date` y `end_date`. La columna `id` es la clave principal de la tabla y el tipo de datos `DATE` se utiliza para almacenar fechas.\n",
    "\n",
    "Espero que estos ejemplos te hayan ayudado a entender mejor cómo se puede utilizar el comando `CREATE TABLE` en SQL. Si tienes más preguntas, no dudes en preguntar."
   ]
  },
  {
   "cell_type": "markdown",
   "id": "5934d21c",
   "metadata": {},
   "source": [
    "<hr style=\"height:2px; width: 95%; border-radius: 20%; background-color:#E7046B ; border-color: #E7046B\">"
   ]
  },
  {
   "cell_type": "markdown",
   "id": "28f81d4c",
   "metadata": {},
   "source": [
    "# 8. Explicación del comando DROP TABLE/Eliminar Tabla"
   ]
  },
  {
   "cell_type": "markdown",
   "id": "fa30b1df",
   "metadata": {},
   "source": [
    "El comando DROP TABLE en SQL se utiliza para eliminar completamente una tabla de una base de datos. Al ejecutar una consulta DROP TABLE, debes especificar el nombre de la tabla que deseas eliminar.\n",
    "\n",
    "Aquí tienes un ejemplo de cómo se puede utilizar el comando DROP TABLE:"
   ]
  },
  {
   "cell_type": "markdown",
   "id": "da870e0e",
   "metadata": {},
   "source": [
    "\n",
    "```sql\n",
    "DROP TABLE table;\n",
    "```"
   ]
  },
  {
   "cell_type": "markdown",
   "id": "41ac70ff",
   "metadata": {},
   "source": [
    "En este ejemplo, estamos eliminando completamente la tabla llamada table de la base de datos. Una vez que se ejecuta la consulta, la tabla y todos sus datos se eliminan permanentemente y no pueden recuperarse.\n",
    "\n",
    "Es importante tener cuidado al utilizar el comando DROP TABLE, ya que una vez que la tabla se elimina, no puede recuperarse. Asegúrate de que realmente quieres eliminar la tabla antes de ejecutar la consulta.\n",
    "\n",
    "Espero que esto te haya ayudado a entender mejor el comando DROP TABLE en SQL. Si tienes más preguntas, no dudes en preguntar."
   ]
  },
  {
   "cell_type": "markdown",
   "id": "43cc66b5",
   "metadata": {},
   "source": [
    "Aquí tienes algunos ejemplos de cómo se puede utilizar el comando `DROP TABLE` en SQL:\n",
    "\n",
    "-   `DROP TABLE users`: elimina completamente la tabla llamada `users` de la base de datos.\n",
    "-   `DROP TABLE products, orders`: elimina completamente las tablas llamadas `products` y `orders` de la base de datos.\n",
    "-   `DROP TABLE IF EXISTS users`: elimina completamente la tabla llamada `users` de la base de datos, pero solo si existe. Si la tabla no existe, no se produce ningún error.\n",
    "\n",
    "Espero que estos ejemplos te hayan ayudado a entender mejor cómo se puede utilizar el comando `DROP TABLE` en SQL. Si tienes más preguntas, no dudes en preguntar."
   ]
  },
  {
   "cell_type": "markdown",
   "id": "70a0859a",
   "metadata": {},
   "source": [
    "<hr style=\"height:2px; width: 95%; border-radius: 20%; background-color:#E7046B ; border-color: #E7046B\">"
   ]
  },
  {
   "cell_type": "markdown",
   "id": "6dfb6508",
   "metadata": {},
   "source": [
    "# 9. Explicación del comando WHERE/DÓNDE"
   ]
  },
  {
   "cell_type": "markdown",
   "id": "f6ddce50",
   "metadata": {},
   "source": [
    "El comando WHERE en SQL se utiliza para filtrar los resultados de una consulta. Al utilizar la cláusula WHERE, debes especificar una condición que deben cumplir las filas que deseas seleccionar.\n",
    "\n",
    "Aquí tienes un ejemplo de cómo se puede utilizar el comando WHERE:"
   ]
  },
  {
   "cell_type": "markdown",
   "id": "4a8baf50",
   "metadata": {},
   "source": [
    "\n",
    "```sql\n",
    "SELECT column1, column2, column3 FROM table WHERE condition;\n",
    "\n",
    "```"
   ]
  },
  {
   "cell_type": "markdown",
   "id": "368fe55e",
   "metadata": {},
   "source": [
    "En este ejemplo, estamos seleccionando las columnas column1, column2 y column3 de la tabla table, pero solo para las filas que cumplan con la condición especificada. La condición puede ser cualquier expresión que devuelva un valor verdadero o falso, como column1 = 'value', column2 > 10 o column3 LIKE '%pattern%'.\n",
    "\n",
    "También puedes utilizar operadores lógicos como AND y OR para combinar varias condiciones y la cláusula IN para especificar una lista de valores permitidos para una columna.\n",
    "\n",
    "Espero que esto te haya ayudado a entender mejor el comando WHERE en SQL. Si tienes más preguntas, no dudes en preguntar."
   ]
  },
  {
   "cell_type": "markdown",
   "id": "c3cd1093",
   "metadata": {},
   "source": [
    "Aquí tienes algunos ejemplos de cómo se puede utilizar el comando `WHERE` en SQL:\n",
    "\n",
    "-   `SELECT * FROM users WHERE age > 30`: selecciona todas las columnas y filas de la tabla `users` para las filas que tienen un valor de `age` mayor que 30.\n",
    "-   `SELECT id, name, email FROM users WHERE gender = 'female'`: selecciona las columnas `id`, `name` y `email` de la tabla `users` para las filas que tienen un valor de `gender` igual a 'female'.\n",
    "-   `SELECT * FROM products WHERE price BETWEEN 10 AND 20`: selecciona todas las columnas y filas de la tabla `products` para las filas que tienen un valor de `price` entre 10 y 20.\n",
    "-   `SELECT * FROM orders WHERE user_id IN (SELECT id FROM users WHERE name LIKE '%John%')`: selecciona todas las columnas y filas de la tabla `orders` para las filas que tienen un valor de `user_id` que exista en la tabla `users`, utilizando una subconsulta.\n",
    "-   `SELECT * FROM events WHERE start_date >= '2022-01-01' AND end_date <= '2022-12-31'`: selecciona todas las columnas y filas de la tabla `events` para las filas que tienen un valor de `start_date` mayor o igual al 1 de enero de 2022 y un valor de `end_date` menor o igual al 31 de diciembre de 2022.\n",
    "\n",
    "Espero que estos ejemplos te hayan ayudado a entender mejor cómo se puede utilizar el comando `WHERE` en SQL. Si tienes más preguntas, no dudes en preguntar."
   ]
  },
  {
   "cell_type": "markdown",
   "id": "c116107b",
   "metadata": {},
   "source": [
    "<hr style=\"height:2px; width: 95%; border-radius: 20%; background-color:#E7046B ; border-color: #E7046B\">"
   ]
  },
  {
   "cell_type": "markdown",
   "id": "73732f33",
   "metadata": {},
   "source": [
    "# 10. Explicación del comando ALTER TABLE/ALTERAR TABLA"
   ]
  },
  {
   "cell_type": "markdown",
   "id": "c5fe5a9e",
   "metadata": {},
   "source": [
    "El comando ALTER TABLE en SQL se utiliza para modificar la estructura de una tabla existente en una base de datos. Al utilizar el comando ALTER TABLE, puedes agregar o eliminar columnas, modificar el tipo de datos de una columna o agregar o quitar restricciones.\n",
    "\n",
    "Aquí tienes un ejemplo de cómo se puede utilizar el comando ALTER TABLE:"
   ]
  },
  {
   "cell_type": "markdown",
   "id": "b5fb1ba5",
   "metadata": {},
   "source": [
    "```sql\n",
    "ALTER TABLE table ADD column datatype;\n",
    "\n",
    "```"
   ]
  },
  {
   "cell_type": "markdown",
   "id": "35d5a260",
   "metadata": {},
   "source": [
    "En este ejemplo, estamos agregando una nueva columna llamada column al final de la tabla table con el tipo de datos especificado.\n",
    "\n",
    "También puedes utilizar el comando ALTER TABLE para hacer otras modificaciones, como:\n",
    "\n",
    "ALTER TABLE table DROP COLUMN column: elimina la columna llamada column de la tabla table.\n",
    "ALTER TABLE table MODIFY COLUMN column datatype: modifica el tipo de datos de la columna llamada column en la tabla table.\n",
    "ALTER TABLE table ADD CONSTRAINT constraint_name constraint_type(column): agrega una restricción a la tabla table para la columna column.\n",
    "Espero que esto te haya ayudado a entender mejor el comando ALTER TABLE en SQL. Si tienes más preguntas, no dudes en preguntar."
   ]
  },
  {
   "cell_type": "markdown",
   "id": "2ae97933",
   "metadata": {},
   "source": [
    "Aquí tienes algunos ejemplos de cómo se puede utilizar el comando `ALTER TABLE` en SQL:\n",
    "\n",
    "-   `ALTER TABLE users ADD email VARCHAR(255)`: agrega una nueva columna llamada `email` a la tabla `users` con un tipo de datos `VARCHAR` de 255 caracteres.\n",
    "-   `ALTER TABLE orders DROP COLUMN notes`: elimina la columna llamada `notes` de la tabla `orders`.\n",
    "-   `ALTER TABLE products MODIFY COLUMN price DECIMAL(10,2)`: modifica el tipo de datos de la columna `price` en la tabla `products` a un tipo `DECIMAL` con una precisión de 10 dígitos y una escala de 2.\n",
    "-   `ALTER TABLE customers ADD CONSTRAINT zip_code_unique UNIQUE(zip_code)`: agrega una restricción `UNIQUE` a la columna `zip_code` de la tabla `customers` para asegurar que no hay dos filas con el mismo valor.\n",
    "\n",
    "Espero que estos ejemplos te hayan ayudado a entender mejor cómo se puede utilizar el comando `ALTER TABLE` en SQL. Si tienes más preguntas, no dudes en preguntar."
   ]
  },
  {
   "cell_type": "markdown",
   "id": "679d4fcc",
   "metadata": {},
   "source": [
    "<hr style=\"height:2px; width: 95%; border-radius: 20%; background-color:#E7046B ; border-color: #E7046B\">"
   ]
  },
  {
   "cell_type": "markdown",
   "id": "8a72b410",
   "metadata": {},
   "source": [
    "# 11. Explicación del comando TRUNCATE TABLE: "
   ]
  },
  {
   "cell_type": "markdown",
   "id": "7ed84bb5",
   "metadata": {},
   "source": [
    "El comando TRUNCATE TABLE en SQL se utiliza para eliminar todas las filas de una tabla, dejando la tabla vacía y reseteando el contador de identidad (si existe). Es similar al comando DELETE FROM con la diferencia de que TRUNCATE TABLE es más rápido y utiliza menos recursos, ya que no mantiene un registro de las filas eliminadas y no activa los triggers de la tabla.\n",
    "\n",
    "Aquí tienes un ejemplo de cómo se puede utilizar el comando TRUNCATE TABLE:"
   ]
  },
  {
   "cell_type": "markdown",
   "id": "7bcab294",
   "metadata": {},
   "source": [
    "```sql\n",
    "TRUNCATE TABLE table;\n",
    "```\n"
   ]
  },
  {
   "cell_type": "markdown",
   "id": "0f9325d6",
   "metadata": {},
   "source": [
    "En este ejemplo, estamos eliminando todas las filas de la tabla table. También puedes utilizar el comando TRUNCATE TABLE para eliminar varias tablas al mismo tiempo:\n",
    "\n"
   ]
  },
  {
   "cell_type": "markdown",
   "id": "31ac3c73",
   "metadata": {},
   "source": [
    "```sql\n",
    "TRUNCATE TABLE table1, table2, table3;\n",
    "```\n"
   ]
  },
  {
   "cell_type": "markdown",
   "id": "4e571a09",
   "metadata": {},
   "source": [
    "Espero que esto te haya ayudado a entender mejor el comando TRUNCATE TABLE en SQL. Si tienes más preguntas, no dudes en preguntar."
   ]
  },
  {
   "cell_type": "markdown",
   "id": "c2996e23",
   "metadata": {},
   "source": [
    "\n",
    "Aquí tienes algunos ejemplos de cómo se puede utilizar el comando `TRUNCATE TABLE` en SQL:\n",
    "\n",
    "-   `TRUNCATE TABLE users`: elimina todas las filas de la tabla `users`.\n",
    "-   `TRUNCATE TABLE products, orders, customers`: elimina todas las filas de las tablas `products`, `orders` y `customers`.\n",
    "-   `TRUNCATE TABLE logs`: elimina todas las filas de la tabla `logs` y resetea el contador de identidad.\n",
    "\n",
    "Espero que estos ejemplos te hayan ayudado a entender mejor cómo se puede utilizar el comando `TRUNCATE TABLE` en SQL. Si tienes más preguntas, no dudes en preguntar."
   ]
  },
  {
   "cell_type": "markdown",
   "id": "3baec604",
   "metadata": {},
   "source": [
    "<hr style=\"height:2px; width: 95%; border-radius: 20%; background-color:#E7046B ; border-color: #E7046B\">"
   ]
  },
  {
   "cell_type": "markdown",
   "id": "6b91319d",
   "metadata": {},
   "source": [
    "# 12. Explicación del comando GROUP BY/AGRUPAR POR"
   ]
  },
  {
   "cell_type": "markdown",
   "id": "06ca6206",
   "metadata": {},
   "source": [
    "El comando GROUP BY en SQL se utiliza para agrupar los resultados de una consulta según uno o más campos. Al utilizar el comando GROUP BY, puedes utilizar funciones de agregación como COUNT, SUM, AVG y MAX para obtener información resumida sobre los grupos resultantes.\n",
    "\n",
    "Aquí tienes un ejemplo de cómo se puede utilizar el comando GROUP BY:"
   ]
  },
  {
   "cell_type": "markdown",
   "id": "bb6608be",
   "metadata": {},
   "source": [
    "```sql\n",
    "SELECT column, COUNT(*)\n",
    "FROM table\n",
    "GROUP BY column;\n",
    "```\n"
   ]
  },
  {
   "cell_type": "markdown",
   "id": "14d3c7e0",
   "metadata": {},
   "source": [
    "En este ejemplo, estamos seleccionando la columna column y el recuento de filas para cada valor único de column en la tabla table.\n",
    "\n",
    "También puedes utilizar el comando GROUP BY para agrupar por múltiples columnas:"
   ]
  },
  {
   "cell_type": "markdown",
   "id": "1824b069",
   "metadata": {},
   "source": [
    "```sql\n",
    "SELECT column1, column2, AVG(column3)\n",
    "FROM table\n",
    "GROUP BY column1, column2;\n",
    "```"
   ]
  },
  {
   "cell_type": "markdown",
   "id": "83a85bab",
   "metadata": {},
   "source": [
    "En este ejemplo, estamos seleccionando las columnas column1 y column2 y el promedio de la columna column3 para cada combinación única de column1 y column2 en la tabla table.\n",
    "\n",
    "Espero que esto te haya ayudado a entender mejor el comando GROUP BY en SQL. Si tienes más preguntas, no dudes en preguntar."
   ]
  },
  {
   "cell_type": "markdown",
   "id": "d1501143",
   "metadata": {},
   "source": [
    "Aquí tienes algunos ejemplos de cómo se puede utilizar el comando `GROUP BY` en SQL:\n",
    "\n",
    "-   `SELECT department, COUNT(*) FROM employees GROUP BY department`: muestra el número de empleados por departamento.\n",
    "-   `SELECT year, SUM(sales) FROM orders GROUP BY year`: muestra las ventas totales por año.\n",
    "-   `SELECT product, AVG(price) FROM products GROUP BY product`: muestra el precio promedio por producto.\n",
    "-   `SELECT customer, MAX(purchase_date) FROM orders GROUP BY customer`: muestra la última fecha de compra por cliente.\n",
    "\n",
    "Espero que estos ejemplos te hayan ayudado a entender mejor cómo se puede utilizar el comando `GROUP BY` en SQL. Si tienes más preguntas, no dudes en preguntar."
   ]
  },
  {
   "cell_type": "markdown",
   "id": "2a529cc5",
   "metadata": {},
   "source": [
    "<hr style=\"height:2px; width: 95%; border-radius: 20%; background-color:#E7046B ; border-color: #E7046B\">"
   ]
  },
  {
   "cell_type": "markdown",
   "id": "2bbbdcb6",
   "metadata": {},
   "source": [
    "# 13. Explicación del comando HAVING/TENIENDO"
   ]
  },
  {
   "cell_type": "markdown",
   "id": "1fd5e8f5",
   "metadata": {},
   "source": [
    "El comando HAVING en SQL se utiliza para filtrar los resultados de una consulta que utiliza el comando GROUP BY. Al utilizar el comando HAVING, puedes especificar condiciones que deben cumplirse para que un grupo sea incluido en el resultado final.\n",
    "\n",
    "Aquí tienes un ejemplo de cómo se puede utilizar el comando HAVING:"
   ]
  },
  {
   "cell_type": "markdown",
   "id": "ece4a96f",
   "metadata": {},
   "source": [
    "```sql\n",
    "SELECT column, COUNT(*)\n",
    "FROM table\n",
    "GROUP BY column\n",
    "HAVING COUNT(*) > 5;\n",
    "```"
   ]
  },
  {
   "cell_type": "markdown",
   "id": "e0943127",
   "metadata": {},
   "source": [
    "En este ejemplo, estamos seleccionando la columna column y el recuento de filas para cada valor único de column en la tabla table, y filtrando los resultados para mostrar solo aquellos grupos que tienen más de 5 filas.\n",
    "\n",
    "También puedes utilizar el comando HAVING para especificar múltiples condiciones:"
   ]
  },
  {
   "cell_type": "markdown",
   "id": "88375e3f",
   "metadata": {},
   "source": [
    "```sql\n",
    "SELECT column1, column2, AVG(column3)\n",
    "FROM table\n",
    "GROUP BY column1, column2\n",
    "HAVING AVG(column3) > 10 AND COUNT(*) > 5;\n",
    "```"
   ]
  },
  {
   "cell_type": "markdown",
   "id": "cba7bfc5",
   "metadata": {},
   "source": [
    "En este ejemplo, estamos seleccionando las columnas column1 y column2 y el promedio de la columna column3 para cada combinación única de column1 y column2 en la tabla table, y filtrando los resultados para mostrar solo aquellos grupos que tienen un promedio de column3 mayor que 10 y un recuento de filas mayor que 5.\n",
    "\n",
    "Espero que esto te haya ayudado a entender mejor el comando HAVING en SQL. Si tienes más preguntas, no dudes en preguntar."
   ]
  },
  {
   "cell_type": "markdown",
   "id": "571b6f65",
   "metadata": {},
   "source": [
    "Aquí tienes algunos ejemplos de cómo se puede utilizar el comando `HAVING` en SQL:\n",
    "\n",
    "-   `SELECT department, COUNT(*) FROM employees GROUP BY department HAVING COUNT(*) > 5`: muestra los departamentos que tienen más de 5 empleados.\n",
    "-   `SELECT year, SUM(sales) FROM orders GROUP BY year HAVING SUM(sales) > 1000`: muestra los años con ventas totales mayores a 1000.\n",
    "-   `SELECT product, AVG(price) FROM products GROUP BY product HAVING AVG(price) < 10`: muestra los productos con un precio promedio menor a 10.\n",
    "-   `SELECT customer, MAX(purchase_date) FROM orders GROUP BY customer HAVING MAX(purchase_date) < '2022-01-01'`: muestra los clientes con la última fecha de compra anterior al 1 de enero de 2022.\n",
    "\n",
    "Espero que estos ejemplos te hayan ayudado a entender mejor cómo se puede utilizar el comando `HAVING` en SQL. Si tienes más preguntas, no dudes en preguntar."
   ]
  },
  {
   "cell_type": "markdown",
   "id": "679c862a",
   "metadata": {},
   "source": [
    "<hr style=\"height:2px; width: 95%; border-radius: 20%; background-color:#E7046B ; border-color: #E7046B\">"
   ]
  },
  {
   "cell_type": "markdown",
   "id": "ac97d67a",
   "metadata": {},
   "source": [
    "# 14. Explicación del comando ORDER BY/ORDENAR POR"
   ]
  },
  {
   "cell_type": "markdown",
   "id": "0321a1cc",
   "metadata": {},
   "source": [
    "El comando ORDER BY en SQL se utiliza para ordenar los resultados de una consulta de acuerdo a uno o más campos. Al utilizar el comando ORDER BY, puedes especificar si los resultados deben ordenarse en orden ascendente o descendente.\n",
    "\n",
    "Aquí tienes un ejemplo de cómo se puede utilizar el comando ORDER BY:"
   ]
  },
  {
   "cell_type": "markdown",
   "id": "70d3248e",
   "metadata": {},
   "source": [
    "```sql\n",
    "SELECT *\n",
    "FROM table\n",
    "ORDER BY column ASC;\n",
    "```"
   ]
  },
  {
   "cell_type": "markdown",
   "id": "f70fdfbd",
   "metadata": {},
   "source": [
    "En este ejemplo, estamos seleccionando todas las columnas de la tabla table y ordenando los resultados por la columna column en orden ascendente. Si quieres ordenar los resultados en orden descendente, puedes utilizar DESC en lugar de ASC.\n",
    "\n",
    "También puedes utilizar el comando ORDER BY para ordenar por múltiples columnas:"
   ]
  },
  {
   "cell_type": "markdown",
   "id": "0fb8a513",
   "metadata": {},
   "source": [
    "```sql\n",
    "SELECT *\n",
    "FROM table\n",
    "ORDER BY column1 ASC, column2 DESC;\n",
    "```"
   ]
  },
  {
   "cell_type": "markdown",
   "id": "78f85598",
   "metadata": {},
   "source": [
    "En este ejemplo, estamos seleccionando todas las columnas de la tabla table y ordenando los resultados primero por la columna column1 en orden ascendente, y luego por la columna column2 en orden descendente.\n",
    "\n",
    "Espero que esto te haya ayudado a entender mejor el comando ORDER BY en SQL. Si tienes más preguntas, no dudes en preguntar."
   ]
  },
  {
   "cell_type": "markdown",
   "id": "d6450ee6",
   "metadata": {},
   "source": [
    "Aquí tienes algunos ejemplos de cómo se puede utilizar el comando `ORDER BY` en SQL:\n",
    "\n",
    "-   `SELECT * FROM employees ORDER BY last_name ASC`: muestra todas las columnas de la tabla `employees` ordenadas por el apellido en orden ascendente.\n",
    "-   `SELECT * FROM products ORDER BY price DESC`: muestra todas las columnas de la tabla `products` ordenadas por el precio en orden descendente.\n",
    "-   `SELECT * FROM customers ORDER BY country ASC, city DESC`: muestra todas las columnas de la tabla `customers` ordenadas primero por el país en orden ascendente y luego por la ciudad en orden descendente.\n",
    "-   `SELECT * FROM orders ORDER BY date ASC, amount DESC`: muestra todas las columnas de la tabla `orders` ordenadas primero por la fecha en orden ascendente y luego por el importe en orden descendente.\n",
    "\n",
    "Espero que estos ejemplos te hayan ayudado a entender mejor cómo se puede utilizar el comando `ORDER BY` en SQL. Si tienes más preguntas, no dudes en preguntar."
   ]
  },
  {
   "cell_type": "markdown",
   "id": "38ed4331",
   "metadata": {},
   "source": [
    "<hr style=\"height:2px; width: 95%; border-radius: 20%; background-color:#E7046B ; border-color: #E7046B\">"
   ]
  }
 ],
 "metadata": {
  "kernelspec": {
   "display_name": "Python 3 (ipykernel)",
   "language": "python",
   "name": "python3"
  },
  "language_info": {
   "codemirror_mode": {
    "name": "ipython",
    "version": 3
   },
   "file_extension": ".py",
   "mimetype": "text/x-python",
   "name": "python",
   "nbconvert_exporter": "python",
   "pygments_lexer": "ipython3",
   "version": "3.9.7"
  }
 },
 "nbformat": 4,
 "nbformat_minor": 5
}
