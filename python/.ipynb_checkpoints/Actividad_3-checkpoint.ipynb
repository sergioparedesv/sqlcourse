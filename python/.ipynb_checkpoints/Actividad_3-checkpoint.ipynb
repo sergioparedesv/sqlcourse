{
 "cells": [
  {
   "cell_type": "markdown",
   "metadata": {
    "id": "Wt04Pw1rIJQj"
   },
   "source": [
    "En la siguiente celda, completa los siguientes ejercicios:\n",
    "\n",
    "## Ejercicio 1\n",
    "\n",
    "Escribe una clase llamada Numero. Esta clase debe tener una constructora que reciba un número y almacene ese número en 2 atributos: romano que almacenará el número en el formato de número romanos como una cadena de caracteres y normal que guardará el número que nos han dado en la constructora.\n",
    "\n",
    "## Ejercicio 2\n",
    "\n",
    "Crea dos nuevos métodos en la clase Numero. El primer método, llamado imprime(), imprime un mensaje mostrando el valor de ambos atributos; el segundo método, llamado suma_romano(), tendrá como parámetros una cadena de caracteres que representará otro número romano y que sumaremos a los atributos que ya teníamos.\n",
    "\n",
    "**NOTA:** si necesita convertir el número romano a número normal para realizar las operaciones implemente un nuevo método.\n",
    "\n",
    "## Ejercicio 3\n",
    "\n",
    "Define una función llamada is_romano() dentro de la clase Numero que a partir de una cadena de caracteres, devuelve True si esa cadena de caracteres corresponde con un número romano y falso en caso contrario. Después, modifica el método para que lance un error en el caso de que el valor que nos pasan por parámetro no se corresponde con el patrón de un número romano."
   ]
  },
  {
   "cell_type": "code",
   "execution_count": 1,
   "metadata": {
    "colab": {
     "base_uri": "https://localhost:8080/"
    },
    "executionInfo": {
     "elapsed": 237,
     "status": "ok",
     "timestamp": 1672422877519,
     "user": {
      "displayName": "Pedro Luis Garrido Cano",
      "userId": "01205779776867508927"
     },
     "user_tz": -60
    },
    "id": "OWDhGW44IJQm",
    "outputId": "1c4e1475-c439-4d50-c34d-6c278899fe00"
   },
   "outputs": [],
   "source": [
    "import re\n",
    "\n",
    "class Numero:\n",
    "    # Atributos de la clase\n",
    "    romano = \"\"\n",
    "    normal = \"\"\n",
    "    \n",
    "    def __init__(self, normal):\n",
    "        # Al crear un objeto, se convierte el número normal a romano y se guarda en el atributo romano\n",
    "        self.romano = Numero.normal_a_romano(normal)\n",
    "        self.normal = normal\n",
    "    \n",
    "    def imprime(self):\n",
    "        # Método que imprime los atributos normal y romano\n",
    "        cadena = \"{} {}\"\n",
    "        print(cadena.format(self.normal, self.romano))\n",
    "    \n",
    "    def suma_romano(self, romano):\n",
    "        # Método que suma el número romano dado al atributo romano\n",
    "        # Primero se convierte el número romano actual a normal y el nuevo número romano a normal\n",
    "        numero_anterior = Numero.romano_a_normal(self.romano)\n",
    "        numero_nuevo = Numero.romano_a_normal(romano)\n",
    "        # Luego se suman los dos números en formato normal y se guarda el resultado en los atributos romano y normal\n",
    "        res = int(numero_anterior) + int(numero_nuevo)\n",
    "        self.romano = Numero.normal_a_romano(res)\n",
    "        self.normal = res\n",
    "    \n",
    "    def romano_a_normal(romano):\n",
    "        dic = {\"M\": 1000, \"D\": 500, \"C\": 100, \"L\": 50, \"X\": 10, \"V\": 5, \"I\": 1}\n",
    "        res = 0\n",
    "        for i in range(0, len(romano)):\n",
    "            if i == 0 or dic[romano[i]] <= dic[romano[i-1]]:\n",
    "                res += dic[romano[i]]\n",
    "            else:\n",
    "                res += dic[romano[i]] - 2 * dic[romano[i-1]]\n",
    "        return res\n",
    "\n",
    "    def normal_a_romano(normal):\n",
    "        num = [1, 4, 5, 9, 10, 40, 50, 90, 100, 400, 500, 900, 1000]\n",
    "        rom = [\"I\", \"IV\", \"V\", \"IX\", \"X\", \"XL\", \"L\", \"XC\", \"C\", \"CD\", \"D\", \"CM\", \"M\"]\n",
    "        i = 12\n",
    "        res = \"\"\n",
    "        while normal:\n",
    "            div = normal // num[i]\n",
    "            normal %= num[i]\n",
    "            while div:\n",
    "                res += str(rom[i])\n",
    "                div -= 1\n",
    "            i -= 1\n",
    "        return res\n",
    "\n",
    "    def is_romano(self, romano):\n",
    "        # Definimos el patrón para validar números romanos\n",
    "        patron_romano = \"^M{0,3}(CM|CD|D?C{0,3})(XC|XL|L?X{0,3})(IX|IV|V?I{0,3})$\"\n",
    "        \n",
    "        # Verificamos si el número cumple con el patrón\n",
    "        if re.search(patron_romano, romano):\n",
    "            return True\n",
    "        else:\n",
    "            return False"
   ]
  },
  {
   "cell_type": "markdown",
   "metadata": {
    "id": "42xNSXN9IJQm"
   },
   "source": [
    "En la siguiente celda, completa los siguientes ejercicios:\n",
    "\n",
    "## Ejercicio 4\n",
    "\n",
    "Implementa una clase llamada MejorNumero. Esta clase heredará las propiedades de Numero e incluirá dos métodos nuevos, llamados resta() y multiplica(), para restar y multiplicar los atributos recibiendo por parámetro otro número romano. \n",
    "\n",
    "\n",
    "## Ejercicio 5\n",
    "\n",
    "En la clase MejorNumero, crea un nuevo método llamado iterar() que reciba una lista con 3 números romanos. A continuación, iterando sobre los elementos de la lista llamará a la función suma_romano(). Los posibles errores se tendrán que gestionar con excepciones (try...except...) para mostrar un mensaje y seguir ejecutando el siguiente número.\n",
    "\n",
    "**NOTA:** el mensaje de error ha de seguir el siguiente formato --> print('Ha fallado el número', 5). "
   ]
  },
  {
   "cell_type": "code",
   "execution_count": 2,
   "metadata": {
    "colab": {
     "base_uri": "https://localhost:8080/"
    },
    "executionInfo": {
     "elapsed": 307,
     "status": "ok",
     "timestamp": 1672422717346,
     "user": {
      "displayName": "Pedro Luis Garrido Cano",
      "userId": "01205779776867508927"
     },
     "user_tz": -60
    },
    "id": "ddwlDUQAIJQn",
    "outputId": "c42717fd-9127-44a9-dadc-e55603915754"
   },
   "outputs": [],
   "source": [
    "class MejorNumero(Numero):\n",
    "    def __init__(self, normal):\n",
    "        self.romano = Numero.normal_a_romano(normal)\n",
    "        self.normal = Numero.normal\n",
    "\n",
    "    def resta(self, romano):\n",
    "        # Convertimos los números a su forma normal\n",
    "        numero_anterior = Numero.romano_a_normal(self.romano)\n",
    "        numero_nuevo = Numero.romano_a_normal(romano)\n",
    "        \n",
    "        # Realizamos la resta\n",
    "        res = int(numero_anterior) - int(numero_nuevo)\n",
    "        \n",
    "        # Actualizamos el valor en romano y normal\n",
    "        self.romano = Numero.normal_a_romano(res)\n",
    "        self.normal = res\n",
    "\n",
    "    def multiplica(self, romano):\n",
    "        # Convertimos los números a su forma normal\n",
    "        numero_anterior = Numero.romano_a_normal(self.romano)\n",
    "        numero_nuevo = Numero.romano_a_normal(romano)\n",
    "        \n",
    "        # Realizamos la multiplicación\n",
    "        res = int(numero_anterior) * int(numero_nuevo)\n",
    "        \n",
    "        # Actualizamos el valor en romano y normal\n",
    "        self.romano = Numero.normal_a_romano(res)\n",
    "        self.normal = res\n",
    "        \n",
    "    def iterar(self, lista):\n",
    "        # Convertimos el número actual a su forma normal\n",
    "        numero_anterior = Numero.romano_a_normal(self.romano)\n",
    "        \n",
    "        # Iteramos sobre cada elemento de la lista\n",
    "        acumulador = 0\n",
    "        for elemento in lista:\n",
    "            try:\n",
    "                acumulador += Numero.romano_a_normal(elemento)\n",
    "            except TypeError:\n",
    "                print(\"Ha fallado el número \" + str(elemento))\n",
    "        \n",
    "        # Realizamos la suma\n",
    "        res = numero_anterior + acumulador\n",
    "        \n",
    "        # Actualizamos el valor en romano y normal\n",
    "        self.romano = Numero.normal_a_romano(res)\n",
    "        self.normal = res"
   ]
  }
 ],
 "metadata": {
  "colab": {
   "provenance": []
  },
  "kernelspec": {
   "display_name": "Python 3 (ipykernel)",
   "language": "python",
   "name": "python3"
  },
  "language_info": {
   "codemirror_mode": {
    "name": "ipython",
    "version": 3
   },
   "file_extension": ".py",
   "mimetype": "text/x-python",
   "name": "python",
   "nbconvert_exporter": "python",
   "pygments_lexer": "ipython3",
   "version": "3.9.7"
  }
 },
 "nbformat": 4,
 "nbformat_minor": 1
}
