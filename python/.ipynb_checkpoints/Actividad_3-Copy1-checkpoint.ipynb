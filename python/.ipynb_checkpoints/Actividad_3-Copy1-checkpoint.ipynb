{
 "cells": [
  {
   "cell_type": "markdown",
   "metadata": {
    "id": "Wt04Pw1rIJQj"
   },
   "source": [
    "En la siguiente celda, completa los siguientes ejercicios:\n",
    "\n",
    "## Ejercicio 1\n",
    "\n",
    "Escribe una clase llamada Numero. Esta clase debe tener una constructora que reciba un número y almacene ese número en 2 atributos: romano que almacenará el número en el formato de número romanos como una cadena de caracteres y normal que guardará el número que nos han dado en la constructora.\n",
    "\n",
    "## Ejercicio 2\n",
    "\n",
    "Crea dos nuevos métodos en la clase Numero. El primer método, llamado imprime(), imprime un mensaje mostrando el valor de ambos atributos; el segundo método, llamado suma_romano(), tendrá como parámetros una cadena de caracteres que representará otro número romano y que sumaremos a los atributos que ya teníamos.\n",
    "\n",
    "**NOTA:** si necesita convertir el número romano a número normal para realizar las operaciones implemente un nuevo método.\n",
    "\n",
    "## Ejercicio 3\n",
    "\n",
    "Define una función llamada is_romano() dentro de la clase Numero que a partir de una cadena de caracteres, devuelve True si esa cadena de caracteres corresponde con un número romano y falso en caso contrario. Después, modifica el método para que lance un error en el caso de que el valor que nos pasan por parámetro no se corresponde con el patrón de un número romano."
   ]
  },
  {
   "cell_type": "code",
   "execution_count": 1,
   "metadata": {
    "colab": {
     "base_uri": "https://localhost:8080/"
    },
    "executionInfo": {
     "elapsed": 237,
     "status": "ok",
     "timestamp": 1672422877519,
     "user": {
      "displayName": "Pedro Luis Garrido Cano",
      "userId": "01205779776867508927"
     },
     "user_tz": -60
    },
    "id": "OWDhGW44IJQm",
    "outputId": "1c4e1475-c439-4d50-c34d-6c278899fe00"
   },
   "outputs": [],
   "source": [
    "class Numero:\n",
    "    def __init__(self, numero):\n",
    "        self.normal = numero\n",
    "        self.romano = self.convertir_a_romano(numero)\n",
    "    \n",
    "    def convertir_a_romano(self, numero):\n",
    "        correspondencias = {\n",
    "            1000: \"M\",\n",
    "            900: \"CM\",\n",
    "            500: \"D\",\n",
    "            400: \"CD\",\n",
    "            100: \"C\",\n",
    "            90: \"XC\",\n",
    "            50: \"L\",\n",
    "            40: \"XL\",\n",
    "            10: \"X\",\n",
    "            9: \"IX\",\n",
    "            5: \"V\",\n",
    "            4: \"IV\",\n",
    "            1: \"I\"\n",
    "        }\n",
    "        resultado = \"\"\n",
    "        for clave, valor in correspondencias.items():\n",
    "            while numero >= clave:\n",
    "                resultado += valor\n",
    "                numero -= clave\n",
    "        return resultado\n",
    "\n",
    "    def imprime(self):\n",
    "        print(self.normal, self.romano)\n",
    "        print(self.romano)\n",
    "    \n",
    "    def suma_romano(self, romano):\n",
    "        self.normal += self.convertir_a_normal(romano)\n",
    "        self.romano = self.convertir_a_romano(self.normal)\n",
    "    \n",
    "    def convertir_a_normal(self, romano):\n",
    "    correspondencias = {\n",
    "        \"M\": 1000,\n",
    "        \"CM\": 900,\n",
    "        \"D\": 500,\n",
    "        \"CD\": 400,\n",
    "        \"C\": 100,\n",
    "        \"XC\": 90,\n",
    "        \"L\": 50,\n",
    "        \"XL\": 40,\n",
    "        \"X\": 10,\n",
    "        \"IX\": 9,\n",
    "        \"V\": 5,\n",
    "        \"IV\": 4,\n",
    "        \"I\": 1\n",
    "    }\n",
    "    resultado = 0\n",
    "    indice = 0\n",
    "    while indice < len(romano):\n",
    "        if indice + 1 < len(romano) and romano[indice:indice+2] in correspondencias:\n",
    "            resultado += correspondencias[romano[indice:indice+2]]\n",
    "            indice += 2\n",
    "        else:\n",
    "            resultado += correspondencias[romano[indice]]\n",
    "            indice += 1\n",
    "    return resultado"
   ]
  },
  {
   "cell_type": "markdown",
   "metadata": {
    "id": "42xNSXN9IJQm"
   },
   "source": [
    "En la siguiente celda, completa los siguientes ejercicios:\n",
    "\n",
    "## Ejercicio 4\n",
    "\n",
    "Implementa una clase llamada MejorNumero. Esta clase heredará las propiedades de Numero e incluirá dos métodos nuevos, llamados resta() y multiplica(), para restar y multiplicar los atributos recibiendo por parámetro otro número romano. \n",
    "\n",
    "\n",
    "## Ejercicio 5\n",
    "\n",
    "En la clase MejorNumero, crea un nuevo método llamado iterar() que reciba una lista con 3 números romanos. A continuación, iterando sobre los elementos de la lista llamará a la función suma_romano(). Los posibles errores se tendrán que gestionar con excepciones (try...except...) para mostrar un mensaje y seguir ejecutando el siguiente número.\n",
    "\n",
    "**NOTA:** el mensaje de error ha de seguir el siguiente formato --> print('Ha fallado el número', 5). "
   ]
  },
  {
   "cell_type": "code",
   "execution_count": 2,
   "metadata": {
    "colab": {
     "base_uri": "https://localhost:8080/"
    },
    "executionInfo": {
     "elapsed": 307,
     "status": "ok",
     "timestamp": 1672422717346,
     "user": {
      "displayName": "Pedro Luis Garrido Cano",
      "userId": "01205779776867508927"
     },
     "user_tz": -60
    },
    "id": "ddwlDUQAIJQn",
    "outputId": "c42717fd-9127-44a9-dadc-e55603915754"
   },
   "outputs": [],
   "source": []
  }
 ],
 "metadata": {
  "colab": {
   "provenance": []
  },
  "kernelspec": {
   "display_name": "Python 3 (ipykernel)",
   "language": "python",
   "name": "python3"
  },
  "language_info": {
   "codemirror_mode": {
    "name": "ipython",
    "version": 3
   },
   "file_extension": ".py",
   "mimetype": "text/x-python",
   "name": "python",
   "nbconvert_exporter": "python",
   "pygments_lexer": "ipython3",
   "version": "3.9.7"
  }
 },
 "nbformat": 4,
 "nbformat_minor": 1
}
