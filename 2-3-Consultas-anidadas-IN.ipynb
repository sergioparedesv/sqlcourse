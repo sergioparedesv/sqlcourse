{
 "cells": [
  {
   "cell_type": "markdown",
   "id": "b6bf7392",
   "metadata": {},
   "source": [
    "# CONSULTAS ANIDADAS EN SQL."
   ]
  },
  {
   "cell_type": "markdown",
   "id": "213ee2c0",
   "metadata": {},
   "source": [
    "Las consultas anidadas son consultas que se utilizan dentro de otras consultas. Esto nos permite realizar operaciones más complejas y seleccionar datos de varias tablas a la vez.\n",
    "\n",
    "Por ejemplo, imagine que tenemos una tabla de \"ejercicios\" y otra tabla de \"alimentos\". Si queremos encontrar el ejercicio que quema más calorías y el alimento que proporciona más proteínas, podemos utilizar consultas anidadas para realizar estas operaciones de manera independiente y luego combinarlas en una única consulta.\n",
    "\n",
    "Para anidar consultas, debemos utilizar la palabra clave SELECT seguida de las columnas que queremos seleccionar y de la palabra clave FROM, seguida del nombre de la tabla. A continuación, debemos escribir la consulta anidada entre paréntesis y asignarle un alias. Por último, podemos utilizar la consulta anidada en la cláusula WHERE de la consulta principal para seleccionar los datos que cumplan con las condiciones especificadas en la consulta anidada.\n",
    "\n",
    "Por ejemplo, si queremos encontrar el ejercicio que quema más calorías y el alimento que proporciona más proteínas, podemos utilizar las siguientes consultas anidadas:"
   ]
  },
  {
   "cell_type": "markdown",
   "id": "547fe828",
   "metadata": {},
   "source": [
    "```sql\n",
    "SELECT (SELECT type FROM exercise_logs ORDER BY calories DESC LIMIT 1) AS most_caloric_exercise,\n",
    "       (SELECT name FROM foods ORDER BY protein DESC LIMIT 1) AS most_protein_food;\n",
    "```"
   ]
  },
  {
   "cell_type": "markdown",
   "id": "d6e79aa2",
   "metadata": {},
   "source": [
    "Esta consulta nos devolverá el ejercicio que más calorías quema y el alimento que más proteínas proporciona. Las consultas anidadas nos permiten realizar operaciones más complejas y seleccionar datos de varias tablas a la vez, lo que nos permite obtener información más detallada y precisa de nuestros datos."
   ]
  },
  {
   "cell_type": "markdown",
   "id": "94362260",
   "metadata": {},
   "source": [
    "# 1. Clausula IN"
   ]
  },
  {
   "cell_type": "markdown",
   "id": "e90b775f",
   "metadata": {},
   "source": [
    "La cláusula IN en SQL se utiliza para especificar una lista de valores a comparar con una columna en una tabla. Por ejemplo:"
   ]
  },
  {
   "cell_type": "markdown",
   "id": "8e0bfe0c",
   "metadata": {},
   "source": [
    "```sql\n",
    "SELECT * FROM tabla WHERE columna IN (valor1, valor2, valor3);\n",
    "\n",
    "```"
   ]
  },
  {
   "cell_type": "markdown",
   "id": "235d2a54",
   "metadata": {},
   "source": [
    "Esto seleccionaría todas las filas de la tabla donde la columna es igual a cualquiera de los valores especificados en la lista (valor1, valor2, valor3). La cláusula IN se puede utilizar en cualquier lugar donde se espere una expresión de comparación.\n",
    "\n",
    "También puedes utilizar la cláusula NOT IN para seleccionar todas las filas donde la columna no es igual a ninguno de los valores especificados en la lista. Por ejemplo:"
   ]
  },
  {
   "cell_type": "markdown",
   "id": "479bcdbe",
   "metadata": {},
   "source": [
    "```sql\n",
    "SELECT * FROM tabla WHERE columna NOT IN (valor1, valor2, valor3);\n",
    "\n",
    "```"
   ]
  },
  {
   "cell_type": "markdown",
   "id": "40c28dbb",
   "metadata": {},
   "source": [
    "Esto seleccionaría todas las filas de la tabla donde la columna es diferente a todos los valores especificados en la lista."
   ]
  },
  {
   "cell_type": "markdown",
   "id": "2076ab48",
   "metadata": {},
   "source": [
    "# Ejemplos."
   ]
  },
  {
   "cell_type": "markdown",
   "id": "2f9777a8",
   "metadata": {},
   "source": [
    "Seleccionar todos los productos con un precio específico:"
   ]
  },
  {
   "cell_type": "markdown",
   "id": "e2ba31fc",
   "metadata": {},
   "source": [
    "```sql\n",
    "SELECT * FROM productos WHERE precio IN (9.99, 14.99, 19.99);\n",
    "```"
   ]
  },
  {
   "cell_type": "markdown",
   "id": "8ca99db5",
   "metadata": {},
   "source": [
    "Seleccionar todos los clientes que viven en una de varias ciudades:"
   ]
  },
  {
   "cell_type": "markdown",
   "id": "256696f2",
   "metadata": {},
   "source": [
    "```sql\n",
    "SELECT * FROM clientes WHERE ciudad IN ('Nueva York', 'Los Ángeles', 'Chicago');\n",
    "```"
   ]
  },
  {
   "cell_type": "markdown",
   "id": "4189794b",
   "metadata": {},
   "source": [
    "Seleccionar todas las películas que son de uno de varios géneros:"
   ]
  },
  {
   "cell_type": "markdown",
   "id": "85bfc78c",
   "metadata": {},
   "source": [
    "```sql\n",
    "SELECT * FROM peliculas WHERE genero IN ('comedia', 'acción', 'aventura');\n",
    "\n",
    "```"
   ]
  },
  {
   "cell_type": "markdown",
   "id": "fdd6d866",
   "metadata": {},
   "source": [
    "Seleccionar todas las filas de una tabla que no tienen un valor NULL en una columna específica:"
   ]
  },
  {
   "cell_type": "markdown",
   "id": "1303b113",
   "metadata": {},
   "source": [
    "```sql\n",
    "SELECT * FROM tabla WHERE columna NOT IN (NULL);\n",
    "```"
   ]
  },
  {
   "cell_type": "markdown",
   "id": "174b260d",
   "metadata": {},
   "source": [
    "# 2. Combinar y consultar"
   ]
  },
  {
   "cell_type": "markdown",
   "id": "4feb6e47",
   "metadata": {},
   "source": [
    "Crearemos dos tablas, las combinaremos y extraremos datos de la combinación de las dos tablas."
   ]
  },
  {
   "cell_type": "code",
   "execution_count": 1,
   "id": "7b9df36c",
   "metadata": {},
   "outputs": [],
   "source": [
    "#Iniciar SQLite\n",
    "%load_ext sql\n",
    "%sql sqlite://"
   ]
  },
  {
   "cell_type": "code",
   "execution_count": 2,
   "id": "dad2aa76",
   "metadata": {},
   "outputs": [
    {
     "name": "stdout",
     "output_type": "stream",
     "text": [
      " * sqlite://\n",
      "Done.\n",
      "5 rows affected.\n",
      "Done.\n",
      "6 rows affected.\n"
     ]
    },
    {
     "data": {
      "text/plain": [
       "[]"
      ]
     },
     "execution_count": 2,
     "metadata": {},
     "output_type": "execute_result"
    }
   ],
   "source": [
    "%%sql\n",
    "CREATE TABLE clientes (\n",
    "  id INTEGER PRIMARY KEY,\n",
    "  nombre TEXT,\n",
    "  pais TEXT\n",
    ");\n",
    "\n",
    "INSERT INTO clientes (id, nombre, pais) VALUES\n",
    "  (1, 'Juan', 'España'),\n",
    "  (2, 'Maria', 'España'),\n",
    "  (3, 'Pedro', 'México'),\n",
    "  (4, 'Ana', 'Estados Unidos'),\n",
    "  (5, 'Carlos', 'España');\n",
    "\n",
    "CREATE TABLE pedidos (\n",
    "  id INTEGER PRIMARY KEY,\n",
    "  id_cliente INTEGER,\n",
    "  monto REAL,\n",
    "  FOREIGN KEY (id_cliente) REFERENCES clientes (id)\n",
    ");\n",
    "\n",
    "INSERT INTO pedidos (id, id_cliente, monto) VALUES\n",
    "  (1, 1, 100),\n",
    "  (2, 2, 50),\n",
    "  (3, 3, 75),\n",
    "  (4, 4, 200),\n",
    "  (5, 1, 25),\n",
    "  (6, 5, 125);\n"
   ]
  },
  {
   "cell_type": "markdown",
   "id": "6fcb5eb6",
   "metadata": {},
   "source": [
    "<hr style=\"height:5px; width: 100%; border-radius: 20%; background-color:#E7046B ; border-color: #E7046B\">"
   ]
  },
  {
   "cell_type": "markdown",
   "id": "42bc2aaa",
   "metadata": {},
   "source": [
    "# Actividad.\n",
    "Crea una tabla para probar que las dos tablas anteriores se ven, para ello ten presente en la sentencia FROM, colocar las dos tablas separadas por comas."
   ]
  },
  {
   "cell_type": "code",
   "execution_count": 4,
   "id": "300fb6bb",
   "metadata": {},
   "outputs": [
    {
     "name": "stdout",
     "output_type": "stream",
     "text": [
      " * sqlite://\n",
      "Done.\n"
     ]
    },
    {
     "data": {
      "text/html": [
       "<table>\n",
       "    <tr>\n",
       "        <th>id</th>\n",
       "        <th>nombre</th>\n",
       "        <th>pais</th>\n",
       "        <th>id_1</th>\n",
       "        <th>id_cliente</th>\n",
       "        <th>monto</th>\n",
       "    </tr>\n",
       "    <tr>\n",
       "        <td>1</td>\n",
       "        <td>Juan</td>\n",
       "        <td>España</td>\n",
       "        <td>1</td>\n",
       "        <td>1</td>\n",
       "        <td>100.0</td>\n",
       "    </tr>\n",
       "    <tr>\n",
       "        <td>1</td>\n",
       "        <td>Juan</td>\n",
       "        <td>España</td>\n",
       "        <td>2</td>\n",
       "        <td>2</td>\n",
       "        <td>50.0</td>\n",
       "    </tr>\n",
       "    <tr>\n",
       "        <td>1</td>\n",
       "        <td>Juan</td>\n",
       "        <td>España</td>\n",
       "        <td>3</td>\n",
       "        <td>3</td>\n",
       "        <td>75.0</td>\n",
       "    </tr>\n",
       "    <tr>\n",
       "        <td>1</td>\n",
       "        <td>Juan</td>\n",
       "        <td>España</td>\n",
       "        <td>4</td>\n",
       "        <td>4</td>\n",
       "        <td>200.0</td>\n",
       "    </tr>\n",
       "    <tr>\n",
       "        <td>1</td>\n",
       "        <td>Juan</td>\n",
       "        <td>España</td>\n",
       "        <td>5</td>\n",
       "        <td>1</td>\n",
       "        <td>25.0</td>\n",
       "    </tr>\n",
       "    <tr>\n",
       "        <td>1</td>\n",
       "        <td>Juan</td>\n",
       "        <td>España</td>\n",
       "        <td>6</td>\n",
       "        <td>5</td>\n",
       "        <td>125.0</td>\n",
       "    </tr>\n",
       "    <tr>\n",
       "        <td>2</td>\n",
       "        <td>Maria</td>\n",
       "        <td>España</td>\n",
       "        <td>1</td>\n",
       "        <td>1</td>\n",
       "        <td>100.0</td>\n",
       "    </tr>\n",
       "    <tr>\n",
       "        <td>2</td>\n",
       "        <td>Maria</td>\n",
       "        <td>España</td>\n",
       "        <td>2</td>\n",
       "        <td>2</td>\n",
       "        <td>50.0</td>\n",
       "    </tr>\n",
       "    <tr>\n",
       "        <td>2</td>\n",
       "        <td>Maria</td>\n",
       "        <td>España</td>\n",
       "        <td>3</td>\n",
       "        <td>3</td>\n",
       "        <td>75.0</td>\n",
       "    </tr>\n",
       "    <tr>\n",
       "        <td>2</td>\n",
       "        <td>Maria</td>\n",
       "        <td>España</td>\n",
       "        <td>4</td>\n",
       "        <td>4</td>\n",
       "        <td>200.0</td>\n",
       "    </tr>\n",
       "    <tr>\n",
       "        <td>2</td>\n",
       "        <td>Maria</td>\n",
       "        <td>España</td>\n",
       "        <td>5</td>\n",
       "        <td>1</td>\n",
       "        <td>25.0</td>\n",
       "    </tr>\n",
       "    <tr>\n",
       "        <td>2</td>\n",
       "        <td>Maria</td>\n",
       "        <td>España</td>\n",
       "        <td>6</td>\n",
       "        <td>5</td>\n",
       "        <td>125.0</td>\n",
       "    </tr>\n",
       "    <tr>\n",
       "        <td>3</td>\n",
       "        <td>Pedro</td>\n",
       "        <td>México</td>\n",
       "        <td>1</td>\n",
       "        <td>1</td>\n",
       "        <td>100.0</td>\n",
       "    </tr>\n",
       "    <tr>\n",
       "        <td>3</td>\n",
       "        <td>Pedro</td>\n",
       "        <td>México</td>\n",
       "        <td>2</td>\n",
       "        <td>2</td>\n",
       "        <td>50.0</td>\n",
       "    </tr>\n",
       "    <tr>\n",
       "        <td>3</td>\n",
       "        <td>Pedro</td>\n",
       "        <td>México</td>\n",
       "        <td>3</td>\n",
       "        <td>3</td>\n",
       "        <td>75.0</td>\n",
       "    </tr>\n",
       "    <tr>\n",
       "        <td>3</td>\n",
       "        <td>Pedro</td>\n",
       "        <td>México</td>\n",
       "        <td>4</td>\n",
       "        <td>4</td>\n",
       "        <td>200.0</td>\n",
       "    </tr>\n",
       "    <tr>\n",
       "        <td>3</td>\n",
       "        <td>Pedro</td>\n",
       "        <td>México</td>\n",
       "        <td>5</td>\n",
       "        <td>1</td>\n",
       "        <td>25.0</td>\n",
       "    </tr>\n",
       "    <tr>\n",
       "        <td>3</td>\n",
       "        <td>Pedro</td>\n",
       "        <td>México</td>\n",
       "        <td>6</td>\n",
       "        <td>5</td>\n",
       "        <td>125.0</td>\n",
       "    </tr>\n",
       "    <tr>\n",
       "        <td>4</td>\n",
       "        <td>Ana</td>\n",
       "        <td>Estados Unidos</td>\n",
       "        <td>1</td>\n",
       "        <td>1</td>\n",
       "        <td>100.0</td>\n",
       "    </tr>\n",
       "    <tr>\n",
       "        <td>4</td>\n",
       "        <td>Ana</td>\n",
       "        <td>Estados Unidos</td>\n",
       "        <td>2</td>\n",
       "        <td>2</td>\n",
       "        <td>50.0</td>\n",
       "    </tr>\n",
       "    <tr>\n",
       "        <td>4</td>\n",
       "        <td>Ana</td>\n",
       "        <td>Estados Unidos</td>\n",
       "        <td>3</td>\n",
       "        <td>3</td>\n",
       "        <td>75.0</td>\n",
       "    </tr>\n",
       "    <tr>\n",
       "        <td>4</td>\n",
       "        <td>Ana</td>\n",
       "        <td>Estados Unidos</td>\n",
       "        <td>4</td>\n",
       "        <td>4</td>\n",
       "        <td>200.0</td>\n",
       "    </tr>\n",
       "    <tr>\n",
       "        <td>4</td>\n",
       "        <td>Ana</td>\n",
       "        <td>Estados Unidos</td>\n",
       "        <td>5</td>\n",
       "        <td>1</td>\n",
       "        <td>25.0</td>\n",
       "    </tr>\n",
       "    <tr>\n",
       "        <td>4</td>\n",
       "        <td>Ana</td>\n",
       "        <td>Estados Unidos</td>\n",
       "        <td>6</td>\n",
       "        <td>5</td>\n",
       "        <td>125.0</td>\n",
       "    </tr>\n",
       "    <tr>\n",
       "        <td>5</td>\n",
       "        <td>Carlos</td>\n",
       "        <td>España</td>\n",
       "        <td>1</td>\n",
       "        <td>1</td>\n",
       "        <td>100.0</td>\n",
       "    </tr>\n",
       "    <tr>\n",
       "        <td>5</td>\n",
       "        <td>Carlos</td>\n",
       "        <td>España</td>\n",
       "        <td>2</td>\n",
       "        <td>2</td>\n",
       "        <td>50.0</td>\n",
       "    </tr>\n",
       "    <tr>\n",
       "        <td>5</td>\n",
       "        <td>Carlos</td>\n",
       "        <td>España</td>\n",
       "        <td>3</td>\n",
       "        <td>3</td>\n",
       "        <td>75.0</td>\n",
       "    </tr>\n",
       "    <tr>\n",
       "        <td>5</td>\n",
       "        <td>Carlos</td>\n",
       "        <td>España</td>\n",
       "        <td>4</td>\n",
       "        <td>4</td>\n",
       "        <td>200.0</td>\n",
       "    </tr>\n",
       "    <tr>\n",
       "        <td>5</td>\n",
       "        <td>Carlos</td>\n",
       "        <td>España</td>\n",
       "        <td>5</td>\n",
       "        <td>1</td>\n",
       "        <td>25.0</td>\n",
       "    </tr>\n",
       "    <tr>\n",
       "        <td>5</td>\n",
       "        <td>Carlos</td>\n",
       "        <td>España</td>\n",
       "        <td>6</td>\n",
       "        <td>5</td>\n",
       "        <td>125.0</td>\n",
       "    </tr>\n",
       "</table>"
      ],
      "text/plain": [
       "[(1, 'Juan', 'España', 1, 1, 100.0),\n",
       " (1, 'Juan', 'España', 2, 2, 50.0),\n",
       " (1, 'Juan', 'España', 3, 3, 75.0),\n",
       " (1, 'Juan', 'España', 4, 4, 200.0),\n",
       " (1, 'Juan', 'España', 5, 1, 25.0),\n",
       " (1, 'Juan', 'España', 6, 5, 125.0),\n",
       " (2, 'Maria', 'España', 1, 1, 100.0),\n",
       " (2, 'Maria', 'España', 2, 2, 50.0),\n",
       " (2, 'Maria', 'España', 3, 3, 75.0),\n",
       " (2, 'Maria', 'España', 4, 4, 200.0),\n",
       " (2, 'Maria', 'España', 5, 1, 25.0),\n",
       " (2, 'Maria', 'España', 6, 5, 125.0),\n",
       " (3, 'Pedro', 'México', 1, 1, 100.0),\n",
       " (3, 'Pedro', 'México', 2, 2, 50.0),\n",
       " (3, 'Pedro', 'México', 3, 3, 75.0),\n",
       " (3, 'Pedro', 'México', 4, 4, 200.0),\n",
       " (3, 'Pedro', 'México', 5, 1, 25.0),\n",
       " (3, 'Pedro', 'México', 6, 5, 125.0),\n",
       " (4, 'Ana', 'Estados Unidos', 1, 1, 100.0),\n",
       " (4, 'Ana', 'Estados Unidos', 2, 2, 50.0),\n",
       " (4, 'Ana', 'Estados Unidos', 3, 3, 75.0),\n",
       " (4, 'Ana', 'Estados Unidos', 4, 4, 200.0),\n",
       " (4, 'Ana', 'Estados Unidos', 5, 1, 25.0),\n",
       " (4, 'Ana', 'Estados Unidos', 6, 5, 125.0),\n",
       " (5, 'Carlos', 'España', 1, 1, 100.0),\n",
       " (5, 'Carlos', 'España', 2, 2, 50.0),\n",
       " (5, 'Carlos', 'España', 3, 3, 75.0),\n",
       " (5, 'Carlos', 'España', 4, 4, 200.0),\n",
       " (5, 'Carlos', 'España', 5, 1, 25.0),\n",
       " (5, 'Carlos', 'España', 6, 5, 125.0)]"
      ]
     },
     "execution_count": 4,
     "metadata": {},
     "output_type": "execute_result"
    }
   ],
   "source": [
    "%%sql\n",
    "SELECT * FROM Clientes, Pedidos;"
   ]
  },
  {
   "cell_type": "markdown",
   "id": "8b50a9c4",
   "metadata": {},
   "source": [
    "<hr style=\"height:5px; width: 100%; border-radius: 20%; background-color:#E7046B ; border-color: #E7046B\">"
   ]
  },
  {
   "cell_type": "markdown",
   "id": "2d3598e4",
   "metadata": {},
   "source": [
    "Aquí tienes un ejemplo más sencillo de consultas anidadas:\n",
    "\n",
    "Consideremos una tabla de \"clientes\" con los siguientes datos:"
   ]
  },
  {
   "cell_type": "markdown",
   "id": "4a47ff5b",
   "metadata": {},
   "source": [
    "<table>\n",
    "  <thead>\n",
    "    <tr>\n",
    "      <th>id</th>\n",
    "      <th>nombre</th>\n",
    "      <th>pais</th>\n",
    "    </tr>\n",
    "  </thead>\n",
    "  <tbody>\n",
    "    <tr>\n",
    "      <td>1</td>\n",
    "      <td>Juan</td>\n",
    "      <td>España</td>\n",
    "    </tr>\n",
    "    <tr>\n",
    "      <td>2</td>\n",
    "      <td>Maria</td>\n",
    "      <td>España</td>\n",
    "    </tr>\n",
    "    <tr>\n",
    "      <td>3</td>\n",
    "      <td>Pedro</td>\n",
    "      <td>México</td>\n",
    "    </tr>\n",
    "    <tr>\n",
    "      <td>4</td>\n",
    "      <td>Ana</td>\n",
    "      <td>Estados Unidos</td>\n",
    "    </tr>\n",
    "    <tr>\n",
    "      <td>5</td>\n",
    "      <td>Carlos</td>\n",
    "      <td>España</td>\n",
    "    </tr>\n",
    "  </tbody>\n",
    "</table>\n"
   ]
  },
  {
   "cell_type": "markdown",
   "id": "9948add9",
   "metadata": {},
   "source": [
    "Y otra tabla de \"pedidos\" con los siguientes datos:"
   ]
  },
  {
   "cell_type": "markdown",
   "id": "44e26c45",
   "metadata": {},
   "source": [
    "<table>\n",
    "  <thead>\n",
    "    <tr>\n",
    "      <th>id</th>\n",
    "      <th>id_cliente</th>\n",
    "      <th>monto</th>\n",
    "    </tr>\n",
    "  </thead>\n",
    "  <tbody>\n",
    "    <tr>\n",
    "      <td>1</td>\n",
    "      <td>1</td>\n",
    "      <td>100</td>\n",
    "    </tr>\n",
    "    <tr>\n",
    "      <td>2</td>\n",
    "      <td>2</td>\n",
    "      <td>50</td>\n",
    "    </tr>\n",
    "    <tr>\n",
    "      <td>3</td>\n",
    "      <td>3</td>\n",
    "      <td>75</td>\n",
    "    </tr>\n",
    "    <tr>\n",
    "      <td>4</td>\n",
    "      <td>4</td>\n",
    "      <td>200</td>\n",
    "    </tr>\n",
    "    <tr>\n",
    "      <td>5</td>\n",
    "      <td>1</td>\n",
    "      <td>25</td>\n",
    "    </tr>\n",
    "    <tr>\n",
    "      <td>6</td>\n",
    "      <td>5</td>\n",
    "      <td>125</td>\n",
    "    </tr>\n",
    "  </tbody>\n",
    "</table>"
   ]
  },
  {
   "cell_type": "markdown",
   "id": "103dc435",
   "metadata": {},
   "source": [
    "Si queremos obtener el nombre de los clientes que hayan realizado al menos un pedido de más de 100 dólares, podemos utilizar la siguiente consulta anidada:"
   ]
  },
  {
   "cell_type": "markdown",
   "id": "cb0938e2",
   "metadata": {},
   "source": [
    "```sql\n",
    "SELECT nombre FROM clientes WHERE id IN (SELECT id_cliente FROM pedidos WHERE monto > 100);\n",
    "```"
   ]
  },
  {
   "cell_type": "markdown",
   "id": "88b25d0a",
   "metadata": {},
   "source": [
    "Esta consulta nos devolverá los nombres de los clientes que hayan realizado al menos un pedido de más de 100 dólares:\n",
    "\n",
    "## nombre\n",
    "Juan\n",
    "Ana\n",
    "\n",
    "Como puedes ver, las consultas anidadas nos permiten realizar operaciones más complejas y seleccionar datos de varias tablas a la vez. En este caso, hemos utilizado la consulta anidada en la cláusula WHERE para seleccionar los clientes que hayan realizado al menos un pedido de más de 100 dólares."
   ]
  },
  {
   "cell_type": "code",
   "execution_count": 7,
   "id": "30669aac",
   "metadata": {},
   "outputs": [
    {
     "name": "stdout",
     "output_type": "stream",
     "text": [
      " * sqlite://\n",
      "Done.\n"
     ]
    },
    {
     "data": {
      "text/html": [
       "<table>\n",
       "    <tr>\n",
       "        <th>nombre</th>\n",
       "        <th>pais</th>\n",
       "    </tr>\n",
       "    <tr>\n",
       "        <td>Ana</td>\n",
       "        <td>Estados Unidos</td>\n",
       "    </tr>\n",
       "    <tr>\n",
       "        <td>Carlos</td>\n",
       "        <td>España</td>\n",
       "    </tr>\n",
       "</table>"
      ],
      "text/plain": [
       "[('Ana', 'Estados Unidos'), ('Carlos', 'España')]"
      ]
     },
     "execution_count": 7,
     "metadata": {},
     "output_type": "execute_result"
    }
   ],
   "source": [
    "%%sql\n",
    "SELECT nombre, pais FROM clientes WHERE id IN (SELECT id_cliente FROM pedidos WHERE monto > 100);"
   ]
  },
  {
   "cell_type": "markdown",
   "id": "0e458e0d",
   "metadata": {},
   "source": [
    "# 2. Hacer consultas anidadas en una misma tabla."
   ]
  },
  {
   "cell_type": "markdown",
   "id": "823a7830",
   "metadata": {},
   "source": [
    "Bien a continuación encontraremos una tabla de ejercicios."
   ]
  },
  {
   "cell_type": "code",
   "execution_count": 9,
   "id": "b2df3247",
   "metadata": {},
   "outputs": [
    {
     "name": "stdout",
     "output_type": "stream",
     "text": [
      " * sqlite://\n",
      "Done.\n",
      "10 rows affected.\n"
     ]
    },
    {
     "data": {
      "text/plain": [
       "[]"
      ]
     },
     "execution_count": 9,
     "metadata": {},
     "output_type": "execute_result"
    }
   ],
   "source": [
    "%%sql\n",
    "CREATE TABLE exercise_logs\n",
    "    (id INTEGER PRIMARY KEY AUTOINCREMENT,\n",
    "    type TEXT,\n",
    "    minutes INTEGER, \n",
    "    calories INTEGER,\n",
    "    heart_rate INTEGER,\n",
    "    intensity);\n",
    "\n",
    "INSERT INTO exercise_logs(type, minutes, calories, heart_rate, intensity) VALUES \n",
    "    ('biking', 30, 100, 110, 'high'), \n",
    "    ('walk', 60, 30, 100, 'low'), \n",
    "    ('dancing', 15, 200, 120, 'medium'),\n",
    "    ('run', 30, 250, 140, 'high'), \n",
    "    ('swim', 60, 300, 120,'medium'), \n",
    "    ('aerobics', 15, 200, 150, 'medium'),\n",
    "    ('yoga', 30, 100, 110, 'high'), \n",
    "    ('weight lifting', 60, 30, 100, 'low'), \n",
    "    ('boxing', 15, 200, 120, 'medium'),\n",
    "    ('pilates', 30, 250, 140, 'medium');"
   ]
  },
  {
   "cell_type": "markdown",
   "id": "637b324e",
   "metadata": {},
   "source": [
    "### Consulta anidada.\n",
    "\n",
    "En la siguiente tabla sacaremos los promedios de la frecuencia cardiaca y las calorias y luego compararemos para comprobar que la frecuencia cardiaca sea inferior al promedio y las calorias consumidas superior al promedio."
   ]
  },
  {
   "cell_type": "code",
   "execution_count": 10,
   "id": "4125949a",
   "metadata": {},
   "outputs": [
    {
     "name": "stdout",
     "output_type": "stream",
     "text": [
      " * sqlite://\n",
      "Done.\n"
     ]
    },
    {
     "data": {
      "text/html": [
       "<table>\n",
       "    <tr>\n",
       "        <th>type</th>\n",
       "        <th>calories</th>\n",
       "        <th>heart_rate</th>\n",
       "    </tr>\n",
       "    <tr>\n",
       "        <td>dancing</td>\n",
       "        <td>200</td>\n",
       "        <td>120</td>\n",
       "    </tr>\n",
       "    <tr>\n",
       "        <td>swim</td>\n",
       "        <td>300</td>\n",
       "        <td>120</td>\n",
       "    </tr>\n",
       "    <tr>\n",
       "        <td>boxing</td>\n",
       "        <td>200</td>\n",
       "        <td>120</td>\n",
       "    </tr>\n",
       "</table>"
      ],
      "text/plain": [
       "[('dancing', 200, 120), ('swim', 300, 120), ('boxing', 200, 120)]"
      ]
     },
     "execution_count": 10,
     "metadata": {},
     "output_type": "execute_result"
    }
   ],
   "source": [
    "%%sql\n",
    "SELECT type, calories, heart_rate FROM exercise_logs \n",
    "WHERE heart_rate < (SELECT AVG(heart_rate) FROM exercise_logs) AND calories > (SELECT AVG(calories) FROM exercise_logs);"
   ]
  },
  {
   "cell_type": "markdown",
   "id": "c9eb95c1",
   "metadata": {},
   "source": [
    "## Explicación. \n",
    "\n",
    "Esta consulta selecciona el tipo de ejercicio, las calorías quemadas y la frecuencia cardiaca de la tabla \"exercise_logs\" para aquellos registros que cumplan con las siguientes condiciones:\n",
    "\n",
    "    -La frecuencia cardiaca es menor que la frecuencia cardiaca promedio de todos los registros de la tabla \"exercise_logs\".\n",
    "    -Las calorías quemadas son mayores que el número promedio de calorías quemadas de todos los registros de la tabla \"exercise_logs\".\n",
    "    \n",
    "Para calcular la frecuencia cardiaca promedio y el número promedio de calorías quemadas, utilizamos las consultas anidadas **SELECT AVG(heart_rate) FROM exercise_logs y SELECT AVG(calories) FROM exercise_logs**, respectivamente. Estas consultas anidadas nos devuelven el valor promedio de la columna especificada y luego lo comparamos con los valores de cada registro utilizando la cláusula WHERE.\n",
    "\n",
    "Por ejemplo, si la tabla \"exercise_logs\" tiene los siguientes registros:\n",
    "    \n",
    "<table>\n",
    "  <thead>\n",
    "    <tr>\n",
    "      <th>type</th>\n",
    "      <th>calories</th>\n",
    "      <th>heart_rate</th>\n",
    "    </tr>\n",
    "  </thead>\n",
    "  <tbody>\n",
    "    <tr>\n",
    "      <td>biking</td>\n",
    "      <td>100</td>\n",
    "      <td>110</td>\n",
    "    </tr>\n",
    "    <tr>\n",
    "      <td>walking</td>\n",
    "      <td>50</td>\n",
    "      <td>80</td>\n",
    "    </tr>\n",
    "    <tr>\n",
    "      <td>running</td>\n",
    "      <td>150</td>\n",
    "      <td>120</td>\n",
    "    </tr>\n",
    "    <tr>\n",
    "      <td>swimming</td>\n",
    "      <td>200</td>\n",
    "      <td>90</td>\n",
    "    </tr>\n",
    "  </tbody>\n",
    "</table>\n",
    "\n",
    "\n",
    "    \n",
    "La frecuencia cardiaca promedio sería de 100 y el número promedio de calorías quemadas sería de 125. Por lo tanto, la consulta seleccionaría los siguientes registros:\n",
    "\n",
    "calorías quemadas sería de 125. Por lo tanto, la consulta seleccionaría los siguientes registros:\n",
    "\n",
    "<table>\n",
    "  <thead>\n",
    "    <tr>\n",
    "      <th>id</th>\n",
    "      <th>id_cliente</th>\n",
    "      <th>monto</th>\n",
    "    </tr>\n",
    "  </thead>\n",
    "  <tbody>\n",
    "    <tr>\n",
    "      <td>1</td>\n",
    "      <td>1</td>\n",
    "      <td>100</td>\n",
    "    </tr>\n",
    "    <tr>\n",
    "      <td>2</td>\n",
    "      <td>2</td>\n",
    "      <td>50</td>\n",
    "    </tr>\n",
    "    <tr>\n",
    "      <td>3</td>\n",
    "      <td>3</td>\n",
    "      <td>75</td>\n",
    "    </tr>\n",
    "    <tr>\n",
    "      <td>4</td>\n",
    "      <td>4</td>\n",
    "      <td>200</td>\n",
    "    </tr>\n",
    "    <tr>\n",
    "      <td>5</td>\n",
    "      <td>1</td>\n",
    "      <td>25</td>\n",
    "    </tr>\n",
    "    <tr>\n",
    "      <td>6</td>\n",
    "      <td>5</td>\n",
    "      <td>125</td>\n",
    "    </tr>\n",
    "  </tbody>\n",
    "</table>"
   ]
  },
  {
   "cell_type": "markdown",
   "id": "f2e0713b",
   "metadata": {},
   "source": [
    "<hr style=\"height:5px; width: 100%; border-radius: 20%; background-color:#E7046B ; border-color: #E7046B\">"
   ]
  },
  {
   "cell_type": "code",
   "execution_count": null,
   "id": "430f7941",
   "metadata": {},
   "outputs": [],
   "source": [
    "Ejercicios"
   ]
  },
  {
   "cell_type": "markdown",
   "id": "352114f8",
   "metadata": {},
   "source": [
    "Ejercicio:\n",
    "\n",
    "Utilizando la tabla \"exercise_logs\", selecciona el tipo de ejercicio y las calorías quemadas para aquellos registros que cumplan con las siguientes condiciones:\n",
    "\n",
    "Las calorías quemadas son mayores que el número promedio de calorías quemadas de todos los registros de la tabla \"exercise_logs\".\n",
    "Los minutos consumidos son menores que el número promedio de minutos consumidos de todos los registros de la tabla \"exercise_logs\".\n",
    "Para resolver este ejercicio, debes utilizar las consultas anidadas SELECT AVG(calories) FROM exercise_logs y SELECT AVG(minutes) FROM exercise_logs para calcular los promedios de calorías quemadas y minutos consumidos, respectivamente. Luego, debes utilizar la cláusula WHERE y los operadores lógicos > y < para comparar los valores de cada registro con los promedios obtenidos.\n",
    "\n",
    "Para seleccionar solo los tres registros con menor tiempo consumido y mayor cantidad de calorías quemadas, debes utilizar la cláusula ORDER BY minutes ASC después de la cláusula WHERE, y luego utilizar la cláusula LIMIT 3 al final de la consulta para seleccionar solo los primeros tres registros.\n",
    "\n",
    "Por ejemplo, si la tabla \"exercise_logs\" tiene los siguientes registros:"
   ]
  },
  {
   "cell_type": "markdown",
   "id": "d9397843",
   "metadata": {},
   "source": [
    "<table>\n",
    "  <tr>\n",
    "    <th>type</th>\n",
    "    <th>minutes</th>\n",
    "    <th>calories</th>\n",
    "  </tr>\n",
    "  <tr>\n",
    "    <td>biking</td>\n",
    "    <td>30</td>\n",
    "    <td>100</td>\n",
    "  </tr>\n",
    "  <tr>\n",
    "    <td>walking</td>\n",
    "    <td>60</td>\n",
    "    <td>50</td>\n",
    "  </tr>\n",
    "  <tr>\n",
    "    <td>running</td>\n",
    "    <td>15</td>\n",
    "    <td>150</td>\n",
    "  </tr>\n",
    "  <tr>\n",
    "    <td>swimming</td>\n",
    "    <td>20</td>\n",
    "    <td>200</td>\n",
    "  </tr>\n",
    "</table>"
   ]
  },
  {
   "cell_type": "markdown",
   "id": "a9a00e8e",
   "metadata": {},
   "source": [
    "El número promedio de calorías quemadas sería de 125 y el número promedio de minutos consumidos sería de 35. Por lo tanto, la consulta debería seleccionar los siguientes registros:"
   ]
  },
  {
   "cell_type": "markdown",
   "id": "d4d92dd6",
   "metadata": {},
   "source": [
    "<table>\n",
    "  <tr>\n",
    "    <th>type</th>\n",
    "    <th>calories</th>\n",
    "  </tr>\n",
    "  <tr>\n",
    "    <td>biking</td>\n",
    "    <td>100</td>\n",
    "  </tr>\n",
    "  <tr>\n",
    "    <td>running</td>\n",
    "    <td>150</td>\n",
    "  </tr>\n",
    "</table>"
   ]
  },
  {
   "cell_type": "code",
   "execution_count": 11,
   "id": "6e616d5e",
   "metadata": {},
   "outputs": [
    {
     "name": "stdout",
     "output_type": "stream",
     "text": [
      " * sqlite://\n",
      "Done.\n"
     ]
    },
    {
     "data": {
      "text/html": [
       "<table>\n",
       "    <tr>\n",
       "        <th>type</th>\n",
       "        <th>calories</th>\n",
       "    </tr>\n",
       "    <tr>\n",
       "        <td>dancing</td>\n",
       "        <td>200</td>\n",
       "    </tr>\n",
       "    <tr>\n",
       "        <td>aerobics</td>\n",
       "        <td>200</td>\n",
       "    </tr>\n",
       "    <tr>\n",
       "        <td>boxing</td>\n",
       "        <td>200</td>\n",
       "    </tr>\n",
       "</table>"
      ],
      "text/plain": [
       "[('dancing', 200), ('aerobics', 200), ('boxing', 200)]"
      ]
     },
     "execution_count": 11,
     "metadata": {},
     "output_type": "execute_result"
    }
   ],
   "source": [
    "%%sql\n",
    "SELECT type, calories FROM exercise_logs\n",
    "WHERE calories > (SELECT AVG(calories) FROM exercise_logs)\n",
    "AND minutes < (SELECT AVG(minutes) FROM exercise_logs)\n",
    "ORDER BY minutes ASC\n",
    "LIMIT 3;"
   ]
  },
  {
   "cell_type": "markdown",
   "id": "4f114f46",
   "metadata": {},
   "source": [
    "<hr style=\"height:5px; width: 100%; border-radius: 20%; background-color:#E7046B ; border-color: #E7046B\">"
   ]
  }
 ],
 "metadata": {
  "kernelspec": {
   "display_name": "Python 3 (ipykernel)",
   "language": "python",
   "name": "python3"
  },
  "language_info": {
   "codemirror_mode": {
    "name": "ipython",
    "version": 3
   },
   "file_extension": ".py",
   "mimetype": "text/x-python",
   "name": "python",
   "nbconvert_exporter": "python",
   "pygments_lexer": "ipython3",
   "version": "3.9.7"
  }
 },
 "nbformat": 4,
 "nbformat_minor": 5
}
