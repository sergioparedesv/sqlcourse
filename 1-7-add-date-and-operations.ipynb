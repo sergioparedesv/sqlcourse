{
 "cells": [
  {
   "cell_type": "markdown",
   "id": "9169800f",
   "metadata": {},
   "source": [
    "# Agregar datos y hacer operaciones con ellos."
   ]
  },
  {
   "cell_type": "markdown",
   "id": "78b6f73d",
   "metadata": {},
   "source": [
    "A continuación seguimores con a misma tabla, pero haremos un par de operaciones con ellos."
   ]
  },
  {
   "cell_type": "code",
   "execution_count": 1,
   "id": "87341ac0",
   "metadata": {},
   "outputs": [],
   "source": [
    "%load_ext sql\n",
    "%sql sqlite://"
   ]
  },
  {
   "cell_type": "markdown",
   "id": "c2929279",
   "metadata": {},
   "source": [
    "# Paso 1: Creamos una base de datos.\n"
   ]
  },
  {
   "cell_type": "code",
   "execution_count": 3,
   "id": "5becb2ae",
   "metadata": {},
   "outputs": [
    {
     "name": "stdout",
     "output_type": "stream",
     "text": [
      " * sqlite://\n",
      "Done.\n",
      "10 rows affected.\n"
     ]
    },
    {
     "data": {
      "text/plain": [
       "[]"
      ]
     },
     "execution_count": 3,
     "metadata": {},
     "output_type": "execute_result"
    }
   ],
   "source": [
    "%%sql\n",
    "CREATE TABLE groceries (\n",
    "  id INTEGER PRIMARY KEY,\n",
    "  product_name TEXT,\n",
    "  quantity INTEGER,\n",
    "  price REAL,\n",
    "  aisle INTEGER\n",
    ");\n",
    "\n",
    "INSERT INTO groceries (product_name, quantity, price, aisle)\n",
    "VALUES\n",
    "  ('Tomatoes', 5, 0.99, 3),\n",
    "  ('Apples', 3, 1.49, 1),\n",
    "  ('Bananas', 6, 0.79, 1),\n",
    "  ('Carrots', 2, 0.59, 3),\n",
    "  ('Onions', 1, 0.49, 3),\n",
    "  ('Lettuce', 1, 0.99, 2),\n",
    "  ('Potatoes', 5, 0.99, 3),\n",
    "  ('Bread', 1, 2.49, 4),\n",
    "  ('Milk', 1, 3.49, 5),\n",
    "  ('Eggs', 12, 2.99, 5);"
   ]
  },
  {
   "cell_type": "markdown",
   "id": "49cb1863",
   "metadata": {},
   "source": [
    "<hr style=\"height:5px; width: 100%; border-radius: 20%; background-color:#E7046B ; border-color: #E7046B\">"
   ]
  },
  {
   "cell_type": "markdown",
   "id": "0d1ce171",
   "metadata": {},
   "source": [
    "# Paso 2: Visualizaremos la base de datos.\n",
    "\n",
    "Recuerda la sintaxis básica para visualizar una tabla, utilizala acontinuación para **groceries**"
   ]
  },
  {
   "cell_type": "code",
   "execution_count": 4,
   "id": "e817b7dd",
   "metadata": {},
   "outputs": [
    {
     "name": "stdout",
     "output_type": "stream",
     "text": [
      " * sqlite://\n",
      "Done.\n"
     ]
    },
    {
     "data": {
      "text/html": [
       "<table>\n",
       "    <tr>\n",
       "        <th>id</th>\n",
       "        <th>product_name</th>\n",
       "        <th>quantity</th>\n",
       "        <th>price</th>\n",
       "        <th>aisle</th>\n",
       "    </tr>\n",
       "    <tr>\n",
       "        <td>1</td>\n",
       "        <td>Tomatoes</td>\n",
       "        <td>5</td>\n",
       "        <td>0.99</td>\n",
       "        <td>3</td>\n",
       "    </tr>\n",
       "    <tr>\n",
       "        <td>2</td>\n",
       "        <td>Apples</td>\n",
       "        <td>3</td>\n",
       "        <td>1.49</td>\n",
       "        <td>1</td>\n",
       "    </tr>\n",
       "    <tr>\n",
       "        <td>3</td>\n",
       "        <td>Bananas</td>\n",
       "        <td>6</td>\n",
       "        <td>0.79</td>\n",
       "        <td>1</td>\n",
       "    </tr>\n",
       "    <tr>\n",
       "        <td>4</td>\n",
       "        <td>Carrots</td>\n",
       "        <td>2</td>\n",
       "        <td>0.59</td>\n",
       "        <td>3</td>\n",
       "    </tr>\n",
       "    <tr>\n",
       "        <td>5</td>\n",
       "        <td>Onions</td>\n",
       "        <td>1</td>\n",
       "        <td>0.49</td>\n",
       "        <td>3</td>\n",
       "    </tr>\n",
       "    <tr>\n",
       "        <td>6</td>\n",
       "        <td>Lettuce</td>\n",
       "        <td>1</td>\n",
       "        <td>0.99</td>\n",
       "        <td>2</td>\n",
       "    </tr>\n",
       "    <tr>\n",
       "        <td>7</td>\n",
       "        <td>Potatoes</td>\n",
       "        <td>5</td>\n",
       "        <td>0.99</td>\n",
       "        <td>3</td>\n",
       "    </tr>\n",
       "    <tr>\n",
       "        <td>8</td>\n",
       "        <td>Bread</td>\n",
       "        <td>1</td>\n",
       "        <td>2.49</td>\n",
       "        <td>4</td>\n",
       "    </tr>\n",
       "    <tr>\n",
       "        <td>9</td>\n",
       "        <td>Milk</td>\n",
       "        <td>1</td>\n",
       "        <td>3.49</td>\n",
       "        <td>5</td>\n",
       "    </tr>\n",
       "    <tr>\n",
       "        <td>10</td>\n",
       "        <td>Eggs</td>\n",
       "        <td>12</td>\n",
       "        <td>2.99</td>\n",
       "        <td>5</td>\n",
       "    </tr>\n",
       "</table>"
      ],
      "text/plain": [
       "[(1, 'Tomatoes', 5, 0.99, 3),\n",
       " (2, 'Apples', 3, 1.49, 1),\n",
       " (3, 'Bananas', 6, 0.79, 1),\n",
       " (4, 'Carrots', 2, 0.59, 3),\n",
       " (5, 'Onions', 1, 0.49, 3),\n",
       " (6, 'Lettuce', 1, 0.99, 2),\n",
       " (7, 'Potatoes', 5, 0.99, 3),\n",
       " (8, 'Bread', 1, 2.49, 4),\n",
       " (9, 'Milk', 1, 3.49, 5),\n",
       " (10, 'Eggs', 12, 2.99, 5)]"
      ]
     },
     "execution_count": 4,
     "metadata": {},
     "output_type": "execute_result"
    }
   ],
   "source": [
    "%%sql\n",
    "SELECT * FROM groceries"
   ]
  },
  {
   "cell_type": "markdown",
   "id": "1f5624bc",
   "metadata": {},
   "source": [
    "<hr style=\"height:5px; width: 100%; border-radius: 20%; background-color:#E7046B ; border-color: #E7046B\">"
   ]
  },
  {
   "cell_type": "markdown",
   "id": "948550bb",
   "metadata": {},
   "source": [
    "# Paso 3: Insertar nuevos datos en la tabla.\n",
    "\n",
    "A continuación dos nuevos registros en la tabla para que los explores.\n"
   ]
  },
  {
   "cell_type": "markdown",
   "id": "4d1ffbdc",
   "metadata": {},
   "source": [
    "<div style=\"border-left: 5px solid #f0ad4e; padding:1.25rem; border-right: 1px solid #eee;  border-top: 1px solid #eee;  border-bottom: 1px solid #eee;\">\n",
    "\n",
    "<h5 id=\"ensure-correct-role-and-provide-a-label\">Nota Aclaratoria</h5>\n",
    "\n",
    "<p>Encontrarás sintaxis diferentes en las actividades de Khan Academy, pero tienen el mismo resultado, recuerda que siempre tendrás que cambiar de lenguajes y versiones de bases de datos, pero la lógica no cambiará.</p>\n",
    "\n",
    "</div>"
   ]
  },
  {
   "cell_type": "code",
   "execution_count": 5,
   "id": "dc9da3c4",
   "metadata": {},
   "outputs": [
    {
     "name": "stdout",
     "output_type": "stream",
     "text": [
      " * sqlite://\n",
      "2 rows affected.\n"
     ]
    },
    {
     "data": {
      "text/plain": [
       "[]"
      ]
     },
     "execution_count": 5,
     "metadata": {},
     "output_type": "execute_result"
    }
   ],
   "source": [
    "%%sql\n",
    "INSERT INTO groceries (product_name, quantity, price, aisle)\n",
    "VALUES\n",
    "  ('Peaches', 4, 1.99, 3),\n",
    "  ('Cereal', 1, 4.99, 4);"
   ]
  },
  {
   "cell_type": "markdown",
   "id": "768f9a12",
   "metadata": {},
   "source": [
    "# Paso 4: Visualizaremos la base de datos.\n",
    "\n",
    "Volveremos a visualizar la tabla **groceries** para ver el resultado de ingresar nuevos datos."
   ]
  },
  {
   "cell_type": "code",
   "execution_count": 6,
   "id": "c910e4f3",
   "metadata": {},
   "outputs": [
    {
     "name": "stdout",
     "output_type": "stream",
     "text": [
      " * sqlite://\n",
      "Done.\n"
     ]
    },
    {
     "data": {
      "text/html": [
       "<table>\n",
       "    <tr>\n",
       "        <th>id</th>\n",
       "        <th>product_name</th>\n",
       "        <th>quantity</th>\n",
       "        <th>price</th>\n",
       "        <th>aisle</th>\n",
       "    </tr>\n",
       "    <tr>\n",
       "        <td>1</td>\n",
       "        <td>Tomatoes</td>\n",
       "        <td>5</td>\n",
       "        <td>0.99</td>\n",
       "        <td>3</td>\n",
       "    </tr>\n",
       "    <tr>\n",
       "        <td>2</td>\n",
       "        <td>Apples</td>\n",
       "        <td>3</td>\n",
       "        <td>1.49</td>\n",
       "        <td>1</td>\n",
       "    </tr>\n",
       "    <tr>\n",
       "        <td>3</td>\n",
       "        <td>Bananas</td>\n",
       "        <td>6</td>\n",
       "        <td>0.79</td>\n",
       "        <td>1</td>\n",
       "    </tr>\n",
       "    <tr>\n",
       "        <td>4</td>\n",
       "        <td>Carrots</td>\n",
       "        <td>2</td>\n",
       "        <td>0.59</td>\n",
       "        <td>3</td>\n",
       "    </tr>\n",
       "    <tr>\n",
       "        <td>5</td>\n",
       "        <td>Onions</td>\n",
       "        <td>1</td>\n",
       "        <td>0.49</td>\n",
       "        <td>3</td>\n",
       "    </tr>\n",
       "    <tr>\n",
       "        <td>6</td>\n",
       "        <td>Lettuce</td>\n",
       "        <td>1</td>\n",
       "        <td>0.99</td>\n",
       "        <td>2</td>\n",
       "    </tr>\n",
       "    <tr>\n",
       "        <td>7</td>\n",
       "        <td>Potatoes</td>\n",
       "        <td>5</td>\n",
       "        <td>0.99</td>\n",
       "        <td>3</td>\n",
       "    </tr>\n",
       "    <tr>\n",
       "        <td>8</td>\n",
       "        <td>Bread</td>\n",
       "        <td>1</td>\n",
       "        <td>2.49</td>\n",
       "        <td>4</td>\n",
       "    </tr>\n",
       "    <tr>\n",
       "        <td>9</td>\n",
       "        <td>Milk</td>\n",
       "        <td>1</td>\n",
       "        <td>3.49</td>\n",
       "        <td>5</td>\n",
       "    </tr>\n",
       "    <tr>\n",
       "        <td>10</td>\n",
       "        <td>Eggs</td>\n",
       "        <td>12</td>\n",
       "        <td>2.99</td>\n",
       "        <td>5</td>\n",
       "    </tr>\n",
       "    <tr>\n",
       "        <td>11</td>\n",
       "        <td>Peaches</td>\n",
       "        <td>4</td>\n",
       "        <td>1.99</td>\n",
       "        <td>3</td>\n",
       "    </tr>\n",
       "    <tr>\n",
       "        <td>12</td>\n",
       "        <td>Cereal</td>\n",
       "        <td>1</td>\n",
       "        <td>4.99</td>\n",
       "        <td>4</td>\n",
       "    </tr>\n",
       "</table>"
      ],
      "text/plain": [
       "[(1, 'Tomatoes', 5, 0.99, 3),\n",
       " (2, 'Apples', 3, 1.49, 1),\n",
       " (3, 'Bananas', 6, 0.79, 1),\n",
       " (4, 'Carrots', 2, 0.59, 3),\n",
       " (5, 'Onions', 1, 0.49, 3),\n",
       " (6, 'Lettuce', 1, 0.99, 2),\n",
       " (7, 'Potatoes', 5, 0.99, 3),\n",
       " (8, 'Bread', 1, 2.49, 4),\n",
       " (9, 'Milk', 1, 3.49, 5),\n",
       " (10, 'Eggs', 12, 2.99, 5),\n",
       " (11, 'Peaches', 4, 1.99, 3),\n",
       " (12, 'Cereal', 1, 4.99, 4)]"
      ]
     },
     "execution_count": 6,
     "metadata": {},
     "output_type": "execute_result"
    }
   ],
   "source": [
    "%%sql\n",
    "SELECT * FROM groceries"
   ]
  },
  {
   "cell_type": "markdown",
   "id": "92301047",
   "metadata": {},
   "source": [
    "# Paso 5: Utilización de la sentencia SUM"
   ]
  },
  {
   "cell_type": "markdown",
   "id": "f4b05a1e",
   "metadata": {},
   "source": [
    "**SUM** es una función en **SQL** que devuelve la suma de un conjunto de valores.\n",
    "\n",
    "Aquí hay un ejemplo de cómo usar **SUM** en una instrucción **SELECT:**\n",
    "\n"
   ]
  },
  {
   "cell_type": "markdown",
   "id": "8b36afc1",
   "metadata": {},
   "source": [
    "```sql\n",
    "SELECT SUM(nombre_columna)\n",
    "FROM nombre_tabla\n",
    "WHERE condición;\n",
    "\n",
    "```"
   ]
  },
  {
   "cell_type": "markdown",
   "id": "80468fbf",
   "metadata": {},
   "source": [
    "Esto devolverá la suma de todos los valores en la columna nombre_columna, de las filas en la tabla nombre_tabla que cumplan con la condición especificada en la cláusula WHERE.\n",
    "\n",
    "Por ejemplo, si tienes una tabla llamada \"pedidos\" con una columna llamada \"cantidad_total\", puedes usar la siguiente consulta para obtener la suma de todos los pedidos de la tabla:"
   ]
  },
  {
   "cell_type": "markdown",
   "id": "d32d9c8b",
   "metadata": {},
   "source": [
    "```sql\n",
    "SELECT SUM(cantidad_total)\n",
    "FROM pedidos;\n",
    "\n",
    "\n",
    "```"
   ]
  },
  {
   "cell_type": "markdown",
   "id": "1fafaf74",
   "metadata": {},
   "source": [
    "También puedes usar SUM en combinación con GROUP BY para obtener la suma de valores para cada grupo. Por ejemplo:"
   ]
  },
  {
   "cell_type": "markdown",
   "id": "befab22d",
   "metadata": {},
   "source": [
    "```sql\n",
    "SELECT columna_grupo, SUM(columna_valor)\n",
    "FROM nombre_tabla\n",
    "GROUP BY columna_grupo;\n",
    "```"
   ]
  },
  {
   "cell_type": "markdown",
   "id": "230dfefc",
   "metadata": {},
   "source": [
    "Esto devolverá la suma de columna_valor para cada valor único en columna_grupo."
   ]
  },
  {
   "cell_type": "markdown",
   "id": "d7c7ad3e",
   "metadata": {},
   "source": [
    "<div style=\"border-left: 5px solid #04E720; padding:1.25rem; border-right: 1px solid #eee;  border-top: 1px solid #eee;  border-bottom: 1px solid #eee;\">\n",
    "\n",
    "<h5 id=\"ensure-correct-role-and-provide-a-label\">Aplicación.</h5>\n",
    "\n",
    "<p>Bien, ahora sumaremos cuantos abarrotes en total se tienen en la tienda.</p>\n",
    "\n",
    "    \n",
    "</div>"
   ]
  },
  {
   "cell_type": "code",
   "execution_count": null,
   "id": "b764d2c7",
   "metadata": {},
   "outputs": [],
   "source": [
    "%%sql\n",
    "SELECT SUM(quantity) FROM groceries;"
   ]
  },
  {
   "cell_type": "markdown",
   "id": "e03dec65",
   "metadata": {},
   "source": [
    "# Paso 6: Utilización de la sentencia MAX"
   ]
  },
  {
   "cell_type": "markdown",
   "id": "f4e44ac1",
   "metadata": {},
   "source": [
    "La función MAX es una función de agregación en SQL que se utiliza para devolver el valor máximo de una columna en un conjunto de resultados. Por ejemplo, si tienes una tabla con una columna llamada \"edad\" que contiene los valores 20, 25, 30, 35, la sentencia MAX devolvería el valor 35. La sintaxis para usar la función MAX es la siguiente:"
   ]
  },
  {
   "cell_type": "markdown",
   "id": "fdba53f7",
   "metadata": {},
   "source": [
    "```sql\n",
    "SELECT MAX(columna)\n",
    "FROM tabla\n",
    "```"
   ]
  },
  {
   "cell_type": "markdown",
   "id": "ec5dc5ed",
   "metadata": {},
   "source": [
    "Donde \"columna\" es el nombre de la columna para la cual quieres obtener el valor máximo y \"tabla\" es el nombre de la tabla que contiene la columna.\n",
    "\n",
    "Por ejemplo, si quisieras obtener el valor máximo de la columna \"edad\" en la tabla \"personas\", la consulta sería:"
   ]
  },
  {
   "cell_type": "markdown",
   "id": "2a60aa62",
   "metadata": {},
   "source": [
    "SELECT MAX(edad)\n",
    "FROM personas\n"
   ]
  },
  {
   "cell_type": "markdown",
   "id": "e5c66dd2",
   "metadata": {},
   "source": [
    "También puedes usar la función MAX junto con otros criterios de selección, como WHERE y GROUP BY, para limitar los resultados de la consulta. Por ejemplo, si quisieras obtener el valor máximo de la columna \"edad\" para todas las personas que tienen más de 30 años, la consulta sería:"
   ]
  },
  {
   "cell_type": "markdown",
   "id": "a476c2d3",
   "metadata": {},
   "source": [
    "```sql\n",
    "SELECT MAX(edad)\n",
    "FROM personas\n",
    "WHERE edad > 30\n",
    "```"
   ]
  },
  {
   "cell_type": "markdown",
   "id": "9e175a0e",
   "metadata": {},
   "source": [
    "<div style=\"border-left: 5px solid #04E720; padding:1.25rem; border-right: 1px solid #eee;  border-top: 1px solid #eee;  border-bottom: 1px solid #eee;\">\n",
    "\n",
    "<h5 id=\"ensure-correct-role-and-provide-a-label\">Aplicación.</h5>\n",
    "\n",
    "<p>Bien, ahora obtendremos el aborrote del que más existencia tenemos utilizando el comando MAX</p>\n",
    "\n",
    "    \n",
    "</div>"
   ]
  },
  {
   "cell_type": "code",
   "execution_count": null,
   "id": "be3de55d",
   "metadata": {},
   "outputs": [],
   "source": [
    "%%sql\n",
    "SELECT MAX(quantity) FROM groceries;"
   ]
  },
  {
   "cell_type": "markdown",
   "id": "b6e733a7",
   "metadata": {},
   "source": [
    "# Paso 7: Utilización de la sentencia MIN"
   ]
  },
  {
   "cell_type": "markdown",
   "id": "fdac2627",
   "metadata": {},
   "source": [
    "La función MIN es una función de agregación en SQL que se utiliza para devolver el valor mínimo de una columna en un conjunto de resultados. Por ejemplo, si tienes una tabla con una columna llamada \"edad\" que contiene los valores 20, 25, 30, 35, la sentencia MIN devolvería el valor 20. La sintaxis para usar la función MIN es la siguiente:"
   ]
  },
  {
   "cell_type": "markdown",
   "id": "845b93cb",
   "metadata": {},
   "source": [
    "```sql\n",
    "SELECT MIN(columna)\n",
    "FROM tabla\n",
    "\n",
    "```"
   ]
  },
  {
   "cell_type": "markdown",
   "id": "eb9b3c2a",
   "metadata": {},
   "source": [
    "Donde \"columna\" es el nombre de la columna para la cual quieres obtener el valor mínimo y \"tabla\" es el nombre de la tabla que contiene la columna.\n",
    "\n",
    "Por ejemplo, si quisieras obtener el valor mínimo de la columna \"edad\" en la tabla \"personas\", la consulta sería:"
   ]
  },
  {
   "cell_type": "markdown",
   "id": "4b37c868",
   "metadata": {},
   "source": [
    "```sql\n",
    "SELECT MIN(edad)\n",
    "FROM personas\n",
    "```"
   ]
  },
  {
   "cell_type": "markdown",
   "id": "79c5eb6c",
   "metadata": {},
   "source": [
    "También puedes usar la función MIN junto con otros criterios de selección, como WHERE y GROUP BY, para limitar los resultados de la consulta. Por ejemplo, si quisieras obtener el valor mínimo de la columna \"edad\" para todas las personas que tienen más de 30 años, la consulta sería:"
   ]
  },
  {
   "cell_type": "markdown",
   "id": "01329367",
   "metadata": {},
   "source": [
    "```sql\n",
    "SELECT MIN(edad)\n",
    "FROM personas\n",
    "WHERE edad > 30\n",
    "```\n"
   ]
  },
  {
   "cell_type": "markdown",
   "id": "2c43f3ed",
   "metadata": {},
   "source": [
    "<div style=\"border-left: 5px solid #04E720; padding:1.25rem; border-right: 1px solid #eee;  border-top: 1px solid #eee;  border-bottom: 1px solid #eee;\">\n",
    "\n",
    "<h5 id=\"ensure-correct-role-and-provide-a-label\">Aplicación.</h5>\n",
    "\n",
    "<p>Bien, ahora obtendremos el aborrote del que más existencia tenemos utilizando el comando MAX</p>\n",
    "\n",
    "    \n",
    "</div>"
   ]
  },
  {
   "cell_type": "markdown",
   "id": "9f805a6a",
   "metadata": {},
   "source": [
    "<hr style=\"height:5px; width: 100%; border-radius: 20%; background-color:#E7046B ; border-color: #E7046B\">"
   ]
  },
  {
   "cell_type": "markdown",
   "id": "20ba87e0",
   "metadata": {},
   "source": [
    "# Ejercicio\n",
    "\n",
    "Aplica la sentencia MIN en la tabla de abarrotes para sacar cuál es el producto del que su existencia es menor."
   ]
  },
  {
   "cell_type": "code",
   "execution_count": null,
   "id": "78045e72",
   "metadata": {},
   "outputs": [],
   "source": [
    "%%sql\n",
    "SELECT MIN(quantity) FROM groceries;"
   ]
  },
  {
   "cell_type": "markdown",
   "id": "bfecda51",
   "metadata": {},
   "source": [
    "<hr style=\"height:5px; width: 100%; border-radius: 20%; background-color:#E7046B ; border-color: #E7046B\">"
   ]
  },
  {
   "cell_type": "markdown",
   "id": "69d48835",
   "metadata": {},
   "source": [
    "# Paso 8: Agrupar por pasillo y sumar la cantidad de abarrotes en cada pasillo."
   ]
  },
  {
   "cell_type": "code",
   "execution_count": 7,
   "id": "eb584d28",
   "metadata": {},
   "outputs": [
    {
     "name": "stdout",
     "output_type": "stream",
     "text": [
      " * sqlite://\n",
      "Done.\n"
     ]
    },
    {
     "data": {
      "text/html": [
       "<table>\n",
       "    <tr>\n",
       "        <th>SUM(quantity)</th>\n",
       "    </tr>\n",
       "    <tr>\n",
       "        <td>9</td>\n",
       "    </tr>\n",
       "    <tr>\n",
       "        <td>1</td>\n",
       "    </tr>\n",
       "    <tr>\n",
       "        <td>17</td>\n",
       "    </tr>\n",
       "    <tr>\n",
       "        <td>2</td>\n",
       "    </tr>\n",
       "    <tr>\n",
       "        <td>13</td>\n",
       "    </tr>\n",
       "</table>"
      ],
      "text/plain": [
       "[(9,), (1,), (17,), (2,), (13,)]"
      ]
     },
     "execution_count": 7,
     "metadata": {},
     "output_type": "execute_result"
    }
   ],
   "source": [
    "%%sql\n",
    "SELECT SUM(quantity) FROM groceries GROUP BY aisle;"
   ]
  },
  {
   "cell_type": "markdown",
   "id": "12780b28",
   "metadata": {},
   "source": [
    "<div style=\"border-left: 5px solid #04E720; padding:1.25rem; border-right: 1px solid #eee;  border-top: 1px solid #eee;  border-bottom: 1px solid #eee;\">\n",
    "\n",
    "<h5 id=\"ensure-correct-role-and-provide-a-label\">Explicación: </h5>\n",
    "\n",
    "Esta consulta SELECT devuelve la suma total de la cantidad de productos en cada pasillo de una tabla de compras llamada \"groceries\".\n",
    "\n",
    "La cláusula SELECT indica qué se debe seleccionar, en este caso, la función de agregación SUM() se aplica a la columna \"cantidad\" para calcular la suma total de cantidades para cada pasillo.\n",
    "\n",
    "La cláusula FROM especifica la tabla de la que se deben seleccionar los datos, en este caso, la tabla \"groceries\".\n",
    "\n",
    "La cláusula GROUP BY agrupa los resultados de la consulta por el valor de la columna especificada, en este caso, \"pasillo\". Esto significa que se calculará la suma total de cantidades para cada valor único en la columna \"pasillo\".\n",
    "\n",
    "La consulta completa devolvería un conjunto de resultados con una fila por cada valor único en la columna \"pasillo\" y una columna que muestra la suma total de cantidades para ese pasillo.\n",
    "\n",
    "\n",
    "    \n",
    "</div>\n",
    "\n",
    "\n",
    "\n",
    "\n",
    "\n"
   ]
  },
  {
   "cell_type": "markdown",
   "id": "54bdd5a4",
   "metadata": {},
   "source": [
    "<hr style=\"height:5px; width: 100%; border-radius: 20%; background-color:#E7046B ; border-color: #E7046B\">"
   ]
  },
  {
   "cell_type": "markdown",
   "id": "9fea5a0e",
   "metadata": {},
   "source": [
    "# Ejercicio \n",
    "\n",
    "Agrega el campo del pasillo y la cantidad total de productos en cada pasillo"
   ]
  },
  {
   "cell_type": "code",
   "execution_count": 9,
   "id": "7350df77",
   "metadata": {},
   "outputs": [
    {
     "name": "stdout",
     "output_type": "stream",
     "text": [
      " * sqlite://\n",
      "Done.\n"
     ]
    },
    {
     "data": {
      "text/html": [
       "<table>\n",
       "    <tr>\n",
       "        <th>aisle</th>\n",
       "        <th>SUM(quantity)</th>\n",
       "    </tr>\n",
       "    <tr>\n",
       "        <td>1</td>\n",
       "        <td>9</td>\n",
       "    </tr>\n",
       "    <tr>\n",
       "        <td>2</td>\n",
       "        <td>1</td>\n",
       "    </tr>\n",
       "    <tr>\n",
       "        <td>3</td>\n",
       "        <td>17</td>\n",
       "    </tr>\n",
       "    <tr>\n",
       "        <td>4</td>\n",
       "        <td>2</td>\n",
       "    </tr>\n",
       "    <tr>\n",
       "        <td>5</td>\n",
       "        <td>13</td>\n",
       "    </tr>\n",
       "</table>"
      ],
      "text/plain": [
       "[(1, 9), (2, 1), (3, 17), (4, 2), (5, 13)]"
      ]
     },
     "execution_count": 9,
     "metadata": {},
     "output_type": "execute_result"
    }
   ],
   "source": [
    "%%sql\n",
    "SELECT aisle, SUM(quantity) FROM groceries GROUP BY aisle;"
   ]
  },
  {
   "cell_type": "markdown",
   "id": "d6a3cfaa",
   "metadata": {},
   "source": [
    "<hr style=\"height:5px; width: 100%; border-radius: 20%; background-color:#E7046B ; border-color: #E7046B\">"
   ]
  },
  {
   "cell_type": "markdown",
   "id": "372eb486",
   "metadata": {},
   "source": [
    "# Paso 9: Seleccionar más columnas para nuestra consulta.\n",
    "\n",
    "En el siguiente paso vamos colocar las columnas del productos, el pasillo y la cantidad"
   ]
  },
  {
   "cell_type": "code",
   "execution_count": 10,
   "id": "d1f7a90a",
   "metadata": {},
   "outputs": [
    {
     "name": "stdout",
     "output_type": "stream",
     "text": [
      " * sqlite://\n",
      "Done.\n"
     ]
    },
    {
     "data": {
      "text/html": [
       "<table>\n",
       "    <tr>\n",
       "        <th>product_name</th>\n",
       "        <th>aisle</th>\n",
       "        <th>SUM(quantity)</th>\n",
       "    </tr>\n",
       "    <tr>\n",
       "        <td>Apples</td>\n",
       "        <td>1</td>\n",
       "        <td>9</td>\n",
       "    </tr>\n",
       "    <tr>\n",
       "        <td>Lettuce</td>\n",
       "        <td>2</td>\n",
       "        <td>1</td>\n",
       "    </tr>\n",
       "    <tr>\n",
       "        <td>Tomatoes</td>\n",
       "        <td>3</td>\n",
       "        <td>17</td>\n",
       "    </tr>\n",
       "    <tr>\n",
       "        <td>Bread</td>\n",
       "        <td>4</td>\n",
       "        <td>2</td>\n",
       "    </tr>\n",
       "    <tr>\n",
       "        <td>Milk</td>\n",
       "        <td>5</td>\n",
       "        <td>13</td>\n",
       "    </tr>\n",
       "</table>"
      ],
      "text/plain": [
       "[('Apples', 1, 9),\n",
       " ('Lettuce', 2, 1),\n",
       " ('Tomatoes', 3, 17),\n",
       " ('Bread', 4, 2),\n",
       " ('Milk', 5, 13)]"
      ]
     },
     "execution_count": 10,
     "metadata": {},
     "output_type": "execute_result"
    }
   ],
   "source": [
    "%%sql\n",
    "SELECT product_name, aisle, SUM(quantity) FROM groceries GROUP BY aisle;"
   ]
  },
  {
   "cell_type": "markdown",
   "id": "b9f8f540",
   "metadata": {},
   "source": [
    "<hr style=\"height:5px; width: 100%; border-radius: 20%; background-color:#E7046B ; border-color: #E7046B\">"
   ]
  },
  {
   "cell_type": "markdown",
   "id": "19d31464",
   "metadata": {},
   "source": [
    "# Ejercicio \n",
    "\n",
    "Notaras que solo aparece el primer producto de la columna product_name de los abarrotes, para lograr que aparezcan todos los productos busca el uso de la sentencia CONCAT."
   ]
  },
  {
   "cell_type": "code",
   "execution_count": 13,
   "id": "bb993fe7",
   "metadata": {},
   "outputs": [
    {
     "name": "stdout",
     "output_type": "stream",
     "text": [
      " * sqlite://\n",
      "Done.\n"
     ]
    },
    {
     "data": {
      "text/html": [
       "<table>\n",
       "    <tr>\n",
       "        <th>product_name</th>\n",
       "        <th>aisle</th>\n",
       "        <th>SUM(quantity)</th>\n",
       "    </tr>\n",
       "    <tr>\n",
       "        <td>Apples, Bananas</td>\n",
       "        <td>1</td>\n",
       "        <td>9</td>\n",
       "    </tr>\n",
       "    <tr>\n",
       "        <td>Lettuce</td>\n",
       "        <td>2</td>\n",
       "        <td>1</td>\n",
       "    </tr>\n",
       "    <tr>\n",
       "        <td>Tomatoes, Carrots, Onions, Potatoes, Peaches</td>\n",
       "        <td>3</td>\n",
       "        <td>17</td>\n",
       "    </tr>\n",
       "    <tr>\n",
       "        <td>Bread, Cereal</td>\n",
       "        <td>4</td>\n",
       "        <td>2</td>\n",
       "    </tr>\n",
       "    <tr>\n",
       "        <td>Milk, Eggs</td>\n",
       "        <td>5</td>\n",
       "        <td>13</td>\n",
       "    </tr>\n",
       "</table>"
      ],
      "text/plain": [
       "[('Apples, Bananas', 1, 9),\n",
       " ('Lettuce', 2, 1),\n",
       " ('Tomatoes, Carrots, Onions, Potatoes, Peaches', 3, 17),\n",
       " ('Bread, Cereal', 4, 2),\n",
       " ('Milk, Eggs', 5, 13)]"
      ]
     },
     "execution_count": 13,
     "metadata": {},
     "output_type": "execute_result"
    }
   ],
   "source": [
    "%%sql\n",
    "SELECT GROUP_CONCAT(product_name, ', ') as product_name, aisle, SUM(quantity)\n",
    "FROM groceries\n",
    "GROUP BY aisle\n"
   ]
  },
  {
   "cell_type": "markdown",
   "id": "05d68856",
   "metadata": {},
   "source": [
    "# Paso 10: Explicación de GROUP_CONCAT()\n",
    "\n",
    "La función GROUP_CONCAT() es una función de agregación en SQL que se utiliza para concatenar los valores de una columna en una sola cadena separada por un separador especificado. La sintaxis para utilizar GROUP_CONCAT() es la siguiente:"
   ]
  },
  {
   "cell_type": "markdown",
   "id": "92f18f9b",
   "metadata": {},
   "source": [
    "```sql\n",
    "SELECT GROUP_CONCAT(columna, separador) as nombre_columna\n",
    "FROM tabla\n",
    "GROUP BY columna_agrupamiento\n",
    "\n",
    "```"
   ]
  },
  {
   "cell_type": "markdown",
   "id": "4abc775a",
   "metadata": {},
   "source": [
    "Donde \"columna\" es el nombre de la columna que quieres concatenar, \"separador\" es el separador que se debe utilizar para separar los valores concatenados y \"nombre_columna\" es el nombre que se le asignará a la columna de resultados. \"columna_agrupamiento\" es la columna por la cual se deben agrupar los resultados.\n",
    "\n",
    "Por ejemplo, si tienes una tabla con una columna \"nombre\" que contiene los valores \"Juan\", \"Pedro\" y \"Mario\", y quieres concatenar estos valores en una sola cadena separada por comas, la consulta sería:\n",
    "\n"
   ]
  },
  {
   "cell_type": "markdown",
   "id": "bf26cbcd",
   "metadata": {},
   "source": [
    "```sql\n",
    "SELECT GROUP_CONCAT(nombre, ', ') as nombres\n",
    "FROM tabla\n",
    "\n",
    "```"
   ]
  },
  {
   "cell_type": "markdown",
   "id": "9dcf502d",
   "metadata": {},
   "source": [
    "Esto devolvería una columna \"nombres\" con el valor \"Juan, Pedro, Mario\".\n",
    "\n",
    "Si quieres agrupar los resultados por otra columna, por ejemplo, por \"edad\", la consulta sería:"
   ]
  },
  {
   "cell_type": "markdown",
   "id": "633ff5d6",
   "metadata": {},
   "source": [
    "```sql\n",
    "SELECT GROUP_CONCAT(nombre, ', ') as nombres, edad\n",
    "FROM tabla\n",
    "GROUP BY edad\n",
    "```"
   ]
  },
  {
   "cell_type": "markdown",
   "id": "42fbd988",
   "metadata": {},
   "source": [
    "Esto devolvería una fila por cada edad con los nombres de todas las personas de esa edad concatenados en la primera columna y la edad en la segunda columna."
   ]
  }
 ],
 "metadata": {
  "kernelspec": {
   "display_name": "Python 3 (ipykernel)",
   "language": "python",
   "name": "python3"
  },
  "language_info": {
   "codemirror_mode": {
    "name": "ipython",
    "version": 3
   },
   "file_extension": ".py",
   "mimetype": "text/x-python",
   "name": "python",
   "nbconvert_exporter": "python",
   "pygments_lexer": "ipython3",
   "version": "3.9.7"
  }
 },
 "nbformat": 4,
 "nbformat_minor": 5
}
