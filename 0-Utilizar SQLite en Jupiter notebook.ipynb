{
 "cells": [
  {
   "cell_type": "markdown",
   "id": "47a2e903",
   "metadata": {},
   "source": [
    "# Instalación de SQL en Jupyternotebook"
   ]
  },
  {
   "cell_type": "markdown",
   "id": "01d6fab5",
   "metadata": {},
   "source": [
    "Para empezar, necesitarás tener instalado un motor de base de datos y un conector de Python para ese motor de base de datos. En este ejemplo utilizaré SQLite y el conector sqlite3 de Python. También necesitarás tener instalado el módulo IPython-SQL para poder ejecutar consultas SQL en un notebook de Jupyter.\n",
    "\n",
    "### Paso 1.\n",
    "Para instalar estos módulos, puedes utilizar pip:"
   ]
  },
  {
   "cell_type": "code",
   "execution_count": null,
   "id": "09ec7c38",
   "metadata": {},
   "outputs": [],
   "source": [
    "!pip install sqlite3\n",
    "!pip install ipython-sql"
   ]
  },
  {
   "cell_type": "markdown",
   "id": "7b451402",
   "metadata": {},
   "source": [
    "### Paso 2. \n",
    "Una vez que hayas instalado estos módulos, puedes empezar a trabajar con SQL en tu notebook de Jupyter. En la siguiente celda, cargarás el módulo sqlite3 y el módulo IPython-SQL y establecerás una conexión a una base de datos SQLite:"
   ]
  },
  {
   "cell_type": "code",
   "execution_count": 1,
   "id": "af71d33c",
   "metadata": {},
   "outputs": [],
   "source": [
    "%load_ext sql\n",
    "%sql sqlite://"
   ]
  },
  {
   "cell_type": "markdown",
   "id": "955d751e",
   "metadata": {},
   "source": [
    "### Paso 3.\n",
    "A continuación, puedes crear una tabla llamada \"employees\" con tres campos: \"id\", \"name\" y \"salary\":"
   ]
  },
  {
   "cell_type": "code",
   "execution_count": null,
   "id": "05cd9edc",
   "metadata": {},
   "outputs": [],
   "source": [
    "%%sql\n",
    "CREATE TABLE employees (id INTEGER PRIMARY KEY, name TEXT, salary REAL);"
   ]
  },
  {
   "cell_type": "markdown",
   "id": "5fc6045a",
   "metadata": {},
   "source": [
    "### Paso 4.\n",
    "Una vez que hayas creado la tabla, puedes insertar algunos datos utilizando una instrucción INSERT:"
   ]
  },
  {
   "cell_type": "code",
   "execution_count": null,
   "id": "6f8a541f",
   "metadata": {},
   "outputs": [],
   "source": [
    "%%sql\n",
    "INSERT INTO employees (id, name, salary) VALUES (1, 'John', 50000);\n",
    "INSERT INTO employees (id, name, salary) VALUES (2, 'Jane', 60000);\n",
    "INSERT INTO employees (id, name, salary) VALUES (3, 'Bill', 70000);"
   ]
  },
  {
   "cell_type": "markdown",
   "id": "730eaf1f",
   "metadata": {},
   "source": [
    "### Paso 5. \n",
    "Ahora puedes realizar una consulta para seleccionar todos los empleados de la tabla \"employees\":"
   ]
  },
  {
   "cell_type": "code",
   "execution_count": null,
   "id": "f62f39b4",
   "metadata": {},
   "outputs": [],
   "source": [
    "%sql SELECT * FROM employees"
   ]
  }
 ],
 "metadata": {
  "kernelspec": {
   "display_name": "Python 3 (ipykernel)",
   "language": "python",
   "name": "python3"
  },
  "language_info": {
   "codemirror_mode": {
    "name": "ipython",
    "version": 3
   },
   "file_extension": ".py",
   "mimetype": "text/x-python",
   "name": "python",
   "nbconvert_exporter": "python",
   "pygments_lexer": "ipython3",
   "version": "3.9.7"
  }
 },
 "nbformat": 4,
 "nbformat_minor": 5
}
